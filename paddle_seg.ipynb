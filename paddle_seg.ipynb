{
  "cells": [
    {
      "cell_type": "markdown",
      "metadata": {
        "id": "view-in-github",
        "colab_type": "text"
      },
      "source": [
        "<a href=\"https://colab.research.google.com/github/ynes99/BraTS_Segmentation/blob/main/paddle_seg.ipynb\" target=\"_parent\"><img src=\"https://colab.research.google.com/assets/colab-badge.svg\" alt=\"Open In Colab\"/></a>"
      ]
    },
    {
      "cell_type": "markdown",
      "metadata": {
        "id": "QV6lDahL88VE"
      },
      "source": [
        "#DRIVE"
      ]
    },
    {
      "cell_type": "code",
      "execution_count": null,
      "metadata": {
        "colab": {
          "base_uri": "https://localhost:8080/"
        },
        "id": "nEhM0hT9AR_q",
        "outputId": "20167e5e-458b-4f03-890a-df7f2cc30209"
      },
      "outputs": [
        {
          "output_type": "stream",
          "name": "stdout",
          "text": [
            "Mounted at /content/drive\n",
            "/content/drive/My Drive\n"
          ]
        }
      ],
      "source": [
        "from google.colab import drive\n",
        "drive.mount('/content/drive')\n",
        "\n",
        "#Optional: move to the desired location:\n",
        "%cd drive/My Drive"
      ]
    },
    {
      "cell_type": "code",
      "source": [
        "!pip install -U -q PyDrive\n",
        "from pydrive.auth import GoogleAuth\n",
        "from pydrive.drive import GoogleDrive\n",
        "from google.colab import auth\n",
        "from oauth2client.client import GoogleCredentials"
      ],
      "metadata": {
        "colab": {
          "base_uri": "https://localhost:8080/"
        },
        "id": "SzFDvsuhZ7ko",
        "outputId": "f695c804-354d-4a6d-e6f5-22d0165492ae"
      },
      "execution_count": null,
      "outputs": [
        {
          "output_type": "stream",
          "name": "stdout",
          "text": [
            "\u001b[33mWARNING: Running pip as the 'root' user can result in broken permissions and conflicting behaviour with the system package manager. It is recommended to use a virtual environment instead: https://pip.pypa.io/warnings/venv\u001b[0m\u001b[33m\n",
            "\u001b[0m"
          ]
        }
      ]
    },
    {
      "cell_type": "code",
      "source": [
        "auth.authenticate_user()\n",
        "gauth = GoogleAuth()\n",
        "gauth.credentials = GoogleCredentials.get_application_default()\n",
        "drive = GoogleDrive(gauth)\n"
      ],
      "metadata": {
        "id": "ybeCEc4VZ8zH"
      },
      "execution_count": null,
      "outputs": []
    },
    {
      "cell_type": "markdown",
      "metadata": {
        "id": "KiBapJ-t83ho"
      },
      "source": [
        "# REQUIREMENTS FOR PADDLESEG"
      ]
    },
    {
      "cell_type": "code",
      "execution_count": null,
      "metadata": {
        "colab": {
          "base_uri": "https://localhost:8080/"
        },
        "id": "7GIK21tH7RIw",
        "outputId": "bdb667db-0a2f-4ab8-bd06-3b0bd8355436"
      },
      "outputs": [
        {
          "output_type": "stream",
          "name": "stdout",
          "text": [
            "nvcc: NVIDIA (R) Cuda compiler driver\n",
            "Copyright (c) 2005-2022 NVIDIA Corporation\n",
            "Built on Wed_Sep_21_10:33:58_PDT_2022\n",
            "Cuda compilation tools, release 11.8, V11.8.89\n",
            "Build cuda_11.8.r11.8/compiler.31833905_0\n"
          ]
        }
      ],
      "source": [
        "!nvcc --version"
      ]
    },
    {
      "cell_type": "code",
      "execution_count": null,
      "metadata": {
        "colab": {
          "base_uri": "https://localhost:8080/"
        },
        "id": "_l-WgNDw765j",
        "outputId": "1d22ca29-c055-4a35-c6ee-65b11afeb92d"
      },
      "outputs": [
        {
          "output_type": "stream",
          "name": "stdout",
          "text": [
            "Looking in indexes: https://pypi.tuna.tsinghua.edu.cn/simple\n",
            "Collecting paddlepaddle-gpu==2.5.0\n",
            "  Downloading https://pypi.tuna.tsinghua.edu.cn/packages/93/63/f3f4162eda303bc92586d3cafc015793f0b1dd6304719cba7b97bc0038f6/paddlepaddle_gpu-2.5.0-cp310-cp310-manylinux1_x86_64.whl (543.2 MB)\n",
            "\u001b[2K     \u001b[90m━━━━━━━━━━━━━━━━━━━━━━━━━━━━━━━━━━━━━━━\u001b[0m \u001b[32m543.2/543.2 MB\u001b[0m \u001b[31m2.3 MB/s\u001b[0m eta \u001b[36m0:00:00\u001b[0m\n",
            "\u001b[?25hCollecting httpx (from paddlepaddle-gpu==2.5.0)\n",
            "  Downloading https://pypi.tuna.tsinghua.edu.cn/packages/ec/91/e41f64f03d2a13aee7e8c819d82ee3aa7cdc484d18c0ae859742597d5aa0/httpx-0.24.1-py3-none-any.whl (75 kB)\n",
            "\u001b[2K     \u001b[90m━━━━━━━━━━━━━━━━━━━━━━━━━━━━━━━━━━━━━━━━\u001b[0m \u001b[32m75.4/75.4 kB\u001b[0m \u001b[31m9.8 MB/s\u001b[0m eta \u001b[36m0:00:00\u001b[0m\n",
            "\u001b[?25hRequirement already satisfied: numpy>=1.13 in /usr/local/lib/python3.10/dist-packages (from paddlepaddle-gpu==2.5.0) (1.23.5)\n",
            "Requirement already satisfied: Pillow in /usr/local/lib/python3.10/dist-packages (from paddlepaddle-gpu==2.5.0) (9.4.0)\n",
            "Requirement already satisfied: decorator in /usr/local/lib/python3.10/dist-packages (from paddlepaddle-gpu==2.5.0) (4.4.2)\n",
            "Collecting astor (from paddlepaddle-gpu==2.5.0)\n",
            "  Downloading https://pypi.tuna.tsinghua.edu.cn/packages/c3/88/97eef84f48fa04fbd6750e62dcceafba6c63c81b7ac1420856c8dcc0a3f9/astor-0.8.1-py2.py3-none-any.whl (27 kB)\n",
            "Collecting paddle-bfloat==0.1.7 (from paddlepaddle-gpu==2.5.0)\n",
            "  Downloading https://pypi.tuna.tsinghua.edu.cn/packages/72/cc/4e6149a9a94f0e1449686f2e5152b734bbc7ddce18ea3b240995d39fc642/paddle_bfloat-0.1.7-cp310-cp310-manylinux_2_17_x86_64.manylinux2014_x86_64.whl (383 kB)\n",
            "\u001b[2K     \u001b[90m━━━━━━━━━━━━━━━━━━━━━━━━━━━━━━━━━━━━━━\u001b[0m \u001b[32m383.2/383.2 kB\u001b[0m \u001b[31m15.5 MB/s\u001b[0m eta \u001b[36m0:00:00\u001b[0m\n",
            "\u001b[?25hRequirement already satisfied: opt-einsum==3.3.0 in /usr/local/lib/python3.10/dist-packages (from paddlepaddle-gpu==2.5.0) (3.3.0)\n",
            "Requirement already satisfied: protobuf>=3.20.2 in /usr/local/lib/python3.10/dist-packages (from paddlepaddle-gpu==2.5.0) (3.20.3)\n",
            "Requirement already satisfied: certifi in /usr/local/lib/python3.10/dist-packages (from httpx->paddlepaddle-gpu==2.5.0) (2023.7.22)\n",
            "Collecting httpcore<0.18.0,>=0.15.0 (from httpx->paddlepaddle-gpu==2.5.0)\n",
            "  Downloading https://pypi.tuna.tsinghua.edu.cn/packages/94/2c/2bde7ff8dd2064395555220cbf7cba79991172bf5315a07eb3ac7688d9f1/httpcore-0.17.3-py3-none-any.whl (74 kB)\n",
            "\u001b[2K     \u001b[90m━━━━━━━━━━━━━━━━━━━━━━━━━━━━━━━━━━━━━━━━\u001b[0m \u001b[32m74.5/74.5 kB\u001b[0m \u001b[31m10.1 MB/s\u001b[0m eta \u001b[36m0:00:00\u001b[0m\n",
            "\u001b[?25hRequirement already satisfied: idna in /usr/local/lib/python3.10/dist-packages (from httpx->paddlepaddle-gpu==2.5.0) (3.4)\n",
            "Requirement already satisfied: sniffio in /usr/local/lib/python3.10/dist-packages (from httpx->paddlepaddle-gpu==2.5.0) (1.3.0)\n",
            "Collecting h11<0.15,>=0.13 (from httpcore<0.18.0,>=0.15.0->httpx->paddlepaddle-gpu==2.5.0)\n",
            "  Downloading https://pypi.tuna.tsinghua.edu.cn/packages/95/04/ff642e65ad6b90db43e668d70ffb6736436c7ce41fcc549f4e9472234127/h11-0.14.0-py3-none-any.whl (58 kB)\n",
            "\u001b[2K     \u001b[90m━━━━━━━━━━━━━━━━━━━━━━━━━━━━━━━━━━━━━━━━\u001b[0m \u001b[32m58.3/58.3 kB\u001b[0m \u001b[31m8.2 MB/s\u001b[0m eta \u001b[36m0:00:00\u001b[0m\n",
            "\u001b[?25hRequirement already satisfied: anyio<5.0,>=3.0 in /usr/local/lib/python3.10/dist-packages (from httpcore<0.18.0,>=0.15.0->httpx->paddlepaddle-gpu==2.5.0) (3.7.1)\n",
            "Requirement already satisfied: exceptiongroup in /usr/local/lib/python3.10/dist-packages (from anyio<5.0,>=3.0->httpcore<0.18.0,>=0.15.0->httpx->paddlepaddle-gpu==2.5.0) (1.1.2)\n",
            "Installing collected packages: paddle-bfloat, h11, astor, httpcore, httpx, paddlepaddle-gpu\n",
            "Successfully installed astor-0.8.1 h11-0.14.0 httpcore-0.17.3 httpx-0.24.1 paddle-bfloat-0.1.7 paddlepaddle-gpu-2.5.0\n"
          ]
        }
      ],
      "source": [
        "!python3 -m pip install paddlepaddle-gpu==2.5.0 -i https://pypi.tuna.tsinghua.edu.cn/simple"
      ]
    },
    {
      "cell_type": "code",
      "execution_count": null,
      "metadata": {
        "id": "UYOQOyaW-ePO",
        "colab": {
          "base_uri": "https://localhost:8080/"
        },
        "outputId": "9f5a4fee-c57a-4b7f-e310-d12364d3d748"
      },
      "outputs": [
        {
          "output_type": "stream",
          "name": "stdout",
          "text": [
            "Collecting paddleseg\n",
            "  Downloading paddleseg-2.8.0-py3-none-any.whl (424 kB)\n",
            "\u001b[?25l     \u001b[90m━━━━━━━━━━━━━━━━━━━━━━━━━━━━━━━━━━━━━━━━\u001b[0m \u001b[32m0.0/424.3 kB\u001b[0m \u001b[31m?\u001b[0m eta \u001b[36m-:--:--\u001b[0m\r\u001b[2K     \u001b[91m━━━━━━━━━━━\u001b[0m\u001b[90m╺\u001b[0m\u001b[90m━━━━━━━━━━━━━━━━━━━━━━━━━━━\u001b[0m \u001b[32m122.9/424.3 kB\u001b[0m \u001b[31m3.9 MB/s\u001b[0m eta \u001b[36m0:00:01\u001b[0m\r\u001b[2K     \u001b[90m━━━━━━━━━━━━━━━━━━━━━━━━━━━━━━━━━━━━━━━\u001b[0m \u001b[32m424.3/424.3 kB\u001b[0m \u001b[31m6.5 MB/s\u001b[0m eta \u001b[36m0:00:00\u001b[0m\n",
            "\u001b[?25hRequirement already satisfied: pyyaml>=5.1 in /usr/local/lib/python3.10/dist-packages (from paddleseg) (6.0.1)\n",
            "Collecting visualdl>=2.2.0 (from paddleseg)\n",
            "  Downloading visualdl-2.5.3-py3-none-any.whl (6.3 MB)\n",
            "\u001b[2K     \u001b[90m━━━━━━━━━━━━━━━━━━━━━━━━━━━━━━━━━━━━━━━━\u001b[0m \u001b[32m6.3/6.3 MB\u001b[0m \u001b[31m23.1 MB/s\u001b[0m eta \u001b[36m0:00:00\u001b[0m\n",
            "\u001b[?25hCollecting opencv-python<=4.6.0 (from paddleseg)\n",
            "  Downloading opencv_python-4.5.5.64-cp36-abi3-manylinux_2_17_x86_64.manylinux2014_x86_64.whl (60.5 MB)\n",
            "\u001b[2K     \u001b[90m━━━━━━━━━━━━━━━━━━━━━━━━━━━━━━━━━━━━━━━━\u001b[0m \u001b[32m60.5/60.5 MB\u001b[0m \u001b[31m8.7 MB/s\u001b[0m eta \u001b[36m0:00:00\u001b[0m\n",
            "\u001b[?25hRequirement already satisfied: tqdm in /usr/local/lib/python3.10/dist-packages (from paddleseg) (4.65.0)\n",
            "Requirement already satisfied: filelock in /usr/local/lib/python3.10/dist-packages (from paddleseg) (3.12.2)\n",
            "Requirement already satisfied: scipy in /usr/local/lib/python3.10/dist-packages (from paddleseg) (1.10.1)\n",
            "Requirement already satisfied: prettytable in /usr/local/lib/python3.10/dist-packages (from paddleseg) (0.7.2)\n",
            "Requirement already satisfied: scikit-learn in /usr/local/lib/python3.10/dist-packages (from paddleseg) (1.2.2)\n",
            "Requirement already satisfied: numpy>=1.21.2 in /usr/local/lib/python3.10/dist-packages (from opencv-python<=4.6.0->paddleseg) (1.23.5)\n",
            "Collecting bce-python-sdk (from visualdl>=2.2.0->paddleseg)\n",
            "  Downloading bce_python_sdk-0.8.87-py3-none-any.whl (231 kB)\n",
            "\u001b[2K     \u001b[90m━━━━━━━━━━━━━━━━━━━━━━━━━━━━━━━━━━━━━━\u001b[0m \u001b[32m231.3/231.3 kB\u001b[0m \u001b[31m23.3 MB/s\u001b[0m eta \u001b[36m0:00:00\u001b[0m\n",
            "\u001b[?25hRequirement already satisfied: flask>=1.1.1 in /usr/local/lib/python3.10/dist-packages (from visualdl>=2.2.0->paddleseg) (2.2.5)\n",
            "Collecting Flask-Babel>=3.0.0 (from visualdl>=2.2.0->paddleseg)\n",
            "  Downloading flask_babel-3.1.0-py3-none-any.whl (9.6 kB)\n",
            "Requirement already satisfied: Pillow>=7.0.0 in /usr/local/lib/python3.10/dist-packages (from visualdl>=2.2.0->paddleseg) (9.4.0)\n",
            "Requirement already satisfied: protobuf>=3.20.0 in /usr/local/lib/python3.10/dist-packages (from visualdl>=2.2.0->paddleseg) (3.20.3)\n",
            "Requirement already satisfied: requests in /usr/local/lib/python3.10/dist-packages (from visualdl>=2.2.0->paddleseg) (2.31.0)\n",
            "Requirement already satisfied: six>=1.14.0 in /usr/local/lib/python3.10/dist-packages (from visualdl>=2.2.0->paddleseg) (1.16.0)\n",
            "Requirement already satisfied: matplotlib in /usr/local/lib/python3.10/dist-packages (from visualdl>=2.2.0->paddleseg) (3.7.1)\n",
            "Requirement already satisfied: pandas in /usr/local/lib/python3.10/dist-packages (from visualdl>=2.2.0->paddleseg) (1.5.3)\n",
            "Requirement already satisfied: packaging in /usr/local/lib/python3.10/dist-packages (from visualdl>=2.2.0->paddleseg) (23.1)\n",
            "Collecting rarfile (from visualdl>=2.2.0->paddleseg)\n",
            "  Downloading rarfile-4.0-py3-none-any.whl (28 kB)\n",
            "Requirement already satisfied: psutil in /usr/local/lib/python3.10/dist-packages (from visualdl>=2.2.0->paddleseg) (5.9.5)\n",
            "Requirement already satisfied: joblib>=1.1.1 in /usr/local/lib/python3.10/dist-packages (from scikit-learn->paddleseg) (1.3.1)\n",
            "Requirement already satisfied: threadpoolctl>=2.0.0 in /usr/local/lib/python3.10/dist-packages (from scikit-learn->paddleseg) (3.2.0)\n",
            "Requirement already satisfied: Werkzeug>=2.2.2 in /usr/local/lib/python3.10/dist-packages (from flask>=1.1.1->visualdl>=2.2.0->paddleseg) (2.3.6)\n",
            "Requirement already satisfied: Jinja2>=3.0 in /usr/local/lib/python3.10/dist-packages (from flask>=1.1.1->visualdl>=2.2.0->paddleseg) (3.1.2)\n",
            "Requirement already satisfied: itsdangerous>=2.0 in /usr/local/lib/python3.10/dist-packages (from flask>=1.1.1->visualdl>=2.2.0->paddleseg) (2.1.2)\n",
            "Requirement already satisfied: click>=8.0 in /usr/local/lib/python3.10/dist-packages (from flask>=1.1.1->visualdl>=2.2.0->paddleseg) (8.1.6)\n",
            "Requirement already satisfied: Babel>=2.12 in /usr/local/lib/python3.10/dist-packages (from Flask-Babel>=3.0.0->visualdl>=2.2.0->paddleseg) (2.12.1)\n",
            "Requirement already satisfied: pytz>=2022.7 in /usr/local/lib/python3.10/dist-packages (from Flask-Babel>=3.0.0->visualdl>=2.2.0->paddleseg) (2022.7.1)\n",
            "Collecting pycryptodome>=3.8.0 (from bce-python-sdk->visualdl>=2.2.0->paddleseg)\n",
            "  Downloading pycryptodome-3.18.0-cp35-abi3-manylinux_2_17_x86_64.manylinux2014_x86_64.whl (2.1 MB)\n",
            "\u001b[2K     \u001b[90m━━━━━━━━━━━━━━━━━━━━━━━━━━━━━━━━━━━━━━━━\u001b[0m \u001b[32m2.1/2.1 MB\u001b[0m \u001b[31m68.4 MB/s\u001b[0m eta \u001b[36m0:00:00\u001b[0m\n",
            "\u001b[?25hRequirement already satisfied: future>=0.6.0 in /usr/local/lib/python3.10/dist-packages (from bce-python-sdk->visualdl>=2.2.0->paddleseg) (0.18.3)\n",
            "Requirement already satisfied: contourpy>=1.0.1 in /usr/local/lib/python3.10/dist-packages (from matplotlib->visualdl>=2.2.0->paddleseg) (1.1.0)\n",
            "Requirement already satisfied: cycler>=0.10 in /usr/local/lib/python3.10/dist-packages (from matplotlib->visualdl>=2.2.0->paddleseg) (0.11.0)\n",
            "Requirement already satisfied: fonttools>=4.22.0 in /usr/local/lib/python3.10/dist-packages (from matplotlib->visualdl>=2.2.0->paddleseg) (4.42.0)\n",
            "Requirement already satisfied: kiwisolver>=1.0.1 in /usr/local/lib/python3.10/dist-packages (from matplotlib->visualdl>=2.2.0->paddleseg) (1.4.4)\n",
            "Requirement already satisfied: pyparsing>=2.3.1 in /usr/local/lib/python3.10/dist-packages (from matplotlib->visualdl>=2.2.0->paddleseg) (3.1.1)\n",
            "Requirement already satisfied: python-dateutil>=2.7 in /usr/local/lib/python3.10/dist-packages (from matplotlib->visualdl>=2.2.0->paddleseg) (2.8.2)\n",
            "Requirement already satisfied: charset-normalizer<4,>=2 in /usr/local/lib/python3.10/dist-packages (from requests->visualdl>=2.2.0->paddleseg) (3.2.0)\n",
            "Requirement already satisfied: idna<4,>=2.5 in /usr/local/lib/python3.10/dist-packages (from requests->visualdl>=2.2.0->paddleseg) (3.4)\n",
            "Requirement already satisfied: urllib3<3,>=1.21.1 in /usr/local/lib/python3.10/dist-packages (from requests->visualdl>=2.2.0->paddleseg) (1.26.16)\n",
            "Requirement already satisfied: certifi>=2017.4.17 in /usr/local/lib/python3.10/dist-packages (from requests->visualdl>=2.2.0->paddleseg) (2023.7.22)\n",
            "Requirement already satisfied: MarkupSafe>=2.0 in /usr/local/lib/python3.10/dist-packages (from Jinja2>=3.0->flask>=1.1.1->visualdl>=2.2.0->paddleseg) (2.1.3)\n",
            "Installing collected packages: rarfile, pycryptodome, opencv-python, bce-python-sdk, Flask-Babel, visualdl, paddleseg\n",
            "  Attempting uninstall: opencv-python\n",
            "    Found existing installation: opencv-python 4.7.0.72\n",
            "    Uninstalling opencv-python-4.7.0.72:\n",
            "      Successfully uninstalled opencv-python-4.7.0.72\n",
            "Successfully installed Flask-Babel-3.1.0 bce-python-sdk-0.8.87 opencv-python-4.5.5.64 paddleseg-2.8.0 pycryptodome-3.18.0 rarfile-4.0 visualdl-2.5.3\n"
          ]
        }
      ],
      "source": [
        "pip install paddleseg"
      ]
    },
    {
      "cell_type": "code",
      "execution_count": null,
      "metadata": {
        "id": "X-mvxVHkDejD",
        "colab": {
          "base_uri": "https://localhost:8080/"
        },
        "outputId": "57b6f439-2384-41d7-bb19-7866d7ff32f9"
      },
      "outputs": [
        {
          "output_type": "stream",
          "name": "stdout",
          "text": [
            "[Errno 2] No such file or directory: '/content/drive/MyDrive/paddle_seg'\n",
            "/content/drive/My Drive\n"
          ]
        }
      ],
      "source": [
        "%cd /content/drive/MyDrive/paddle_seg"
      ]
    },
    {
      "cell_type": "code",
      "execution_count": null,
      "metadata": {
        "id": "WY6wX6lbAOnM"
      },
      "outputs": [],
      "source": [
        "#!git clone https://github.com/PaddlePaddle/PaddleSeg"
      ]
    },
    {
      "cell_type": "code",
      "execution_count": null,
      "metadata": {
        "id": "JWPrIl2mEeCz",
        "colab": {
          "base_uri": "https://localhost:8080/"
        },
        "outputId": "2be53943-84c8-415c-c581-ec808ff35f60"
      },
      "outputs": [
        {
          "output_type": "stream",
          "name": "stdout",
          "text": [
            "[Errno 2] No such file or directory: 'PaddleSeg/'\n",
            "/content/drive/My Drive\n"
          ]
        }
      ],
      "source": [
        "%cd PaddleSeg/"
      ]
    },
    {
      "cell_type": "code",
      "source": [
        "#!sudo apt-get update\n",
        "#!sudo apt-get install libssl-dev"
      ],
      "metadata": {
        "id": "_BhAXYJZbFbM"
      },
      "execution_count": null,
      "outputs": []
    },
    {
      "cell_type": "code",
      "execution_count": null,
      "metadata": {
        "id": "LXvCn_pZSg_x",
        "colab": {
          "base_uri": "https://localhost:8080/"
        },
        "outputId": "24f659de-cb59-41ba-f4e7-d323e3bac861"
      },
      "outputs": [
        {
          "output_type": "stream",
          "name": "stdout",
          "text": [
            "Requirement already satisfied: setuptools in /usr/local/lib/python3.10/dist-packages (67.7.2)\n",
            "Collecting setuptools\n",
            "  Downloading setuptools-68.0.0-py3-none-any.whl (804 kB)\n",
            "\u001b[2K     \u001b[90m━━━━━━━━━━━━━━━━━━━━━━━━━━━━━━━━━━━━━━━\u001b[0m \u001b[32m804.0/804.0 kB\u001b[0m \u001b[31m6.8 MB/s\u001b[0m eta \u001b[36m0:00:00\u001b[0m\n",
            "\u001b[?25hRequirement already satisfied: pip in /usr/local/lib/python3.10/dist-packages (23.1.2)\n",
            "Collecting pip\n",
            "  Downloading pip-23.2.1-py3-none-any.whl (2.1 MB)\n",
            "\u001b[2K     \u001b[90m━━━━━━━━━━━━━━━━━━━━━━━━━━━━━━━━━━━━━━━━\u001b[0m \u001b[32m2.1/2.1 MB\u001b[0m \u001b[31m14.0 MB/s\u001b[0m eta \u001b[36m0:00:00\u001b[0m\n",
            "\u001b[?25hInstalling collected packages: setuptools, pip\n",
            "  Attempting uninstall: setuptools\n",
            "    Found existing installation: setuptools 67.7.2\n",
            "    Uninstalling setuptools-67.7.2:\n",
            "      Successfully uninstalled setuptools-67.7.2\n",
            "  Attempting uninstall: pip\n",
            "    Found existing installation: pip 23.1.2\n",
            "    Uninstalling pip-23.1.2:\n",
            "      Successfully uninstalled pip-23.1.2\n",
            "\u001b[31mERROR: pip's dependency resolver does not currently take into account all the packages that are installed. This behaviour is the source of the following dependency conflicts.\n",
            "ipython 7.34.0 requires jedi>=0.16, which is not installed.\u001b[0m\u001b[31m\n",
            "\u001b[0mSuccessfully installed pip-23.2.1 setuptools-68.0.0\n"
          ]
        }
      ],
      "source": [
        "!python -m pip install -U setuptools pip"
      ]
    },
    {
      "cell_type": "code",
      "source": [
        "#!wget http://nz2.archive.ubuntu.com/ubuntu/pool/main/o/openssl/libssl1.1_1.1.1f-1ubuntu2.19_amd64.deb\n",
        "\n",
        "!sudo dpkg -i libssl1.1_1.1.1f-1ubuntu2.19_amd64.deb"
      ],
      "metadata": {
        "id": "anh1ejnYcKLK",
        "colab": {
          "base_uri": "https://localhost:8080/"
        },
        "outputId": "3e8506d0-113e-4989-989a-ceb4807da27c"
      },
      "execution_count": null,
      "outputs": [
        {
          "output_type": "stream",
          "name": "stdout",
          "text": [
            "\u001b[1mdpkg:\u001b[0m \u001b[1;31merror:\u001b[0m cannot access archive 'libssl1.1_1.1.1f-1ubuntu2.19_amd64.deb': No such file or directory\n"
          ]
        }
      ]
    },
    {
      "cell_type": "code",
      "execution_count": null,
      "metadata": {
        "id": "cTq6DrnAAOhF",
        "colab": {
          "base_uri": "https://localhost:8080/"
        },
        "outputId": "0038dd7e-58cf-485c-8295-f69a86544877"
      },
      "outputs": [
        {
          "output_type": "stream",
          "name": "stdout",
          "text": [
            "\u001b[31mERROR: Could not open requirements file: [Errno 2] No such file or directory: 'requirements.txt'\u001b[0m\u001b[31m\n",
            "\u001b[0mUsing pip 23.2.1 from /usr/local/lib/python3.10/dist-packages/pip (python 3.10)\n",
            "Obtaining file:///content/drive/MyDrive\n",
            "\u001b[31mERROR: file:///content/drive/MyDrive does not appear to be a Python project: neither 'setup.py' nor 'pyproject.toml' found.\u001b[0m\u001b[31m\n",
            "\u001b[0m"
          ]
        }
      ],
      "source": [
        "!pip install -r requirements.txt\n",
        "!pip install -v -e ."
      ]
    },
    {
      "cell_type": "code",
      "source": [
        "!export CUDA_VISIBLE_DEVICES=0"
      ],
      "metadata": {
        "id": "5ZbO91P_J7ly"
      },
      "execution_count": null,
      "outputs": []
    },
    {
      "cell_type": "code",
      "execution_count": null,
      "metadata": {
        "id": "4FZc--uIE9BC"
      },
      "outputs": [],
      "source": [
        "!sh tests/install/check_predict.sh"
      ]
    },
    {
      "cell_type": "markdown",
      "metadata": {
        "id": "Ls0z-jG786yq"
      },
      "source": [
        "#IMPORTS"
      ]
    },
    {
      "cell_type": "code",
      "execution_count": null,
      "metadata": {
        "id": "T0xhfBxv8RjB"
      },
      "outputs": [],
      "source": [
        "import pandas as pd"
      ]
    },
    {
      "cell_type": "code",
      "execution_count": null,
      "metadata": {
        "id": "OpCSRTe_8LSP"
      },
      "outputs": [],
      "source": [
        "import shutil"
      ]
    },
    {
      "cell_type": "code",
      "execution_count": null,
      "metadata": {
        "id": "aSB5JoCqgkgF"
      },
      "outputs": [],
      "source": [
        "import os\n",
        "import nibabel as nib\n",
        "import numpy as np"
      ]
    },
    {
      "cell_type": "markdown",
      "metadata": {
        "id": "XwJZjhMp8-ay"
      },
      "source": [
        "#CONSTANTS"
      ]
    },
    {
      "cell_type": "code",
      "execution_count": null,
      "metadata": {
        "id": "tSiX9ItZCeGu"
      },
      "outputs": [],
      "source": [
        "orig_train_dir =r\"/content/drive/MyDrive/paddle_seg/old_format/train\"\n",
        "orig_test_dir =r\"/content/drive/MyDrive/paddle_seg/old_format/test\""
      ]
    },
    {
      "cell_type": "code",
      "execution_count": null,
      "metadata": {
        "id": "MGCz_85V8J8b"
      },
      "outputs": [],
      "source": [
        "parent_dir = r'/content/drive/MyDrive/paddle_seg/old_format/train'\n",
        "output_dir = r'/content/drive/MyDrive/paddle_seg/images'\n",
        "output_dir_seg = r'/content/drive/MyDrive/paddle_seg/labels'\n",
        "patient_names = os.listdir(parent_dir)\n"
      ]
    },
    {
      "cell_type": "markdown",
      "metadata": {
        "id": "3TLGcWx09Anc"
      },
      "source": [
        "#FUNCTIONS\n"
      ]
    },
    {
      "cell_type": "code",
      "source": [
        "def concatenate_train_lists(input_directory, output_file):\n",
        "    \"\"\"\n",
        "    Concatenate the contents of four train list files into a single output file.\n",
        "\n",
        "    Args:\n",
        "        input_directory (str): Path to the directory containing the train list files.\n",
        "        output_file (str): Path to the output file where the concatenated content will be saved.\n",
        "\n",
        "    Returns:\n",
        "        None\n",
        "    \"\"\"\n",
        "    with open(output_file, 'w') as output:\n",
        "        for i in range(1, 5):\n",
        "            file_name = f\"val_list_{i}.txt\"\n",
        "            file_path = os.path.join(input_directory, file_name)\n",
        "\n",
        "            with open(file_path, 'r') as input_file:\n",
        "                output.write(input_file.read())\n"
      ],
      "metadata": {
        "id": "F6Q-yjleZiIE"
      },
      "execution_count": null,
      "outputs": []
    },
    {
      "cell_type": "code",
      "source": [
        "import os\n",
        "import shutil\n",
        "\n",
        "def organize_images_by_modality(input_directory, output_directory):\n",
        "    \"\"\"\n",
        "    Organize medical images into different folders based on their modalities.\n",
        "\n",
        "    Args:\n",
        "        input_directory (str): Path to the input directory containing the medical images.\n",
        "        output_directory (str): Path to the output directory where the images will be organized.\n",
        "\n",
        "    Returns:\n",
        "        None\n",
        "    \"\"\"\n",
        "    # Create the output directory if it does not exist\n",
        "    os.makedirs(output_directory, exist_ok=True)\n",
        "\n",
        "    # List all files in the input directory\n",
        "    file_list = os.listdir(input_directory)\n",
        "\n",
        "    # Create subdirectories for each modality in the output directory\n",
        "    modalities = ['t1c', 't1n', 't2f', 't2w']\n",
        "    for modality in modalities:\n",
        "        modality_directory = os.path.join(output_directory, modality)\n",
        "        os.makedirs(modality_directory, exist_ok=True)\n",
        "\n",
        "    # Move files to the corresponding modality subdirectories\n",
        "    for filename in file_list:\n",
        "        if filename.endswith('.nii.gz'):\n",
        "            # Extract the modality from the file name (assuming the format 'BraTS-GLI-XXXXX-XXX-MODALITY.nii.gz')\n",
        "            modality = filename.split('-')[-1].split('.')[0]\n",
        "            if modality in modalities:\n",
        "                source_path = os.path.join(input_directory, filename)\n",
        "                destination_path = os.path.join(output_directory, modality, filename)\n",
        "                shutil.move(source_path, destination_path)"
      ],
      "metadata": {
        "id": "jEAD3o0YR-6L"
      },
      "execution_count": null,
      "outputs": []
    },
    {
      "cell_type": "code",
      "execution_count": null,
      "metadata": {
        "id": "IK4X6eMn7gGY"
      },
      "outputs": [],
      "source": [
        "def copy(output_dir,scan_type,path_source):\n",
        "    file_name_tmp = os.path.join(path_source,scan_type)\n",
        "    path_target = os.path.join(output_dir,basename)\n",
        "\n",
        "    for tmp_path in os.listdir(file_name_tmp):\n",
        "        file_source = os.path.join(path_source,scan_type)\n",
        "        file_source = os.path.join(file_source,tmp_path)\n",
        "        file_target = path_target+'_'+tmp_path\n",
        "        print(file_source,'||||',file_target)\n",
        "        shutil.copy(file_source, file_target)\n"
      ]
    },
    {
      "cell_type": "code",
      "execution_count": null,
      "metadata": {
        "id": "gVID4Q6D8H4I"
      },
      "outputs": [],
      "source": [
        "def write_list_to_file(file_path, my_list):\n",
        "    with open(file_path, 'w') as file:\n",
        "        file.write('\\n'.join(str(item) for item in my_list))\n"
      ]
    },
    {
      "cell_type": "code",
      "execution_count": null,
      "metadata": {
        "id": "mrCXaF_fHRji"
      },
      "outputs": [],
      "source": [
        "def remove_elements_by_string(input_list, string):\n",
        "    removed_elements = [element for element in input_list if string in element]\n",
        "    modified_list = [element for element in input_list if string not in element]\n",
        "    return modified_list, removed_elements"
      ]
    },
    {
      "cell_type": "code",
      "execution_count": null,
      "metadata": {
        "id": "-wz2swzA8r0f"
      },
      "outputs": [],
      "source": [
        "def remove_elements_by_strings(input_list, strings):\n",
        "    removed_elements = [element for element in input_list if any(string in element for string in strings)]\n",
        "    modified_list = [element for element in input_list if not any(string in element for string in strings)]\n",
        "    return modified_list, removed_elements"
      ]
    },
    {
      "cell_type": "code",
      "execution_count": null,
      "metadata": {
        "id": "C9vh3-WVioMz"
      },
      "outputs": [],
      "source": [
        "def convert_npy_files_to_float32(directory):\n",
        "    \"\"\"\n",
        "    Convert all .npy files from float64 to float32 in the given directory.\n",
        "\n",
        "    Args:\n",
        "        directory (str): The path to the directory containing the .npy files.\n",
        "\n",
        "    Returns:\n",
        "        None\n",
        "    \"\"\"\n",
        "    for filename in os.listdir(directory):\n",
        "        if filename.endswith(\".npy\"):\n",
        "            file_path = os.path.join(directory, filename)\n",
        "            data = np.load(file_path)\n",
        "            converted_data = data.astype(np.float32)\n",
        "            np.save(file_path, converted_data)"
      ]
    },
    {
      "cell_type": "code",
      "source": [
        "def copy_subfiles(source_dir, output_dir):\n",
        "    # Create the output directory if it doesn't exist\n",
        "    if not os.path.exists(output_dir):\n",
        "        os.makedirs(output_dir)\n",
        "\n",
        "    # Iterate over files and directories in the source directory\n",
        "    for root, dirs, files in os.walk(source_dir):\n",
        "        for file in files:\n",
        "            source_file = os.path.join(root, file)\n",
        "            print(source_file)\n",
        "            target_file = os.path.join(output_dir, os.path.relpath('/'.join(source_file.split('/')[:-2] + [source_file.split('/')[-1]]), source_dir))\n",
        "            print(target_file)\n",
        "            # Copy the file to the output directory\n",
        "            shutil.copy(source_file, target_file)\n",
        "\n",
        "    print(\"Files copied successfully!\")\n"
      ],
      "metadata": {
        "id": "PBxe0sW4dfw0"
      },
      "execution_count": null,
      "outputs": []
    },
    {
      "cell_type": "code",
      "source": [
        "def convert_nii_to_npy_seg(input_dir, output_dir):\n",
        "    # Create the output directory if it doesn't exist\n",
        "    if not os.path.exists(output_dir):\n",
        "        os.makedirs(output_dir)\n",
        "\n",
        "    # Iterate over files in the input directory\n",
        "    for filename in os.listdir(input_dir):\n",
        "        if filename.endswith(\"seg.nii\") or filename.endswith(\"seg.nii.gz\"):\n",
        "            input_file = os.path.join(input_dir, filename)\n",
        "            output_file = os.path.join(output_dir, os.path.splitext(filename)[0][:-4] + \".npy\")\n",
        "            # Load NIfTI file using nibabel\n",
        "            img = nib.load(input_file)\n",
        "            data = img.get_fdata()\n",
        "\n",
        "            # Save NumPy array as .npy file\n",
        "            np.save(output_file, data)\n",
        "\n",
        "    print(\"Conversion completed successfully!\")\n"
      ],
      "metadata": {
        "id": "2bJ_c_oadfnj"
      },
      "execution_count": null,
      "outputs": []
    },
    {
      "cell_type": "code",
      "source": [
        "def convert_nii_to_npy(input_dir, output_dir):\n",
        "    # Create the output directory if it doesn't exist\n",
        "    if not os.path.exists(output_dir):\n",
        "        os.makedirs(output_dir)\n",
        "\n",
        "    # Iterate over files in the input directory\n",
        "    for filename in os.listdir(input_dir):\n",
        "        if filename.endswith(\"seg.nii\") or filename.endswith(\"seg.nii.gz\"):\n",
        "          continue\n",
        "        if filename.endswith(\".nii\") or filename.endswith(\".nii.gz\"):\n",
        "            input_file = os.path.join(input_dir, filename)\n",
        "            output_file = os.path.join(output_dir, os.path.splitext(filename)[0][:-4] + \".npy\")\n",
        "            # Load NIfTI file using nibabel\n",
        "            img = nib.load(input_file)\n",
        "            data = img.get_fdata()\n",
        "\n",
        "            # Save NumPy array as .npy file\n",
        "            np.save(output_file, data)\n",
        "\n",
        "    print(\"Conversion completed successfully!\")\n"
      ],
      "metadata": {
        "id": "ZFUT-3kXdo0W"
      },
      "execution_count": null,
      "outputs": []
    },
    {
      "cell_type": "markdown",
      "metadata": {
        "id": "afk2wRSd9EFc"
      },
      "source": [
        "#SCRIPTING"
      ]
    },
    {
      "cell_type": "code",
      "execution_count": null,
      "metadata": {
        "id": "Xuelyas1CeEB"
      },
      "outputs": [],
      "source": [
        "for basename in patient_names:\n",
        "  path_source = os.path.join(parent_dir,basename)\n",
        "  #copy(output_dir_seg,'seg',path_source)\n",
        "  #copy(output_dir,'t1c',path_source)\n",
        "  #copy(output_dir,'t1n',path_source)\n",
        "  #copy(output_dir,'t2f',path_source)\n",
        "  #copy(output_dir,'t2w',path_source)"
      ]
    },
    {
      "cell_type": "code",
      "execution_count": null,
      "metadata": {
        "id": "btMvdp1c9KHb"
      },
      "outputs": [],
      "source": [
        "# Example usage\n",
        "file_path = '/content/drive/MyDrive/paddle_seg/file.txt'\n",
        "\n",
        "filenames_im = os.listdir('/content/drive/MyDrive/paddle_seg/images')\n",
        "filenames_seg = os.listdir('/content/drive/MyDrive/paddle_seg/labels')\n",
        "\n",
        "lines = []\n",
        "for im , seg in zip(filenames_im,filenames_seg):\n",
        "  lines.append(os.path.join('images',im)+' '+os.path.join('labels',seg))\n",
        "\n",
        "write_list_to_file(file_path, lines)"
      ]
    },
    {
      "cell_type": "markdown",
      "source": [
        "#REQUIREMENTS FOR MEDICALSEG"
      ],
      "metadata": {
        "id": "wbIDyQ1Xd2bi"
      }
    },
    {
      "cell_type": "code",
      "execution_count": null,
      "metadata": {
        "colab": {
          "base_uri": "https://localhost:8080/"
        },
        "id": "8BjjlwxiHqyb",
        "outputId": "af2be738-3471-4368-86f7-2c1b02f84fba"
      },
      "outputs": [
        {
          "output_type": "stream",
          "name": "stdout",
          "text": [
            "\u001b[0m\u001b[01;34mconfigs\u001b[0m/                                  \u001b[01;34mpaddleseg\u001b[0m/\n",
            "\u001b[01;34mcontrib\u001b[0m/                                  \u001b[01;34mpaddleseg.egg-info\u001b[0m/\n",
            "\u001b[01;34mdata\u001b[0m/                                     README_CN.md\n",
            "\u001b[01;34mdeploy\u001b[0m/                                   README_EN.md\n",
            "\u001b[01;34mdocs\u001b[0m/                                     \u001b[01;36mREADME.md\u001b[0m@\n",
            "\u001b[01;34mEISeg\u001b[0m/                                    requirements.txt\n",
            "libssl1.1_1.1.1f-1ubuntu2.19_amd64.deb    setup.py\n",
            "libssl1.1_1.1.1f-1ubuntu2.19_amd64.deb.1  \u001b[01;34mtests\u001b[0m/\n",
            "LICENSE                                   \u001b[01;34mtest_tipc\u001b[0m/\n",
            "\u001b[01;34mMatting\u001b[0m/                                  \u001b[01;34mtools\u001b[0m/\n",
            "\u001b[01;34moutput\u001b[0m/\n"
          ]
        }
      ],
      "source": [
        "%ls"
      ]
    },
    {
      "cell_type": "code",
      "execution_count": null,
      "metadata": {
        "id": "F5W5RyjYIkzs"
      },
      "outputs": [],
      "source": [
        "#!mkdir data\n",
        "#%cd data"
      ]
    },
    {
      "cell_type": "code",
      "execution_count": null,
      "metadata": {
        "colab": {
          "base_uri": "https://localhost:8080/"
        },
        "id": "8fwI84KJHtvw",
        "outputId": "f05ebf31-e7f4-4890-cc53-019d4fec8ec3"
      },
      "outputs": [
        {
          "output_type": "stream",
          "name": "stdout",
          "text": [
            "[Errno 2] No such file or directory: 'contrib/MedicalSeg/'\n",
            "/content/drive/My Drive\n"
          ]
        }
      ],
      "source": [
        "%cd contrib/MedicalSeg/"
      ]
    },
    {
      "cell_type": "code",
      "execution_count": null,
      "metadata": {
        "colab": {
          "base_uri": "https://localhost:8080/"
        },
        "id": "5vj0oX26jQ2J",
        "outputId": "fb2acc60-1c44-4331-cefc-4b772b20be2a"
      },
      "outputs": [
        {
          "output_type": "stream",
          "name": "stdout",
          "text": [
            "Requirement already satisfied: scikit-learn in /usr/local/lib/python3.10/dist-packages (1.2.2)\n",
            "Requirement already satisfied: numpy>=1.17.3 in /usr/local/lib/python3.10/dist-packages (from scikit-learn) (1.23.5)\n",
            "Requirement already satisfied: scipy>=1.3.2 in /usr/local/lib/python3.10/dist-packages (from scikit-learn) (1.10.1)\n",
            "Requirement already satisfied: joblib>=1.1.1 in /usr/local/lib/python3.10/dist-packages (from scikit-learn) (1.3.1)\n",
            "Requirement already satisfied: threadpoolctl>=2.0.0 in /usr/local/lib/python3.10/dist-packages (from scikit-learn) (3.2.0)\n",
            "\u001b[33mWARNING: Running pip as the 'root' user can result in broken permissions and conflicting behaviour with the system package manager. It is recommended to use a virtual environment instead: https://pip.pypa.io/warnings/venv\u001b[0m\u001b[33m\n",
            "\u001b[0m"
          ]
        }
      ],
      "source": [
        "pip install scikit-learn"
      ]
    },
    {
      "cell_type": "code",
      "execution_count": null,
      "metadata": {
        "colab": {
          "base_uri": "https://localhost:8080/"
        },
        "id": "4w2lc4o4Niju",
        "outputId": "0af4a3f1-4796-4967-c1c4-9073b395b794"
      },
      "outputs": [
        {
          "output_type": "stream",
          "name": "stdout",
          "text": [
            "\u001b[31mERROR: Could not open requirements file: [Errno 2] No such file or directory: 'requirements.txt'\u001b[0m\u001b[31m\n",
            "\u001b[0m"
          ]
        }
      ],
      "source": [
        "pip install -r requirements.txt"
      ]
    },
    {
      "cell_type": "code",
      "execution_count": null,
      "metadata": {
        "colab": {
          "base_uri": "https://localhost:8080/"
        },
        "id": "CIrs-4ZrStvK",
        "outputId": "a5c89781-0caa-413a-c07e-34fb6054a23c"
      },
      "outputs": [
        {
          "output_type": "stream",
          "name": "stdout",
          "text": [
            "Requirement already satisfied: cupy-cuda11x in /usr/local/lib/python3.10/dist-packages (11.0.0)\n",
            "Requirement already satisfied: numpy<1.26,>=1.20 in /usr/local/lib/python3.10/dist-packages (from cupy-cuda11x) (1.23.5)\n",
            "Requirement already satisfied: fastrlock>=0.5 in /usr/local/lib/python3.10/dist-packages (from cupy-cuda11x) (0.8.1)\n",
            "\u001b[33mWARNING: Running pip as the 'root' user can result in broken permissions and conflicting behaviour with the system package manager. It is recommended to use a virtual environment instead: https://pip.pypa.io/warnings/venv\u001b[0m\u001b[33m\n",
            "\u001b[0m"
          ]
        }
      ],
      "source": [
        "pip install cupy-cuda11x"
      ]
    },
    {
      "cell_type": "markdown",
      "metadata": {
        "id": "TYN_lHbNHoVG"
      },
      "source": [
        "#CONFIG FILE AND DATA"
      ]
    },
    {
      "cell_type": "markdown",
      "metadata": {
        "id": "-VFdgJd4fyP8"
      },
      "source": [
        "\n",
        "EXAMPLE\n",
        "\n",
        "The file structure is as following:  \n",
        "├── lung_coronavirus_phase0  \n",
        "│===├── images  \n",
        "│===├── labels  \n",
        "│===│===├── coronacases_001.npy  \n",
        "│===│===├── ...  \n",
        "│===│===└── radiopaedia_7_85703_0.npy  \n",
        "│===├── train_list.txt  \n",
        "│===└── val_list.txt  \n",
        "support:\n",
        "1. download and uncompress the file.\n",
        "2. save the data as the above format.\n",
        "3. split the training data and save the split result in train_list.txt and val_list.txt\n"
      ]
    },
    {
      "cell_type": "code",
      "execution_count": null,
      "metadata": {
        "id": "RCfqK6ajfRQV",
        "colab": {
          "base_uri": "https://localhost:8080/"
        },
        "outputId": "9a8fe9a9-4a79-4859-9b6f-d4530f2075a8"
      },
      "outputs": [
        {
          "output_type": "stream",
          "name": "stdout",
          "text": [
            "float32\n",
            "float32\n",
            "float32\n",
            "float32\n",
            "float32\n",
            "float32\n",
            "float32\n",
            "float32\n",
            "float32\n",
            "float32\n",
            "float32\n",
            "float32\n",
            "float32\n",
            "float32\n",
            "float32\n",
            "float32\n",
            "float32\n",
            "float32\n",
            "float32\n"
          ]
        }
      ],
      "source": [
        "for name in os.listdir('/content/drive/MyDrive/paddle_seg/PaddleSeg/contrib/MedicalSeg/data_3d/BraTS/BraTS_phase0/labels') :\n",
        "  dtype = os.path.join('/content/drive/MyDrive/paddle_seg/PaddleSeg/contrib/MedicalSeg/data_3d/BraTS/BraTS_phase0/labels',name)\n",
        "  dtype = np.load(dtype).dtype\n",
        "  print(dtype)\n"
      ]
    },
    {
      "cell_type": "markdown",
      "source": [
        "#PREPROCESSING"
      ],
      "metadata": {
        "id": "dSHYaalcAFzu"
      }
    },
    {
      "cell_type": "markdown",
      "source": [
        "Preprocess each modality on it's own using prepare_BraTs.py\n",
        "then concatenate the resulting lists of each modality\n",
        "prepare_BraTs.py only preprocess the directory named Images!"
      ],
      "metadata": {
        "id": "YYSiG7IBgd1F"
      }
    },
    {
      "cell_type": "code",
      "source": [
        "input_directory = \"/content/drive/MyDrive/paddle_seg/PaddleSeg/contrib/MedicalSeg/data_3d_test/BraTS/BraTS_phase0\"\n",
        "output_file = \"/content/drive/MyDrive/paddle_seg/PaddleSeg/contrib/MedicalSeg/data_3d_test/BraTS/BraTS_phase0/train_list.txt\"\n",
        "concatenate_train_lists(input_directory, output_file)"
      ],
      "metadata": {
        "id": "rUukRA3sZk2F"
      },
      "execution_count": null,
      "outputs": []
    },
    {
      "cell_type": "code",
      "source": [
        "input_directory = \"/content/drive/MyDrive/paddle_seg/PaddleSeg/contrib/MedicalSeg/data_3d_test/BraTS/BraTS_phase0\"\n",
        "output_file = \"/content/drive/MyDrive/paddle_seg/PaddleSeg/contrib/MedicalSeg/data_3d_test/BraTS/BraTS_phase0/val_list.txt\"\n",
        "concatenate_train_lists(input_directory, output_file)"
      ],
      "metadata": {
        "id": "R4jhA1ihafAw"
      },
      "execution_count": null,
      "outputs": []
    },
    {
      "cell_type": "code",
      "source": [
        "t1c_folder_name = \"/content/drive/MyDrive/paddle_seg/images_BraTS/t1c\"\n",
        "t1n_folder_name = \"/content/drive/MyDrive/paddle_seg/images_BraTS/t1n\"\n",
        "t2f_folder_name = \"/content/drive/MyDrive/paddle_seg/images_BraTS/t2f\"\n",
        "t2w_folder_name = \"/content/drive/MyDrive/paddle_seg/images_BraTS/t2w\"\n",
        "folder_name = \"/content/drive/MyDrive/paddle_seg/images_BraTS/images\""
      ],
      "metadata": {
        "id": "xQJMIe_iQWGx"
      },
      "execution_count": 1,
      "outputs": []
    },
    {
      "cell_type": "code",
      "source": [
        "input_directory = \"/content/drive/MyDrive/paddle_seg/images_BraTS/images\"\n",
        "output_directory = \"/content/drive/MyDrive/paddle_seg/images_BraTS\"\n",
        "organize_images_by_modality(input_directory, output_directory)"
      ],
      "metadata": {
        "id": "0kwZO2dDSBA9"
      },
      "execution_count": null,
      "outputs": []
    },
    {
      "cell_type": "code",
      "source": [
        "!python tools/prepare_BraTS.py"
      ],
      "metadata": {
        "colab": {
          "base_uri": "https://localhost:8080/"
        },
        "id": "tztE8oAgR10z",
        "outputId": "903e5468-1260-4f34-88d9-e45124715894"
      },
      "execution_count": null,
      "outputs": [
        {
          "output_type": "stream",
          "name": "stdout",
          "text": [
            "raw_dataset_dir /content/drive/MyDrive/paddle_seg/images_BraTS exists, skipping uncompress. To uncompress again, remove this directory\n",
            "Dataset json exists, skipping. Delete file /content/drive/MyDrive/paddle_seg/images_BraTS/dataset.json to regenerate.\n",
            "Start convert train images to numpy array using CPU, please wait patiently\n",
            "preprocessing the images: 100% 7/7 [00:16<00:00,  2.35s/it]\n",
            "preprocessing the labels: 100% 7/7 [00:11<00:00,  1.71s/it]\n",
            "The preprocess time on CPU is 28.42963743209839\n",
            "Start convert val images to numpy array using CPU, please wait patiently\n",
            "preprocessing the images: 100% 5/5 [00:10<00:00,  2.19s/it]\n",
            "preprocessing the labels: 100% 5/5 [00:07<00:00,  1.56s/it]\n",
            "The preprocess time on CPU is 18.758424520492554\n",
            "successfully write to data_3d_test/BraTS/BraTS_phase0/train_list.txt\n",
            "successfully write to data_3d_test/BraTS/BraTS_phase0/val_list.txt\n"
          ]
        }
      ]
    },
    {
      "cell_type": "markdown",
      "source": [
        "# TRAINING"
      ],
      "metadata": {
        "id": "ujB8FiEahHHR"
      }
    },
    {
      "cell_type": "code",
      "source": [
        "!python train.py --help"
      ],
      "metadata": {
        "id": "C6Rrh6pN5F5z",
        "colab": {
          "base_uri": "https://localhost:8080/"
        },
        "outputId": "3ff8570d-8767-4b72-a15d-aa3d0dd84d8d"
      },
      "execution_count": null,
      "outputs": [
        {
          "output_type": "stream",
          "name": "stdout",
          "text": [
            "usage: train.py\n",
            "       [-h]\n",
            "       [--config CFG]\n",
            "       [--iters ITERS]\n",
            "       [--batch_size BATCH_SIZE]\n",
            "       [--learning_rate LEARNING_RATE]\n",
            "       [--save_interval SAVE_INTERVAL]\n",
            "       [--resume_model RESUME_MODEL]\n",
            "       [--save_dir SAVE_DIR]\n",
            "       [--keep_checkpoint_max KEEP_CHECKPOINT_MAX]\n",
            "       [--num_workers NUM_WORKERS]\n",
            "       [--do_eval]\n",
            "       [--log_iters LOG_ITERS]\n",
            "       [--use_vdl]\n",
            "       [--seed SEED]\n",
            "       [--data_format DATA_FORMAT]\n",
            "       [--profiler_options PROFILER_OPTIONS]\n",
            "       [--nnunet]\n",
            "       [--precision {fp32,fp16}]\n",
            "       [--sw_num SW_NUM]\n",
            "       [--is_save_data IS_SAVE_DATA]\n",
            "       [--has_dataset_json HAS_DATASET_JSON]\n",
            "\n",
            "Model\n",
            "training\n",
            "\n",
            "options:\n",
            "  -h, --help\n",
            "    show this\n",
            "    help\n",
            "    message and\n",
            "    exit\n",
            "  --config CFG\n",
            "    The config\n",
            "    file.\n",
            "  --iters ITERS\n",
            "    iters for\n",
            "    training\n",
            "  --batch_size BATCH_SIZE\n",
            "    Mini batch\n",
            "    size of one\n",
            "    gpu or cpu\n",
            "  --learning_rate LEARNING_RATE\n",
            "    Learning\n",
            "    rate\n",
            "  --save_interval SAVE_INTERVAL\n",
            "    How many\n",
            "    iters to\n",
            "    save a\n",
            "    model\n",
            "    snapshot\n",
            "    once during\n",
            "    training.\n",
            "  --resume_model RESUME_MODEL\n",
            "    The path of\n",
            "    resume\n",
            "    model\n",
            "  --save_dir SAVE_DIR\n",
            "    The\n",
            "    directory\n",
            "    for saving\n",
            "    the model\n",
            "    snapshot\n",
            "  --keep_checkpoint_max KEEP_CHECKPOINT_MAX\n",
            "    Maximum\n",
            "    number of\n",
            "    checkpoints\n",
            "    to save\n",
            "  --num_workers NUM_WORKERS\n",
            "    Num workers\n",
            "    for data\n",
            "    loader\n",
            "  --do_eval\n",
            "    Eval while\n",
            "    training\n",
            "  --log_iters LOG_ITERS\n",
            "    Display\n",
            "    logging\n",
            "    information\n",
            "    at every\n",
            "    log_iters\n",
            "  --use_vdl\n",
            "    Whether to\n",
            "    record the\n",
            "    data to\n",
            "    VisualDL\n",
            "    during\n",
            "    training\n",
            "  --seed SEED\n",
            "    Set the\n",
            "    random seed\n",
            "    during\n",
            "    training.\n",
            "  --data_format DATA_FORMAT\n",
            "    Data format\n",
            "    that\n",
            "    specifies\n",
            "    the layout\n",
            "    of input.\n",
            "    It can be\n",
            "    \"NCHW\" or\n",
            "    \"NHWC\".\n",
            "    Default:\n",
            "    \"NCHW\".\n",
            "  --profiler_options PROFILER_OPTIONS\n",
            "    The option\n",
            "    of train\n",
            "    profiler.\n",
            "    If profiler\n",
            "    _options is\n",
            "    not None,\n",
            "    the train\n",
            "    profiler is\n",
            "    enabled.\n",
            "    Refer to\n",
            "    the medseg/\n",
            "    utils/train\n",
            "    _profiler.p\n",
            "    y for\n",
            "    details.\n",
            "  --nnunet\n",
            "    nnunet\n",
            "    training\n",
            "  --precision {fp32,fp16}\n",
            "    Use AMP\n",
            "    (Auto mixed\n",
            "    precision)\n",
            "    if precisio\n",
            "    n='fp16'.\n",
            "    If precisio\n",
            "    n='fp32',\n",
            "    the\n",
            "    training is\n",
            "    normal.\n",
            "  --sw_num SW_NUM\n",
            "    sw_num\n",
            "  --is_save_data IS_SAVE_DATA\n",
            "    warmup\n",
            "  --has_dataset_json HAS_DATASET_JSON\n",
            "    has_dataset\n",
            "    _json\n"
          ]
        }
      ]
    },
    {
      "cell_type": "code",
      "execution_count": null,
      "metadata": {
        "colab": {
          "base_uri": "https://localhost:8080/"
        },
        "id": "aJkpwwcOs3Ou",
        "outputId": "43ebe35c-e94f-4231-fbe4-22bc7e3637bf"
      },
      "outputs": [
        {
          "output_type": "stream",
          "name": "stdout",
          "text": [
            "2023-08-08 19:32:48 [INFO]\t\n",
            "------------Environment Information-------------\n",
            "platform: Linux-5.15.109+-x86_64-with-glibc2.35\n",
            "Python: 3.10.12 (main, Jun 11 2023, 05:26:28) [GCC 11.4.0]\n",
            "Paddle compiled with cuda: True\n",
            "NVCC: Build cuda_11.8.r11.8/compiler.31833905_0\n",
            "cudnn: 8.9\n",
            "GPUs used: 1\n",
            "CUDA_VISIBLE_DEVICES: None\n",
            "GPU: ['GPU 0: Tesla T4']\n",
            "GCC: gcc (Ubuntu 11.4.0-1ubuntu1~22.04) 11.4.0\n",
            "PaddlePaddle: 2.5.0\n",
            "------------------------------------------------\n",
            "2023-08-08 19:32:48 [INFO]\t\n",
            "---------------Config Information---------------\n",
            "batch_size: 2\n",
            "data_root: data_3d_test/\n",
            "export:\n",
            "  inference_helper:\n",
            "    type: InferenceHelper2D\n",
            "  transforms:\n",
            "  - size:\n",
            "    - 1\n",
            "    - 224\n",
            "    - 224\n",
            "    type: Resize3D\n",
            "iters: 20\n",
            "loss:\n",
            "  coef:\n",
            "  - 1\n",
            "  types:\n",
            "  - coef:\n",
            "    - 1\n",
            "    - 1\n",
            "    losses:\n",
            "    - type: CrossEntropyLoss\n",
            "    - type: DiceLoss\n",
            "    type: MixedLoss\n",
            "lr_scheduler:\n",
            "  decay_steps: 13950\n",
            "  end_lr: 0\n",
            "  learning_rate: 0.01\n",
            "  power: 0.9\n",
            "  type: PolynomialDecay\n",
            "model:\n",
            "  attention_dropout_rate: 0.0\n",
            "  backbone:\n",
            "    block_units:\n",
            "    - 3\n",
            "    - 4\n",
            "    - 9\n",
            "    type: ResNet\n",
            "    width_factor: 1\n",
            "  classifier: seg\n",
            "  decoder_channels:\n",
            "  - 256\n",
            "  - 128\n",
            "  - 64\n",
            "  - 16\n",
            "  dropout_rate: 0.1\n",
            "  hidden_size: 768\n",
            "  img_size: 224\n",
            "  mlp_dim: 3072\n",
            "  n_skip: 3\n",
            "  num_classes: 4\n",
            "  num_heads: 12\n",
            "  num_layers: 12\n",
            "  patches_grid:\n",
            "  - 14\n",
            "  - 14\n",
            "  pretrained_path: https://paddleseg.bj.bcebos.com/paddleseg3d/synapse/abdomen/transunet_abdomen_224_224_1_14k_1e-2/transunet_pretrained.zip\n",
            "  skip_channels:\n",
            "  - 512\n",
            "  - 256\n",
            "  - 64\n",
            "  - 16\n",
            "  type: TransUNet\n",
            "optimizer:\n",
            "  momentum: 0.9\n",
            "  type: sgd\n",
            "  weight_decay: 0.0001\n",
            "test_dataset:\n",
            "  dataset_json_path: /content/drive/MyDrive/paddle_seg/PaddleSeg/contrib/MedicalSeg/data_3d_test/BraTS/dataset.json\n",
            "  dataset_root: BraTS/BraTS_phase0\n",
            "  mode: val\n",
            "  num_classes: 4\n",
            "  result_dir: BraTS/BraTS_phase1\n",
            "  transforms:\n",
            "  - size:\n",
            "    - 1\n",
            "    - 224\n",
            "    - 224\n",
            "    type: Resize3D\n",
            "  type: BraTS\n",
            "train_dataset:\n",
            "  dataset_root: BraTS/BraTS_phase0\n",
            "  mode: train\n",
            "  num_classes: 4\n",
            "  result_dir: BraTS/BraTS_phase1\n",
            "  transforms:\n",
            "  - flip_axis:\n",
            "    - 1\n",
            "    - 2\n",
            "    type: RandomFlip3D\n",
            "  - rotate_planes:\n",
            "    - - 1\n",
            "      - 2\n",
            "    type: RandomQuarterTurn3D\n",
            "  - degrees: 20\n",
            "    rotate_planes:\n",
            "    - - 1\n",
            "      - 2\n",
            "    type: RandomRotation3D\n",
            "  - size:\n",
            "    - 1\n",
            "    - 224\n",
            "    - 224\n",
            "    type: Resize3D\n",
            "  type: BraTS\n",
            "val_dataset:\n",
            "  dataset_json_path: /content/drive/MyDrive/paddle_seg/PaddleSeg/contrib/MedicalSeg/data_3d_test/BraTS/dataset.json\n",
            "  dataset_root: BraTS/BraTS_phase0\n",
            "  mode: val\n",
            "  num_classes: 4\n",
            "  result_dir: BraTS/BraTS_phase1\n",
            "  transforms:\n",
            "  - size:\n",
            "    - 1\n",
            "    - 224\n",
            "    - 224\n",
            "    type: Resize3D\n",
            "  type: BraTS\n",
            "------------------------------------------------\n",
            "W0808 19:32:48.484537 24241 gpu_resources.cc:119] Please NOTE: device: 0, GPU Compute Capability: 7.5, Driver API Version: 12.0, Runtime API Version: 11.8\n",
            "W0808 19:32:48.484582 24241 gpu_resources.cc:149] device: 0, cuDNN Version: 8.9.\n",
            "2023-08-08 19:32:50 [INFO]\tLoading pretrained model from https://paddleseg.bj.bcebos.com/paddleseg3d/synapse/abdomen/transunet_abdomen_224_224_1_14k_1e-2/transunet_pretrained.zip\n",
            "Connecting to https://paddleseg.bj.bcebos.com/paddleseg3d/synapse/abdomen/transunet_abdomen_224_224_1_14k_1e-2/transunet_pretrained.zip\n",
            "Downloading transunet_pretrained.zip\n",
            "[==================================================] 100.00%\n",
            "Uncompress transunet_pretrained.zip\n",
            "[==================================================] 100.00%\n",
            "2023-08-08 19:33:44 [WARNING]\t[SKIP] Shape of pretrained params segmentation_head.0.weight doesn't match.(Pretrained: [9, 16, 3, 3], Actual: [4, 16, 3, 3])\n",
            "2023-08-08 19:33:44 [WARNING]\t[SKIP] Shape of pretrained params segmentation_head.0.bias doesn't match.(Pretrained: [9], Actual: [4])\n",
            "2023-08-08 19:33:44 [INFO]\tThere are 398/400 variables loaded into TransUNet.\n",
            "I0808 19:33:49.275233 24241 eager_method.cc:140] Warning:: 0D Tensor cannot be used as 'Tensor.numpy()[0]' . In order to avoid this problem, 0D Tensor will be changed to 1D numpy currently, but it's not correct and will be removed in release 2.6. For Tensor contain only one element, Please modify  'Tensor.numpy()[0]' to 'float(Tensor)' as soon as possible, otherwise 'Tensor.numpy()[0]' will raise error in release 2.6.\n",
            "I0808 19:33:49.275342 24241 eager_method.cc:140] Warning:: 0D Tensor cannot be used as 'Tensor.numpy()[0]' . In order to avoid this problem, 0D Tensor will be changed to 1D numpy currently, but it's not correct and will be removed in release 2.6. For Tensor contain only one element, Please modify  'Tensor.numpy()[0]' to 'float(Tensor)' as soon as possible, otherwise 'Tensor.numpy()[0]' will raise error in release 2.6.\n",
            "I0808 19:33:49.542747 24241 eager_method.cc:140] Warning:: 0D Tensor cannot be used as 'Tensor.numpy()[0]' . In order to avoid this problem, 0D Tensor will be changed to 1D numpy currently, but it's not correct and will be removed in release 2.6. For Tensor contain only one element, Please modify  'Tensor.numpy()[0]' to 'float(Tensor)' as soon as possible, otherwise 'Tensor.numpy()[0]' will raise error in release 2.6.\n",
            "I0808 19:33:49.542888 24241 eager_method.cc:140] Warning:: 0D Tensor cannot be used as 'Tensor.numpy()[0]' . In order to avoid this problem, 0D Tensor will be changed to 1D numpy currently, but it's not correct and will be removed in release 2.6. For Tensor contain only one element, Please modify  'Tensor.numpy()[0]' to 'float(Tensor)' as soon as possible, otherwise 'Tensor.numpy()[0]' will raise error in release 2.6.\n",
            "I0808 19:33:49.805284 24241 eager_method.cc:140] Warning:: 0D Tensor cannot be used as 'Tensor.numpy()[0]' . In order to avoid this problem, 0D Tensor will be changed to 1D numpy currently, but it's not correct and will be removed in release 2.6. For Tensor contain only one element, Please modify  'Tensor.numpy()[0]' to 'float(Tensor)' as soon as possible, otherwise 'Tensor.numpy()[0]' will raise error in release 2.6.\n",
            "I0808 19:33:49.805413 24241 eager_method.cc:140] Warning:: 0D Tensor cannot be used as 'Tensor.numpy()[0]' . In order to avoid this problem, 0D Tensor will be changed to 1D numpy currently, but it's not correct and will be removed in release 2.6. For Tensor contain only one element, Please modify  'Tensor.numpy()[0]' to 'float(Tensor)' as soon as possible, otherwise 'Tensor.numpy()[0]' will raise error in release 2.6.\n",
            "I0808 19:33:50.043779 24241 eager_method.cc:140] Warning:: 0D Tensor cannot be used as 'Tensor.numpy()[0]' . In order to avoid this problem, 0D Tensor will be changed to 1D numpy currently, but it's not correct and will be removed in release 2.6. For Tensor contain only one element, Please modify  'Tensor.numpy()[0]' to 'float(Tensor)' as soon as possible, otherwise 'Tensor.numpy()[0]' will raise error in release 2.6.\n",
            "I0808 19:33:50.043910 24241 eager_method.cc:140] Warning:: 0D Tensor cannot be used as 'Tensor.numpy()[0]' . In order to avoid this problem, 0D Tensor will be changed to 1D numpy currently, but it's not correct and will be removed in release 2.6. For Tensor contain only one element, Please modify  'Tensor.numpy()[0]' to 'float(Tensor)' as soon as possible, otherwise 'Tensor.numpy()[0]' will raise error in release 2.6.\n",
            "I0808 19:33:50.318200 24241 eager_method.cc:140] Warning:: 0D Tensor cannot be used as 'Tensor.numpy()[0]' . In order to avoid this problem, 0D Tensor will be changed to 1D numpy currently, but it's not correct and will be removed in release 2.6. For Tensor contain only one element, Please modify  'Tensor.numpy()[0]' to 'float(Tensor)' as soon as possible, otherwise 'Tensor.numpy()[0]' will raise error in release 2.6.\n",
            "I0808 19:33:50.318343 24241 eager_method.cc:140] Warning:: 0D Tensor cannot be used as 'Tensor.numpy()[0]' . In order to avoid this problem, 0D Tensor will be changed to 1D numpy currently, but it's not correct and will be removed in release 2.6. For Tensor contain only one element, Please modify  'Tensor.numpy()[0]' to 'float(Tensor)' as soon as possible, otherwise 'Tensor.numpy()[0]' will raise error in release 2.6.\n",
            "I0808 19:33:50.502205 24241 eager_method.cc:140] Warning:: 0D Tensor cannot be used as 'Tensor.numpy()[0]' . In order to avoid this problem, 0D Tensor will be changed to 1D numpy currently, but it's not correct and will be removed in release 2.6. For Tensor contain only one element, Please modify  'Tensor.numpy()[0]' to 'float(Tensor)' as soon as possible, otherwise 'Tensor.numpy()[0]' will raise error in release 2.6.\n",
            "I0808 19:33:50.502328 24241 eager_method.cc:140] Warning:: 0D Tensor cannot be used as 'Tensor.numpy()[0]' . In order to avoid this problem, 0D Tensor will be changed to 1D numpy currently, but it's not correct and will be removed in release 2.6. For Tensor contain only one element, Please modify  'Tensor.numpy()[0]' to 'float(Tensor)' as soon as possible, otherwise 'Tensor.numpy()[0]' will raise error in release 2.6.\n",
            "I0808 19:33:50.676167 24241 eager_method.cc:140] Warning:: 0D Tensor cannot be used as 'Tensor.numpy()[0]' . In order to avoid this problem, 0D Tensor will be changed to 1D numpy currently, but it's not correct and will be removed in release 2.6. For Tensor contain only one element, Please modify  'Tensor.numpy()[0]' to 'float(Tensor)' as soon as possible, otherwise 'Tensor.numpy()[0]' will raise error in release 2.6.\n",
            "I0808 19:33:50.676285 24241 eager_method.cc:140] Warning:: 0D Tensor cannot be used as 'Tensor.numpy()[0]' . In order to avoid this problem, 0D Tensor will be changed to 1D numpy currently, but it's not correct and will be removed in release 2.6. For Tensor contain only one element, Please modify  'Tensor.numpy()[0]' to 'float(Tensor)' as soon as possible, otherwise 'Tensor.numpy()[0]' will raise error in release 2.6.\n",
            "I0808 19:33:50.849594 24241 eager_method.cc:140] Warning:: 0D Tensor cannot be used as 'Tensor.numpy()[0]' . In order to avoid this problem, 0D Tensor will be changed to 1D numpy currently, but it's not correct and will be removed in release 2.6. For Tensor contain only one element, Please modify  'Tensor.numpy()[0]' to 'float(Tensor)' as soon as possible, otherwise 'Tensor.numpy()[0]' will raise error in release 2.6.\n",
            "I0808 19:33:50.849717 24241 eager_method.cc:140] Warning:: 0D Tensor cannot be used as 'Tensor.numpy()[0]' . In order to avoid this problem, 0D Tensor will be changed to 1D numpy currently, but it's not correct and will be removed in release 2.6. For Tensor contain only one element, Please modify  'Tensor.numpy()[0]' to 'float(Tensor)' as soon as possible, otherwise 'Tensor.numpy()[0]' will raise error in release 2.6.\n",
            "I0808 19:33:51.026051 24241 eager_method.cc:140] Warning:: 0D Tensor cannot be used as 'Tensor.numpy()[0]' . In order to avoid this problem, 0D Tensor will be changed to 1D numpy currently, but it's not correct and will be removed in release 2.6. For Tensor contain only one element, Please modify  'Tensor.numpy()[0]' to 'float(Tensor)' as soon as possible, otherwise 'Tensor.numpy()[0]' will raise error in release 2.6.\n",
            "I0808 19:33:51.026171 24241 eager_method.cc:140] Warning:: 0D Tensor cannot be used as 'Tensor.numpy()[0]' . In order to avoid this problem, 0D Tensor will be changed to 1D numpy currently, but it's not correct and will be removed in release 2.6. For Tensor contain only one element, Please modify  'Tensor.numpy()[0]' to 'float(Tensor)' as soon as possible, otherwise 'Tensor.numpy()[0]' will raise error in release 2.6.\n",
            "I0808 19:33:51.204526 24241 eager_method.cc:140] Warning:: 0D Tensor cannot be used as 'Tensor.numpy()[0]' . In order to avoid this problem, 0D Tensor will be changed to 1D numpy currently, but it's not correct and will be removed in release 2.6. For Tensor contain only one element, Please modify  'Tensor.numpy()[0]' to 'float(Tensor)' as soon as possible, otherwise 'Tensor.numpy()[0]' will raise error in release 2.6.\n",
            "I0808 19:33:51.204650 24241 eager_method.cc:140] Warning:: 0D Tensor cannot be used as 'Tensor.numpy()[0]' . In order to avoid this problem, 0D Tensor will be changed to 1D numpy currently, but it's not correct and will be removed in release 2.6. For Tensor contain only one element, Please modify  'Tensor.numpy()[0]' to 'float(Tensor)' as soon as possible, otherwise 'Tensor.numpy()[0]' will raise error in release 2.6.\n",
            "2023-08-08 19:33:51 [INFO]\t[TRAIN] epoch: 0, iter: 10/20, loss: 1.4442, DSC: 25.3069, lr: 0.009994, batch_cost: 0.6148, reader_cost: 0.05860, ips: 3.2533 samples/sec | ETA 00:00:06\n",
            "2023-08-08 19:33:51 [INFO]\tStart evaluating (total_samples: 1, total_iters: 1)...\n",
            "I0808 19:33:55.791460 24241 eager_method.cc:140] Warning:: 0D Tensor cannot be used as 'Tensor.numpy()[0]' . In order to avoid this problem, 0D Tensor will be changed to 1D numpy currently, but it's not correct and will be removed in release 2.6. For Tensor contain only one element, Please modify  'Tensor.numpy()[0]' to 'float(Tensor)' as soon as possible, otherwise 'Tensor.numpy()[0]' will raise error in release 2.6.\n",
            "1/1 [==============================] - 5s 5s/step - batch_cost: 4.5795 - reader cost: 1.7225\n",
            "2023-08-08 19:33:55 [INFO]\t[EVAL] #Images: 1, Dice: 0.2601, Loss: 0.987982\n",
            "2023-08-08 19:33:55 [INFO]\t[EVAL] Class dice: \n",
            "[0.9866 0.0082 0.03   0.0156]\n",
            "2023-08-08 19:34:26 [INFO]\t[EVAL] The model with the best validation mDice (0.2601) was saved at iter 10.\n",
            "I0808 19:34:26.662897 24241 eager_method.cc:140] Warning:: 0D Tensor cannot be used as 'Tensor.numpy()[0]' . In order to avoid this problem, 0D Tensor will be changed to 1D numpy currently, but it's not correct and will be removed in release 2.6. For Tensor contain only one element, Please modify  'Tensor.numpy()[0]' to 'float(Tensor)' as soon as possible, otherwise 'Tensor.numpy()[0]' will raise error in release 2.6.\n",
            "I0808 19:34:26.664376 24241 eager_method.cc:140] Warning:: 0D Tensor cannot be used as 'Tensor.numpy()[0]' . In order to avoid this problem, 0D Tensor will be changed to 1D numpy currently, but it's not correct and will be removed in release 2.6. For Tensor contain only one element, Please modify  'Tensor.numpy()[0]' to 'float(Tensor)' as soon as possible, otherwise 'Tensor.numpy()[0]' will raise error in release 2.6.\n",
            "I0808 19:34:27.123725 24241 eager_method.cc:140] Warning:: 0D Tensor cannot be used as 'Tensor.numpy()[0]' . In order to avoid this problem, 0D Tensor will be changed to 1D numpy currently, but it's not correct and will be removed in release 2.6. For Tensor contain only one element, Please modify  'Tensor.numpy()[0]' to 'float(Tensor)' as soon as possible, otherwise 'Tensor.numpy()[0]' will raise error in release 2.6.\n",
            "I0808 19:34:27.124114 24241 eager_method.cc:140] Warning:: 0D Tensor cannot be used as 'Tensor.numpy()[0]' . In order to avoid this problem, 0D Tensor will be changed to 1D numpy currently, but it's not correct and will be removed in release 2.6. For Tensor contain only one element, Please modify  'Tensor.numpy()[0]' to 'float(Tensor)' as soon as possible, otherwise 'Tensor.numpy()[0]' will raise error in release 2.6.\n",
            "I0808 19:34:27.540233 24241 eager_method.cc:140] Warning:: 0D Tensor cannot be used as 'Tensor.numpy()[0]' . In order to avoid this problem, 0D Tensor will be changed to 1D numpy currently, but it's not correct and will be removed in release 2.6. For Tensor contain only one element, Please modify  'Tensor.numpy()[0]' to 'float(Tensor)' as soon as possible, otherwise 'Tensor.numpy()[0]' will raise error in release 2.6.\n",
            "I0808 19:34:27.540544 24241 eager_method.cc:140] Warning:: 0D Tensor cannot be used as 'Tensor.numpy()[0]' . In order to avoid this problem, 0D Tensor will be changed to 1D numpy currently, but it's not correct and will be removed in release 2.6. For Tensor contain only one element, Please modify  'Tensor.numpy()[0]' to 'float(Tensor)' as soon as possible, otherwise 'Tensor.numpy()[0]' will raise error in release 2.6.\n",
            "I0808 19:34:27.956176 24241 eager_method.cc:140] Warning:: 0D Tensor cannot be used as 'Tensor.numpy()[0]' . In order to avoid this problem, 0D Tensor will be changed to 1D numpy currently, but it's not correct and will be removed in release 2.6. For Tensor contain only one element, Please modify  'Tensor.numpy()[0]' to 'float(Tensor)' as soon as possible, otherwise 'Tensor.numpy()[0]' will raise error in release 2.6.\n",
            "I0808 19:34:27.956610 24241 eager_method.cc:140] Warning:: 0D Tensor cannot be used as 'Tensor.numpy()[0]' . In order to avoid this problem, 0D Tensor will be changed to 1D numpy currently, but it's not correct and will be removed in release 2.6. For Tensor contain only one element, Please modify  'Tensor.numpy()[0]' to 'float(Tensor)' as soon as possible, otherwise 'Tensor.numpy()[0]' will raise error in release 2.6.\n",
            "I0808 19:34:28.386667 24241 eager_method.cc:140] Warning:: 0D Tensor cannot be used as 'Tensor.numpy()[0]' . In order to avoid this problem, 0D Tensor will be changed to 1D numpy currently, but it's not correct and will be removed in release 2.6. For Tensor contain only one element, Please modify  'Tensor.numpy()[0]' to 'float(Tensor)' as soon as possible, otherwise 'Tensor.numpy()[0]' will raise error in release 2.6.\n",
            "I0808 19:34:28.386761 24241 eager_method.cc:140] Warning:: 0D Tensor cannot be used as 'Tensor.numpy()[0]' . In order to avoid this problem, 0D Tensor will be changed to 1D numpy currently, but it's not correct and will be removed in release 2.6. For Tensor contain only one element, Please modify  'Tensor.numpy()[0]' to 'float(Tensor)' as soon as possible, otherwise 'Tensor.numpy()[0]' will raise error in release 2.6.\n",
            "I0808 19:34:28.770226 24241 eager_method.cc:140] Warning:: 0D Tensor cannot be used as 'Tensor.numpy()[0]' . In order to avoid this problem, 0D Tensor will be changed to 1D numpy currently, but it's not correct and will be removed in release 2.6. For Tensor contain only one element, Please modify  'Tensor.numpy()[0]' to 'float(Tensor)' as soon as possible, otherwise 'Tensor.numpy()[0]' will raise error in release 2.6.\n",
            "I0808 19:34:28.770339 24241 eager_method.cc:140] Warning:: 0D Tensor cannot be used as 'Tensor.numpy()[0]' . In order to avoid this problem, 0D Tensor will be changed to 1D numpy currently, but it's not correct and will be removed in release 2.6. For Tensor contain only one element, Please modify  'Tensor.numpy()[0]' to 'float(Tensor)' as soon as possible, otherwise 'Tensor.numpy()[0]' will raise error in release 2.6.\n",
            "I0808 19:34:29.223999 24241 eager_method.cc:140] Warning:: 0D Tensor cannot be used as 'Tensor.numpy()[0]' . In order to avoid this problem, 0D Tensor will be changed to 1D numpy currently, but it's not correct and will be removed in release 2.6. For Tensor contain only one element, Please modify  'Tensor.numpy()[0]' to 'float(Tensor)' as soon as possible, otherwise 'Tensor.numpy()[0]' will raise error in release 2.6.\n",
            "I0808 19:34:29.224092 24241 eager_method.cc:140] Warning:: 0D Tensor cannot be used as 'Tensor.numpy()[0]' . In order to avoid this problem, 0D Tensor will be changed to 1D numpy currently, but it's not correct and will be removed in release 2.6. For Tensor contain only one element, Please modify  'Tensor.numpy()[0]' to 'float(Tensor)' as soon as possible, otherwise 'Tensor.numpy()[0]' will raise error in release 2.6.\n",
            "I0808 19:34:29.577106 24241 eager_method.cc:140] Warning:: 0D Tensor cannot be used as 'Tensor.numpy()[0]' . In order to avoid this problem, 0D Tensor will be changed to 1D numpy currently, but it's not correct and will be removed in release 2.6. For Tensor contain only one element, Please modify  'Tensor.numpy()[0]' to 'float(Tensor)' as soon as possible, otherwise 'Tensor.numpy()[0]' will raise error in release 2.6.\n",
            "I0808 19:34:29.577208 24241 eager_method.cc:140] Warning:: 0D Tensor cannot be used as 'Tensor.numpy()[0]' . In order to avoid this problem, 0D Tensor will be changed to 1D numpy currently, but it's not correct and will be removed in release 2.6. For Tensor contain only one element, Please modify  'Tensor.numpy()[0]' to 'float(Tensor)' as soon as possible, otherwise 'Tensor.numpy()[0]' will raise error in release 2.6.\n",
            "I0808 19:34:29.806624 24241 eager_method.cc:140] Warning:: 0D Tensor cannot be used as 'Tensor.numpy()[0]' . In order to avoid this problem, 0D Tensor will be changed to 1D numpy currently, but it's not correct and will be removed in release 2.6. For Tensor contain only one element, Please modify  'Tensor.numpy()[0]' to 'float(Tensor)' as soon as possible, otherwise 'Tensor.numpy()[0]' will raise error in release 2.6.\n",
            "I0808 19:34:29.806753 24241 eager_method.cc:140] Warning:: 0D Tensor cannot be used as 'Tensor.numpy()[0]' . In order to avoid this problem, 0D Tensor will be changed to 1D numpy currently, but it's not correct and will be removed in release 2.6. For Tensor contain only one element, Please modify  'Tensor.numpy()[0]' to 'float(Tensor)' as soon as possible, otherwise 'Tensor.numpy()[0]' will raise error in release 2.6.\n",
            "I0808 19:34:30.036011 24241 eager_method.cc:140] Warning:: 0D Tensor cannot be used as 'Tensor.numpy()[0]' . In order to avoid this problem, 0D Tensor will be changed to 1D numpy currently, but it's not correct and will be removed in release 2.6. For Tensor contain only one element, Please modify  'Tensor.numpy()[0]' to 'float(Tensor)' as soon as possible, otherwise 'Tensor.numpy()[0]' will raise error in release 2.6.\n",
            "I0808 19:34:30.036116 24241 eager_method.cc:140] Warning:: 0D Tensor cannot be used as 'Tensor.numpy()[0]' . In order to avoid this problem, 0D Tensor will be changed to 1D numpy currently, but it's not correct and will be removed in release 2.6. For Tensor contain only one element, Please modify  'Tensor.numpy()[0]' to 'float(Tensor)' as soon as possible, otherwise 'Tensor.numpy()[0]' will raise error in release 2.6.\n",
            "2023-08-08 19:34:30 [INFO]\t[TRAIN] epoch: 0, iter: 20/20, loss: 0.8105, DSC: 27.4840, lr: 0.009988, batch_cost: 0.3961, reader_cost: 0.00129, ips: 5.0496 samples/sec | ETA 00:00:00\n",
            "2023-08-08 19:34:30 [INFO]\tStart evaluating (total_samples: 1, total_iters: 1)...\n",
            "I0808 19:34:38.101565 24241 eager_method.cc:140] Warning:: 0D Tensor cannot be used as 'Tensor.numpy()[0]' . In order to avoid this problem, 0D Tensor will be changed to 1D numpy currently, but it's not correct and will be removed in release 2.6. For Tensor contain only one element, Please modify  'Tensor.numpy()[0]' to 'float(Tensor)' as soon as possible, otherwise 'Tensor.numpy()[0]' will raise error in release 2.6.\n",
            "1/1 [==============================] - 8s 8s/step - batch_cost: 8.0533 - reader cost: 5.1208\n",
            "2023-08-08 19:34:38 [INFO]\t[EVAL] #Images: 1, Dice: 0.2692, Loss: 0.806823\n",
            "2023-08-08 19:34:38 [INFO]\t[EVAL] Class dice: \n",
            "[0.9936 0.0182 0.0412 0.0237]\n",
            "2023-08-08 19:34:50 [INFO]\t[EVAL] The model with the best validation mDice (0.2692) was saved at iter 20.\n",
            "I0808 19:34:51.149000 24241 eager_method.cc:140] Warning:: 0D Tensor cannot be used as 'Tensor.numpy()[0]' . In order to avoid this problem, 0D Tensor will be changed to 1D numpy currently, but it's not correct and will be removed in release 2.6. For Tensor contain only one element, Please modify  'Tensor.numpy()[0]' to 'float(Tensor)' as soon as possible, otherwise 'Tensor.numpy()[0]' will raise error in release 2.6.\n",
            "I0808 19:34:51.149134 24241 eager_method.cc:140] Warning:: 0D Tensor cannot be used as 'Tensor.numpy()[0]' . In order to avoid this problem, 0D Tensor will be changed to 1D numpy currently, but it's not correct and will be removed in release 2.6. For Tensor contain only one element, Please modify  'Tensor.numpy()[0]' to 'float(Tensor)' as soon as possible, otherwise 'Tensor.numpy()[0]' will raise error in release 2.6.\n",
            "I0808 19:34:51.330467 24241 eager_method.cc:140] Warning:: 0D Tensor cannot be used as 'Tensor.numpy()[0]' . In order to avoid this problem, 0D Tensor will be changed to 1D numpy currently, but it's not correct and will be removed in release 2.6. For Tensor contain only one element, Please modify  'Tensor.numpy()[0]' to 'float(Tensor)' as soon as possible, otherwise 'Tensor.numpy()[0]' will raise error in release 2.6.\n",
            "I0808 19:34:51.330583 24241 eager_method.cc:140] Warning:: 0D Tensor cannot be used as 'Tensor.numpy()[0]' . In order to avoid this problem, 0D Tensor will be changed to 1D numpy currently, but it's not correct and will be removed in release 2.6. For Tensor contain only one element, Please modify  'Tensor.numpy()[0]' to 'float(Tensor)' as soon as possible, otherwise 'Tensor.numpy()[0]' will raise error in release 2.6.\n",
            "I0808 19:34:51.515933 24241 eager_method.cc:140] Warning:: 0D Tensor cannot be used as 'Tensor.numpy()[0]' . In order to avoid this problem, 0D Tensor will be changed to 1D numpy currently, but it's not correct and will be removed in release 2.6. For Tensor contain only one element, Please modify  'Tensor.numpy()[0]' to 'float(Tensor)' as soon as possible, otherwise 'Tensor.numpy()[0]' will raise error in release 2.6.\n",
            "I0808 19:34:51.516054 24241 eager_method.cc:140] Warning:: 0D Tensor cannot be used as 'Tensor.numpy()[0]' . In order to avoid this problem, 0D Tensor will be changed to 1D numpy currently, but it's not correct and will be removed in release 2.6. For Tensor contain only one element, Please modify  'Tensor.numpy()[0]' to 'float(Tensor)' as soon as possible, otherwise 'Tensor.numpy()[0]' will raise error in release 2.6.\n",
            "I0808 19:34:51.704291 24241 eager_method.cc:140] Warning:: 0D Tensor cannot be used as 'Tensor.numpy()[0]' . In order to avoid this problem, 0D Tensor will be changed to 1D numpy currently, but it's not correct and will be removed in release 2.6. For Tensor contain only one element, Please modify  'Tensor.numpy()[0]' to 'float(Tensor)' as soon as possible, otherwise 'Tensor.numpy()[0]' will raise error in release 2.6.\n",
            "I0808 19:34:51.704411 24241 eager_method.cc:140] Warning:: 0D Tensor cannot be used as 'Tensor.numpy()[0]' . In order to avoid this problem, 0D Tensor will be changed to 1D numpy currently, but it's not correct and will be removed in release 2.6. For Tensor contain only one element, Please modify  'Tensor.numpy()[0]' to 'float(Tensor)' as soon as possible, otherwise 'Tensor.numpy()[0]' will raise error in release 2.6.\n",
            "I0808 19:34:51.881834 24241 eager_method.cc:140] Warning:: 0D Tensor cannot be used as 'Tensor.numpy()[0]' . In order to avoid this problem, 0D Tensor will be changed to 1D numpy currently, but it's not correct and will be removed in release 2.6. For Tensor contain only one element, Please modify  'Tensor.numpy()[0]' to 'float(Tensor)' as soon as possible, otherwise 'Tensor.numpy()[0]' will raise error in release 2.6.\n",
            "I0808 19:34:51.881981 24241 eager_method.cc:140] Warning:: 0D Tensor cannot be used as 'Tensor.numpy()[0]' . In order to avoid this problem, 0D Tensor will be changed to 1D numpy currently, but it's not correct and will be removed in release 2.6. For Tensor contain only one element, Please modify  'Tensor.numpy()[0]' to 'float(Tensor)' as soon as possible, otherwise 'Tensor.numpy()[0]' will raise error in release 2.6.\n",
            "I0808 19:34:52.058815 24241 eager_method.cc:140] Warning:: 0D Tensor cannot be used as 'Tensor.numpy()[0]' . In order to avoid this problem, 0D Tensor will be changed to 1D numpy currently, but it's not correct and will be removed in release 2.6. For Tensor contain only one element, Please modify  'Tensor.numpy()[0]' to 'float(Tensor)' as soon as possible, otherwise 'Tensor.numpy()[0]' will raise error in release 2.6.\n",
            "I0808 19:34:52.058971 24241 eager_method.cc:140] Warning:: 0D Tensor cannot be used as 'Tensor.numpy()[0]' . In order to avoid this problem, 0D Tensor will be changed to 1D numpy currently, but it's not correct and will be removed in release 2.6. For Tensor contain only one element, Please modify  'Tensor.numpy()[0]' to 'float(Tensor)' as soon as possible, otherwise 'Tensor.numpy()[0]' will raise error in release 2.6.\n",
            "I0808 19:34:52.241533 24241 eager_method.cc:140] Warning:: 0D Tensor cannot be used as 'Tensor.numpy()[0]' . In order to avoid this problem, 0D Tensor will be changed to 1D numpy currently, but it's not correct and will be removed in release 2.6. For Tensor contain only one element, Please modify  'Tensor.numpy()[0]' to 'float(Tensor)' as soon as possible, otherwise 'Tensor.numpy()[0]' will raise error in release 2.6.\n",
            "I0808 19:34:52.241669 24241 eager_method.cc:140] Warning:: 0D Tensor cannot be used as 'Tensor.numpy()[0]' . In order to avoid this problem, 0D Tensor will be changed to 1D numpy currently, but it's not correct and will be removed in release 2.6. For Tensor contain only one element, Please modify  'Tensor.numpy()[0]' to 'float(Tensor)' as soon as possible, otherwise 'Tensor.numpy()[0]' will raise error in release 2.6.\n",
            "I0808 19:34:52.425981 24241 eager_method.cc:140] Warning:: 0D Tensor cannot be used as 'Tensor.numpy()[0]' . In order to avoid this problem, 0D Tensor will be changed to 1D numpy currently, but it's not correct and will be removed in release 2.6. For Tensor contain only one element, Please modify  'Tensor.numpy()[0]' to 'float(Tensor)' as soon as possible, otherwise 'Tensor.numpy()[0]' will raise error in release 2.6.\n",
            "I0808 19:34:52.426112 24241 eager_method.cc:140] Warning:: 0D Tensor cannot be used as 'Tensor.numpy()[0]' . In order to avoid this problem, 0D Tensor will be changed to 1D numpy currently, but it's not correct and will be removed in release 2.6. For Tensor contain only one element, Please modify  'Tensor.numpy()[0]' to 'float(Tensor)' as soon as possible, otherwise 'Tensor.numpy()[0]' will raise error in release 2.6.\n",
            "I0808 19:34:52.600160 24241 eager_method.cc:140] Warning:: 0D Tensor cannot be used as 'Tensor.numpy()[0]' . In order to avoid this problem, 0D Tensor will be changed to 1D numpy currently, but it's not correct and will be removed in release 2.6. For Tensor contain only one element, Please modify  'Tensor.numpy()[0]' to 'float(Tensor)' as soon as possible, otherwise 'Tensor.numpy()[0]' will raise error in release 2.6.\n",
            "I0808 19:34:52.600289 24241 eager_method.cc:140] Warning:: 0D Tensor cannot be used as 'Tensor.numpy()[0]' . In order to avoid this problem, 0D Tensor will be changed to 1D numpy currently, but it's not correct and will be removed in release 2.6. For Tensor contain only one element, Please modify  'Tensor.numpy()[0]' to 'float(Tensor)' as soon as possible, otherwise 'Tensor.numpy()[0]' will raise error in release 2.6.\n",
            "I0808 19:34:52.778589 24241 eager_method.cc:140] Warning:: 0D Tensor cannot be used as 'Tensor.numpy()[0]' . In order to avoid this problem, 0D Tensor will be changed to 1D numpy currently, but it's not correct and will be removed in release 2.6. For Tensor contain only one element, Please modify  'Tensor.numpy()[0]' to 'float(Tensor)' as soon as possible, otherwise 'Tensor.numpy()[0]' will raise error in release 2.6.\n",
            "I0808 19:34:52.778707 24241 eager_method.cc:140] Warning:: 0D Tensor cannot be used as 'Tensor.numpy()[0]' . In order to avoid this problem, 0D Tensor will be changed to 1D numpy currently, but it's not correct and will be removed in release 2.6. For Tensor contain only one element, Please modify  'Tensor.numpy()[0]' to 'float(Tensor)' as soon as possible, otherwise 'Tensor.numpy()[0]' will raise error in release 2.6.\n",
            "2023-08-08 19:34:52 [INFO]\t[TRAIN] epoch: 0, iter: 30/20, loss: 0.7981, DSC: 28.4791, lr: 0.009981, batch_cost: 0.1910, reader_cost: 0.00039, ips: 10.4699 samples/sec | ETA 00:00:00\n",
            "2023-08-08 19:34:52 [INFO]\tStart evaluating (total_samples: 1, total_iters: 1)...\n",
            "I0808 19:34:57.111835 24241 eager_method.cc:140] Warning:: 0D Tensor cannot be used as 'Tensor.numpy()[0]' . In order to avoid this problem, 0D Tensor will be changed to 1D numpy currently, but it's not correct and will be removed in release 2.6. For Tensor contain only one element, Please modify  'Tensor.numpy()[0]' to 'float(Tensor)' as soon as possible, otherwise 'Tensor.numpy()[0]' will raise error in release 2.6.\n",
            "1/1 [==============================] - 4s 4s/step - batch_cost: 4.3276 - reader cost: 1.4482\n",
            "2023-08-08 19:34:57 [INFO]\t[EVAL] #Images: 1, Dice: 0.2694, Loss: 0.801481\n",
            "2023-08-08 19:34:57 [INFO]\t[EVAL] Class dice: \n",
            "[0.994  0.0076 0.0556 0.0203]\n",
            "2023-08-08 19:35:07 [INFO]\t[EVAL] The model with the best validation mDice (0.2694) was saved at iter 30.\n",
            "I0808 19:35:07.703078 24241 eager_method.cc:140] Warning:: 0D Tensor cannot be used as 'Tensor.numpy()[0]' . In order to avoid this problem, 0D Tensor will be changed to 1D numpy currently, but it's not correct and will be removed in release 2.6. For Tensor contain only one element, Please modify  'Tensor.numpy()[0]' to 'float(Tensor)' as soon as possible, otherwise 'Tensor.numpy()[0]' will raise error in release 2.6.\n",
            "I0808 19:35:07.703177 24241 eager_method.cc:140] Warning:: 0D Tensor cannot be used as 'Tensor.numpy()[0]' . In order to avoid this problem, 0D Tensor will be changed to 1D numpy currently, but it's not correct and will be removed in release 2.6. For Tensor contain only one element, Please modify  'Tensor.numpy()[0]' to 'float(Tensor)' as soon as possible, otherwise 'Tensor.numpy()[0]' will raise error in release 2.6.\n",
            "I0808 19:35:07.951092 24241 eager_method.cc:140] Warning:: 0D Tensor cannot be used as 'Tensor.numpy()[0]' . In order to avoid this problem, 0D Tensor will be changed to 1D numpy currently, but it's not correct and will be removed in release 2.6. For Tensor contain only one element, Please modify  'Tensor.numpy()[0]' to 'float(Tensor)' as soon as possible, otherwise 'Tensor.numpy()[0]' will raise error in release 2.6.\n",
            "I0808 19:35:07.951251 24241 eager_method.cc:140] Warning:: 0D Tensor cannot be used as 'Tensor.numpy()[0]' . In order to avoid this problem, 0D Tensor will be changed to 1D numpy currently, but it's not correct and will be removed in release 2.6. For Tensor contain only one element, Please modify  'Tensor.numpy()[0]' to 'float(Tensor)' as soon as possible, otherwise 'Tensor.numpy()[0]' will raise error in release 2.6.\n",
            "I0808 19:35:08.196846 24241 eager_method.cc:140] Warning:: 0D Tensor cannot be used as 'Tensor.numpy()[0]' . In order to avoid this problem, 0D Tensor will be changed to 1D numpy currently, but it's not correct and will be removed in release 2.6. For Tensor contain only one element, Please modify  'Tensor.numpy()[0]' to 'float(Tensor)' as soon as possible, otherwise 'Tensor.numpy()[0]' will raise error in release 2.6.\n",
            "I0808 19:35:08.196954 24241 eager_method.cc:140] Warning:: 0D Tensor cannot be used as 'Tensor.numpy()[0]' . In order to avoid this problem, 0D Tensor will be changed to 1D numpy currently, but it's not correct and will be removed in release 2.6. For Tensor contain only one element, Please modify  'Tensor.numpy()[0]' to 'float(Tensor)' as soon as possible, otherwise 'Tensor.numpy()[0]' will raise error in release 2.6.\n",
            "I0808 19:35:08.429288 24241 eager_method.cc:140] Warning:: 0D Tensor cannot be used as 'Tensor.numpy()[0]' . In order to avoid this problem, 0D Tensor will be changed to 1D numpy currently, but it's not correct and will be removed in release 2.6. For Tensor contain only one element, Please modify  'Tensor.numpy()[0]' to 'float(Tensor)' as soon as possible, otherwise 'Tensor.numpy()[0]' will raise error in release 2.6.\n",
            "I0808 19:35:08.429481 24241 eager_method.cc:140] Warning:: 0D Tensor cannot be used as 'Tensor.numpy()[0]' . In order to avoid this problem, 0D Tensor will be changed to 1D numpy currently, but it's not correct and will be removed in release 2.6. For Tensor contain only one element, Please modify  'Tensor.numpy()[0]' to 'float(Tensor)' as soon as possible, otherwise 'Tensor.numpy()[0]' will raise error in release 2.6.\n",
            "I0808 19:35:08.679286 24241 eager_method.cc:140] Warning:: 0D Tensor cannot be used as 'Tensor.numpy()[0]' . In order to avoid this problem, 0D Tensor will be changed to 1D numpy currently, but it's not correct and will be removed in release 2.6. For Tensor contain only one element, Please modify  'Tensor.numpy()[0]' to 'float(Tensor)' as soon as possible, otherwise 'Tensor.numpy()[0]' will raise error in release 2.6.\n",
            "I0808 19:35:08.679401 24241 eager_method.cc:140] Warning:: 0D Tensor cannot be used as 'Tensor.numpy()[0]' . In order to avoid this problem, 0D Tensor will be changed to 1D numpy currently, but it's not correct and will be removed in release 2.6. For Tensor contain only one element, Please modify  'Tensor.numpy()[0]' to 'float(Tensor)' as soon as possible, otherwise 'Tensor.numpy()[0]' will raise error in release 2.6.\n",
            "I0808 19:35:08.889006 24241 eager_method.cc:140] Warning:: 0D Tensor cannot be used as 'Tensor.numpy()[0]' . In order to avoid this problem, 0D Tensor will be changed to 1D numpy currently, but it's not correct and will be removed in release 2.6. For Tensor contain only one element, Please modify  'Tensor.numpy()[0]' to 'float(Tensor)' as soon as possible, otherwise 'Tensor.numpy()[0]' will raise error in release 2.6.\n",
            "I0808 19:35:08.889281 24241 eager_method.cc:140] Warning:: 0D Tensor cannot be used as 'Tensor.numpy()[0]' . In order to avoid this problem, 0D Tensor will be changed to 1D numpy currently, but it's not correct and will be removed in release 2.6. For Tensor contain only one element, Please modify  'Tensor.numpy()[0]' to 'float(Tensor)' as soon as possible, otherwise 'Tensor.numpy()[0]' will raise error in release 2.6.\n",
            "I0808 19:35:09.127059 24241 eager_method.cc:140] Warning:: 0D Tensor cannot be used as 'Tensor.numpy()[0]' . In order to avoid this problem, 0D Tensor will be changed to 1D numpy currently, but it's not correct and will be removed in release 2.6. For Tensor contain only one element, Please modify  'Tensor.numpy()[0]' to 'float(Tensor)' as soon as possible, otherwise 'Tensor.numpy()[0]' will raise error in release 2.6.\n",
            "I0808 19:35:09.127158 24241 eager_method.cc:140] Warning:: 0D Tensor cannot be used as 'Tensor.numpy()[0]' . In order to avoid this problem, 0D Tensor will be changed to 1D numpy currently, but it's not correct and will be removed in release 2.6. For Tensor contain only one element, Please modify  'Tensor.numpy()[0]' to 'float(Tensor)' as soon as possible, otherwise 'Tensor.numpy()[0]' will raise error in release 2.6.\n",
            "I0808 19:35:09.373579 24241 eager_method.cc:140] Warning:: 0D Tensor cannot be used as 'Tensor.numpy()[0]' . In order to avoid this problem, 0D Tensor will be changed to 1D numpy currently, but it's not correct and will be removed in release 2.6. For Tensor contain only one element, Please modify  'Tensor.numpy()[0]' to 'float(Tensor)' as soon as possible, otherwise 'Tensor.numpy()[0]' will raise error in release 2.6.\n",
            "I0808 19:35:09.373783 24241 eager_method.cc:140] Warning:: 0D Tensor cannot be used as 'Tensor.numpy()[0]' . In order to avoid this problem, 0D Tensor will be changed to 1D numpy currently, but it's not correct and will be removed in release 2.6. For Tensor contain only one element, Please modify  'Tensor.numpy()[0]' to 'float(Tensor)' as soon as possible, otherwise 'Tensor.numpy()[0]' will raise error in release 2.6.\n",
            "I0808 19:35:09.616257 24241 eager_method.cc:140] Warning:: 0D Tensor cannot be used as 'Tensor.numpy()[0]' . In order to avoid this problem, 0D Tensor will be changed to 1D numpy currently, but it's not correct and will be removed in release 2.6. For Tensor contain only one element, Please modify  'Tensor.numpy()[0]' to 'float(Tensor)' as soon as possible, otherwise 'Tensor.numpy()[0]' will raise error in release 2.6.\n",
            "I0808 19:35:09.616380 24241 eager_method.cc:140] Warning:: 0D Tensor cannot be used as 'Tensor.numpy()[0]' . In order to avoid this problem, 0D Tensor will be changed to 1D numpy currently, but it's not correct and will be removed in release 2.6. For Tensor contain only one element, Please modify  'Tensor.numpy()[0]' to 'float(Tensor)' as soon as possible, otherwise 'Tensor.numpy()[0]' will raise error in release 2.6.\n",
            "I0808 19:35:09.835085 24241 eager_method.cc:140] Warning:: 0D Tensor cannot be used as 'Tensor.numpy()[0]' . In order to avoid this problem, 0D Tensor will be changed to 1D numpy currently, but it's not correct and will be removed in release 2.6. For Tensor contain only one element, Please modify  'Tensor.numpy()[0]' to 'float(Tensor)' as soon as possible, otherwise 'Tensor.numpy()[0]' will raise error in release 2.6.\n",
            "I0808 19:35:09.835198 24241 eager_method.cc:140] Warning:: 0D Tensor cannot be used as 'Tensor.numpy()[0]' . In order to avoid this problem, 0D Tensor will be changed to 1D numpy currently, but it's not correct and will be removed in release 2.6. For Tensor contain only one element, Please modify  'Tensor.numpy()[0]' to 'float(Tensor)' as soon as possible, otherwise 'Tensor.numpy()[0]' will raise error in release 2.6.\n",
            "2023-08-08 19:35:09 [INFO]\t[TRAIN] epoch: 0, iter: 40/20, loss: 0.7845, DSC: 27.8829, lr: 0.009975, batch_cost: 0.2380, reader_cost: 0.00062, ips: 8.4048 samples/sec | ETA 00:00:00\n",
            "2023-08-08 19:35:09 [INFO]\tStart evaluating (total_samples: 1, total_iters: 1)...\n",
            "I0808 19:35:16.262985 24241 eager_method.cc:140] Warning:: 0D Tensor cannot be used as 'Tensor.numpy()[0]' . In order to avoid this problem, 0D Tensor will be changed to 1D numpy currently, but it's not correct and will be removed in release 2.6. For Tensor contain only one element, Please modify  'Tensor.numpy()[0]' to 'float(Tensor)' as soon as possible, otherwise 'Tensor.numpy()[0]' will raise error in release 2.6.\n",
            "1/1 [==============================] - 6s 6s/step - batch_cost: 6.4136 - reader cost: 3.4749\n",
            "2023-08-08 19:35:16 [INFO]\t[EVAL] #Images: 1, Dice: 0.2759, Loss: 0.797331\n",
            "2023-08-08 19:35:16 [INFO]\t[EVAL] Class dice: \n",
            "[0.9942 0.0213 0.0552 0.033 ]\n",
            "2023-08-08 19:35:27 [INFO]\t[EVAL] The model with the best validation mDice (0.2759) was saved at iter 40.\n",
            "I0808 19:35:27.609251 24241 eager_method.cc:140] Warning:: 0D Tensor cannot be used as 'Tensor.numpy()[0]' . In order to avoid this problem, 0D Tensor will be changed to 1D numpy currently, but it's not correct and will be removed in release 2.6. For Tensor contain only one element, Please modify  'Tensor.numpy()[0]' to 'float(Tensor)' as soon as possible, otherwise 'Tensor.numpy()[0]' will raise error in release 2.6.\n",
            "I0808 19:35:27.609516 24241 eager_method.cc:140] Warning:: 0D Tensor cannot be used as 'Tensor.numpy()[0]' . In order to avoid this problem, 0D Tensor will be changed to 1D numpy currently, but it's not correct and will be removed in release 2.6. For Tensor contain only one element, Please modify  'Tensor.numpy()[0]' to 'float(Tensor)' as soon as possible, otherwise 'Tensor.numpy()[0]' will raise error in release 2.6.\n",
            "I0808 19:35:27.851657 24241 eager_method.cc:140] Warning:: 0D Tensor cannot be used as 'Tensor.numpy()[0]' . In order to avoid this problem, 0D Tensor will be changed to 1D numpy currently, but it's not correct and will be removed in release 2.6. For Tensor contain only one element, Please modify  'Tensor.numpy()[0]' to 'float(Tensor)' as soon as possible, otherwise 'Tensor.numpy()[0]' will raise error in release 2.6.\n",
            "I0808 19:35:27.853096 24241 eager_method.cc:140] Warning:: 0D Tensor cannot be used as 'Tensor.numpy()[0]' . In order to avoid this problem, 0D Tensor will be changed to 1D numpy currently, but it's not correct and will be removed in release 2.6. For Tensor contain only one element, Please modify  'Tensor.numpy()[0]' to 'float(Tensor)' as soon as possible, otherwise 'Tensor.numpy()[0]' will raise error in release 2.6.\n",
            "I0808 19:35:28.119284 24241 eager_method.cc:140] Warning:: 0D Tensor cannot be used as 'Tensor.numpy()[0]' . In order to avoid this problem, 0D Tensor will be changed to 1D numpy currently, but it's not correct and will be removed in release 2.6. For Tensor contain only one element, Please modify  'Tensor.numpy()[0]' to 'float(Tensor)' as soon as possible, otherwise 'Tensor.numpy()[0]' will raise error in release 2.6.\n",
            "I0808 19:35:28.119411 24241 eager_method.cc:140] Warning:: 0D Tensor cannot be used as 'Tensor.numpy()[0]' . In order to avoid this problem, 0D Tensor will be changed to 1D numpy currently, but it's not correct and will be removed in release 2.6. For Tensor contain only one element, Please modify  'Tensor.numpy()[0]' to 'float(Tensor)' as soon as possible, otherwise 'Tensor.numpy()[0]' will raise error in release 2.6.\n",
            "I0808 19:35:28.344610 24241 eager_method.cc:140] Warning:: 0D Tensor cannot be used as 'Tensor.numpy()[0]' . In order to avoid this problem, 0D Tensor will be changed to 1D numpy currently, but it's not correct and will be removed in release 2.6. For Tensor contain only one element, Please modify  'Tensor.numpy()[0]' to 'float(Tensor)' as soon as possible, otherwise 'Tensor.numpy()[0]' will raise error in release 2.6.\n",
            "I0808 19:35:28.344743 24241 eager_method.cc:140] Warning:: 0D Tensor cannot be used as 'Tensor.numpy()[0]' . In order to avoid this problem, 0D Tensor will be changed to 1D numpy currently, but it's not correct and will be removed in release 2.6. For Tensor contain only one element, Please modify  'Tensor.numpy()[0]' to 'float(Tensor)' as soon as possible, otherwise 'Tensor.numpy()[0]' will raise error in release 2.6.\n",
            "I0808 19:35:28.576396 24241 eager_method.cc:140] Warning:: 0D Tensor cannot be used as 'Tensor.numpy()[0]' . In order to avoid this problem, 0D Tensor will be changed to 1D numpy currently, but it's not correct and will be removed in release 2.6. For Tensor contain only one element, Please modify  'Tensor.numpy()[0]' to 'float(Tensor)' as soon as possible, otherwise 'Tensor.numpy()[0]' will raise error in release 2.6.\n",
            "I0808 19:35:28.576551 24241 eager_method.cc:140] Warning:: 0D Tensor cannot be used as 'Tensor.numpy()[0]' . In order to avoid this problem, 0D Tensor will be changed to 1D numpy currently, but it's not correct and will be removed in release 2.6. For Tensor contain only one element, Please modify  'Tensor.numpy()[0]' to 'float(Tensor)' as soon as possible, otherwise 'Tensor.numpy()[0]' will raise error in release 2.6.\n",
            "I0808 19:35:28.813331 24241 eager_method.cc:140] Warning:: 0D Tensor cannot be used as 'Tensor.numpy()[0]' . In order to avoid this problem, 0D Tensor will be changed to 1D numpy currently, but it's not correct and will be removed in release 2.6. For Tensor contain only one element, Please modify  'Tensor.numpy()[0]' to 'float(Tensor)' as soon as possible, otherwise 'Tensor.numpy()[0]' will raise error in release 2.6.\n",
            "I0808 19:35:28.813424 24241 eager_method.cc:140] Warning:: 0D Tensor cannot be used as 'Tensor.numpy()[0]' . In order to avoid this problem, 0D Tensor will be changed to 1D numpy currently, but it's not correct and will be removed in release 2.6. For Tensor contain only one element, Please modify  'Tensor.numpy()[0]' to 'float(Tensor)' as soon as possible, otherwise 'Tensor.numpy()[0]' will raise error in release 2.6.\n",
            "I0808 19:35:29.042668 24241 eager_method.cc:140] Warning:: 0D Tensor cannot be used as 'Tensor.numpy()[0]' . In order to avoid this problem, 0D Tensor will be changed to 1D numpy currently, but it's not correct and will be removed in release 2.6. For Tensor contain only one element, Please modify  'Tensor.numpy()[0]' to 'float(Tensor)' as soon as possible, otherwise 'Tensor.numpy()[0]' will raise error in release 2.6.\n",
            "I0808 19:35:29.042999 24241 eager_method.cc:140] Warning:: 0D Tensor cannot be used as 'Tensor.numpy()[0]' . In order to avoid this problem, 0D Tensor will be changed to 1D numpy currently, but it's not correct and will be removed in release 2.6. For Tensor contain only one element, Please modify  'Tensor.numpy()[0]' to 'float(Tensor)' as soon as possible, otherwise 'Tensor.numpy()[0]' will raise error in release 2.6.\n",
            "I0808 19:35:29.259019 24241 eager_method.cc:140] Warning:: 0D Tensor cannot be used as 'Tensor.numpy()[0]' . In order to avoid this problem, 0D Tensor will be changed to 1D numpy currently, but it's not correct and will be removed in release 2.6. For Tensor contain only one element, Please modify  'Tensor.numpy()[0]' to 'float(Tensor)' as soon as possible, otherwise 'Tensor.numpy()[0]' will raise error in release 2.6.\n",
            "I0808 19:35:29.259147 24241 eager_method.cc:140] Warning:: 0D Tensor cannot be used as 'Tensor.numpy()[0]' . In order to avoid this problem, 0D Tensor will be changed to 1D numpy currently, but it's not correct and will be removed in release 2.6. For Tensor contain only one element, Please modify  'Tensor.numpy()[0]' to 'float(Tensor)' as soon as possible, otherwise 'Tensor.numpy()[0]' will raise error in release 2.6.\n",
            "I0808 19:35:29.476181 24241 eager_method.cc:140] Warning:: 0D Tensor cannot be used as 'Tensor.numpy()[0]' . In order to avoid this problem, 0D Tensor will be changed to 1D numpy currently, but it's not correct and will be removed in release 2.6. For Tensor contain only one element, Please modify  'Tensor.numpy()[0]' to 'float(Tensor)' as soon as possible, otherwise 'Tensor.numpy()[0]' will raise error in release 2.6.\n",
            "I0808 19:35:29.476325 24241 eager_method.cc:140] Warning:: 0D Tensor cannot be used as 'Tensor.numpy()[0]' . In order to avoid this problem, 0D Tensor will be changed to 1D numpy currently, but it's not correct and will be removed in release 2.6. For Tensor contain only one element, Please modify  'Tensor.numpy()[0]' to 'float(Tensor)' as soon as possible, otherwise 'Tensor.numpy()[0]' will raise error in release 2.6.\n",
            "I0808 19:35:29.678395 24241 eager_method.cc:140] Warning:: 0D Tensor cannot be used as 'Tensor.numpy()[0]' . In order to avoid this problem, 0D Tensor will be changed to 1D numpy currently, but it's not correct and will be removed in release 2.6. For Tensor contain only one element, Please modify  'Tensor.numpy()[0]' to 'float(Tensor)' as soon as possible, otherwise 'Tensor.numpy()[0]' will raise error in release 2.6.\n",
            "I0808 19:35:29.678638 24241 eager_method.cc:140] Warning:: 0D Tensor cannot be used as 'Tensor.numpy()[0]' . In order to avoid this problem, 0D Tensor will be changed to 1D numpy currently, but it's not correct and will be removed in release 2.6. For Tensor contain only one element, Please modify  'Tensor.numpy()[0]' to 'float(Tensor)' as soon as possible, otherwise 'Tensor.numpy()[0]' will raise error in release 2.6.\n",
            "2023-08-08 19:35:29 [INFO]\t[TRAIN] epoch: 0, iter: 50/20, loss: 0.7764, DSC: 27.6476, lr: 0.009968, batch_cost: 0.2355, reader_cost: 0.00068, ips: 8.4910 samples/sec | ETA 00:00:00\n",
            "2023-08-08 19:35:29 [INFO]\tStart evaluating (total_samples: 1, total_iters: 1)...\n",
            "I0808 19:35:34.813817 24241 eager_method.cc:140] Warning:: 0D Tensor cannot be used as 'Tensor.numpy()[0]' . In order to avoid this problem, 0D Tensor will be changed to 1D numpy currently, but it's not correct and will be removed in release 2.6. For Tensor contain only one element, Please modify  'Tensor.numpy()[0]' to 'float(Tensor)' as soon as possible, otherwise 'Tensor.numpy()[0]' will raise error in release 2.6.\n",
            "1/1 [==============================] - 5s 5s/step - batch_cost: 5.1260 - reader cost: 2.1632\n",
            "2023-08-08 19:35:34 [INFO]\t[EVAL] #Images: 1, Dice: 0.3079, Loss: 0.732888\n",
            "2023-08-08 19:35:34 [INFO]\t[EVAL] Class dice: \n",
            "[0.9947 0.0477 0.1291 0.0601]\n",
            "2023-08-08 19:35:44 [INFO]\t[EVAL] The model with the best validation mDice (0.3079) was saved at iter 50.\n",
            "I0808 19:35:44.912688 24241 eager_method.cc:140] Warning:: 0D Tensor cannot be used as 'Tensor.numpy()[0]' . In order to avoid this problem, 0D Tensor will be changed to 1D numpy currently, but it's not correct and will be removed in release 2.6. For Tensor contain only one element, Please modify  'Tensor.numpy()[0]' to 'float(Tensor)' as soon as possible, otherwise 'Tensor.numpy()[0]' will raise error in release 2.6.\n",
            "I0808 19:35:44.912827 24241 eager_method.cc:140] Warning:: 0D Tensor cannot be used as 'Tensor.numpy()[0]' . In order to avoid this problem, 0D Tensor will be changed to 1D numpy currently, but it's not correct and will be removed in release 2.6. For Tensor contain only one element, Please modify  'Tensor.numpy()[0]' to 'float(Tensor)' as soon as possible, otherwise 'Tensor.numpy()[0]' will raise error in release 2.6.\n",
            "I0808 19:35:45.107833 24241 eager_method.cc:140] Warning:: 0D Tensor cannot be used as 'Tensor.numpy()[0]' . In order to avoid this problem, 0D Tensor will be changed to 1D numpy currently, but it's not correct and will be removed in release 2.6. For Tensor contain only one element, Please modify  'Tensor.numpy()[0]' to 'float(Tensor)' as soon as possible, otherwise 'Tensor.numpy()[0]' will raise error in release 2.6.\n",
            "I0808 19:35:45.108036 24241 eager_method.cc:140] Warning:: 0D Tensor cannot be used as 'Tensor.numpy()[0]' . In order to avoid this problem, 0D Tensor will be changed to 1D numpy currently, but it's not correct and will be removed in release 2.6. For Tensor contain only one element, Please modify  'Tensor.numpy()[0]' to 'float(Tensor)' as soon as possible, otherwise 'Tensor.numpy()[0]' will raise error in release 2.6.\n",
            "I0808 19:35:45.324079 24241 eager_method.cc:140] Warning:: 0D Tensor cannot be used as 'Tensor.numpy()[0]' . In order to avoid this problem, 0D Tensor will be changed to 1D numpy currently, but it's not correct and will be removed in release 2.6. For Tensor contain only one element, Please modify  'Tensor.numpy()[0]' to 'float(Tensor)' as soon as possible, otherwise 'Tensor.numpy()[0]' will raise error in release 2.6.\n",
            "I0808 19:35:45.324263 24241 eager_method.cc:140] Warning:: 0D Tensor cannot be used as 'Tensor.numpy()[0]' . In order to avoid this problem, 0D Tensor will be changed to 1D numpy currently, but it's not correct and will be removed in release 2.6. For Tensor contain only one element, Please modify  'Tensor.numpy()[0]' to 'float(Tensor)' as soon as possible, otherwise 'Tensor.numpy()[0]' will raise error in release 2.6.\n",
            "I0808 19:35:45.544968 24241 eager_method.cc:140] Warning:: 0D Tensor cannot be used as 'Tensor.numpy()[0]' . In order to avoid this problem, 0D Tensor will be changed to 1D numpy currently, but it's not correct and will be removed in release 2.6. For Tensor contain only one element, Please modify  'Tensor.numpy()[0]' to 'float(Tensor)' as soon as possible, otherwise 'Tensor.numpy()[0]' will raise error in release 2.6.\n",
            "I0808 19:35:45.545089 24241 eager_method.cc:140] Warning:: 0D Tensor cannot be used as 'Tensor.numpy()[0]' . In order to avoid this problem, 0D Tensor will be changed to 1D numpy currently, but it's not correct and will be removed in release 2.6. For Tensor contain only one element, Please modify  'Tensor.numpy()[0]' to 'float(Tensor)' as soon as possible, otherwise 'Tensor.numpy()[0]' will raise error in release 2.6.\n",
            "I0808 19:35:45.791350 24241 eager_method.cc:140] Warning:: 0D Tensor cannot be used as 'Tensor.numpy()[0]' . In order to avoid this problem, 0D Tensor will be changed to 1D numpy currently, but it's not correct and will be removed in release 2.6. For Tensor contain only one element, Please modify  'Tensor.numpy()[0]' to 'float(Tensor)' as soon as possible, otherwise 'Tensor.numpy()[0]' will raise error in release 2.6.\n",
            "I0808 19:35:45.791558 24241 eager_method.cc:140] Warning:: 0D Tensor cannot be used as 'Tensor.numpy()[0]' . In order to avoid this problem, 0D Tensor will be changed to 1D numpy currently, but it's not correct and will be removed in release 2.6. For Tensor contain only one element, Please modify  'Tensor.numpy()[0]' to 'float(Tensor)' as soon as possible, otherwise 'Tensor.numpy()[0]' will raise error in release 2.6.\n",
            "I0808 19:35:46.012167 24241 eager_method.cc:140] Warning:: 0D Tensor cannot be used as 'Tensor.numpy()[0]' . In order to avoid this problem, 0D Tensor will be changed to 1D numpy currently, but it's not correct and will be removed in release 2.6. For Tensor contain only one element, Please modify  'Tensor.numpy()[0]' to 'float(Tensor)' as soon as possible, otherwise 'Tensor.numpy()[0]' will raise error in release 2.6.\n",
            "I0808 19:35:46.012318 24241 eager_method.cc:140] Warning:: 0D Tensor cannot be used as 'Tensor.numpy()[0]' . In order to avoid this problem, 0D Tensor will be changed to 1D numpy currently, but it's not correct and will be removed in release 2.6. For Tensor contain only one element, Please modify  'Tensor.numpy()[0]' to 'float(Tensor)' as soon as possible, otherwise 'Tensor.numpy()[0]' will raise error in release 2.6.\n",
            "I0808 19:35:46.227545 24241 eager_method.cc:140] Warning:: 0D Tensor cannot be used as 'Tensor.numpy()[0]' . In order to avoid this problem, 0D Tensor will be changed to 1D numpy currently, but it's not correct and will be removed in release 2.6. For Tensor contain only one element, Please modify  'Tensor.numpy()[0]' to 'float(Tensor)' as soon as possible, otherwise 'Tensor.numpy()[0]' will raise error in release 2.6.\n",
            "I0808 19:35:46.227671 24241 eager_method.cc:140] Warning:: 0D Tensor cannot be used as 'Tensor.numpy()[0]' . In order to avoid this problem, 0D Tensor will be changed to 1D numpy currently, but it's not correct and will be removed in release 2.6. For Tensor contain only one element, Please modify  'Tensor.numpy()[0]' to 'float(Tensor)' as soon as possible, otherwise 'Tensor.numpy()[0]' will raise error in release 2.6.\n",
            "I0808 19:35:46.416793 24241 eager_method.cc:140] Warning:: 0D Tensor cannot be used as 'Tensor.numpy()[0]' . In order to avoid this problem, 0D Tensor will be changed to 1D numpy currently, but it's not correct and will be removed in release 2.6. For Tensor contain only one element, Please modify  'Tensor.numpy()[0]' to 'float(Tensor)' as soon as possible, otherwise 'Tensor.numpy()[0]' will raise error in release 2.6.\n",
            "I0808 19:35:46.416939 24241 eager_method.cc:140] Warning:: 0D Tensor cannot be used as 'Tensor.numpy()[0]' . In order to avoid this problem, 0D Tensor will be changed to 1D numpy currently, but it's not correct and will be removed in release 2.6. For Tensor contain only one element, Please modify  'Tensor.numpy()[0]' to 'float(Tensor)' as soon as possible, otherwise 'Tensor.numpy()[0]' will raise error in release 2.6.\n",
            "I0808 19:35:46.599668 24241 eager_method.cc:140] Warning:: 0D Tensor cannot be used as 'Tensor.numpy()[0]' . In order to avoid this problem, 0D Tensor will be changed to 1D numpy currently, but it's not correct and will be removed in release 2.6. For Tensor contain only one element, Please modify  'Tensor.numpy()[0]' to 'float(Tensor)' as soon as possible, otherwise 'Tensor.numpy()[0]' will raise error in release 2.6.\n",
            "I0808 19:35:46.599790 24241 eager_method.cc:140] Warning:: 0D Tensor cannot be used as 'Tensor.numpy()[0]' . In order to avoid this problem, 0D Tensor will be changed to 1D numpy currently, but it's not correct and will be removed in release 2.6. For Tensor contain only one element, Please modify  'Tensor.numpy()[0]' to 'float(Tensor)' as soon as possible, otherwise 'Tensor.numpy()[0]' will raise error in release 2.6.\n",
            "I0808 19:35:46.862725 24241 eager_method.cc:140] Warning:: 0D Tensor cannot be used as 'Tensor.numpy()[0]' . In order to avoid this problem, 0D Tensor will be changed to 1D numpy currently, but it's not correct and will be removed in release 2.6. For Tensor contain only one element, Please modify  'Tensor.numpy()[0]' to 'float(Tensor)' as soon as possible, otherwise 'Tensor.numpy()[0]' will raise error in release 2.6.\n",
            "I0808 19:35:46.862933 24241 eager_method.cc:140] Warning:: 0D Tensor cannot be used as 'Tensor.numpy()[0]' . In order to avoid this problem, 0D Tensor will be changed to 1D numpy currently, but it's not correct and will be removed in release 2.6. For Tensor contain only one element, Please modify  'Tensor.numpy()[0]' to 'float(Tensor)' as soon as possible, otherwise 'Tensor.numpy()[0]' will raise error in release 2.6.\n",
            "2023-08-08 19:35:46 [INFO]\t[TRAIN] epoch: 0, iter: 60/20, loss: 0.7709, DSC: 29.8062, lr: 0.009962, batch_cost: 0.2248, reader_cost: 0.00104, ips: 8.8967 samples/sec | ETA 00:00:00\n",
            "2023-08-08 19:35:46 [INFO]\tStart evaluating (total_samples: 1, total_iters: 1)...\n",
            "I0808 19:35:51.748543 24241 eager_method.cc:140] Warning:: 0D Tensor cannot be used as 'Tensor.numpy()[0]' . In order to avoid this problem, 0D Tensor will be changed to 1D numpy currently, but it's not correct and will be removed in release 2.6. For Tensor contain only one element, Please modify  'Tensor.numpy()[0]' to 'float(Tensor)' as soon as possible, otherwise 'Tensor.numpy()[0]' will raise error in release 2.6.\n",
            "1/1 [==============================] - 5s 5s/step - batch_cost: 4.8747 - reader cost: 1.9145\n",
            "2023-08-08 19:35:51 [INFO]\t[EVAL] #Images: 1, Dice: 0.2887, Loss: 0.807510\n",
            "2023-08-08 19:35:51 [INFO]\t[EVAL] Class dice: \n",
            "[0.9944 0.0342 0.0703 0.0559]\n",
            "2023-08-08 19:35:58 [INFO]\t[EVAL] The model with the best validation mDice (0.3079) was saved at iter 50.\n",
            "I0808 19:35:59.227311 24241 eager_method.cc:140] Warning:: 0D Tensor cannot be used as 'Tensor.numpy()[0]' . In order to avoid this problem, 0D Tensor will be changed to 1D numpy currently, but it's not correct and will be removed in release 2.6. For Tensor contain only one element, Please modify  'Tensor.numpy()[0]' to 'float(Tensor)' as soon as possible, otherwise 'Tensor.numpy()[0]' will raise error in release 2.6.\n",
            "I0808 19:35:59.227430 24241 eager_method.cc:140] Warning:: 0D Tensor cannot be used as 'Tensor.numpy()[0]' . In order to avoid this problem, 0D Tensor will be changed to 1D numpy currently, but it's not correct and will be removed in release 2.6. For Tensor contain only one element, Please modify  'Tensor.numpy()[0]' to 'float(Tensor)' as soon as possible, otherwise 'Tensor.numpy()[0]' will raise error in release 2.6.\n",
            "I0808 19:35:59.634546 24241 eager_method.cc:140] Warning:: 0D Tensor cannot be used as 'Tensor.numpy()[0]' . In order to avoid this problem, 0D Tensor will be changed to 1D numpy currently, but it's not correct and will be removed in release 2.6. For Tensor contain only one element, Please modify  'Tensor.numpy()[0]' to 'float(Tensor)' as soon as possible, otherwise 'Tensor.numpy()[0]' will raise error in release 2.6.\n",
            "I0808 19:35:59.634644 24241 eager_method.cc:140] Warning:: 0D Tensor cannot be used as 'Tensor.numpy()[0]' . In order to avoid this problem, 0D Tensor will be changed to 1D numpy currently, but it's not correct and will be removed in release 2.6. For Tensor contain only one element, Please modify  'Tensor.numpy()[0]' to 'float(Tensor)' as soon as possible, otherwise 'Tensor.numpy()[0]' will raise error in release 2.6.\n",
            "I0808 19:36:00.020864 24241 eager_method.cc:140] Warning:: 0D Tensor cannot be used as 'Tensor.numpy()[0]' . In order to avoid this problem, 0D Tensor will be changed to 1D numpy currently, but it's not correct and will be removed in release 2.6. For Tensor contain only one element, Please modify  'Tensor.numpy()[0]' to 'float(Tensor)' as soon as possible, otherwise 'Tensor.numpy()[0]' will raise error in release 2.6.\n",
            "I0808 19:36:00.020998 24241 eager_method.cc:140] Warning:: 0D Tensor cannot be used as 'Tensor.numpy()[0]' . In order to avoid this problem, 0D Tensor will be changed to 1D numpy currently, but it's not correct and will be removed in release 2.6. For Tensor contain only one element, Please modify  'Tensor.numpy()[0]' to 'float(Tensor)' as soon as possible, otherwise 'Tensor.numpy()[0]' will raise error in release 2.6.\n",
            "I0808 19:36:00.360855 24241 eager_method.cc:140] Warning:: 0D Tensor cannot be used as 'Tensor.numpy()[0]' . In order to avoid this problem, 0D Tensor will be changed to 1D numpy currently, but it's not correct and will be removed in release 2.6. For Tensor contain only one element, Please modify  'Tensor.numpy()[0]' to 'float(Tensor)' as soon as possible, otherwise 'Tensor.numpy()[0]' will raise error in release 2.6.\n",
            "I0808 19:36:00.360983 24241 eager_method.cc:140] Warning:: 0D Tensor cannot be used as 'Tensor.numpy()[0]' . In order to avoid this problem, 0D Tensor will be changed to 1D numpy currently, but it's not correct and will be removed in release 2.6. For Tensor contain only one element, Please modify  'Tensor.numpy()[0]' to 'float(Tensor)' as soon as possible, otherwise 'Tensor.numpy()[0]' will raise error in release 2.6.\n",
            "I0808 19:36:00.771608 24241 eager_method.cc:140] Warning:: 0D Tensor cannot be used as 'Tensor.numpy()[0]' . In order to avoid this problem, 0D Tensor will be changed to 1D numpy currently, but it's not correct and will be removed in release 2.6. For Tensor contain only one element, Please modify  'Tensor.numpy()[0]' to 'float(Tensor)' as soon as possible, otherwise 'Tensor.numpy()[0]' will raise error in release 2.6.\n",
            "I0808 19:36:00.771719 24241 eager_method.cc:140] Warning:: 0D Tensor cannot be used as 'Tensor.numpy()[0]' . In order to avoid this problem, 0D Tensor will be changed to 1D numpy currently, but it's not correct and will be removed in release 2.6. For Tensor contain only one element, Please modify  'Tensor.numpy()[0]' to 'float(Tensor)' as soon as possible, otherwise 'Tensor.numpy()[0]' will raise error in release 2.6.\n",
            "I0808 19:36:01.121328 24241 eager_method.cc:140] Warning:: 0D Tensor cannot be used as 'Tensor.numpy()[0]' . In order to avoid this problem, 0D Tensor will be changed to 1D numpy currently, but it's not correct and will be removed in release 2.6. For Tensor contain only one element, Please modify  'Tensor.numpy()[0]' to 'float(Tensor)' as soon as possible, otherwise 'Tensor.numpy()[0]' will raise error in release 2.6.\n",
            "I0808 19:36:01.121435 24241 eager_method.cc:140] Warning:: 0D Tensor cannot be used as 'Tensor.numpy()[0]' . In order to avoid this problem, 0D Tensor will be changed to 1D numpy currently, but it's not correct and will be removed in release 2.6. For Tensor contain only one element, Please modify  'Tensor.numpy()[0]' to 'float(Tensor)' as soon as possible, otherwise 'Tensor.numpy()[0]' will raise error in release 2.6.\n",
            "I0808 19:36:01.507372 24241 eager_method.cc:140] Warning:: 0D Tensor cannot be used as 'Tensor.numpy()[0]' . In order to avoid this problem, 0D Tensor will be changed to 1D numpy currently, but it's not correct and will be removed in release 2.6. For Tensor contain only one element, Please modify  'Tensor.numpy()[0]' to 'float(Tensor)' as soon as possible, otherwise 'Tensor.numpy()[0]' will raise error in release 2.6.\n",
            "I0808 19:36:01.507483 24241 eager_method.cc:140] Warning:: 0D Tensor cannot be used as 'Tensor.numpy()[0]' . In order to avoid this problem, 0D Tensor will be changed to 1D numpy currently, but it's not correct and will be removed in release 2.6. For Tensor contain only one element, Please modify  'Tensor.numpy()[0]' to 'float(Tensor)' as soon as possible, otherwise 'Tensor.numpy()[0]' will raise error in release 2.6.\n",
            "I0808 19:36:01.784312 24241 eager_method.cc:140] Warning:: 0D Tensor cannot be used as 'Tensor.numpy()[0]' . In order to avoid this problem, 0D Tensor will be changed to 1D numpy currently, but it's not correct and will be removed in release 2.6. For Tensor contain only one element, Please modify  'Tensor.numpy()[0]' to 'float(Tensor)' as soon as possible, otherwise 'Tensor.numpy()[0]' will raise error in release 2.6.\n",
            "I0808 19:36:01.784502 24241 eager_method.cc:140] Warning:: 0D Tensor cannot be used as 'Tensor.numpy()[0]' . In order to avoid this problem, 0D Tensor will be changed to 1D numpy currently, but it's not correct and will be removed in release 2.6. For Tensor contain only one element, Please modify  'Tensor.numpy()[0]' to 'float(Tensor)' as soon as possible, otherwise 'Tensor.numpy()[0]' will raise error in release 2.6.\n",
            "I0808 19:36:01.990576 24241 eager_method.cc:140] Warning:: 0D Tensor cannot be used as 'Tensor.numpy()[0]' . In order to avoid this problem, 0D Tensor will be changed to 1D numpy currently, but it's not correct and will be removed in release 2.6. For Tensor contain only one element, Please modify  'Tensor.numpy()[0]' to 'float(Tensor)' as soon as possible, otherwise 'Tensor.numpy()[0]' will raise error in release 2.6.\n",
            "I0808 19:36:01.990674 24241 eager_method.cc:140] Warning:: 0D Tensor cannot be used as 'Tensor.numpy()[0]' . In order to avoid this problem, 0D Tensor will be changed to 1D numpy currently, but it's not correct and will be removed in release 2.6. For Tensor contain only one element, Please modify  'Tensor.numpy()[0]' to 'float(Tensor)' as soon as possible, otherwise 'Tensor.numpy()[0]' will raise error in release 2.6.\n",
            "I0808 19:36:02.224258 24241 eager_method.cc:140] Warning:: 0D Tensor cannot be used as 'Tensor.numpy()[0]' . In order to avoid this problem, 0D Tensor will be changed to 1D numpy currently, but it's not correct and will be removed in release 2.6. For Tensor contain only one element, Please modify  'Tensor.numpy()[0]' to 'float(Tensor)' as soon as possible, otherwise 'Tensor.numpy()[0]' will raise error in release 2.6.\n",
            "I0808 19:36:02.224350 24241 eager_method.cc:140] Warning:: 0D Tensor cannot be used as 'Tensor.numpy()[0]' . In order to avoid this problem, 0D Tensor will be changed to 1D numpy currently, but it's not correct and will be removed in release 2.6. For Tensor contain only one element, Please modify  'Tensor.numpy()[0]' to 'float(Tensor)' as soon as possible, otherwise 'Tensor.numpy()[0]' will raise error in release 2.6.\n",
            "2023-08-08 19:36:02 [INFO]\t[TRAIN] epoch: 0, iter: 70/20, loss: 0.7596, DSC: 30.4607, lr: 0.009955, batch_cost: 0.3484, reader_cost: 0.00126, ips: 5.7401 samples/sec | ETA 00:00:00\n",
            "2023-08-08 19:36:02 [INFO]\tStart evaluating (total_samples: 1, total_iters: 1)...\n",
            "I0808 19:36:07.088187 24241 eager_method.cc:140] Warning:: 0D Tensor cannot be used as 'Tensor.numpy()[0]' . In order to avoid this problem, 0D Tensor will be changed to 1D numpy currently, but it's not correct and will be removed in release 2.6. For Tensor contain only one element, Please modify  'Tensor.numpy()[0]' to 'float(Tensor)' as soon as possible, otherwise 'Tensor.numpy()[0]' will raise error in release 2.6.\n",
            "1/1 [==============================] - 5s 5s/step - batch_cost: 4.6227 - reader cost: 1.6412\n",
            "2023-08-08 19:36:07 [INFO]\t[EVAL] #Images: 1, Dice: 0.3099, Loss: 0.745253\n",
            "2023-08-08 19:36:07 [INFO]\t[EVAL] Class dice: \n",
            "[0.9945 0.0525 0.1496 0.0428]\n",
            "2023-08-08 19:36:21 [INFO]\t[EVAL] The model with the best validation mDice (0.3099) was saved at iter 70.\n",
            "I0808 19:36:22.236791 24241 eager_method.cc:140] Warning:: 0D Tensor cannot be used as 'Tensor.numpy()[0]' . In order to avoid this problem, 0D Tensor will be changed to 1D numpy currently, but it's not correct and will be removed in release 2.6. For Tensor contain only one element, Please modify  'Tensor.numpy()[0]' to 'float(Tensor)' as soon as possible, otherwise 'Tensor.numpy()[0]' will raise error in release 2.6.\n",
            "I0808 19:36:22.237232 24241 eager_method.cc:140] Warning:: 0D Tensor cannot be used as 'Tensor.numpy()[0]' . In order to avoid this problem, 0D Tensor will be changed to 1D numpy currently, but it's not correct and will be removed in release 2.6. For Tensor contain only one element, Please modify  'Tensor.numpy()[0]' to 'float(Tensor)' as soon as possible, otherwise 'Tensor.numpy()[0]' will raise error in release 2.6.\n",
            "I0808 19:36:22.584841 24241 eager_method.cc:140] Warning:: 0D Tensor cannot be used as 'Tensor.numpy()[0]' . In order to avoid this problem, 0D Tensor will be changed to 1D numpy currently, but it's not correct and will be removed in release 2.6. For Tensor contain only one element, Please modify  'Tensor.numpy()[0]' to 'float(Tensor)' as soon as possible, otherwise 'Tensor.numpy()[0]' will raise error in release 2.6.\n",
            "I0808 19:36:22.585073 24241 eager_method.cc:140] Warning:: 0D Tensor cannot be used as 'Tensor.numpy()[0]' . In order to avoid this problem, 0D Tensor will be changed to 1D numpy currently, but it's not correct and will be removed in release 2.6. For Tensor contain only one element, Please modify  'Tensor.numpy()[0]' to 'float(Tensor)' as soon as possible, otherwise 'Tensor.numpy()[0]' will raise error in release 2.6.\n",
            "I0808 19:36:22.832405 24241 eager_method.cc:140] Warning:: 0D Tensor cannot be used as 'Tensor.numpy()[0]' . In order to avoid this problem, 0D Tensor will be changed to 1D numpy currently, but it's not correct and will be removed in release 2.6. For Tensor contain only one element, Please modify  'Tensor.numpy()[0]' to 'float(Tensor)' as soon as possible, otherwise 'Tensor.numpy()[0]' will raise error in release 2.6.\n",
            "I0808 19:36:22.832566 24241 eager_method.cc:140] Warning:: 0D Tensor cannot be used as 'Tensor.numpy()[0]' . In order to avoid this problem, 0D Tensor will be changed to 1D numpy currently, but it's not correct and will be removed in release 2.6. For Tensor contain only one element, Please modify  'Tensor.numpy()[0]' to 'float(Tensor)' as soon as possible, otherwise 'Tensor.numpy()[0]' will raise error in release 2.6.\n",
            "I0808 19:36:23.122578 24241 eager_method.cc:140] Warning:: 0D Tensor cannot be used as 'Tensor.numpy()[0]' . In order to avoid this problem, 0D Tensor will be changed to 1D numpy currently, but it's not correct and will be removed in release 2.6. For Tensor contain only one element, Please modify  'Tensor.numpy()[0]' to 'float(Tensor)' as soon as possible, otherwise 'Tensor.numpy()[0]' will raise error in release 2.6.\n",
            "I0808 19:36:23.122690 24241 eager_method.cc:140] Warning:: 0D Tensor cannot be used as 'Tensor.numpy()[0]' . In order to avoid this problem, 0D Tensor will be changed to 1D numpy currently, but it's not correct and will be removed in release 2.6. For Tensor contain only one element, Please modify  'Tensor.numpy()[0]' to 'float(Tensor)' as soon as possible, otherwise 'Tensor.numpy()[0]' will raise error in release 2.6.\n",
            "I0808 19:36:23.433099 24241 eager_method.cc:140] Warning:: 0D Tensor cannot be used as 'Tensor.numpy()[0]' . In order to avoid this problem, 0D Tensor will be changed to 1D numpy currently, but it's not correct and will be removed in release 2.6. For Tensor contain only one element, Please modify  'Tensor.numpy()[0]' to 'float(Tensor)' as soon as possible, otherwise 'Tensor.numpy()[0]' will raise error in release 2.6.\n",
            "I0808 19:36:23.433209 24241 eager_method.cc:140] Warning:: 0D Tensor cannot be used as 'Tensor.numpy()[0]' . In order to avoid this problem, 0D Tensor will be changed to 1D numpy currently, but it's not correct and will be removed in release 2.6. For Tensor contain only one element, Please modify  'Tensor.numpy()[0]' to 'float(Tensor)' as soon as possible, otherwise 'Tensor.numpy()[0]' will raise error in release 2.6.\n",
            "I0808 19:36:23.738168 24241 eager_method.cc:140] Warning:: 0D Tensor cannot be used as 'Tensor.numpy()[0]' . In order to avoid this problem, 0D Tensor will be changed to 1D numpy currently, but it's not correct and will be removed in release 2.6. For Tensor contain only one element, Please modify  'Tensor.numpy()[0]' to 'float(Tensor)' as soon as possible, otherwise 'Tensor.numpy()[0]' will raise error in release 2.6.\n",
            "I0808 19:36:23.738286 24241 eager_method.cc:140] Warning:: 0D Tensor cannot be used as 'Tensor.numpy()[0]' . In order to avoid this problem, 0D Tensor will be changed to 1D numpy currently, but it's not correct and will be removed in release 2.6. For Tensor contain only one element, Please modify  'Tensor.numpy()[0]' to 'float(Tensor)' as soon as possible, otherwise 'Tensor.numpy()[0]' will raise error in release 2.6.\n",
            "I0808 19:36:23.926285 24241 eager_method.cc:140] Warning:: 0D Tensor cannot be used as 'Tensor.numpy()[0]' . In order to avoid this problem, 0D Tensor will be changed to 1D numpy currently, but it's not correct and will be removed in release 2.6. For Tensor contain only one element, Please modify  'Tensor.numpy()[0]' to 'float(Tensor)' as soon as possible, otherwise 'Tensor.numpy()[0]' will raise error in release 2.6.\n",
            "I0808 19:36:23.926421 24241 eager_method.cc:140] Warning:: 0D Tensor cannot be used as 'Tensor.numpy()[0]' . In order to avoid this problem, 0D Tensor will be changed to 1D numpy currently, but it's not correct and will be removed in release 2.6. For Tensor contain only one element, Please modify  'Tensor.numpy()[0]' to 'float(Tensor)' as soon as possible, otherwise 'Tensor.numpy()[0]' will raise error in release 2.6.\n",
            "I0808 19:36:24.107785 24241 eager_method.cc:140] Warning:: 0D Tensor cannot be used as 'Tensor.numpy()[0]' . In order to avoid this problem, 0D Tensor will be changed to 1D numpy currently, but it's not correct and will be removed in release 2.6. For Tensor contain only one element, Please modify  'Tensor.numpy()[0]' to 'float(Tensor)' as soon as possible, otherwise 'Tensor.numpy()[0]' will raise error in release 2.6.\n",
            "I0808 19:36:24.108068 24241 eager_method.cc:140] Warning:: 0D Tensor cannot be used as 'Tensor.numpy()[0]' . In order to avoid this problem, 0D Tensor will be changed to 1D numpy currently, but it's not correct and will be removed in release 2.6. For Tensor contain only one element, Please modify  'Tensor.numpy()[0]' to 'float(Tensor)' as soon as possible, otherwise 'Tensor.numpy()[0]' will raise error in release 2.6.\n",
            "I0808 19:36:24.321763 24241 eager_method.cc:140] Warning:: 0D Tensor cannot be used as 'Tensor.numpy()[0]' . In order to avoid this problem, 0D Tensor will be changed to 1D numpy currently, but it's not correct and will be removed in release 2.6. For Tensor contain only one element, Please modify  'Tensor.numpy()[0]' to 'float(Tensor)' as soon as possible, otherwise 'Tensor.numpy()[0]' will raise error in release 2.6.\n",
            "I0808 19:36:24.321877 24241 eager_method.cc:140] Warning:: 0D Tensor cannot be used as 'Tensor.numpy()[0]' . In order to avoid this problem, 0D Tensor will be changed to 1D numpy currently, but it's not correct and will be removed in release 2.6. For Tensor contain only one element, Please modify  'Tensor.numpy()[0]' to 'float(Tensor)' as soon as possible, otherwise 'Tensor.numpy()[0]' will raise error in release 2.6.\n",
            "I0808 19:36:24.514153 24241 eager_method.cc:140] Warning:: 0D Tensor cannot be used as 'Tensor.numpy()[0]' . In order to avoid this problem, 0D Tensor will be changed to 1D numpy currently, but it's not correct and will be removed in release 2.6. For Tensor contain only one element, Please modify  'Tensor.numpy()[0]' to 'float(Tensor)' as soon as possible, otherwise 'Tensor.numpy()[0]' will raise error in release 2.6.\n",
            "I0808 19:36:24.514274 24241 eager_method.cc:140] Warning:: 0D Tensor cannot be used as 'Tensor.numpy()[0]' . In order to avoid this problem, 0D Tensor will be changed to 1D numpy currently, but it's not correct and will be removed in release 2.6. For Tensor contain only one element, Please modify  'Tensor.numpy()[0]' to 'float(Tensor)' as soon as possible, otherwise 'Tensor.numpy()[0]' will raise error in release 2.6.\n",
            "2023-08-08 19:36:24 [INFO]\t[TRAIN] epoch: 0, iter: 80/20, loss: 0.7543, DSC: 29.6704, lr: 0.009949, batch_cost: 0.2742, reader_cost: 0.00128, ips: 7.2945 samples/sec | ETA 00:00:00\n",
            "2023-08-08 19:36:24 [INFO]\tStart evaluating (total_samples: 1, total_iters: 1)...\n",
            "I0808 19:36:29.783524 24241 eager_method.cc:140] Warning:: 0D Tensor cannot be used as 'Tensor.numpy()[0]' . In order to avoid this problem, 0D Tensor will be changed to 1D numpy currently, but it's not correct and will be removed in release 2.6. For Tensor contain only one element, Please modify  'Tensor.numpy()[0]' to 'float(Tensor)' as soon as possible, otherwise 'Tensor.numpy()[0]' will raise error in release 2.6.\n",
            "1/1 [==============================] - 5s 5s/step - batch_cost: 5.2610 - reader cost: 2.2686\n",
            "2023-08-08 19:36:29 [INFO]\t[EVAL] #Images: 1, Dice: 0.3089, Loss: 0.748058\n",
            "2023-08-08 19:36:29 [INFO]\t[EVAL] Class dice: \n",
            "[0.9945 0.0576 0.1436 0.04  ]\n",
            "2023-08-08 19:36:36 [INFO]\t[EVAL] The model with the best validation mDice (0.3099) was saved at iter 70.\n",
            "I0808 19:36:37.295714 24241 eager_method.cc:140] Warning:: 0D Tensor cannot be used as 'Tensor.numpy()[0]' . In order to avoid this problem, 0D Tensor will be changed to 1D numpy currently, but it's not correct and will be removed in release 2.6. For Tensor contain only one element, Please modify  'Tensor.numpy()[0]' to 'float(Tensor)' as soon as possible, otherwise 'Tensor.numpy()[0]' will raise error in release 2.6.\n",
            "I0808 19:36:37.295802 24241 eager_method.cc:140] Warning:: 0D Tensor cannot be used as 'Tensor.numpy()[0]' . In order to avoid this problem, 0D Tensor will be changed to 1D numpy currently, but it's not correct and will be removed in release 2.6. For Tensor contain only one element, Please modify  'Tensor.numpy()[0]' to 'float(Tensor)' as soon as possible, otherwise 'Tensor.numpy()[0]' will raise error in release 2.6.\n",
            "I0808 19:36:37.585248 24241 eager_method.cc:140] Warning:: 0D Tensor cannot be used as 'Tensor.numpy()[0]' . In order to avoid this problem, 0D Tensor will be changed to 1D numpy currently, but it's not correct and will be removed in release 2.6. For Tensor contain only one element, Please modify  'Tensor.numpy()[0]' to 'float(Tensor)' as soon as possible, otherwise 'Tensor.numpy()[0]' will raise error in release 2.6.\n",
            "I0808 19:36:37.585384 24241 eager_method.cc:140] Warning:: 0D Tensor cannot be used as 'Tensor.numpy()[0]' . In order to avoid this problem, 0D Tensor will be changed to 1D numpy currently, but it's not correct and will be removed in release 2.6. For Tensor contain only one element, Please modify  'Tensor.numpy()[0]' to 'float(Tensor)' as soon as possible, otherwise 'Tensor.numpy()[0]' will raise error in release 2.6.\n",
            "I0808 19:36:37.899473 24241 eager_method.cc:140] Warning:: 0D Tensor cannot be used as 'Tensor.numpy()[0]' . In order to avoid this problem, 0D Tensor will be changed to 1D numpy currently, but it's not correct and will be removed in release 2.6. For Tensor contain only one element, Please modify  'Tensor.numpy()[0]' to 'float(Tensor)' as soon as possible, otherwise 'Tensor.numpy()[0]' will raise error in release 2.6.\n",
            "I0808 19:36:37.899823 24241 eager_method.cc:140] Warning:: 0D Tensor cannot be used as 'Tensor.numpy()[0]' . In order to avoid this problem, 0D Tensor will be changed to 1D numpy currently, but it's not correct and will be removed in release 2.6. For Tensor contain only one element, Please modify  'Tensor.numpy()[0]' to 'float(Tensor)' as soon as possible, otherwise 'Tensor.numpy()[0]' will raise error in release 2.6.\n",
            "I0808 19:36:38.263267 24241 eager_method.cc:140] Warning:: 0D Tensor cannot be used as 'Tensor.numpy()[0]' . In order to avoid this problem, 0D Tensor will be changed to 1D numpy currently, but it's not correct and will be removed in release 2.6. For Tensor contain only one element, Please modify  'Tensor.numpy()[0]' to 'float(Tensor)' as soon as possible, otherwise 'Tensor.numpy()[0]' will raise error in release 2.6.\n",
            "I0808 19:36:38.263561 24241 eager_method.cc:140] Warning:: 0D Tensor cannot be used as 'Tensor.numpy()[0]' . In order to avoid this problem, 0D Tensor will be changed to 1D numpy currently, but it's not correct and will be removed in release 2.6. For Tensor contain only one element, Please modify  'Tensor.numpy()[0]' to 'float(Tensor)' as soon as possible, otherwise 'Tensor.numpy()[0]' will raise error in release 2.6.\n",
            "I0808 19:36:38.658037 24241 eager_method.cc:140] Warning:: 0D Tensor cannot be used as 'Tensor.numpy()[0]' . In order to avoid this problem, 0D Tensor will be changed to 1D numpy currently, but it's not correct and will be removed in release 2.6. For Tensor contain only one element, Please modify  'Tensor.numpy()[0]' to 'float(Tensor)' as soon as possible, otherwise 'Tensor.numpy()[0]' will raise error in release 2.6.\n",
            "I0808 19:36:38.658401 24241 eager_method.cc:140] Warning:: 0D Tensor cannot be used as 'Tensor.numpy()[0]' . In order to avoid this problem, 0D Tensor will be changed to 1D numpy currently, but it's not correct and will be removed in release 2.6. For Tensor contain only one element, Please modify  'Tensor.numpy()[0]' to 'float(Tensor)' as soon as possible, otherwise 'Tensor.numpy()[0]' will raise error in release 2.6.\n",
            "I0808 19:36:38.997294 24241 eager_method.cc:140] Warning:: 0D Tensor cannot be used as 'Tensor.numpy()[0]' . In order to avoid this problem, 0D Tensor will be changed to 1D numpy currently, but it's not correct and will be removed in release 2.6. For Tensor contain only one element, Please modify  'Tensor.numpy()[0]' to 'float(Tensor)' as soon as possible, otherwise 'Tensor.numpy()[0]' will raise error in release 2.6.\n",
            "I0808 19:36:38.997413 24241 eager_method.cc:140] Warning:: 0D Tensor cannot be used as 'Tensor.numpy()[0]' . In order to avoid this problem, 0D Tensor will be changed to 1D numpy currently, but it's not correct and will be removed in release 2.6. For Tensor contain only one element, Please modify  'Tensor.numpy()[0]' to 'float(Tensor)' as soon as possible, otherwise 'Tensor.numpy()[0]' will raise error in release 2.6.\n",
            "I0808 19:36:39.383814 24241 eager_method.cc:140] Warning:: 0D Tensor cannot be used as 'Tensor.numpy()[0]' . In order to avoid this problem, 0D Tensor will be changed to 1D numpy currently, but it's not correct and will be removed in release 2.6. For Tensor contain only one element, Please modify  'Tensor.numpy()[0]' to 'float(Tensor)' as soon as possible, otherwise 'Tensor.numpy()[0]' will raise error in release 2.6.\n",
            "I0808 19:36:39.383944 24241 eager_method.cc:140] Warning:: 0D Tensor cannot be used as 'Tensor.numpy()[0]' . In order to avoid this problem, 0D Tensor will be changed to 1D numpy currently, but it's not correct and will be removed in release 2.6. For Tensor contain only one element, Please modify  'Tensor.numpy()[0]' to 'float(Tensor)' as soon as possible, otherwise 'Tensor.numpy()[0]' will raise error in release 2.6.\n",
            "I0808 19:36:39.728958 24241 eager_method.cc:140] Warning:: 0D Tensor cannot be used as 'Tensor.numpy()[0]' . In order to avoid this problem, 0D Tensor will be changed to 1D numpy currently, but it's not correct and will be removed in release 2.6. For Tensor contain only one element, Please modify  'Tensor.numpy()[0]' to 'float(Tensor)' as soon as possible, otherwise 'Tensor.numpy()[0]' will raise error in release 2.6.\n",
            "I0808 19:36:39.729063 24241 eager_method.cc:140] Warning:: 0D Tensor cannot be used as 'Tensor.numpy()[0]' . In order to avoid this problem, 0D Tensor will be changed to 1D numpy currently, but it's not correct and will be removed in release 2.6. For Tensor contain only one element, Please modify  'Tensor.numpy()[0]' to 'float(Tensor)' as soon as possible, otherwise 'Tensor.numpy()[0]' will raise error in release 2.6.\n",
            "I0808 19:36:40.117322 24241 eager_method.cc:140] Warning:: 0D Tensor cannot be used as 'Tensor.numpy()[0]' . In order to avoid this problem, 0D Tensor will be changed to 1D numpy currently, but it's not correct and will be removed in release 2.6. For Tensor contain only one element, Please modify  'Tensor.numpy()[0]' to 'float(Tensor)' as soon as possible, otherwise 'Tensor.numpy()[0]' will raise error in release 2.6.\n",
            "I0808 19:36:40.117427 24241 eager_method.cc:140] Warning:: 0D Tensor cannot be used as 'Tensor.numpy()[0]' . In order to avoid this problem, 0D Tensor will be changed to 1D numpy currently, but it's not correct and will be removed in release 2.6. For Tensor contain only one element, Please modify  'Tensor.numpy()[0]' to 'float(Tensor)' as soon as possible, otherwise 'Tensor.numpy()[0]' will raise error in release 2.6.\n",
            "I0808 19:36:40.533018 24241 eager_method.cc:140] Warning:: 0D Tensor cannot be used as 'Tensor.numpy()[0]' . In order to avoid this problem, 0D Tensor will be changed to 1D numpy currently, but it's not correct and will be removed in release 2.6. For Tensor contain only one element, Please modify  'Tensor.numpy()[0]' to 'float(Tensor)' as soon as possible, otherwise 'Tensor.numpy()[0]' will raise error in release 2.6.\n",
            "I0808 19:36:40.533131 24241 eager_method.cc:140] Warning:: 0D Tensor cannot be used as 'Tensor.numpy()[0]' . In order to avoid this problem, 0D Tensor will be changed to 1D numpy currently, but it's not correct and will be removed in release 2.6. For Tensor contain only one element, Please modify  'Tensor.numpy()[0]' to 'float(Tensor)' as soon as possible, otherwise 'Tensor.numpy()[0]' will raise error in release 2.6.\n",
            "2023-08-08 19:36:40 [INFO]\t[TRAIN] epoch: 0, iter: 90/20, loss: 0.7493, DSC: 30.6727, lr: 0.009943, batch_cost: 0.3764, reader_cost: 0.00100, ips: 5.3134 samples/sec | ETA 00:00:00\n",
            "2023-08-08 19:36:40 [INFO]\tStart evaluating (total_samples: 1, total_iters: 1)...\n",
            "I0808 19:36:46.878886 24241 eager_method.cc:140] Warning:: 0D Tensor cannot be used as 'Tensor.numpy()[0]' . In order to avoid this problem, 0D Tensor will be changed to 1D numpy currently, but it's not correct and will be removed in release 2.6. For Tensor contain only one element, Please modify  'Tensor.numpy()[0]' to 'float(Tensor)' as soon as possible, otherwise 'Tensor.numpy()[0]' will raise error in release 2.6.\n",
            "1/1 [==============================] - 6s 6s/step - batch_cost: 6.3294 - reader cost: 3.3314\n",
            "2023-08-08 19:36:46 [INFO]\t[EVAL] #Images: 1, Dice: 0.2902, Loss: 0.763875\n",
            "2023-08-08 19:36:46 [INFO]\t[EVAL] Class dice: \n",
            "[0.9943 0.0348 0.0826 0.0489]\n",
            "2023-08-08 19:37:00 [INFO]\t[EVAL] The model with the best validation mDice (0.3099) was saved at iter 70.\n",
            "I0808 19:37:00.316295 24241 eager_method.cc:140] Warning:: 0D Tensor cannot be used as 'Tensor.numpy()[0]' . In order to avoid this problem, 0D Tensor will be changed to 1D numpy currently, but it's not correct and will be removed in release 2.6. For Tensor contain only one element, Please modify  'Tensor.numpy()[0]' to 'float(Tensor)' as soon as possible, otherwise 'Tensor.numpy()[0]' will raise error in release 2.6.\n",
            "I0808 19:37:00.316404 24241 eager_method.cc:140] Warning:: 0D Tensor cannot be used as 'Tensor.numpy()[0]' . In order to avoid this problem, 0D Tensor will be changed to 1D numpy currently, but it's not correct and will be removed in release 2.6. For Tensor contain only one element, Please modify  'Tensor.numpy()[0]' to 'float(Tensor)' as soon as possible, otherwise 'Tensor.numpy()[0]' will raise error in release 2.6.\n",
            "I0808 19:37:00.518203 24241 eager_method.cc:140] Warning:: 0D Tensor cannot be used as 'Tensor.numpy()[0]' . In order to avoid this problem, 0D Tensor will be changed to 1D numpy currently, but it's not correct and will be removed in release 2.6. For Tensor contain only one element, Please modify  'Tensor.numpy()[0]' to 'float(Tensor)' as soon as possible, otherwise 'Tensor.numpy()[0]' will raise error in release 2.6.\n",
            "I0808 19:37:00.518332 24241 eager_method.cc:140] Warning:: 0D Tensor cannot be used as 'Tensor.numpy()[0]' . In order to avoid this problem, 0D Tensor will be changed to 1D numpy currently, but it's not correct and will be removed in release 2.6. For Tensor contain only one element, Please modify  'Tensor.numpy()[0]' to 'float(Tensor)' as soon as possible, otherwise 'Tensor.numpy()[0]' will raise error in release 2.6.\n",
            "I0808 19:37:00.711397 24241 eager_method.cc:140] Warning:: 0D Tensor cannot be used as 'Tensor.numpy()[0]' . In order to avoid this problem, 0D Tensor will be changed to 1D numpy currently, but it's not correct and will be removed in release 2.6. For Tensor contain only one element, Please modify  'Tensor.numpy()[0]' to 'float(Tensor)' as soon as possible, otherwise 'Tensor.numpy()[0]' will raise error in release 2.6.\n",
            "I0808 19:37:00.711524 24241 eager_method.cc:140] Warning:: 0D Tensor cannot be used as 'Tensor.numpy()[0]' . In order to avoid this problem, 0D Tensor will be changed to 1D numpy currently, but it's not correct and will be removed in release 2.6. For Tensor contain only one element, Please modify  'Tensor.numpy()[0]' to 'float(Tensor)' as soon as possible, otherwise 'Tensor.numpy()[0]' will raise error in release 2.6.\n",
            "I0808 19:37:00.931281 24241 eager_method.cc:140] Warning:: 0D Tensor cannot be used as 'Tensor.numpy()[0]' . In order to avoid this problem, 0D Tensor will be changed to 1D numpy currently, but it's not correct and will be removed in release 2.6. For Tensor contain only one element, Please modify  'Tensor.numpy()[0]' to 'float(Tensor)' as soon as possible, otherwise 'Tensor.numpy()[0]' will raise error in release 2.6.\n",
            "I0808 19:37:00.931411 24241 eager_method.cc:140] Warning:: 0D Tensor cannot be used as 'Tensor.numpy()[0]' . In order to avoid this problem, 0D Tensor will be changed to 1D numpy currently, but it's not correct and will be removed in release 2.6. For Tensor contain only one element, Please modify  'Tensor.numpy()[0]' to 'float(Tensor)' as soon as possible, otherwise 'Tensor.numpy()[0]' will raise error in release 2.6.\n",
            "I0808 19:37:01.190493 24241 eager_method.cc:140] Warning:: 0D Tensor cannot be used as 'Tensor.numpy()[0]' . In order to avoid this problem, 0D Tensor will be changed to 1D numpy currently, but it's not correct and will be removed in release 2.6. For Tensor contain only one element, Please modify  'Tensor.numpy()[0]' to 'float(Tensor)' as soon as possible, otherwise 'Tensor.numpy()[0]' will raise error in release 2.6.\n",
            "I0808 19:37:01.190645 24241 eager_method.cc:140] Warning:: 0D Tensor cannot be used as 'Tensor.numpy()[0]' . In order to avoid this problem, 0D Tensor will be changed to 1D numpy currently, but it's not correct and will be removed in release 2.6. For Tensor contain only one element, Please modify  'Tensor.numpy()[0]' to 'float(Tensor)' as soon as possible, otherwise 'Tensor.numpy()[0]' will raise error in release 2.6.\n",
            "I0808 19:37:01.408067 24241 eager_method.cc:140] Warning:: 0D Tensor cannot be used as 'Tensor.numpy()[0]' . In order to avoid this problem, 0D Tensor will be changed to 1D numpy currently, but it's not correct and will be removed in release 2.6. For Tensor contain only one element, Please modify  'Tensor.numpy()[0]' to 'float(Tensor)' as soon as possible, otherwise 'Tensor.numpy()[0]' will raise error in release 2.6.\n",
            "I0808 19:37:01.408212 24241 eager_method.cc:140] Warning:: 0D Tensor cannot be used as 'Tensor.numpy()[0]' . In order to avoid this problem, 0D Tensor will be changed to 1D numpy currently, but it's not correct and will be removed in release 2.6. For Tensor contain only one element, Please modify  'Tensor.numpy()[0]' to 'float(Tensor)' as soon as possible, otherwise 'Tensor.numpy()[0]' will raise error in release 2.6.\n",
            "I0808 19:37:01.608793 24241 eager_method.cc:140] Warning:: 0D Tensor cannot be used as 'Tensor.numpy()[0]' . In order to avoid this problem, 0D Tensor will be changed to 1D numpy currently, but it's not correct and will be removed in release 2.6. For Tensor contain only one element, Please modify  'Tensor.numpy()[0]' to 'float(Tensor)' as soon as possible, otherwise 'Tensor.numpy()[0]' will raise error in release 2.6.\n",
            "I0808 19:37:01.608909 24241 eager_method.cc:140] Warning:: 0D Tensor cannot be used as 'Tensor.numpy()[0]' . In order to avoid this problem, 0D Tensor will be changed to 1D numpy currently, but it's not correct and will be removed in release 2.6. For Tensor contain only one element, Please modify  'Tensor.numpy()[0]' to 'float(Tensor)' as soon as possible, otherwise 'Tensor.numpy()[0]' will raise error in release 2.6.\n",
            "I0808 19:37:01.832175 24241 eager_method.cc:140] Warning:: 0D Tensor cannot be used as 'Tensor.numpy()[0]' . In order to avoid this problem, 0D Tensor will be changed to 1D numpy currently, but it's not correct and will be removed in release 2.6. For Tensor contain only one element, Please modify  'Tensor.numpy()[0]' to 'float(Tensor)' as soon as possible, otherwise 'Tensor.numpy()[0]' will raise error in release 2.6.\n",
            "I0808 19:37:01.832342 24241 eager_method.cc:140] Warning:: 0D Tensor cannot be used as 'Tensor.numpy()[0]' . In order to avoid this problem, 0D Tensor will be changed to 1D numpy currently, but it's not correct and will be removed in release 2.6. For Tensor contain only one element, Please modify  'Tensor.numpy()[0]' to 'float(Tensor)' as soon as possible, otherwise 'Tensor.numpy()[0]' will raise error in release 2.6.\n",
            "I0808 19:37:02.031772 24241 eager_method.cc:140] Warning:: 0D Tensor cannot be used as 'Tensor.numpy()[0]' . In order to avoid this problem, 0D Tensor will be changed to 1D numpy currently, but it's not correct and will be removed in release 2.6. For Tensor contain only one element, Please modify  'Tensor.numpy()[0]' to 'float(Tensor)' as soon as possible, otherwise 'Tensor.numpy()[0]' will raise error in release 2.6.\n",
            "I0808 19:37:02.031944 24241 eager_method.cc:140] Warning:: 0D Tensor cannot be used as 'Tensor.numpy()[0]' . In order to avoid this problem, 0D Tensor will be changed to 1D numpy currently, but it's not correct and will be removed in release 2.6. For Tensor contain only one element, Please modify  'Tensor.numpy()[0]' to 'float(Tensor)' as soon as possible, otherwise 'Tensor.numpy()[0]' will raise error in release 2.6.\n",
            "I0808 19:37:02.224645 24241 eager_method.cc:140] Warning:: 0D Tensor cannot be used as 'Tensor.numpy()[0]' . In order to avoid this problem, 0D Tensor will be changed to 1D numpy currently, but it's not correct and will be removed in release 2.6. For Tensor contain only one element, Please modify  'Tensor.numpy()[0]' to 'float(Tensor)' as soon as possible, otherwise 'Tensor.numpy()[0]' will raise error in release 2.6.\n",
            "I0808 19:37:02.224761 24241 eager_method.cc:140] Warning:: 0D Tensor cannot be used as 'Tensor.numpy()[0]' . In order to avoid this problem, 0D Tensor will be changed to 1D numpy currently, but it's not correct and will be removed in release 2.6. For Tensor contain only one element, Please modify  'Tensor.numpy()[0]' to 'float(Tensor)' as soon as possible, otherwise 'Tensor.numpy()[0]' will raise error in release 2.6.\n",
            "2023-08-08 19:37:02 [INFO]\t[TRAIN] epoch: 0, iter: 100/20, loss: 0.7419, DSC: 34.2064, lr: 0.009936, batch_cost: 0.2169, reader_cost: 0.00057, ips: 9.2208 samples/sec | ETA 00:00:00\n",
            "2023-08-08 19:37:02 [INFO]\tStart evaluating (total_samples: 1, total_iters: 1)...\n",
            "I0808 19:37:07.040988 24241 eager_method.cc:140] Warning:: 0D Tensor cannot be used as 'Tensor.numpy()[0]' . In order to avoid this problem, 0D Tensor will be changed to 1D numpy currently, but it's not correct and will be removed in release 2.6. For Tensor contain only one element, Please modify  'Tensor.numpy()[0]' to 'float(Tensor)' as soon as possible, otherwise 'Tensor.numpy()[0]' will raise error in release 2.6.\n",
            "1/1 [==============================] - 5s 5s/step - batch_cost: 4.7928 - reader cost: 1.8092\n",
            "2023-08-08 19:37:07 [INFO]\t[EVAL] #Images: 1, Dice: 0.2918, Loss: 0.772642\n",
            "2023-08-08 19:37:07 [INFO]\t[EVAL] Class dice: \n",
            "[0.994  0.0301 0.0968 0.0465]\n",
            "2023-08-08 19:37:15 [INFO]\t[EVAL] The model with the best validation mDice (0.3099) was saved at iter 70.\n",
            "I0808 19:37:16.739321 24241 eager_method.cc:140] Warning:: 0D Tensor cannot be used as 'Tensor.numpy()[0]' . In order to avoid this problem, 0D Tensor will be changed to 1D numpy currently, but it's not correct and will be removed in release 2.6. For Tensor contain only one element, Please modify  'Tensor.numpy()[0]' to 'float(Tensor)' as soon as possible, otherwise 'Tensor.numpy()[0]' will raise error in release 2.6.\n",
            "I0808 19:37:16.739462 24241 eager_method.cc:140] Warning:: 0D Tensor cannot be used as 'Tensor.numpy()[0]' . In order to avoid this problem, 0D Tensor will be changed to 1D numpy currently, but it's not correct and will be removed in release 2.6. For Tensor contain only one element, Please modify  'Tensor.numpy()[0]' to 'float(Tensor)' as soon as possible, otherwise 'Tensor.numpy()[0]' will raise error in release 2.6.\n",
            "I0808 19:37:17.198714 24241 eager_method.cc:140] Warning:: 0D Tensor cannot be used as 'Tensor.numpy()[0]' . In order to avoid this problem, 0D Tensor will be changed to 1D numpy currently, but it's not correct and will be removed in release 2.6. For Tensor contain only one element, Please modify  'Tensor.numpy()[0]' to 'float(Tensor)' as soon as possible, otherwise 'Tensor.numpy()[0]' will raise error in release 2.6.\n",
            "I0808 19:37:17.198803 24241 eager_method.cc:140] Warning:: 0D Tensor cannot be used as 'Tensor.numpy()[0]' . In order to avoid this problem, 0D Tensor will be changed to 1D numpy currently, but it's not correct and will be removed in release 2.6. For Tensor contain only one element, Please modify  'Tensor.numpy()[0]' to 'float(Tensor)' as soon as possible, otherwise 'Tensor.numpy()[0]' will raise error in release 2.6.\n",
            "I0808 19:37:17.511848 24241 eager_method.cc:140] Warning:: 0D Tensor cannot be used as 'Tensor.numpy()[0]' . In order to avoid this problem, 0D Tensor will be changed to 1D numpy currently, but it's not correct and will be removed in release 2.6. For Tensor contain only one element, Please modify  'Tensor.numpy()[0]' to 'float(Tensor)' as soon as possible, otherwise 'Tensor.numpy()[0]' will raise error in release 2.6.\n",
            "I0808 19:37:17.511971 24241 eager_method.cc:140] Warning:: 0D Tensor cannot be used as 'Tensor.numpy()[0]' . In order to avoid this problem, 0D Tensor will be changed to 1D numpy currently, but it's not correct and will be removed in release 2.6. For Tensor contain only one element, Please modify  'Tensor.numpy()[0]' to 'float(Tensor)' as soon as possible, otherwise 'Tensor.numpy()[0]' will raise error in release 2.6.\n",
            "I0808 19:37:17.854142 24241 eager_method.cc:140] Warning:: 0D Tensor cannot be used as 'Tensor.numpy()[0]' . In order to avoid this problem, 0D Tensor will be changed to 1D numpy currently, but it's not correct and will be removed in release 2.6. For Tensor contain only one element, Please modify  'Tensor.numpy()[0]' to 'float(Tensor)' as soon as possible, otherwise 'Tensor.numpy()[0]' will raise error in release 2.6.\n",
            "I0808 19:37:17.854251 24241 eager_method.cc:140] Warning:: 0D Tensor cannot be used as 'Tensor.numpy()[0]' . In order to avoid this problem, 0D Tensor will be changed to 1D numpy currently, but it's not correct and will be removed in release 2.6. For Tensor contain only one element, Please modify  'Tensor.numpy()[0]' to 'float(Tensor)' as soon as possible, otherwise 'Tensor.numpy()[0]' will raise error in release 2.6.\n",
            "I0808 19:37:18.137948 24241 eager_method.cc:140] Warning:: 0D Tensor cannot be used as 'Tensor.numpy()[0]' . In order to avoid this problem, 0D Tensor will be changed to 1D numpy currently, but it's not correct and will be removed in release 2.6. For Tensor contain only one element, Please modify  'Tensor.numpy()[0]' to 'float(Tensor)' as soon as possible, otherwise 'Tensor.numpy()[0]' will raise error in release 2.6.\n",
            "I0808 19:37:18.138121 24241 eager_method.cc:140] Warning:: 0D Tensor cannot be used as 'Tensor.numpy()[0]' . In order to avoid this problem, 0D Tensor will be changed to 1D numpy currently, but it's not correct and will be removed in release 2.6. For Tensor contain only one element, Please modify  'Tensor.numpy()[0]' to 'float(Tensor)' as soon as possible, otherwise 'Tensor.numpy()[0]' will raise error in release 2.6.\n",
            "I0808 19:37:18.448644 24241 eager_method.cc:140] Warning:: 0D Tensor cannot be used as 'Tensor.numpy()[0]' . In order to avoid this problem, 0D Tensor will be changed to 1D numpy currently, but it's not correct and will be removed in release 2.6. For Tensor contain only one element, Please modify  'Tensor.numpy()[0]' to 'float(Tensor)' as soon as possible, otherwise 'Tensor.numpy()[0]' will raise error in release 2.6.\n",
            "I0808 19:37:18.448765 24241 eager_method.cc:140] Warning:: 0D Tensor cannot be used as 'Tensor.numpy()[0]' . In order to avoid this problem, 0D Tensor will be changed to 1D numpy currently, but it's not correct and will be removed in release 2.6. For Tensor contain only one element, Please modify  'Tensor.numpy()[0]' to 'float(Tensor)' as soon as possible, otherwise 'Tensor.numpy()[0]' will raise error in release 2.6.\n",
            "I0808 19:37:18.660264 24241 eager_method.cc:140] Warning:: 0D Tensor cannot be used as 'Tensor.numpy()[0]' . In order to avoid this problem, 0D Tensor will be changed to 1D numpy currently, but it's not correct and will be removed in release 2.6. For Tensor contain only one element, Please modify  'Tensor.numpy()[0]' to 'float(Tensor)' as soon as possible, otherwise 'Tensor.numpy()[0]' will raise error in release 2.6.\n",
            "I0808 19:37:18.660378 24241 eager_method.cc:140] Warning:: 0D Tensor cannot be used as 'Tensor.numpy()[0]' . In order to avoid this problem, 0D Tensor will be changed to 1D numpy currently, but it's not correct and will be removed in release 2.6. For Tensor contain only one element, Please modify  'Tensor.numpy()[0]' to 'float(Tensor)' as soon as possible, otherwise 'Tensor.numpy()[0]' will raise error in release 2.6.\n",
            "I0808 19:37:19.033213 24241 eager_method.cc:140] Warning:: 0D Tensor cannot be used as 'Tensor.numpy()[0]' . In order to avoid this problem, 0D Tensor will be changed to 1D numpy currently, but it's not correct and will be removed in release 2.6. For Tensor contain only one element, Please modify  'Tensor.numpy()[0]' to 'float(Tensor)' as soon as possible, otherwise 'Tensor.numpy()[0]' will raise error in release 2.6.\n",
            "I0808 19:37:19.033325 24241 eager_method.cc:140] Warning:: 0D Tensor cannot be used as 'Tensor.numpy()[0]' . In order to avoid this problem, 0D Tensor will be changed to 1D numpy currently, but it's not correct and will be removed in release 2.6. For Tensor contain only one element, Please modify  'Tensor.numpy()[0]' to 'float(Tensor)' as soon as possible, otherwise 'Tensor.numpy()[0]' will raise error in release 2.6.\n",
            "I0808 19:37:19.389477 24241 eager_method.cc:140] Warning:: 0D Tensor cannot be used as 'Tensor.numpy()[0]' . In order to avoid this problem, 0D Tensor will be changed to 1D numpy currently, but it's not correct and will be removed in release 2.6. For Tensor contain only one element, Please modify  'Tensor.numpy()[0]' to 'float(Tensor)' as soon as possible, otherwise 'Tensor.numpy()[0]' will raise error in release 2.6.\n",
            "I0808 19:37:19.389596 24241 eager_method.cc:140] Warning:: 0D Tensor cannot be used as 'Tensor.numpy()[0]' . In order to avoid this problem, 0D Tensor will be changed to 1D numpy currently, but it's not correct and will be removed in release 2.6. For Tensor contain only one element, Please modify  'Tensor.numpy()[0]' to 'float(Tensor)' as soon as possible, otherwise 'Tensor.numpy()[0]' will raise error in release 2.6.\n",
            "I0808 19:37:19.749433 24241 eager_method.cc:140] Warning:: 0D Tensor cannot be used as 'Tensor.numpy()[0]' . In order to avoid this problem, 0D Tensor will be changed to 1D numpy currently, but it's not correct and will be removed in release 2.6. For Tensor contain only one element, Please modify  'Tensor.numpy()[0]' to 'float(Tensor)' as soon as possible, otherwise 'Tensor.numpy()[0]' will raise error in release 2.6.\n",
            "I0808 19:37:19.749691 24241 eager_method.cc:140] Warning:: 0D Tensor cannot be used as 'Tensor.numpy()[0]' . In order to avoid this problem, 0D Tensor will be changed to 1D numpy currently, but it's not correct and will be removed in release 2.6. For Tensor contain only one element, Please modify  'Tensor.numpy()[0]' to 'float(Tensor)' as soon as possible, otherwise 'Tensor.numpy()[0]' will raise error in release 2.6.\n",
            "2023-08-08 19:37:19 [INFO]\t[TRAIN] epoch: 0, iter: 110/20, loss: 0.7392, DSC: 31.2822, lr: 0.009930, batch_cost: 0.4023, reader_cost: 0.00253, ips: 4.9716 samples/sec | ETA 00:00:00\n",
            "2023-08-08 19:37:19 [INFO]\tStart evaluating (total_samples: 1, total_iters: 1)...\n",
            "I0808 19:37:25.205015 24241 eager_method.cc:140] Warning:: 0D Tensor cannot be used as 'Tensor.numpy()[0]' . In order to avoid this problem, 0D Tensor will be changed to 1D numpy currently, but it's not correct and will be removed in release 2.6. For Tensor contain only one element, Please modify  'Tensor.numpy()[0]' to 'float(Tensor)' as soon as possible, otherwise 'Tensor.numpy()[0]' will raise error in release 2.6.\n",
            "1/1 [==============================] - 5s 5s/step - batch_cost: 5.4340 - reader cost: 2.4117\n",
            "2023-08-08 19:37:25 [INFO]\t[EVAL] #Images: 1, Dice: 0.3646, Loss: 0.689246\n",
            "2023-08-08 19:37:25 [INFO]\t[EVAL] Class dice: \n",
            "[0.9945 0.1038 0.259  0.101 ]\n",
            "2023-08-08 19:37:35 [INFO]\t[EVAL] The model with the best validation mDice (0.3646) was saved at iter 110.\n",
            "I0808 19:37:35.629356 24241 eager_method.cc:140] Warning:: 0D Tensor cannot be used as 'Tensor.numpy()[0]' . In order to avoid this problem, 0D Tensor will be changed to 1D numpy currently, but it's not correct and will be removed in release 2.6. For Tensor contain only one element, Please modify  'Tensor.numpy()[0]' to 'float(Tensor)' as soon as possible, otherwise 'Tensor.numpy()[0]' will raise error in release 2.6.\n",
            "I0808 19:37:35.629524 24241 eager_method.cc:140] Warning:: 0D Tensor cannot be used as 'Tensor.numpy()[0]' . In order to avoid this problem, 0D Tensor will be changed to 1D numpy currently, but it's not correct and will be removed in release 2.6. For Tensor contain only one element, Please modify  'Tensor.numpy()[0]' to 'float(Tensor)' as soon as possible, otherwise 'Tensor.numpy()[0]' will raise error in release 2.6.\n",
            "I0808 19:37:35.826078 24241 eager_method.cc:140] Warning:: 0D Tensor cannot be used as 'Tensor.numpy()[0]' . In order to avoid this problem, 0D Tensor will be changed to 1D numpy currently, but it's not correct and will be removed in release 2.6. For Tensor contain only one element, Please modify  'Tensor.numpy()[0]' to 'float(Tensor)' as soon as possible, otherwise 'Tensor.numpy()[0]' will raise error in release 2.6.\n",
            "I0808 19:37:35.826196 24241 eager_method.cc:140] Warning:: 0D Tensor cannot be used as 'Tensor.numpy()[0]' . In order to avoid this problem, 0D Tensor will be changed to 1D numpy currently, but it's not correct and will be removed in release 2.6. For Tensor contain only one element, Please modify  'Tensor.numpy()[0]' to 'float(Tensor)' as soon as possible, otherwise 'Tensor.numpy()[0]' will raise error in release 2.6.\n",
            "I0808 19:37:36.000770 24241 eager_method.cc:140] Warning:: 0D Tensor cannot be used as 'Tensor.numpy()[0]' . In order to avoid this problem, 0D Tensor will be changed to 1D numpy currently, but it's not correct and will be removed in release 2.6. For Tensor contain only one element, Please modify  'Tensor.numpy()[0]' to 'float(Tensor)' as soon as possible, otherwise 'Tensor.numpy()[0]' will raise error in release 2.6.\n",
            "I0808 19:37:36.000908 24241 eager_method.cc:140] Warning:: 0D Tensor cannot be used as 'Tensor.numpy()[0]' . In order to avoid this problem, 0D Tensor will be changed to 1D numpy currently, but it's not correct and will be removed in release 2.6. For Tensor contain only one element, Please modify  'Tensor.numpy()[0]' to 'float(Tensor)' as soon as possible, otherwise 'Tensor.numpy()[0]' will raise error in release 2.6.\n",
            "I0808 19:37:36.177453 24241 eager_method.cc:140] Warning:: 0D Tensor cannot be used as 'Tensor.numpy()[0]' . In order to avoid this problem, 0D Tensor will be changed to 1D numpy currently, but it's not correct and will be removed in release 2.6. For Tensor contain only one element, Please modify  'Tensor.numpy()[0]' to 'float(Tensor)' as soon as possible, otherwise 'Tensor.numpy()[0]' will raise error in release 2.6.\n",
            "I0808 19:37:36.177582 24241 eager_method.cc:140] Warning:: 0D Tensor cannot be used as 'Tensor.numpy()[0]' . In order to avoid this problem, 0D Tensor will be changed to 1D numpy currently, but it's not correct and will be removed in release 2.6. For Tensor contain only one element, Please modify  'Tensor.numpy()[0]' to 'float(Tensor)' as soon as possible, otherwise 'Tensor.numpy()[0]' will raise error in release 2.6.\n",
            "I0808 19:37:36.359112 24241 eager_method.cc:140] Warning:: 0D Tensor cannot be used as 'Tensor.numpy()[0]' . In order to avoid this problem, 0D Tensor will be changed to 1D numpy currently, but it's not correct and will be removed in release 2.6. For Tensor contain only one element, Please modify  'Tensor.numpy()[0]' to 'float(Tensor)' as soon as possible, otherwise 'Tensor.numpy()[0]' will raise error in release 2.6.\n",
            "I0808 19:37:36.359230 24241 eager_method.cc:140] Warning:: 0D Tensor cannot be used as 'Tensor.numpy()[0]' . In order to avoid this problem, 0D Tensor will be changed to 1D numpy currently, but it's not correct and will be removed in release 2.6. For Tensor contain only one element, Please modify  'Tensor.numpy()[0]' to 'float(Tensor)' as soon as possible, otherwise 'Tensor.numpy()[0]' will raise error in release 2.6.\n",
            "I0808 19:37:36.543524 24241 eager_method.cc:140] Warning:: 0D Tensor cannot be used as 'Tensor.numpy()[0]' . In order to avoid this problem, 0D Tensor will be changed to 1D numpy currently, but it's not correct and will be removed in release 2.6. For Tensor contain only one element, Please modify  'Tensor.numpy()[0]' to 'float(Tensor)' as soon as possible, otherwise 'Tensor.numpy()[0]' will raise error in release 2.6.\n",
            "I0808 19:37:36.543648 24241 eager_method.cc:140] Warning:: 0D Tensor cannot be used as 'Tensor.numpy()[0]' . In order to avoid this problem, 0D Tensor will be changed to 1D numpy currently, but it's not correct and will be removed in release 2.6. For Tensor contain only one element, Please modify  'Tensor.numpy()[0]' to 'float(Tensor)' as soon as possible, otherwise 'Tensor.numpy()[0]' will raise error in release 2.6.\n",
            "I0808 19:37:36.722626 24241 eager_method.cc:140] Warning:: 0D Tensor cannot be used as 'Tensor.numpy()[0]' . In order to avoid this problem, 0D Tensor will be changed to 1D numpy currently, but it's not correct and will be removed in release 2.6. For Tensor contain only one element, Please modify  'Tensor.numpy()[0]' to 'float(Tensor)' as soon as possible, otherwise 'Tensor.numpy()[0]' will raise error in release 2.6.\n",
            "I0808 19:37:36.722738 24241 eager_method.cc:140] Warning:: 0D Tensor cannot be used as 'Tensor.numpy()[0]' . In order to avoid this problem, 0D Tensor will be changed to 1D numpy currently, but it's not correct and will be removed in release 2.6. For Tensor contain only one element, Please modify  'Tensor.numpy()[0]' to 'float(Tensor)' as soon as possible, otherwise 'Tensor.numpy()[0]' will raise error in release 2.6.\n",
            "I0808 19:37:36.910873 24241 eager_method.cc:140] Warning:: 0D Tensor cannot be used as 'Tensor.numpy()[0]' . In order to avoid this problem, 0D Tensor will be changed to 1D numpy currently, but it's not correct and will be removed in release 2.6. For Tensor contain only one element, Please modify  'Tensor.numpy()[0]' to 'float(Tensor)' as soon as possible, otherwise 'Tensor.numpy()[0]' will raise error in release 2.6.\n",
            "I0808 19:37:36.910997 24241 eager_method.cc:140] Warning:: 0D Tensor cannot be used as 'Tensor.numpy()[0]' . In order to avoid this problem, 0D Tensor will be changed to 1D numpy currently, but it's not correct and will be removed in release 2.6. For Tensor contain only one element, Please modify  'Tensor.numpy()[0]' to 'float(Tensor)' as soon as possible, otherwise 'Tensor.numpy()[0]' will raise error in release 2.6.\n",
            "I0808 19:37:37.186504 24241 eager_method.cc:140] Warning:: 0D Tensor cannot be used as 'Tensor.numpy()[0]' . In order to avoid this problem, 0D Tensor will be changed to 1D numpy currently, but it's not correct and will be removed in release 2.6. For Tensor contain only one element, Please modify  'Tensor.numpy()[0]' to 'float(Tensor)' as soon as possible, otherwise 'Tensor.numpy()[0]' will raise error in release 2.6.\n",
            "I0808 19:37:37.186630 24241 eager_method.cc:140] Warning:: 0D Tensor cannot be used as 'Tensor.numpy()[0]' . In order to avoid this problem, 0D Tensor will be changed to 1D numpy currently, but it's not correct and will be removed in release 2.6. For Tensor contain only one element, Please modify  'Tensor.numpy()[0]' to 'float(Tensor)' as soon as possible, otherwise 'Tensor.numpy()[0]' will raise error in release 2.6.\n",
            "I0808 19:37:37.450707 24241 eager_method.cc:140] Warning:: 0D Tensor cannot be used as 'Tensor.numpy()[0]' . In order to avoid this problem, 0D Tensor will be changed to 1D numpy currently, but it's not correct and will be removed in release 2.6. For Tensor contain only one element, Please modify  'Tensor.numpy()[0]' to 'float(Tensor)' as soon as possible, otherwise 'Tensor.numpy()[0]' will raise error in release 2.6.\n",
            "I0808 19:37:37.450786 24241 eager_method.cc:140] Warning:: 0D Tensor cannot be used as 'Tensor.numpy()[0]' . In order to avoid this problem, 0D Tensor will be changed to 1D numpy currently, but it's not correct and will be removed in release 2.6. For Tensor contain only one element, Please modify  'Tensor.numpy()[0]' to 'float(Tensor)' as soon as possible, otherwise 'Tensor.numpy()[0]' will raise error in release 2.6.\n",
            "2023-08-08 19:37:37 [INFO]\t[TRAIN] epoch: 0, iter: 120/20, loss: 0.7483, DSC: 31.5598, lr: 0.009923, batch_cost: 0.2100, reader_cost: 0.00046, ips: 9.5247 samples/sec | ETA 00:00:00\n",
            "2023-08-08 19:37:37 [INFO]\tStart evaluating (total_samples: 1, total_iters: 1)...\n",
            "I0808 19:37:42.422770 24241 eager_method.cc:140] Warning:: 0D Tensor cannot be used as 'Tensor.numpy()[0]' . In order to avoid this problem, 0D Tensor will be changed to 1D numpy currently, but it's not correct and will be removed in release 2.6. For Tensor contain only one element, Please modify  'Tensor.numpy()[0]' to 'float(Tensor)' as soon as possible, otherwise 'Tensor.numpy()[0]' will raise error in release 2.6.\n",
            "1/1 [==============================] - 5s 5s/step - batch_cost: 4.9670 - reader cost: 1.9379\n",
            "2023-08-08 19:37:42 [INFO]\t[EVAL] #Images: 1, Dice: 0.3666, Loss: 0.675386\n",
            "2023-08-08 19:37:42 [INFO]\t[EVAL] Class dice: \n",
            "[0.9945 0.0999 0.2599 0.1121]\n",
            "2023-08-08 19:37:56 [INFO]\t[EVAL] The model with the best validation mDice (0.3666) was saved at iter 120.\n",
            "I0808 19:37:56.395805 24241 eager_method.cc:140] Warning:: 0D Tensor cannot be used as 'Tensor.numpy()[0]' . In order to avoid this problem, 0D Tensor will be changed to 1D numpy currently, but it's not correct and will be removed in release 2.6. For Tensor contain only one element, Please modify  'Tensor.numpy()[0]' to 'float(Tensor)' as soon as possible, otherwise 'Tensor.numpy()[0]' will raise error in release 2.6.\n",
            "I0808 19:37:56.395937 24241 eager_method.cc:140] Warning:: 0D Tensor cannot be used as 'Tensor.numpy()[0]' . In order to avoid this problem, 0D Tensor will be changed to 1D numpy currently, but it's not correct and will be removed in release 2.6. For Tensor contain only one element, Please modify  'Tensor.numpy()[0]' to 'float(Tensor)' as soon as possible, otherwise 'Tensor.numpy()[0]' will raise error in release 2.6.\n",
            "I0808 19:37:56.584470 24241 eager_method.cc:140] Warning:: 0D Tensor cannot be used as 'Tensor.numpy()[0]' . In order to avoid this problem, 0D Tensor will be changed to 1D numpy currently, but it's not correct and will be removed in release 2.6. For Tensor contain only one element, Please modify  'Tensor.numpy()[0]' to 'float(Tensor)' as soon as possible, otherwise 'Tensor.numpy()[0]' will raise error in release 2.6.\n",
            "I0808 19:37:56.584589 24241 eager_method.cc:140] Warning:: 0D Tensor cannot be used as 'Tensor.numpy()[0]' . In order to avoid this problem, 0D Tensor will be changed to 1D numpy currently, but it's not correct and will be removed in release 2.6. For Tensor contain only one element, Please modify  'Tensor.numpy()[0]' to 'float(Tensor)' as soon as possible, otherwise 'Tensor.numpy()[0]' will raise error in release 2.6.\n",
            "I0808 19:37:56.773320 24241 eager_method.cc:140] Warning:: 0D Tensor cannot be used as 'Tensor.numpy()[0]' . In order to avoid this problem, 0D Tensor will be changed to 1D numpy currently, but it's not correct and will be removed in release 2.6. For Tensor contain only one element, Please modify  'Tensor.numpy()[0]' to 'float(Tensor)' as soon as possible, otherwise 'Tensor.numpy()[0]' will raise error in release 2.6.\n",
            "I0808 19:37:56.773492 24241 eager_method.cc:140] Warning:: 0D Tensor cannot be used as 'Tensor.numpy()[0]' . In order to avoid this problem, 0D Tensor will be changed to 1D numpy currently, but it's not correct and will be removed in release 2.6. For Tensor contain only one element, Please modify  'Tensor.numpy()[0]' to 'float(Tensor)' as soon as possible, otherwise 'Tensor.numpy()[0]' will raise error in release 2.6.\n",
            "I0808 19:37:57.047528 24241 eager_method.cc:140] Warning:: 0D Tensor cannot be used as 'Tensor.numpy()[0]' . In order to avoid this problem, 0D Tensor will be changed to 1D numpy currently, but it's not correct and will be removed in release 2.6. For Tensor contain only one element, Please modify  'Tensor.numpy()[0]' to 'float(Tensor)' as soon as possible, otherwise 'Tensor.numpy()[0]' will raise error in release 2.6.\n",
            "I0808 19:37:57.047659 24241 eager_method.cc:140] Warning:: 0D Tensor cannot be used as 'Tensor.numpy()[0]' . In order to avoid this problem, 0D Tensor will be changed to 1D numpy currently, but it's not correct and will be removed in release 2.6. For Tensor contain only one element, Please modify  'Tensor.numpy()[0]' to 'float(Tensor)' as soon as possible, otherwise 'Tensor.numpy()[0]' will raise error in release 2.6.\n",
            "I0808 19:37:57.251791 24241 eager_method.cc:140] Warning:: 0D Tensor cannot be used as 'Tensor.numpy()[0]' . In order to avoid this problem, 0D Tensor will be changed to 1D numpy currently, but it's not correct and will be removed in release 2.6. For Tensor contain only one element, Please modify  'Tensor.numpy()[0]' to 'float(Tensor)' as soon as possible, otherwise 'Tensor.numpy()[0]' will raise error in release 2.6.\n",
            "I0808 19:37:57.251988 24241 eager_method.cc:140] Warning:: 0D Tensor cannot be used as 'Tensor.numpy()[0]' . In order to avoid this problem, 0D Tensor will be changed to 1D numpy currently, but it's not correct and will be removed in release 2.6. For Tensor contain only one element, Please modify  'Tensor.numpy()[0]' to 'float(Tensor)' as soon as possible, otherwise 'Tensor.numpy()[0]' will raise error in release 2.6.\n",
            "I0808 19:37:57.455297 24241 eager_method.cc:140] Warning:: 0D Tensor cannot be used as 'Tensor.numpy()[0]' . In order to avoid this problem, 0D Tensor will be changed to 1D numpy currently, but it's not correct and will be removed in release 2.6. For Tensor contain only one element, Please modify  'Tensor.numpy()[0]' to 'float(Tensor)' as soon as possible, otherwise 'Tensor.numpy()[0]' will raise error in release 2.6.\n",
            "I0808 19:37:57.455413 24241 eager_method.cc:140] Warning:: 0D Tensor cannot be used as 'Tensor.numpy()[0]' . In order to avoid this problem, 0D Tensor will be changed to 1D numpy currently, but it's not correct and will be removed in release 2.6. For Tensor contain only one element, Please modify  'Tensor.numpy()[0]' to 'float(Tensor)' as soon as possible, otherwise 'Tensor.numpy()[0]' will raise error in release 2.6.\n",
            "I0808 19:37:57.658260 24241 eager_method.cc:140] Warning:: 0D Tensor cannot be used as 'Tensor.numpy()[0]' . In order to avoid this problem, 0D Tensor will be changed to 1D numpy currently, but it's not correct and will be removed in release 2.6. For Tensor contain only one element, Please modify  'Tensor.numpy()[0]' to 'float(Tensor)' as soon as possible, otherwise 'Tensor.numpy()[0]' will raise error in release 2.6.\n",
            "I0808 19:37:57.658363 24241 eager_method.cc:140] Warning:: 0D Tensor cannot be used as 'Tensor.numpy()[0]' . In order to avoid this problem, 0D Tensor will be changed to 1D numpy currently, but it's not correct and will be removed in release 2.6. For Tensor contain only one element, Please modify  'Tensor.numpy()[0]' to 'float(Tensor)' as soon as possible, otherwise 'Tensor.numpy()[0]' will raise error in release 2.6.\n",
            "I0808 19:37:57.866814 24241 eager_method.cc:140] Warning:: 0D Tensor cannot be used as 'Tensor.numpy()[0]' . In order to avoid this problem, 0D Tensor will be changed to 1D numpy currently, but it's not correct and will be removed in release 2.6. For Tensor contain only one element, Please modify  'Tensor.numpy()[0]' to 'float(Tensor)' as soon as possible, otherwise 'Tensor.numpy()[0]' will raise error in release 2.6.\n",
            "I0808 19:37:57.866946 24241 eager_method.cc:140] Warning:: 0D Tensor cannot be used as 'Tensor.numpy()[0]' . In order to avoid this problem, 0D Tensor will be changed to 1D numpy currently, but it's not correct and will be removed in release 2.6. For Tensor contain only one element, Please modify  'Tensor.numpy()[0]' to 'float(Tensor)' as soon as possible, otherwise 'Tensor.numpy()[0]' will raise error in release 2.6.\n",
            "I0808 19:37:58.148459 24241 eager_method.cc:140] Warning:: 0D Tensor cannot be used as 'Tensor.numpy()[0]' . In order to avoid this problem, 0D Tensor will be changed to 1D numpy currently, but it's not correct and will be removed in release 2.6. For Tensor contain only one element, Please modify  'Tensor.numpy()[0]' to 'float(Tensor)' as soon as possible, otherwise 'Tensor.numpy()[0]' will raise error in release 2.6.\n",
            "I0808 19:37:58.148698 24241 eager_method.cc:140] Warning:: 0D Tensor cannot be used as 'Tensor.numpy()[0]' . In order to avoid this problem, 0D Tensor will be changed to 1D numpy currently, but it's not correct and will be removed in release 2.6. For Tensor contain only one element, Please modify  'Tensor.numpy()[0]' to 'float(Tensor)' as soon as possible, otherwise 'Tensor.numpy()[0]' will raise error in release 2.6.\n",
            "I0808 19:37:58.477177 24241 eager_method.cc:140] Warning:: 0D Tensor cannot be used as 'Tensor.numpy()[0]' . In order to avoid this problem, 0D Tensor will be changed to 1D numpy currently, but it's not correct and will be removed in release 2.6. For Tensor contain only one element, Please modify  'Tensor.numpy()[0]' to 'float(Tensor)' as soon as possible, otherwise 'Tensor.numpy()[0]' will raise error in release 2.6.\n",
            "I0808 19:37:58.477284 24241 eager_method.cc:140] Warning:: 0D Tensor cannot be used as 'Tensor.numpy()[0]' . In order to avoid this problem, 0D Tensor will be changed to 1D numpy currently, but it's not correct and will be removed in release 2.6. For Tensor contain only one element, Please modify  'Tensor.numpy()[0]' to 'float(Tensor)' as soon as possible, otherwise 'Tensor.numpy()[0]' will raise error in release 2.6.\n",
            "2023-08-08 19:37:58 [INFO]\t[TRAIN] epoch: 0, iter: 130/20, loss: 0.7402, DSC: 29.8880, lr: 0.009917, batch_cost: 0.2376, reader_cost: 0.00052, ips: 8.4185 samples/sec | ETA 00:00:00\n",
            "2023-08-08 19:37:58 [INFO]\tStart evaluating (total_samples: 1, total_iters: 1)...\n",
            "I0808 19:38:05.439160 24241 eager_method.cc:140] Warning:: 0D Tensor cannot be used as 'Tensor.numpy()[0]' . In order to avoid this problem, 0D Tensor will be changed to 1D numpy currently, but it's not correct and will be removed in release 2.6. For Tensor contain only one element, Please modify  'Tensor.numpy()[0]' to 'float(Tensor)' as soon as possible, otherwise 'Tensor.numpy()[0]' will raise error in release 2.6.\n",
            "1/1 [==============================] - 7s 7s/step - batch_cost: 6.9355 - reader cost: 3.9075\n",
            "2023-08-08 19:38:05 [INFO]\t[EVAL] #Images: 1, Dice: 0.3381, Loss: 0.720241\n",
            "2023-08-08 19:38:05 [INFO]\t[EVAL] Class dice: \n",
            "[0.9944 0.0452 0.2179 0.095 ]\n",
            "2023-08-08 19:38:15 [INFO]\t[EVAL] The model with the best validation mDice (0.3666) was saved at iter 120.\n",
            "I0808 19:38:15.833850 24241 eager_method.cc:140] Warning:: 0D Tensor cannot be used as 'Tensor.numpy()[0]' . In order to avoid this problem, 0D Tensor will be changed to 1D numpy currently, but it's not correct and will be removed in release 2.6. For Tensor contain only one element, Please modify  'Tensor.numpy()[0]' to 'float(Tensor)' as soon as possible, otherwise 'Tensor.numpy()[0]' will raise error in release 2.6.\n",
            "I0808 19:38:15.833976 24241 eager_method.cc:140] Warning:: 0D Tensor cannot be used as 'Tensor.numpy()[0]' . In order to avoid this problem, 0D Tensor will be changed to 1D numpy currently, but it's not correct and will be removed in release 2.6. For Tensor contain only one element, Please modify  'Tensor.numpy()[0]' to 'float(Tensor)' as soon as possible, otherwise 'Tensor.numpy()[0]' will raise error in release 2.6.\n",
            "I0808 19:38:16.020483 24241 eager_method.cc:140] Warning:: 0D Tensor cannot be used as 'Tensor.numpy()[0]' . In order to avoid this problem, 0D Tensor will be changed to 1D numpy currently, but it's not correct and will be removed in release 2.6. For Tensor contain only one element, Please modify  'Tensor.numpy()[0]' to 'float(Tensor)' as soon as possible, otherwise 'Tensor.numpy()[0]' will raise error in release 2.6.\n",
            "I0808 19:38:16.020604 24241 eager_method.cc:140] Warning:: 0D Tensor cannot be used as 'Tensor.numpy()[0]' . In order to avoid this problem, 0D Tensor will be changed to 1D numpy currently, but it's not correct and will be removed in release 2.6. For Tensor contain only one element, Please modify  'Tensor.numpy()[0]' to 'float(Tensor)' as soon as possible, otherwise 'Tensor.numpy()[0]' will raise error in release 2.6.\n",
            "I0808 19:38:16.200343 24241 eager_method.cc:140] Warning:: 0D Tensor cannot be used as 'Tensor.numpy()[0]' . In order to avoid this problem, 0D Tensor will be changed to 1D numpy currently, but it's not correct and will be removed in release 2.6. For Tensor contain only one element, Please modify  'Tensor.numpy()[0]' to 'float(Tensor)' as soon as possible, otherwise 'Tensor.numpy()[0]' will raise error in release 2.6.\n",
            "I0808 19:38:16.200467 24241 eager_method.cc:140] Warning:: 0D Tensor cannot be used as 'Tensor.numpy()[0]' . In order to avoid this problem, 0D Tensor will be changed to 1D numpy currently, but it's not correct and will be removed in release 2.6. For Tensor contain only one element, Please modify  'Tensor.numpy()[0]' to 'float(Tensor)' as soon as possible, otherwise 'Tensor.numpy()[0]' will raise error in release 2.6.\n",
            "I0808 19:38:16.380013 24241 eager_method.cc:140] Warning:: 0D Tensor cannot be used as 'Tensor.numpy()[0]' . In order to avoid this problem, 0D Tensor will be changed to 1D numpy currently, but it's not correct and will be removed in release 2.6. For Tensor contain only one element, Please modify  'Tensor.numpy()[0]' to 'float(Tensor)' as soon as possible, otherwise 'Tensor.numpy()[0]' will raise error in release 2.6.\n",
            "I0808 19:38:16.380128 24241 eager_method.cc:140] Warning:: 0D Tensor cannot be used as 'Tensor.numpy()[0]' . In order to avoid this problem, 0D Tensor will be changed to 1D numpy currently, but it's not correct and will be removed in release 2.6. For Tensor contain only one element, Please modify  'Tensor.numpy()[0]' to 'float(Tensor)' as soon as possible, otherwise 'Tensor.numpy()[0]' will raise error in release 2.6.\n",
            "I0808 19:38:16.591424 24241 eager_method.cc:140] Warning:: 0D Tensor cannot be used as 'Tensor.numpy()[0]' . In order to avoid this problem, 0D Tensor will be changed to 1D numpy currently, but it's not correct and will be removed in release 2.6. For Tensor contain only one element, Please modify  'Tensor.numpy()[0]' to 'float(Tensor)' as soon as possible, otherwise 'Tensor.numpy()[0]' will raise error in release 2.6.\n",
            "I0808 19:38:16.591995 24241 eager_method.cc:140] Warning:: 0D Tensor cannot be used as 'Tensor.numpy()[0]' . In order to avoid this problem, 0D Tensor will be changed to 1D numpy currently, but it's not correct and will be removed in release 2.6. For Tensor contain only one element, Please modify  'Tensor.numpy()[0]' to 'float(Tensor)' as soon as possible, otherwise 'Tensor.numpy()[0]' will raise error in release 2.6.\n",
            "I0808 19:38:16.872377 24241 eager_method.cc:140] Warning:: 0D Tensor cannot be used as 'Tensor.numpy()[0]' . In order to avoid this problem, 0D Tensor will be changed to 1D numpy currently, but it's not correct and will be removed in release 2.6. For Tensor contain only one element, Please modify  'Tensor.numpy()[0]' to 'float(Tensor)' as soon as possible, otherwise 'Tensor.numpy()[0]' will raise error in release 2.6.\n",
            "I0808 19:38:16.872519 24241 eager_method.cc:140] Warning:: 0D Tensor cannot be used as 'Tensor.numpy()[0]' . In order to avoid this problem, 0D Tensor will be changed to 1D numpy currently, but it's not correct and will be removed in release 2.6. For Tensor contain only one element, Please modify  'Tensor.numpy()[0]' to 'float(Tensor)' as soon as possible, otherwise 'Tensor.numpy()[0]' will raise error in release 2.6.\n",
            "I0808 19:38:17.074496 24241 eager_method.cc:140] Warning:: 0D Tensor cannot be used as 'Tensor.numpy()[0]' . In order to avoid this problem, 0D Tensor will be changed to 1D numpy currently, but it's not correct and will be removed in release 2.6. For Tensor contain only one element, Please modify  'Tensor.numpy()[0]' to 'float(Tensor)' as soon as possible, otherwise 'Tensor.numpy()[0]' will raise error in release 2.6.\n",
            "I0808 19:38:17.074604 24241 eager_method.cc:140] Warning:: 0D Tensor cannot be used as 'Tensor.numpy()[0]' . In order to avoid this problem, 0D Tensor will be changed to 1D numpy currently, but it's not correct and will be removed in release 2.6. For Tensor contain only one element, Please modify  'Tensor.numpy()[0]' to 'float(Tensor)' as soon as possible, otherwise 'Tensor.numpy()[0]' will raise error in release 2.6.\n",
            "I0808 19:38:17.282166 24241 eager_method.cc:140] Warning:: 0D Tensor cannot be used as 'Tensor.numpy()[0]' . In order to avoid this problem, 0D Tensor will be changed to 1D numpy currently, but it's not correct and will be removed in release 2.6. For Tensor contain only one element, Please modify  'Tensor.numpy()[0]' to 'float(Tensor)' as soon as possible, otherwise 'Tensor.numpy()[0]' will raise error in release 2.6.\n",
            "I0808 19:38:17.282361 24241 eager_method.cc:140] Warning:: 0D Tensor cannot be used as 'Tensor.numpy()[0]' . In order to avoid this problem, 0D Tensor will be changed to 1D numpy currently, but it's not correct and will be removed in release 2.6. For Tensor contain only one element, Please modify  'Tensor.numpy()[0]' to 'float(Tensor)' as soon as possible, otherwise 'Tensor.numpy()[0]' will raise error in release 2.6.\n",
            "I0808 19:38:17.497399 24241 eager_method.cc:140] Warning:: 0D Tensor cannot be used as 'Tensor.numpy()[0]' . In order to avoid this problem, 0D Tensor will be changed to 1D numpy currently, but it's not correct and will be removed in release 2.6. For Tensor contain only one element, Please modify  'Tensor.numpy()[0]' to 'float(Tensor)' as soon as possible, otherwise 'Tensor.numpy()[0]' will raise error in release 2.6.\n",
            "I0808 19:38:17.497574 24241 eager_method.cc:140] Warning:: 0D Tensor cannot be used as 'Tensor.numpy()[0]' . In order to avoid this problem, 0D Tensor will be changed to 1D numpy currently, but it's not correct and will be removed in release 2.6. For Tensor contain only one element, Please modify  'Tensor.numpy()[0]' to 'float(Tensor)' as soon as possible, otherwise 'Tensor.numpy()[0]' will raise error in release 2.6.\n",
            "I0808 19:38:17.732079 24241 eager_method.cc:140] Warning:: 0D Tensor cannot be used as 'Tensor.numpy()[0]' . In order to avoid this problem, 0D Tensor will be changed to 1D numpy currently, but it's not correct and will be removed in release 2.6. For Tensor contain only one element, Please modify  'Tensor.numpy()[0]' to 'float(Tensor)' as soon as possible, otherwise 'Tensor.numpy()[0]' will raise error in release 2.6.\n",
            "I0808 19:38:17.732302 24241 eager_method.cc:140] Warning:: 0D Tensor cannot be used as 'Tensor.numpy()[0]' . In order to avoid this problem, 0D Tensor will be changed to 1D numpy currently, but it's not correct and will be removed in release 2.6. For Tensor contain only one element, Please modify  'Tensor.numpy()[0]' to 'float(Tensor)' as soon as possible, otherwise 'Tensor.numpy()[0]' will raise error in release 2.6.\n",
            "2023-08-08 19:38:17 [INFO]\t[TRAIN] epoch: 0, iter: 140/20, loss: 0.7440, DSC: 27.8144, lr: 0.009910, batch_cost: 0.2214, reader_cost: 0.00049, ips: 9.0318 samples/sec | ETA 00:00:00\n",
            "2023-08-08 19:38:17 [INFO]\tStart evaluating (total_samples: 1, total_iters: 1)...\n",
            "I0808 19:38:22.656407 24241 eager_method.cc:140] Warning:: 0D Tensor cannot be used as 'Tensor.numpy()[0]' . In order to avoid this problem, 0D Tensor will be changed to 1D numpy currently, but it's not correct and will be removed in release 2.6. For Tensor contain only one element, Please modify  'Tensor.numpy()[0]' to 'float(Tensor)' as soon as possible, otherwise 'Tensor.numpy()[0]' will raise error in release 2.6.\n",
            "1/1 [==============================] - 5s 5s/step - batch_cost: 4.9127 - reader cost: 1.9001\n",
            "2023-08-08 19:38:22 [INFO]\t[EVAL] #Images: 1, Dice: 0.3024, Loss: 0.778122\n",
            "2023-08-08 19:38:22 [INFO]\t[EVAL] Class dice: \n",
            "[0.9944 0.0075 0.1103 0.0975]\n",
            "2023-08-08 19:38:31 [INFO]\t[EVAL] The model with the best validation mDice (0.3666) was saved at iter 120.\n",
            "I0808 19:38:31.817528 24241 eager_method.cc:140] Warning:: 0D Tensor cannot be used as 'Tensor.numpy()[0]' . In order to avoid this problem, 0D Tensor will be changed to 1D numpy currently, but it's not correct and will be removed in release 2.6. For Tensor contain only one element, Please modify  'Tensor.numpy()[0]' to 'float(Tensor)' as soon as possible, otherwise 'Tensor.numpy()[0]' will raise error in release 2.6.\n",
            "I0808 19:38:31.817642 24241 eager_method.cc:140] Warning:: 0D Tensor cannot be used as 'Tensor.numpy()[0]' . In order to avoid this problem, 0D Tensor will be changed to 1D numpy currently, but it's not correct and will be removed in release 2.6. For Tensor contain only one element, Please modify  'Tensor.numpy()[0]' to 'float(Tensor)' as soon as possible, otherwise 'Tensor.numpy()[0]' will raise error in release 2.6.\n",
            "I0808 19:38:32.000931 24241 eager_method.cc:140] Warning:: 0D Tensor cannot be used as 'Tensor.numpy()[0]' . In order to avoid this problem, 0D Tensor will be changed to 1D numpy currently, but it's not correct and will be removed in release 2.6. For Tensor contain only one element, Please modify  'Tensor.numpy()[0]' to 'float(Tensor)' as soon as possible, otherwise 'Tensor.numpy()[0]' will raise error in release 2.6.\n",
            "I0808 19:38:32.001056 24241 eager_method.cc:140] Warning:: 0D Tensor cannot be used as 'Tensor.numpy()[0]' . In order to avoid this problem, 0D Tensor will be changed to 1D numpy currently, but it's not correct and will be removed in release 2.6. For Tensor contain only one element, Please modify  'Tensor.numpy()[0]' to 'float(Tensor)' as soon as possible, otherwise 'Tensor.numpy()[0]' will raise error in release 2.6.\n",
            "I0808 19:38:32.188738 24241 eager_method.cc:140] Warning:: 0D Tensor cannot be used as 'Tensor.numpy()[0]' . In order to avoid this problem, 0D Tensor will be changed to 1D numpy currently, but it's not correct and will be removed in release 2.6. For Tensor contain only one element, Please modify  'Tensor.numpy()[0]' to 'float(Tensor)' as soon as possible, otherwise 'Tensor.numpy()[0]' will raise error in release 2.6.\n",
            "I0808 19:38:32.188866 24241 eager_method.cc:140] Warning:: 0D Tensor cannot be used as 'Tensor.numpy()[0]' . In order to avoid this problem, 0D Tensor will be changed to 1D numpy currently, but it's not correct and will be removed in release 2.6. For Tensor contain only one element, Please modify  'Tensor.numpy()[0]' to 'float(Tensor)' as soon as possible, otherwise 'Tensor.numpy()[0]' will raise error in release 2.6.\n",
            "I0808 19:38:32.375298 24241 eager_method.cc:140] Warning:: 0D Tensor cannot be used as 'Tensor.numpy()[0]' . In order to avoid this problem, 0D Tensor will be changed to 1D numpy currently, but it's not correct and will be removed in release 2.6. For Tensor contain only one element, Please modify  'Tensor.numpy()[0]' to 'float(Tensor)' as soon as possible, otherwise 'Tensor.numpy()[0]' will raise error in release 2.6.\n",
            "I0808 19:38:32.375424 24241 eager_method.cc:140] Warning:: 0D Tensor cannot be used as 'Tensor.numpy()[0]' . In order to avoid this problem, 0D Tensor will be changed to 1D numpy currently, but it's not correct and will be removed in release 2.6. For Tensor contain only one element, Please modify  'Tensor.numpy()[0]' to 'float(Tensor)' as soon as possible, otherwise 'Tensor.numpy()[0]' will raise error in release 2.6.\n",
            "I0808 19:38:32.568827 24241 eager_method.cc:140] Warning:: 0D Tensor cannot be used as 'Tensor.numpy()[0]' . In order to avoid this problem, 0D Tensor will be changed to 1D numpy currently, but it's not correct and will be removed in release 2.6. For Tensor contain only one element, Please modify  'Tensor.numpy()[0]' to 'float(Tensor)' as soon as possible, otherwise 'Tensor.numpy()[0]' will raise error in release 2.6.\n",
            "I0808 19:38:32.569000 24241 eager_method.cc:140] Warning:: 0D Tensor cannot be used as 'Tensor.numpy()[0]' . In order to avoid this problem, 0D Tensor will be changed to 1D numpy currently, but it's not correct and will be removed in release 2.6. For Tensor contain only one element, Please modify  'Tensor.numpy()[0]' to 'float(Tensor)' as soon as possible, otherwise 'Tensor.numpy()[0]' will raise error in release 2.6.\n",
            "I0808 19:38:32.753249 24241 eager_method.cc:140] Warning:: 0D Tensor cannot be used as 'Tensor.numpy()[0]' . In order to avoid this problem, 0D Tensor will be changed to 1D numpy currently, but it's not correct and will be removed in release 2.6. For Tensor contain only one element, Please modify  'Tensor.numpy()[0]' to 'float(Tensor)' as soon as possible, otherwise 'Tensor.numpy()[0]' will raise error in release 2.6.\n",
            "I0808 19:38:32.753374 24241 eager_method.cc:140] Warning:: 0D Tensor cannot be used as 'Tensor.numpy()[0]' . In order to avoid this problem, 0D Tensor will be changed to 1D numpy currently, but it's not correct and will be removed in release 2.6. For Tensor contain only one element, Please modify  'Tensor.numpy()[0]' to 'float(Tensor)' as soon as possible, otherwise 'Tensor.numpy()[0]' will raise error in release 2.6.\n",
            "I0808 19:38:32.930995 24241 eager_method.cc:140] Warning:: 0D Tensor cannot be used as 'Tensor.numpy()[0]' . In order to avoid this problem, 0D Tensor will be changed to 1D numpy currently, but it's not correct and will be removed in release 2.6. For Tensor contain only one element, Please modify  'Tensor.numpy()[0]' to 'float(Tensor)' as soon as possible, otherwise 'Tensor.numpy()[0]' will raise error in release 2.6.\n",
            "I0808 19:38:32.931134 24241 eager_method.cc:140] Warning:: 0D Tensor cannot be used as 'Tensor.numpy()[0]' . In order to avoid this problem, 0D Tensor will be changed to 1D numpy currently, but it's not correct and will be removed in release 2.6. For Tensor contain only one element, Please modify  'Tensor.numpy()[0]' to 'float(Tensor)' as soon as possible, otherwise 'Tensor.numpy()[0]' will raise error in release 2.6.\n",
            "I0808 19:38:33.116122 24241 eager_method.cc:140] Warning:: 0D Tensor cannot be used as 'Tensor.numpy()[0]' . In order to avoid this problem, 0D Tensor will be changed to 1D numpy currently, but it's not correct and will be removed in release 2.6. For Tensor contain only one element, Please modify  'Tensor.numpy()[0]' to 'float(Tensor)' as soon as possible, otherwise 'Tensor.numpy()[0]' will raise error in release 2.6.\n",
            "I0808 19:38:33.116247 24241 eager_method.cc:140] Warning:: 0D Tensor cannot be used as 'Tensor.numpy()[0]' . In order to avoid this problem, 0D Tensor will be changed to 1D numpy currently, but it's not correct and will be removed in release 2.6. For Tensor contain only one element, Please modify  'Tensor.numpy()[0]' to 'float(Tensor)' as soon as possible, otherwise 'Tensor.numpy()[0]' will raise error in release 2.6.\n",
            "I0808 19:38:33.365249 24241 eager_method.cc:140] Warning:: 0D Tensor cannot be used as 'Tensor.numpy()[0]' . In order to avoid this problem, 0D Tensor will be changed to 1D numpy currently, but it's not correct and will be removed in release 2.6. For Tensor contain only one element, Please modify  'Tensor.numpy()[0]' to 'float(Tensor)' as soon as possible, otherwise 'Tensor.numpy()[0]' will raise error in release 2.6.\n",
            "I0808 19:38:33.365387 24241 eager_method.cc:140] Warning:: 0D Tensor cannot be used as 'Tensor.numpy()[0]' . In order to avoid this problem, 0D Tensor will be changed to 1D numpy currently, but it's not correct and will be removed in release 2.6. For Tensor contain only one element, Please modify  'Tensor.numpy()[0]' to 'float(Tensor)' as soon as possible, otherwise 'Tensor.numpy()[0]' will raise error in release 2.6.\n",
            "I0808 19:38:33.590376 24241 eager_method.cc:140] Warning:: 0D Tensor cannot be used as 'Tensor.numpy()[0]' . In order to avoid this problem, 0D Tensor will be changed to 1D numpy currently, but it's not correct and will be removed in release 2.6. For Tensor contain only one element, Please modify  'Tensor.numpy()[0]' to 'float(Tensor)' as soon as possible, otherwise 'Tensor.numpy()[0]' will raise error in release 2.6.\n",
            "I0808 19:38:33.590476 24241 eager_method.cc:140] Warning:: 0D Tensor cannot be used as 'Tensor.numpy()[0]' . In order to avoid this problem, 0D Tensor will be changed to 1D numpy currently, but it's not correct and will be removed in release 2.6. For Tensor contain only one element, Please modify  'Tensor.numpy()[0]' to 'float(Tensor)' as soon as possible, otherwise 'Tensor.numpy()[0]' will raise error in release 2.6.\n",
            "2023-08-08 19:38:33 [INFO]\t[TRAIN] epoch: 0, iter: 150/20, loss: 0.7471, DSC: 29.7404, lr: 0.009904, batch_cost: 0.2031, reader_cost: 0.00050, ips: 9.8472 samples/sec | ETA 00:00:00\n",
            "2023-08-08 19:38:33 [INFO]\tStart evaluating (total_samples: 1, total_iters: 1)...\n",
            "I0808 19:38:38.686991 24241 eager_method.cc:140] Warning:: 0D Tensor cannot be used as 'Tensor.numpy()[0]' . In order to avoid this problem, 0D Tensor will be changed to 1D numpy currently, but it's not correct and will be removed in release 2.6. For Tensor contain only one element, Please modify  'Tensor.numpy()[0]' to 'float(Tensor)' as soon as possible, otherwise 'Tensor.numpy()[0]' will raise error in release 2.6.\n",
            "1/1 [==============================] - 5s 5s/step - batch_cost: 5.0875 - reader cost: 2.0601\n",
            "2023-08-08 19:38:38 [INFO]\t[EVAL] #Images: 1, Dice: 0.2586, Loss: 0.863475\n",
            "2023-08-08 19:38:38 [INFO]\t[EVAL] Class dice: \n",
            "[0.9942 0.001  0.0283 0.011 ]\n",
            "Traceback (most recent call last):\n",
            "  File \"/content/drive/MyDrive/paddle_seg/PaddleSeg/contrib/MedicalSeg/train.py\", line 232, in <module>\n",
            "    main(args)\n",
            "  File \"/content/drive/MyDrive/paddle_seg/PaddleSeg/contrib/MedicalSeg/train.py\", line 208, in main\n",
            "    train(\n",
            "  File \"/content/drive/MyDrive/paddle_seg/PaddleSeg/contrib/MedicalSeg/medicalseg/core/train.py\", line 244, in train\n",
            "    paddle.save(model.state_dict(),\n",
            "  File \"/usr/local/lib/python3.10/dist-packages/paddle/framework/io.py\", line 823, in save\n",
            "    _legacy_save(obj, path, protocol)\n",
            "  File \"/usr/local/lib/python3.10/dist-packages/paddle/framework/io.py\", line 885, in _legacy_save\n",
            "    pickle.dump(saved_obj, f, protocol=protocol)\n",
            "KeyboardInterrupt\n",
            "^C\n"
          ]
        }
      ],
      "source": [
        "!python train.py --config configs/BraTS/transunet_BraTS_224_224_1_14k_1e-2.yml --iters 20 --do_eval --save_interval 10 --is_save_data False --num_workers 4 --log_iters 10 --use_vdl"
      ]
    },
    {
      "cell_type": "code",
      "source": [
        "!ls"
      ],
      "metadata": {
        "colab": {
          "base_uri": "https://localhost:8080/"
        },
        "id": "teyEuCvCgeV7",
        "outputId": "a2ffa6db-a818-4356-8ada-309d28b6e5ce"
      },
      "execution_count": null,
      "outputs": [
        {
          "output_type": "stream",
          "name": "stdout",
          "text": [
            "configs       documentation  output\t       run-vnet-mri.sh\ttrain.py\n",
            "data\t      export.py      README_CN.md      saved_model\tval.py\n",
            "data_3d       LICENSE\t     README.md\t       test.py\t\tvisualize.ipynb\n",
            "data_3d_test  medicalseg     requirements.txt  test_tipc\n",
            "deploy\t      nnunet\t     run-transunet.sh  tools\n"
          ]
        }
      ]
    },
    {
      "cell_type": "code",
      "source": [
        "!python3 test.py -h"
      ],
      "metadata": {
        "colab": {
          "base_uri": "https://localhost:8080/"
        },
        "id": "gTBF7fk0h-Kf",
        "outputId": "08415680-ba98-42f6-e655-adeba321c9ed"
      },
      "execution_count": null,
      "outputs": [
        {
          "output_type": "stream",
          "name": "stdout",
          "text": [
            "usage: test.py\n",
            "       [-h]\n",
            "       [--config CFG]\n",
            "       [--model_path MODEL_PATH]\n",
            "       [--save_dir SAVE_DIR]\n",
            "       [--num_workers NUM_WORKERS]\n",
            "       [--print_detail PRINT_DETAIL]\n",
            "       [--use_vdl USE_VDL]\n",
            "       [--auc_roc AUC_ROC]\n",
            "       [--sw_num SW_NUM]\n",
            "       [--is_save_data IS_SAVE_DATA]\n",
            "       [--has_dataset_json HAS_DATASET_JSON]\n",
            "\n",
            "Model\n",
            "evaluation\n",
            "\n",
            "options:\n",
            "  -h, --help\n",
            "    show this\n",
            "    help\n",
            "    message and\n",
            "    exit\n",
            "  --config CFG\n",
            "    The config\n",
            "    file.\n",
            "  --model_path MODEL_PATH\n",
            "    The path of\n",
            "    model for\n",
            "    evaluation\n",
            "  --save_dir SAVE_DIR\n",
            "    The path to\n",
            "    save result\n",
            "  --num_workers NUM_WORKERS\n",
            "    Num workers\n",
            "    for data\n",
            "    loader\n",
            "  --print_detail PRINT_DETAIL\n",
            "    Whether to\n",
            "    print\n",
            "    evaluate\n",
            "    values\n",
            "  --use_vdl USE_VDL\n",
            "    Whether to\n",
            "    use\n",
            "    visualdl to\n",
            "    record\n",
            "    result\n",
            "    images\n",
            "  --auc_roc AUC_ROC\n",
            "    Whether to\n",
            "    use auc_roc\n",
            "    metric\n",
            "  --sw_num SW_NUM\n",
            "    sw_num\n",
            "  --is_save_data IS_SAVE_DATA\n",
            "    warmup\n",
            "  --has_dataset_json HAS_DATASET_JSON\n",
            "    has_dataset\n",
            "    _json\n"
          ]
        }
      ]
    },
    {
      "cell_type": "code",
      "source": [
        "!ls"
      ],
      "metadata": {
        "colab": {
          "base_uri": "https://localhost:8080/"
        },
        "id": "2ABThegWtrHr",
        "outputId": "5c8098a4-7e98-4296-f6ac-f346eae011e4"
      },
      "execution_count": null,
      "outputs": [
        {
          "output_type": "stream",
          "name": "stdout",
          "text": [
            "configs       documentation  output\t       run-vnet-mri.sh\ttrain.py\n",
            "data\t      export.py      README_CN.md      saved_model\tval.py\n",
            "data_3d       LICENSE\t     README.md\t       test.py\t\tvisualize.ipynb\n",
            "data_3d_test  medicalseg     requirements.txt  test_tipc\n",
            "deploy\t      nnunet\t     run-transunet.sh  tools\n"
          ]
        }
      ]
    },
    {
      "cell_type": "code",
      "source": [
        "!python3 test.py --config /content/drive/MyDrive/paddle_seg/PaddleSeg/contrib/MedicalSeg/configs/BraTS/transunet_BraTS_224_224_1_14k_1e-2.yml --save_dir /content/drive/MyDrive/paddle_seg/PaddleSeg/contrib/MedicalSeg/data_3d_test/BraTS/BraTS_phase1/predicted --model_path /content/drive/MyDrive/paddle_seg/PaddleSeg/contrib/MedicalSeg/output/best_model/model.pdparams --has_dataset_json True"
      ],
      "metadata": {
        "colab": {
          "base_uri": "https://localhost:8080/"
        },
        "id": "f60KmzhLt3j0",
        "outputId": "3fb8fe92-13e1-4a2e-94ed-ee992ebd3283"
      },
      "execution_count": null,
      "outputs": [
        {
          "output_type": "stream",
          "name": "stdout",
          "text": [
            "2023-07-29 23:05:00 [INFO]\t\n",
            "---------------Config Information---------------\n",
            "batch_size: 2\n",
            "data_root: data_3d_test/\n",
            "export:\n",
            "  inference_helper:\n",
            "    type: InferenceHelper2D\n",
            "  transforms:\n",
            "  - size:\n",
            "    - 1\n",
            "    - 224\n",
            "    - 224\n",
            "    type: Resize3D\n",
            "iters: 500\n",
            "loss:\n",
            "  coef:\n",
            "  - 1\n",
            "  types:\n",
            "  - coef:\n",
            "    - 1\n",
            "    - 1\n",
            "    losses:\n",
            "    - type: CrossEntropyLoss\n",
            "    - type: DiceLoss\n",
            "    type: MixedLoss\n",
            "lr_scheduler:\n",
            "  decay_steps: 13950\n",
            "  end_lr: 0\n",
            "  learning_rate: 0.01\n",
            "  power: 0.9\n",
            "  type: PolynomialDecay\n",
            "model:\n",
            "  attention_dropout_rate: 0.0\n",
            "  backbone:\n",
            "    block_units:\n",
            "    - 3\n",
            "    - 4\n",
            "    - 9\n",
            "    type: ResNet\n",
            "    width_factor: 1\n",
            "  classifier: seg\n",
            "  decoder_channels:\n",
            "  - 256\n",
            "  - 128\n",
            "  - 64\n",
            "  - 16\n",
            "  dropout_rate: 0.1\n",
            "  hidden_size: 768\n",
            "  img_size: 224\n",
            "  mlp_dim: 3072\n",
            "  n_skip: 3\n",
            "  num_classes: 4\n",
            "  num_heads: 12\n",
            "  num_layers: 12\n",
            "  patches_grid:\n",
            "  - 14\n",
            "  - 14\n",
            "  pretrained_path: https://paddleseg.bj.bcebos.com/paddleseg3d/synapse/abdomen/transunet_abdomen_224_224_1_14k_1e-2/transunet_pretrained.zip\n",
            "  skip_channels:\n",
            "  - 512\n",
            "  - 256\n",
            "  - 64\n",
            "  - 16\n",
            "  type: TransUNet\n",
            "optimizer:\n",
            "  momentum: 0.9\n",
            "  type: sgd\n",
            "  weight_decay: 0.0001\n",
            "test_dataset:\n",
            "  dataset_json_path: /content/drive/MyDrive/paddle_seg/PaddleSeg/contrib/MedicalSeg/data_3d_test/BraTS/dataset.json\n",
            "  dataset_root: BraTS/BraTS_phase0\n",
            "  mode: val\n",
            "  num_classes: 4\n",
            "  result_dir: BraTS/BraTS_phase1\n",
            "  transforms:\n",
            "  - size:\n",
            "    - 1\n",
            "    - 224\n",
            "    - 224\n",
            "    type: Resize3D\n",
            "  type: BraTS\n",
            "train_dataset:\n",
            "  dataset_root: BraTS/BraTS_phase0\n",
            "  mode: train\n",
            "  num_classes: 4\n",
            "  result_dir: BraTS/BraTS_phase1\n",
            "  transforms:\n",
            "  - flip_axis:\n",
            "    - 1\n",
            "    - 2\n",
            "    type: RandomFlip3D\n",
            "  - rotate_planes:\n",
            "    - - 1\n",
            "      - 2\n",
            "    type: RandomQuarterTurn3D\n",
            "  - degrees: 20\n",
            "    rotate_planes:\n",
            "    - - 1\n",
            "      - 2\n",
            "    type: RandomRotation3D\n",
            "  - size:\n",
            "    - 1\n",
            "    - 224\n",
            "    - 224\n",
            "    type: Resize3D\n",
            "  type: BraTS\n",
            "val_dataset:\n",
            "  dataset_json_path: /content/drive/MyDrive/paddle_seg/PaddleSeg/contrib/MedicalSeg/data_3d_test/BraTS/dataset.json\n",
            "  dataset_root: BraTS/BraTS_phase0\n",
            "  mode: val\n",
            "  num_classes: 4\n",
            "  result_dir: BraTS/BraTS_phase1\n",
            "  transforms:\n",
            "  - size:\n",
            "    - 1\n",
            "    - 224\n",
            "    - 224\n",
            "    type: Resize3D\n",
            "  type: BraTS\n",
            "------------------------------------------------\n",
            "2023-07-29 23:05:03 [INFO]\tLoading pretrained model from https://paddleseg.bj.bcebos.com/paddleseg3d/synapse/abdomen/transunet_abdomen_224_224_1_14k_1e-2/transunet_pretrained.zip\n",
            "Connecting to https://paddleseg.bj.bcebos.com/paddleseg3d/synapse/abdomen/transunet_abdomen_224_224_1_14k_1e-2/transunet_pretrained.zip\n",
            "Downloading transunet_pretrained.zip\n",
            "[==================================================] 100.00%\n",
            "Uncompress transunet_pretrained.zip\n",
            "[==================================================] 100.00%\n",
            "2023-07-29 23:05:54 [WARNING]\t[SKIP] Shape of pretrained params segmentation_head.0.weight doesn't match.(Pretrained: [9, 16, 3, 3], Actual: [4, 16, 3, 3])\n",
            "2023-07-29 23:05:54 [WARNING]\t[SKIP] Shape of pretrained params segmentation_head.0.bias doesn't match.(Pretrained: [9], Actual: [4])\n",
            "2023-07-29 23:05:55 [INFO]\tThere are 398/400 variables loaded into TransUNet.\n",
            "2023-07-29 23:05:55 [INFO]\tLoading pretrained model from /content/drive/MyDrive/paddle_seg/PaddleSeg/contrib/MedicalSeg/output/best_model/model.pdparams\n",
            "2023-07-29 23:06:00 [INFO]\tThere are 400/400 variables loaded into TransUNet.\n",
            "2023-07-29 23:06:00 [INFO]\tLoaded trained params of model successfully\n",
            "2023-07-29 23:06:00 [INFO]\tStart evaluating (total_samples: 20, total_iters: 20)...\n",
            "I0729 23:12:06.783870  5721 eager_method.cc:140] Warning:: 0D Tensor cannot be used as 'Tensor.numpy()[0]' . In order to avoid this problem, 0D Tensor will be changed to 1D numpy currently, but it's not correct and will be removed in release 2.6. For Tensor contain only one element, Please modify  'Tensor.numpy()[0]' to 'float(Tensor)' as soon as possible, otherwise 'Tensor.numpy()[0]' will raise error in release 2.6.\n",
            "(155, 224, 224)\n",
            "(155, 224, 224)\n",
            "(155, 224, 224)\n",
            "[EVAL] Sucessfully save to /content/drive/MyDrive/paddle_seg/PaddleSeg/contrib/MedicalSeg/data_3d_test/BraTS/BraTS_phase1/predicted/0\n",
            " 1/20 [>.............................] - ETA: 1:56:31 - batch_cost: 367.9729 - reader cost: 2.9051I0729 23:17:58.479197  5721 eager_method.cc:140] Warning:: 0D Tensor cannot be used as 'Tensor.numpy()[0]' . In order to avoid this problem, 0D Tensor will be changed to 1D numpy currently, but it's not correct and will be removed in release 2.6. For Tensor contain only one element, Please modify  'Tensor.numpy()[0]' to 'float(Tensor)' as soon as possible, otherwise 'Tensor.numpy()[0]' will raise error in release 2.6.\n",
            "(155, 224, 224)\n",
            "(155, 224, 224)\n",
            "(155, 224, 224)\n",
            "[EVAL] Sucessfully save to /content/drive/MyDrive/paddle_seg/PaddleSeg/contrib/MedicalSeg/data_3d_test/BraTS/BraTS_phase1/predicted/1\n",
            " 2/20 [==>...........................] - ETA: 1:47:51 - batch_cost: 359.5118 - reader cost: 1.4590I0729 23:23:40.422004  5721 eager_method.cc:140] Warning:: 0D Tensor cannot be used as 'Tensor.numpy()[0]' . In order to avoid this problem, 0D Tensor will be changed to 1D numpy currently, but it's not correct and will be removed in release 2.6. For Tensor contain only one element, Please modify  'Tensor.numpy()[0]' to 'float(Tensor)' as soon as possible, otherwise 'Tensor.numpy()[0]' will raise error in release 2.6.\n",
            "(155, 224, 224)\n",
            "(155, 224, 224)\n",
            "(155, 224, 224)\n",
            "[EVAL] Sucessfully save to /content/drive/MyDrive/paddle_seg/PaddleSeg/contrib/MedicalSeg/data_3d_test/BraTS/BraTS_phase1/predicted/2\n",
            " 3/20 [===>..........................] - ETA: 1:40:12 - batch_cost: 353.6628 - reader cost: 0.9729I0729 23:29:29.788941  5721 eager_method.cc:140] Warning:: 0D Tensor cannot be used as 'Tensor.numpy()[0]' . In order to avoid this problem, 0D Tensor will be changed to 1D numpy currently, but it's not correct and will be removed in release 2.6. For Tensor contain only one element, Please modify  'Tensor.numpy()[0]' to 'float(Tensor)' as soon as possible, otherwise 'Tensor.numpy()[0]' will raise error in release 2.6.\n",
            "(155, 224, 224)\n",
            "(155, 224, 224)\n",
            "(155, 224, 224)\n",
            "[EVAL] Sucessfully save to /content/drive/MyDrive/paddle_seg/PaddleSeg/contrib/MedicalSeg/data_3d_test/BraTS/BraTS_phase1/predicted/3\n",
            " 4/20 [=====>........................] - ETA: 1:34:03 - batch_cost: 352.7208 - reader cost: 0.7313I0729 23:35:03.986138  5721 eager_method.cc:140] Warning:: 0D Tensor cannot be used as 'Tensor.numpy()[0]' . In order to avoid this problem, 0D Tensor will be changed to 1D numpy currently, but it's not correct and will be removed in release 2.6. For Tensor contain only one element, Please modify  'Tensor.numpy()[0]' to 'float(Tensor)' as soon as possible, otherwise 'Tensor.numpy()[0]' will raise error in release 2.6.\n",
            "(155, 224, 224)\n",
            "(155, 224, 224)\n",
            "(155, 224, 224)\n",
            "[EVAL] Sucessfully save to /content/drive/MyDrive/paddle_seg/PaddleSeg/contrib/MedicalSeg/data_3d_test/BraTS/BraTS_phase1/predicted/4\n",
            " 5/20 [======>.......................] - ETA: 1:27:13 - batch_cost: 348.9238 - reader cost: 0.5859I0729 23:40:52.336220  5721 eager_method.cc:140] Warning:: 0D Tensor cannot be used as 'Tensor.numpy()[0]' . In order to avoid this problem, 0D Tensor will be changed to 1D numpy currently, but it's not correct and will be removed in release 2.6. For Tensor contain only one element, Please modify  'Tensor.numpy()[0]' to 'float(Tensor)' as soon as possible, otherwise 'Tensor.numpy()[0]' will raise error in release 2.6.\n",
            " 6/20 [========>.....................] - ETA: 1:21:21 - batch_cost: 348.6703 - reader cost: 0.4884I0729 23:46:29.141968  5721 eager_method.cc:140] Warning:: 0D Tensor cannot be used as 'Tensor.numpy()[0]' . In order to avoid this problem, 0D Tensor will be changed to 1D numpy currently, but it's not correct and will be removed in release 2.6. For Tensor contain only one element, Please modify  'Tensor.numpy()[0]' to 'float(Tensor)' as soon as possible, otherwise 'Tensor.numpy()[0]' will raise error in release 2.6.\n",
            " 7/20 [=========>....................] - ETA: 1:15:10 - batch_cost: 346.9752 - reader cost: 0.4204I0729 23:52:16.508193  5721 eager_method.cc:140] Warning:: 0D Tensor cannot be used as 'Tensor.numpy()[0]' . In order to avoid this problem, 0D Tensor will be changed to 1D numpy currently, but it's not correct and will be removed in release 2.6. For Tensor contain only one element, Please modify  'Tensor.numpy()[0]' to 'float(Tensor)' as soon as possible, otherwise 'Tensor.numpy()[0]' will raise error in release 2.6.\n",
            " 8/20 [===========>..................] - ETA: 1:09:24 - batch_cost: 347.0241 - reader cost: 0.3693I0729 23:58:11.330906  5721 eager_method.cc:140] Warning:: 0D Tensor cannot be used as 'Tensor.numpy()[0]' . In order to avoid this problem, 0D Tensor will be changed to 1D numpy currently, but it's not correct and will be removed in release 2.6. For Tensor contain only one element, Please modify  'Tensor.numpy()[0]' to 'float(Tensor)' as soon as possible, otherwise 'Tensor.numpy()[0]' will raise error in release 2.6.\n",
            " 9/20 [============>.................] - ETA: 1:03:46 - batch_cost: 347.8905 - reader cost: 0.3288I0730 00:03:50.643728  5721 eager_method.cc:140] Warning:: 0D Tensor cannot be used as 'Tensor.numpy()[0]' . In order to avoid this problem, 0D Tensor will be changed to 1D numpy currently, but it's not correct and will be removed in release 2.6. For Tensor contain only one element, Please modify  'Tensor.numpy()[0]' to 'float(Tensor)' as soon as possible, otherwise 'Tensor.numpy()[0]' will raise error in release 2.6.\n",
            "10/20 [==============>...............] - ETA: 57:50 - batch_cost: 347.0327 - reader cost: 0.2963  I0730 00:09:43.566634  5721 eager_method.cc:140] Warning:: 0D Tensor cannot be used as 'Tensor.numpy()[0]' . In order to avoid this problem, 0D Tensor will be changed to 1D numpy currently, but it's not correct and will be removed in release 2.6. For Tensor contain only one element, Please modify  'Tensor.numpy()[0]' to 'float(Tensor)' as soon as possible, otherwise 'Tensor.numpy()[0]' will raise error in release 2.6.\n",
            "11/20 [===============>..............] - ETA: 52:08 - batch_cost: 347.5682 - reader cost: 0.2702I0730 00:15:15.088781  5721 eager_method.cc:140] Warning:: 0D Tensor cannot be used as 'Tensor.numpy()[0]' . In order to avoid this problem, 0D Tensor will be changed to 1D numpy currently, but it's not correct and will be removed in release 2.6. For Tensor contain only one element, Please modify  'Tensor.numpy()[0]' to 'float(Tensor)' as soon as possible, otherwise 'Tensor.numpy()[0]' will raise error in release 2.6.\n",
            "12/20 [=================>............] - ETA: 46:09 - batch_cost: 346.2310 - reader cost: 0.2485I0730 00:21:07.726684  5721 eager_method.cc:140] Warning:: 0D Tensor cannot be used as 'Tensor.numpy()[0]' . In order to avoid this problem, 0D Tensor will be changed to 1D numpy currently, but it's not correct and will be removed in release 2.6. For Tensor contain only one element, Please modify  'Tensor.numpy()[0]' to 'float(Tensor)' as soon as possible, otherwise 'Tensor.numpy()[0]' will raise error in release 2.6.\n",
            "13/20 [==================>...........] - ETA: 40:27 - batch_cost: 346.7238 - reader cost: 0.2301I0730 00:26:49.135375  5721 eager_method.cc:140] Warning:: 0D Tensor cannot be used as 'Tensor.numpy()[0]' . In order to avoid this problem, 0D Tensor will be changed to 1D numpy currently, but it's not correct and will be removed in release 2.6. For Tensor contain only one element, Please modify  'Tensor.numpy()[0]' to 'float(Tensor)' as soon as possible, otherwise 'Tensor.numpy()[0]' will raise error in release 2.6.\n",
            "14/20 [====================>.........] - ETA: 34:38 - batch_cost: 346.3441 - reader cost: 0.2143I0730 00:32:37.284516  5721 eager_method.cc:140] Warning:: 0D Tensor cannot be used as 'Tensor.numpy()[0]' . In order to avoid this problem, 0D Tensor will be changed to 1D numpy currently, but it's not correct and will be removed in release 2.6. For Tensor contain only one element, Please modify  'Tensor.numpy()[0]' to 'float(Tensor)' as soon as possible, otherwise 'Tensor.numpy()[0]' will raise error in release 2.6.\n",
            "15/20 [=====================>........] - ETA: 28:52 - batch_cost: 346.4644 - reader cost: 0.2006I0730 00:38:25.196316  5721 eager_method.cc:140] Warning:: 0D Tensor cannot be used as 'Tensor.numpy()[0]' . In order to avoid this problem, 0D Tensor will be changed to 1D numpy currently, but it's not correct and will be removed in release 2.6. For Tensor contain only one element, Please modify  'Tensor.numpy()[0]' to 'float(Tensor)' as soon as possible, otherwise 'Tensor.numpy()[0]' will raise error in release 2.6.\n",
            "16/20 [=======================>......] - ETA: 23:06 - batch_cost: 346.5549 - reader cost: 0.1887I0730 00:44:09.802769  5721 eager_method.cc:140] Warning:: 0D Tensor cannot be used as 'Tensor.numpy()[0]' . In order to avoid this problem, 0D Tensor will be changed to 1D numpy currently, but it's not correct and will be removed in release 2.6. For Tensor contain only one element, Please modify  'Tensor.numpy()[0]' to 'float(Tensor)' as soon as possible, otherwise 'Tensor.numpy()[0]' will raise error in release 2.6.\n",
            "17/20 [========================>.....] - ETA: 17:19 - batch_cost: 346.4402 - reader cost: 0.1780I0730 00:50:03.523236  5721 eager_method.cc:140] Warning:: 0D Tensor cannot be used as 'Tensor.numpy()[0]' . In order to avoid this problem, 0D Tensor will be changed to 1D numpy currently, but it's not correct and will be removed in release 2.6. For Tensor contain only one element, Please modify  'Tensor.numpy()[0]' to 'float(Tensor)' as soon as possible, otherwise 'Tensor.numpy()[0]' will raise error in release 2.6.\n",
            "18/20 [==========================>...] - ETA: 11:33 - batch_cost: 346.8447 - reader cost: 0.1685I0730 00:55:47.829572  5721 eager_method.cc:140] Warning:: 0D Tensor cannot be used as 'Tensor.numpy()[0]' . In order to avoid this problem, 0D Tensor will be changed to 1D numpy currently, but it's not correct and will be removed in release 2.6. For Tensor contain only one element, Please modify  'Tensor.numpy()[0]' to 'float(Tensor)' as soon as possible, otherwise 'Tensor.numpy()[0]' will raise error in release 2.6.\n",
            "19/20 [===========================>..] - ETA: 5:46 - batch_cost: 346.7111 - reader cost: 0.1601 I0730 01:01:33.894306  5721 eager_method.cc:140] Warning:: 0D Tensor cannot be used as 'Tensor.numpy()[0]' . In order to avoid this problem, 0D Tensor will be changed to 1D numpy currently, but it's not correct and will be removed in release 2.6. For Tensor contain only one element, Please modify  'Tensor.numpy()[0]' to 'float(Tensor)' as soon as possible, otherwise 'Tensor.numpy()[0]' will raise error in release 2.6.\n",
            "20/20 [==============================] - 6934s 347s/step - batch_cost: 346.6787 - reader cost: 0.1526\n",
            "2023-07-30 01:01:33 [INFO]\t[EVAL] #Images: 20, Dice: 0.2661, Loss: 2.514884\n",
            "2023-07-30 01:01:33 [INFO]\t[EVAL] Class dice: \n",
            "[1.0185 0.0175 0.0245 0.004 ]\n"
          ]
        }
      ]
    }
  ],
  "metadata": {
    "colab": {
      "provenance": [],
      "gpuType": "T4",
      "toc_visible": true,
      "include_colab_link": true
    },
    "kernelspec": {
      "display_name": "Python 3",
      "name": "python3"
    },
    "language_info": {
      "name": "python"
    },
    "accelerator": "GPU"
  },
  "nbformat": 4,
  "nbformat_minor": 0
}