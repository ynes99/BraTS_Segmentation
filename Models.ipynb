{
 "cells": [
  {
   "attachments": {},
   "cell_type": "markdown",
   "metadata": {},
   "source": [
    "# Imports "
   ]
  },
  {
   "cell_type": "code",
   "execution_count": 1,
   "metadata": {},
   "outputs": [
    {
     "name": "stderr",
     "output_type": "stream",
     "text": [
      "c:\\Users\\bouhe\\anaconda3\\envs\\pytorch\\Lib\\site-packages\\tqdm\\auto.py:21: TqdmWarning: IProgress not found. Please update jupyter and ipywidgets. See https://ipywidgets.readthedocs.io/en/stable/user_install.html\n",
      "  from .autonotebook import tqdm as notebook_tqdm\n"
     ]
    },
    {
     "ename": "ModuleNotFoundError",
     "evalue": "No module named 'pydicom'",
     "output_type": "error",
     "traceback": [
      "\u001b[1;31m---------------------------------------------------------------------------\u001b[0m",
      "\u001b[1;31mModuleNotFoundError\u001b[0m                       Traceback (most recent call last)",
      "\u001b[1;32mc:\\Users\\bouhe\\OneDrive\\Documents\\Python Scripts\\work_internship mitacs_backup\\Models.ipynb Cell 2\u001b[0m line \u001b[0;36m2\n\u001b[0;32m     <a href='vscode-notebook-cell:/c%3A/Users/bouhe/OneDrive/Documents/Python%20Scripts/work_internship%20mitacs_backup/Models.ipynb#W1sZmlsZQ%3D%3D?line=23'>24</a>\u001b[0m \u001b[39mimport\u001b[39;00m \u001b[39mos\u001b[39;00m\n\u001b[0;32m     <a href='vscode-notebook-cell:/c%3A/Users/bouhe/OneDrive/Documents/Python%20Scripts/work_internship%20mitacs_backup/Models.ipynb#W1sZmlsZQ%3D%3D?line=24'>25</a>\u001b[0m \u001b[39mimport\u001b[39;00m \u001b[39mshutil\u001b[39;00m\n\u001b[1;32m---> <a href='vscode-notebook-cell:/c%3A/Users/bouhe/OneDrive/Documents/Python%20Scripts/work_internship%20mitacs_backup/Models.ipynb#W1sZmlsZQ%3D%3D?line=25'>26</a>\u001b[0m \u001b[39mimport\u001b[39;00m \u001b[39mfunctions\u001b[39;00m\n",
      "File \u001b[1;32mc:\\Users\\bouhe\\OneDrive\\Documents\\Python Scripts\\work_internship mitacs_backup\\functions.py:2\u001b[0m\n\u001b[0;32m      1\u001b[0m \u001b[39mimport\u001b[39;00m \u001b[39mglob\u001b[39;00m\n\u001b[1;32m----> 2\u001b[0m \u001b[39mimport\u001b[39;00m \u001b[39mpydicom\u001b[39;00m\n\u001b[0;32m      3\u001b[0m \u001b[39mimport\u001b[39;00m \u001b[39mimageio\u001b[39;00m\n\u001b[0;32m      4\u001b[0m \u001b[39mimport\u001b[39;00m \u001b[39mnumpy\u001b[39;00m \u001b[39mas\u001b[39;00m \u001b[39mnp\u001b[39;00m\n",
      "\u001b[1;31mModuleNotFoundError\u001b[0m: No module named 'pydicom'"
     ]
    }
   ],
   "source": [
    "import glob\n",
    "import os\n",
    "import numpy as np\n",
    "import PIL\n",
    "from datasets import Image, Dataset\n",
    "from datasets import load_dataset   \n",
    "import pandas as pd\n",
    "import os\n",
    "import winsound\n",
    "from transformers import SamProcessor\n",
    "import chime\n",
    "from tqdm import tqdm\n",
    "from statistics import mean\n",
    "import torch\n",
    "from torch.nn.functional import threshold, normalize\n",
    "from torch.utils.data import Dataset\n",
    "from transformers import SamProcessor\n",
    "from torch.utils.data import DataLoader\n",
    "from torch.optim import Adam\n",
    "import monai\n",
    "from transformers import SamModel \n",
    "import json\n",
    "import torch\n",
    "import os\n",
    "import shutil\n",
    "import functions"
   ]
  },
  {
   "cell_type": "code",
   "execution_count": 4,
   "metadata": {},
   "outputs": [
    {
     "name": "stdout",
     "output_type": "stream",
     "text": [
      "3.11.3 | packaged by Anaconda, Inc. | (main, Apr 19 2023, 23:46:34) [MSC v.1916 64 bit (AMD64)]\n"
     ]
    }
   ],
   "source": [
    "import sys\n",
    "print(sys.version)"
   ]
  },
  {
   "attachments": {},
   "cell_type": "markdown",
   "metadata": {},
   "source": [
    "# Checking Gpu"
   ]
  },
  {
   "attachments": {},
   "cell_type": "markdown",
   "metadata": {},
   "source": [
    "## Pytorch"
   ]
  },
  {
   "cell_type": "code",
   "execution_count": 2,
   "metadata": {},
   "outputs": [],
   "source": [
    "import torch"
   ]
  },
  {
   "cell_type": "code",
   "execution_count": 3,
   "metadata": {},
   "outputs": [
    {
     "name": "stdout",
     "output_type": "stream",
     "text": [
      "True\n"
     ]
    }
   ],
   "source": [
    "print(torch.cuda.is_available())"
   ]
  },
  {
   "attachments": {},
   "cell_type": "markdown",
   "metadata": {},
   "source": [
    "The provided segmentation labels have values of:\n",
    "\n",
    "    1 for NCR\n",
    "    2 for ED\n",
    "    3 for ET\n",
    "    0 for everything else.\n"
   ]
  },
  {
   "attachments": {},
   "cell_type": "markdown",
   "metadata": {},
   "source": [
    "# TRANSFORMES"
   ]
  },
  {
   "attachments": {},
   "cell_type": "markdown",
   "metadata": {},
   "source": [
    "the attention mechanism was introduced to improve the performance of the encoder-decoder model for machine translation.  \n",
    "The idea behind the attention mechanism was to **permit the decoder** to utilize the most relevant parts of the input sequence in a flexible manner, by a weighted combination of all the encoded input vectors, with the most relevant vectors being attributed the <mark>highest weights</mark>. "
   ]
  },
  {
   "attachments": {},
   "cell_type": "markdown",
   "metadata": {},
   "source": [
    "In this project we are going to use transformers instead of fully convolutional networks or a mixture of the two architectures."
   ]
  },
  {
   "attachments": {},
   "cell_type": "markdown",
   "metadata": {},
   "source": [
    "## Segment anything"
   ]
  },
  {
   "cell_type": "code",
   "execution_count": null,
   "metadata": {},
   "outputs": [],
   "source": [
    "%ls"
   ]
  },
  {
   "cell_type": "code",
   "execution_count": 50,
   "metadata": {},
   "outputs": [
    {
     "name": "stdout",
     "output_type": "stream",
     "text": [
      "Note: you may need to restart the kernel to use updated packages.\n"
     ]
    },
    {
     "name": "stderr",
     "output_type": "stream",
     "text": [
      "\n",
      "[notice] A new release of pip is available: 23.1.2 -> 23.2.1\n",
      "[notice] To update, run: python.exe -m pip install --upgrade pip\n"
     ]
    }
   ],
   "source": [
    "%pip install -q git+https://github.com/huggingface/transformers.git"
   ]
  },
  {
   "cell_type": "code",
   "execution_count": 51,
   "metadata": {},
   "outputs": [
    {
     "name": "stdout",
     "output_type": "stream",
     "text": [
      "Note: you may need to restart the kernel to use updated packages.\n"
     ]
    },
    {
     "name": "stderr",
     "output_type": "stream",
     "text": [
      "\n",
      "[notice] A new release of pip is available: 23.1.2 -> 23.2.1\n",
      "[notice] To update, run: python.exe -m pip install --upgrade pip\n"
     ]
    }
   ],
   "source": [
    "%pip install -q datasets"
   ]
  },
  {
   "cell_type": "code",
   "execution_count": 52,
   "metadata": {},
   "outputs": [
    {
     "name": "stdout",
     "output_type": "stream",
     "text": [
      "Note: you may need to restart the kernel to use updated packages.\n"
     ]
    },
    {
     "name": "stderr",
     "output_type": "stream",
     "text": [
      "\n",
      "[notice] A new release of pip is available: 23.1.2 -> 23.2.1\n",
      "[notice] To update, run: python.exe -m pip install --upgrade pip\n"
     ]
    }
   ],
   "source": [
    "%pip install -q monai"
   ]
  },
  {
   "cell_type": "code",
   "execution_count": 4,
   "metadata": {},
   "outputs": [
    {
     "data": {
      "text/html": [
       "<div>\n",
       "<style scoped>\n",
       "    .dataframe tbody tr th:only-of-type {\n",
       "        vertical-align: middle;\n",
       "    }\n",
       "\n",
       "    .dataframe tbody tr th {\n",
       "        vertical-align: top;\n",
       "    }\n",
       "\n",
       "    .dataframe thead th {\n",
       "        text-align: right;\n",
       "    }\n",
       "</style>\n",
       "<table border=\"1\" class=\"dataframe\">\n",
       "  <thead>\n",
       "    <tr style=\"text-align: right;\">\n",
       "      <th></th>\n",
       "      <th>image_name</th>\n",
       "      <th>patient_id</th>\n",
       "      <th>time_stamp</th>\n",
       "      <th>scan_type</th>\n",
       "      <th>split</th>\n",
       "    </tr>\n",
       "  </thead>\n",
       "  <tbody>\n",
       "    <tr>\n",
       "      <th>0</th>\n",
       "      <td>Slice_dim0_118.png</td>\n",
       "      <td>0</td>\n",
       "      <td>0</td>\n",
       "      <td>seg</td>\n",
       "      <td>train</td>\n",
       "    </tr>\n",
       "    <tr>\n",
       "      <th>1</th>\n",
       "      <td>Slice_dim1_113.png</td>\n",
       "      <td>0</td>\n",
       "      <td>0</td>\n",
       "      <td>t1c</td>\n",
       "      <td>train</td>\n",
       "    </tr>\n",
       "    <tr>\n",
       "      <th>2</th>\n",
       "      <td>Slice_dim1_112.png</td>\n",
       "      <td>0</td>\n",
       "      <td>0</td>\n",
       "      <td>t1c</td>\n",
       "      <td>train</td>\n",
       "    </tr>\n",
       "    <tr>\n",
       "      <th>3</th>\n",
       "      <td>Slice_dim1_111.png</td>\n",
       "      <td>0</td>\n",
       "      <td>0</td>\n",
       "      <td>t1c</td>\n",
       "      <td>train</td>\n",
       "    </tr>\n",
       "    <tr>\n",
       "      <th>4</th>\n",
       "      <td>Slice_dim1_110.png</td>\n",
       "      <td>0</td>\n",
       "      <td>0</td>\n",
       "      <td>t1c</td>\n",
       "      <td>train</td>\n",
       "    </tr>\n",
       "    <tr>\n",
       "      <th>...</th>\n",
       "      <td>...</td>\n",
       "      <td>...</td>\n",
       "      <td>...</td>\n",
       "      <td>...</td>\n",
       "      <td>...</td>\n",
       "    </tr>\n",
       "    <tr>\n",
       "      <th>1677973</th>\n",
       "      <td>Slice_dim2_98.png</td>\n",
       "      <td>1790</td>\n",
       "      <td>0</td>\n",
       "      <td>t1c</td>\n",
       "      <td>test</td>\n",
       "    </tr>\n",
       "    <tr>\n",
       "      <th>1677974</th>\n",
       "      <td>Slice_dim2_97.png</td>\n",
       "      <td>1790</td>\n",
       "      <td>0</td>\n",
       "      <td>t1c</td>\n",
       "      <td>test</td>\n",
       "    </tr>\n",
       "    <tr>\n",
       "      <th>1677975</th>\n",
       "      <td>Slice_dim2_96.png</td>\n",
       "      <td>1790</td>\n",
       "      <td>0</td>\n",
       "      <td>t1c</td>\n",
       "      <td>test</td>\n",
       "    </tr>\n",
       "    <tr>\n",
       "      <th>1677976</th>\n",
       "      <td>Slice_dim0_103.png</td>\n",
       "      <td>1790</td>\n",
       "      <td>0</td>\n",
       "      <td>t1n</td>\n",
       "      <td>test</td>\n",
       "    </tr>\n",
       "    <tr>\n",
       "      <th>1677977</th>\n",
       "      <td>Slice_dim2_99.png</td>\n",
       "      <td>1790</td>\n",
       "      <td>0</td>\n",
       "      <td>t2w</td>\n",
       "      <td>test</td>\n",
       "    </tr>\n",
       "  </tbody>\n",
       "</table>\n",
       "<p>1677978 rows × 5 columns</p>\n",
       "</div>"
      ],
      "text/plain": [
       "                 image_name  patient_id  time_stamp scan_type  split\n",
       "0        Slice_dim0_118.png           0           0       seg  train\n",
       "1        Slice_dim1_113.png           0           0       t1c  train\n",
       "2        Slice_dim1_112.png           0           0       t1c  train\n",
       "3        Slice_dim1_111.png           0           0       t1c  train\n",
       "4        Slice_dim1_110.png           0           0       t1c  train\n",
       "...                     ...         ...         ...       ...    ...\n",
       "1677973   Slice_dim2_98.png        1790           0       t1c   test\n",
       "1677974   Slice_dim2_97.png        1790           0       t1c   test\n",
       "1677975   Slice_dim2_96.png        1790           0       t1c   test\n",
       "1677976  Slice_dim0_103.png        1790           0       t1n   test\n",
       "1677977   Slice_dim2_99.png        1790           0       t2w   test\n",
       "\n",
       "[1677978 rows x 5 columns]"
      ]
     },
     "execution_count": 4,
     "metadata": {},
     "output_type": "execute_result"
    }
   ],
   "source": [
    "# Read the csv file\n",
    "data = pd.read_csv(r'C:\\Users\\bouhe\\OneDrive\\Bureau\\pfe\\dataset\\png_format\\metadata.csv')\n",
    "data"
   ]
  },
  {
   "cell_type": "code",
   "execution_count": 5,
   "metadata": {},
   "outputs": [
    {
     "data": {
      "text/plain": [
       "<bound method NDFrame.sample of                  image_name  patient_id  time_stamp scan_type  split\n",
       "0        Slice_dim0_118.png           0           0       seg  train\n",
       "677       Slice_dim1_62.png           0           0       seg  train\n",
       "678       Slice_dim1_87.png           0           0       seg  train\n",
       "679       Slice_dim1_88.png           0           0       seg  train\n",
       "680       Slice_dim1_89.png           0           0       seg  train\n",
       "...                     ...         ...         ...       ...    ...\n",
       "1477663   Slice_dim2_94.png        1666           0       seg  train\n",
       "1477683  Slice_dim1_107.png        1666           0       seg  train\n",
       "1477684  Slice_dim1_103.png        1666           0       seg  train\n",
       "1477685   Slice_dim1_93.png        1666           0       seg  train\n",
       "1477741  Slice_dim1_108.png        1666           0       seg  train\n",
       "\n",
       "[257445 rows x 5 columns]>"
      ]
     },
     "execution_count": 5,
     "metadata": {},
     "output_type": "execute_result"
    }
   ],
   "source": [
    "d_t_gt = data.loc[(data['split'] == 'train') & (data['scan_type'] == 'seg')]\n",
    "d_t_gt.sample"
   ]
  },
  {
   "cell_type": "code",
   "execution_count": 6,
   "metadata": {},
   "outputs": [
    {
     "data": {
      "text/plain": [
       "<bound method NDFrame.sample of                  image_name  patient_id  time_stamp scan_type  split\n",
       "0        Slice_dim0_118.png           0           0       seg  train\n",
       "677       Slice_dim1_62.png           0           0       seg  train\n",
       "678       Slice_dim1_87.png           0           0       seg  train\n",
       "679       Slice_dim1_88.png           0           0       seg  train\n",
       "680       Slice_dim1_89.png           0           0       seg  train\n",
       "...                     ...         ...         ...       ...    ...\n",
       "1090495  Slice_dim0_147.png        1173           0       seg  train\n",
       "1090496  Slice_dim0_146.png        1173           0       seg  train\n",
       "1090497  Slice_dim0_145.png        1173           0       seg  train\n",
       "1090498  Slice_dim0_144.png        1173           0       seg  train\n",
       "1090519  Slice_dim0_160.png        1173           0       seg  train\n",
       "\n",
       "[180094 rows x 5 columns]>"
      ]
     },
     "execution_count": 6,
     "metadata": {},
     "output_type": "execute_result"
    }
   ],
   "source": [
    "d_t_gt = d_t_gt[d_t_gt['patient_id'] <= 1173]\n",
    "d_t_gt.sample"
   ]
  },
  {
   "cell_type": "code",
   "execution_count": 7,
   "metadata": {},
   "outputs": [
    {
     "data": {
      "text/plain": [
       "<bound method NDFrame.sample of                  image_name  patient_id  time_stamp scan_type  split\n",
       "1        Slice_dim1_113.png           0           0       t1c  train\n",
       "2        Slice_dim1_112.png           0           0       t1c  train\n",
       "3        Slice_dim1_111.png           0           0       t1c  train\n",
       "4        Slice_dim1_110.png           0           0       t1c  train\n",
       "5        Slice_dim1_109.png           0           0       t1c  train\n",
       "...                     ...         ...         ...       ...    ...\n",
       "1091089  Slice_dim0_157.png        1173           0       t2f  train\n",
       "1091090  Slice_dim0_160.png        1173           0       t2f  train\n",
       "1091091  Slice_dim0_159.png        1173           0       t2f  train\n",
       "1091092  Slice_dim0_158.png        1173           0       t2f  train\n",
       "1091093  Slice_dim0_165.png        1173           0       t2f  train\n",
       "\n",
       "[720375 rows x 5 columns]>"
      ]
     },
     "execution_count": 7,
     "metadata": {},
     "output_type": "execute_result"
    }
   ],
   "source": [
    "d_t_im = data.loc[(data['split'] == 'train') & ((data['scan_type'] == 't1c') | ( data['scan_type'] == 't1n') | (data['scan_type'] == 't2f') | (data['scan_type'] == 't2w'))]\n",
    "d_t_im = d_t_im[d_t_im['patient_id'] <= 1173]\n",
    "d_t_im.sample"
   ]
  },
  {
   "cell_type": "code",
   "execution_count": 8,
   "metadata": {},
   "outputs": [
    {
     "data": {
      "text/plain": [
       "<bound method NDFrame.sample of Empty DataFrame\n",
       "Columns: [image_name, patient_id, time_stamp, scan_type, split]\n",
       "Index: []>"
      ]
     },
     "execution_count": 8,
     "metadata": {},
     "output_type": "execute_result"
    }
   ],
   "source": [
    "d_test_gt = d_t_gt[d_t_gt['patient_id'] > 1173]\n",
    "d_test_gt.sample"
   ]
  },
  {
   "cell_type": "code",
   "execution_count": 9,
   "metadata": {},
   "outputs": [
    {
     "data": {
      "text/plain": [
       "<bound method NDFrame.sample of                  image_name  patient_id  time_stamp scan_type  split\n",
       "1091094  Slice_dim0_164.png        1174           0       t1c  train\n",
       "1091095  Slice_dim0_163.png        1174           0       t1c  train\n",
       "1091096  Slice_dim0_162.png        1174           0       t1c  train\n",
       "1091097  Slice_dim0_161.png        1174           0       t1c  train\n",
       "1091098  Slice_dim0_157.png        1174           0       t1c  train\n",
       "...                     ...         ...         ...       ...    ...\n",
       "1477840   Slice_dim1_92.png        1666           0       t1n  train\n",
       "1477841  Slice_dim2_105.png        1666           0       t1n  train\n",
       "1477842   Slice_dim1_94.png        1666           0       t1n  train\n",
       "1477843   Slice_dim1_95.png        1666           0       t1n  train\n",
       "1477844   Slice_dim1_93.png        1666           0       t1n  train\n",
       "\n",
       "[309400 rows x 5 columns]>"
      ]
     },
     "execution_count": 9,
     "metadata": {},
     "output_type": "execute_result"
    }
   ],
   "source": [
    "d_test_im = data.loc[(data['split'] == 'train') & ((data['scan_type'] == 't1c') | ( data['scan_type'] == 't1n') | (data['scan_type'] == 't2f') | (data['scan_type'] == 't2w'))]\n",
    "d_test_im = d_test_im[d_test_im['patient_id'] > 1173]\n",
    "d_test_im.sample"
   ]
  },
  {
   "cell_type": "code",
   "execution_count": 10,
   "metadata": {},
   "outputs": [
    {
     "name": "stdout",
     "output_type": "stream",
     "text": [
      "Training cases: 758 Testing cases: 375\n"
     ]
    }
   ],
   "source": [
    "print('Training cases:',len(set(d_t_im['patient_id'])),'Testing cases:',len(set(d_test_im['patient_id'])))"
   ]
  },
  {
   "cell_type": "code",
   "execution_count": 11,
   "metadata": {},
   "outputs": [],
   "source": [
    "parent_dir = r\"C:\\Users\\bouhe\\OneDrive\\Bureau\\pfe\\dataset\\png_format\"\n",
    "images_train = []\n",
    "for i in range(len(d_t_im)):\n",
    "    temp = d_t_im.iloc[i]\n",
    "    folder = '-'.join([\"BraTS-GLI\",str(temp['patient_id']).zfill(5), str(temp['time_stamp']).zfill(3)])\n",
    "    res = os.path.join(*[parent_dir,temp['split'],folder,temp['scan_type'],temp['image_name']])\n",
    "    images_train.append(res)\n",
    "    \n",
    "gt_train = images_train"
   ]
  },
  {
   "cell_type": "code",
   "execution_count": 12,
   "metadata": {},
   "outputs": [],
   "source": [
    "tmp = []\n",
    "for string in gt_train:\n",
    "    tm = ' '.join(string.split('\\\\'))\n",
    "    r = tm.replace(\"t1c\",\"seg\")\n",
    "    r = r.replace(\"t1n\",\"seg\")\n",
    "    r = r.replace(\"t2f\",\"seg\")\n",
    "    r = r.replace(\"t2w\",\"seg\")\n",
    "    f ='\\\\'.join(r.split(' '))\n",
    "    tmp.append(f)\n",
    "gt_train = tmp"
   ]
  },
  {
   "cell_type": "code",
   "execution_count": 13,
   "metadata": {},
   "outputs": [],
   "source": [
    "parent_dir = r\"C:\\Users\\bouhe\\OneDrive\\Bureau\\pfe\\dataset\\png_format\"\n",
    "images_test = []\n",
    "for i in range(len(d_test_im)):\n",
    "    temp = d_test_im.iloc[i]\n",
    "    folder = '-'.join([\"BraTS-GLI\",str(temp['patient_id']).zfill(5), str(temp['time_stamp']).zfill(3)])\n",
    "    res = os.path.join(*[parent_dir,temp['split'],folder,temp['scan_type'],temp['image_name']])\n",
    "    images_test.append(res)\n"
   ]
  },
  {
   "cell_type": "code",
   "execution_count": 14,
   "metadata": {},
   "outputs": [
    {
     "data": {
      "text/plain": [
       "309400"
      ]
     },
     "execution_count": 14,
     "metadata": {},
     "output_type": "execute_result"
    }
   ],
   "source": [
    "len(images_test)"
   ]
  },
  {
   "cell_type": "code",
   "execution_count": 15,
   "metadata": {},
   "outputs": [],
   "source": [
    "Dir = 'C:\\\\Users\\\\bouhe\\\\OneDrive\\\\Bureau\\\\pfe\\\\dataset\\\\png_format\\\\train\\\\'\n",
    "images_test.remove(Dir +'BraTS-GLI-01432-000\\\\t2w\\\\Slice_dim1_50.png')\n",
    "images_test.remove(Dir +'BraTS-GLI-01432-000\\\\t1n\\\\Slice_dim1_50.png')\n",
    "images_test.remove(Dir +'BraTS-GLI-01432-000\\\\t1c\\\\Slice_dim1_50.png')\n",
    "images_test.remove(Dir +'BraTS-GLI-01432-000\\\\t2w\\\\Slice_dim1_49.png')\n",
    "images_test.remove(Dir +'BraTS-GLI-01432-000\\\\t1n\\\\Slice_dim1_49.png')\n",
    "images_test.remove(Dir +'BraTS-GLI-01432-000\\\\t1c\\\\Slice_dim1_49.png')\n",
    "images_test.remove(Dir +'BraTS-GLI-01432-000\\\\t2w\\\\Slice_dim1_48.png')\n",
    "images_test.remove(Dir +'BraTS-GLI-01432-000\\\\t1n\\\\Slice_dim1_48.png')\n",
    "images_test.remove(Dir +'BraTS-GLI-01432-000\\\\t1c\\\\Slice_dim1_48.png')\n",
    "images_test.remove(Dir +'BraTS-GLI-01432-000\\\\t2w\\\\Slice_dim1_47.png')\n",
    "images_test.remove(Dir +'BraTS-GLI-01432-000\\\\t1n\\\\Slice_dim1_47.png')\n",
    "images_test.remove(Dir +'BraTS-GLI-01432-000\\\\t1c\\\\Slice_dim1_47.png')\n"
   ]
  },
  {
   "cell_type": "code",
   "execution_count": 16,
   "metadata": {},
   "outputs": [],
   "source": [
    "tmp = []\n",
    "for string in images_test:\n",
    "    tm = ' '.join(string.split('\\\\'))\n",
    "    r = tm.replace(\"t1c\",\"seg\")\n",
    "    r = r.replace(\"t1n\",\"seg\")\n",
    "    r = r.replace(\"t2f\",\"seg\")\n",
    "    r = r.replace(\"t2w\",\"seg\")\n",
    "    f ='\\\\'.join(r.split(' '))\n",
    "    tmp.append(f)\n",
    "gt_test = tmp"
   ]
  },
  {
   "cell_type": "code",
   "execution_count": 17,
   "metadata": {},
   "outputs": [],
   "source": [
    "t1c,t1n,t2f,t2w = [], [], [], []\n",
    "for image, mask in zip(images_test, gt_test):\n",
    "    if 't1c' in image :\n",
    "        t1c.append((image,mask))\n",
    "    elif 't1n'in image :\n",
    "        t1n.append((image,mask))\n",
    "    elif 't2f'in image :\n",
    "        t2f.append((image,mask))    \n",
    "    elif 't2w'in image  :\n",
    "        t2w.append((image,mask))"
   ]
  },
  {
   "cell_type": "code",
   "execution_count": 18,
   "metadata": {},
   "outputs": [],
   "source": [
    "final_t = []\n",
    "for path_seg in gt_train :\n",
    "    tmp_list = path_seg.split('\\\\')\n",
    "    tmp_list.pop(-2)\n",
    "    final_t.append('C:\\\\'+os.path.join(*(tmp_list[1:8] + ['train_fused'] + tmp_list[9:])))"
   ]
  },
  {
   "cell_type": "code",
   "execution_count": 19,
   "metadata": {},
   "outputs": [],
   "source": [
    "uni_g = []\n",
    "for path_name in gt_train:\n",
    "    new_path = path_name.split('\\\\')\n",
    "    uni_g.append(('\\\\').join(new_path[0:8]+['train']+new_path[9::]))"
   ]
  },
  {
   "cell_type": "code",
   "execution_count": null,
   "metadata": {},
   "outputs": [],
   "source": [
    "file_list = gt_train\n",
    "\n",
    "file_exist = [os.path.exists(file) for file in file_list]\n",
    "\n",
    "all_exist = all(file_exist)\n",
    "\n",
    "if all_exist:\n",
    "    print(\"All files exist.\")\n",
    "else:\n",
    "    print(\"Some files do not exist.\")"
   ]
  },
  {
   "cell_type": "code",
   "execution_count": null,
   "metadata": {},
   "outputs": [],
   "source": [
    "missing_indices = [index for index, file in enumerate(file_list) if not os.path.exists(file)]\n",
    "\n",
    "if len(missing_indices) == 0:\n",
    "    print(\"All files exist.\")\n",
    "else:\n",
    "    print(\"Missing files at indices:\", missing_indices)"
   ]
  },
  {
   "cell_type": "code",
   "execution_count": 22,
   "metadata": {},
   "outputs": [],
   "source": [
    "metadata = d_t_im.to_dict('list')"
   ]
  },
  {
   "cell_type": "code",
   "execution_count": null,
   "metadata": {},
   "outputs": [],
   "source": [
    "# Read the csv file\n",
    "data = pd.read_csv(r\"C:\\Users\\bouhe\\OneDrive\\Documents\\Python Scripts\\work_internship mitacs_backup\\project_TransUNet\\test.csv\")\n",
    "data"
   ]
  },
  {
   "cell_type": "code",
   "execution_count": 16,
   "metadata": {},
   "outputs": [
    {
     "data": {
      "text/plain": [
       "True"
      ]
     },
     "execution_count": 16,
     "metadata": {},
     "output_type": "execute_result"
    }
   ],
   "source": [
    "all([os.path.exists(name) for name in images_test])"
   ]
  },
  {
   "cell_type": "code",
   "execution_count": 178,
   "metadata": {},
   "outputs": [],
   "source": [
    "exists = []\n",
    "problem = []\n",
    "c = 0\n",
    "for image in images_test :\n",
    "    c+=1\n",
    "    exists.append(os.path.exists(image))\n",
    "    if os.path.exists(image) == False :\n",
    "        problem.append((c,image))"
   ]
  },
  {
   "cell_type": "code",
   "execution_count": 179,
   "metadata": {},
   "outputs": [
    {
     "data": {
      "text/plain": [
       "0"
      ]
     },
     "execution_count": 179,
     "metadata": {},
     "output_type": "execute_result"
    }
   ],
   "source": [
    "len(problem)"
   ]
  },
  {
   "cell_type": "markdown",
   "metadata": {},
   "source": [
    "## DATASET"
   ]
  },
  {
   "cell_type": "code",
   "execution_count": 20,
   "metadata": {},
   "outputs": [],
   "source": [
    "import datasets\n",
    "dataset_tmp = datasets.Dataset.from_dict({\"image\": images_train,\"label\":uni_g}).cast_column(\"image\", Image())\n",
    "dataset = dataset_tmp.cast_column(\"label\", Image())"
   ]
  },
  {
   "cell_type": "code",
   "execution_count": 21,
   "metadata": {},
   "outputs": [],
   "source": [
    "t1n_filtered = [\n",
    "    (image_path, seg_path) for image_path, seg_path in t1n if 'dim0' not in image_path and 'dim1' not in image_path\n",
    "]\n"
   ]
  },
  {
   "cell_type": "code",
   "execution_count": 22,
   "metadata": {},
   "outputs": [],
   "source": [
    "import datasets\n",
    "dataset_tmp = datasets.Dataset.from_dict({\"image\": [t1n_filtered[i][0] for i in range(len(t1n_filtered))],\"label\":[t1n_filtered[i][1] for i in range(len(t1n_filtered))]}).cast_column(\"image\", Image())\n",
    "dataset_test = dataset_tmp.cast_column(\"label\", Image())"
   ]
  },
  {
   "cell_type": "code",
   "execution_count": 75,
   "metadata": {},
   "outputs": [
    {
     "data": {
      "text/plain": [
       "('C:\\\\Users\\\\bouhe\\\\OneDrive\\\\Bureau\\\\pfe\\\\dataset\\\\png_format\\\\train\\\\BraTS-GLI-01174-000\\\\t1n\\\\Slice_dim2_100.png',\n",
       " 'C:\\\\Users\\\\bouhe\\\\OneDrive\\\\Bureau\\\\pfe\\\\dataset\\\\png_format\\\\train\\\\BraTS-GLI-01174-000\\\\seg\\\\Slice_dim2_100.png')"
      ]
     },
     "execution_count": 75,
     "metadata": {},
     "output_type": "execute_result"
    }
   ],
   "source": [
    "t1n_filtered[0]"
   ]
  },
  {
   "cell_type": "markdown",
   "metadata": {},
   "source": [
    "## Preprocessing"
   ]
  },
  {
   "cell_type": "markdown",
   "metadata": {},
   "source": [
    "### Padding"
   ]
  },
  {
   "cell_type": "code",
   "execution_count": null,
   "metadata": {},
   "outputs": [],
   "source": [
    "from PIL import Image as I, ImageOps\n",
    "\n",
    "# Define the target shape for padding\n",
    "target_shape = (256, 256)  # Specify the desired shape (width, height)\n",
    "\n",
    "# List of image paths\n",
    "\n",
    "# Iterate through the image paths\n",
    "for path in images_train:\n",
    "    # Open the image\n",
    "    image = I.open(path)\n",
    "\n",
    "    # Pad the image with zeros to the target shape\n",
    "    padded_image = ImageOps.expand(image, border=(0, 0, target_shape[0] - image.width, target_shape[1] - image.height), fill=0)\n",
    "\n",
    "    # Save the padded image\n",
    "    padded_image.save(path)\n"
   ]
  },
  {
   "cell_type": "code",
   "execution_count": null,
   "metadata": {},
   "outputs": [],
   "source": [
    "# Define the target shape for padding\n",
    "target_shape = (256, 256)  # Specify the desired shape (width, height)\n",
    "\n",
    "# Iterate through the image paths\n",
    "for path in set(image_paths):\n",
    "    # Open the image\n",
    "    image = I.open(path)\n",
    "\n",
    "    # Pad the image with zeros to the target shape\n",
    "    padded_image = ImageOps.expand(image, border=(0, 0, target_shape[0] - image.width, target_shape[1] - image.height), fill=0)\n",
    "\n",
    "    # Save the padded image\n",
    "    padded_image.save(path)\n",
    "    print(path)\n"
   ]
  },
  {
   "cell_type": "code",
   "execution_count": null,
   "metadata": {},
   "outputs": [],
   "source": [
    "chime.success()"
   ]
  },
  {
   "cell_type": "code",
   "execution_count": null,
   "metadata": {},
   "outputs": [],
   "source": [
    "# Open the image\n",
    "image = I.open(meta['image'][0])\n",
    "\n",
    "# Define the target shape for padding\n",
    "target_shape = (256, 256)  # Specify the desired shape (width, height)\n",
    "\n",
    "# Pad the image with zeros to the target shape\n",
    "padded_image = ImageOps.expand(image, border=(0, 0, target_shape[0] - image.width, target_shape[1] - image.height), fill=0)\n"
   ]
  },
  {
   "cell_type": "code",
   "execution_count": 34,
   "metadata": {},
   "outputs": [
    {
     "data": {
      "image/png": "[encoded data removed]",
      "text/plain": [
       "<PIL.PngImagePlugin.PngImageFile image mode=I size=256x256>"
      ]
     },
     "execution_count": 34,
     "metadata": {},
     "output_type": "execute_result"
    }
   ],
   "source": [
    "image = dataset[40][\"image\"]\n",
    "image"
   ]
  },
  {
   "cell_type": "code",
   "execution_count": 35,
   "metadata": {},
   "outputs": [
    {
     "data": {
      "image/png": "[encoded data removed]",
      "text/plain": [
       "<PIL.PngImagePlugin.PngImageFile image mode=I size=256x256>"
      ]
     },
     "execution_count": 35,
     "metadata": {},
     "output_type": "execute_result"
    }
   ],
   "source": [
    "mask = dataset[40][\"label\"]\n",
    "mask"
   ]
  },
  {
   "cell_type": "code",
   "execution_count": null,
   "metadata": {},
   "outputs": [],
   "source": [
    "mask_b = dataset[50][\"label\"]\n",
    "\n",
    "# Convert the image to a NumPy array\n",
    "mask_array = np.array(mask_b)\n",
    "\n",
    "# Get the unique pixel values\n",
    "unique_values = np.unique(mask_array)\n",
    "\n",
    "print(\"Unique pixel values:\", unique_values)"
   ]
  },
  {
   "attachments": {},
   "cell_type": "markdown",
   "metadata": {},
   "source": [
    "    0         -- > 0\n",
    "    21845     -- > 1\n",
    "    43690     -- > 2\n",
    "    65535     -- > 3\n",
    "\n",
    "    1 for NCR\n",
    "    2 for ED\n",
    "    3 for ET\n",
    "    0 for everything else."
   ]
  },
  {
   "cell_type": "markdown",
   "metadata": {},
   "source": [
    "### Binary Labels"
   ]
  },
  {
   "cell_type": "code",
   "execution_count": null,
   "metadata": {},
   "outputs": [],
   "source": [
    "mask_array = np.array(mask)\n",
    "image_array = np.array(image)"
   ]
  },
  {
   "cell_type": "code",
   "execution_count": null,
   "metadata": {},
   "outputs": [],
   "source": [
    "# Create a new array for the masked image\n",
    "masked_image_array = np.zeros_like(image_array)\n",
    "\n",
    "# Apply the mask to the masked image array\n",
    "masked_image_array[...] = np.where(mask_array > 0, mask_array, image_array[...])\n",
    "\n",
    "# Create a new PIL image from the masked array\n",
    "masked_image = PIL.Image.fromarray(masked_image_array)"
   ]
  },
  {
   "cell_type": "code",
   "execution_count": 97,
   "metadata": {},
   "outputs": [
    {
     "data": {
      "image/png": "[encoded data removed]",
      "text/plain": [
       "<PIL.PngImagePlugin.PngImageFile image mode=I size=256x256>"
      ]
     },
     "execution_count": 97,
     "metadata": {},
     "output_type": "execute_result"
    }
   ],
   "source": [
    "dataset[60][\"label\"]"
   ]
  },
  {
   "cell_type": "code",
   "execution_count": null,
   "metadata": {},
   "outputs": [],
   "source": [
    "# Testing visual representation of input_boxees on the mri\n",
    "#functions.show_boxes_on_image(dataset[50][\"image\"], [input_box])"
   ]
  },
  {
   "attachments": {},
   "cell_type": "markdown",
   "metadata": {},
   "source": [
    "### CUSTOM DATA LOADER"
   ]
  },
  {
   "attachments": {},
   "cell_type": "markdown",
   "metadata": {},
   "source": [
    "import torch\n",
    "import torch.nn.functional as F\n",
    "\n",
    "def pad_tensor(tensor, target_size):\n",
    "    # Compute the padding for each dimension\n",
    "    padding = []\n",
    "    for i in range(tensor.dim()):\n",
    "        pad = max(0, target_size[i] - tensor.size(i))\n",
    "        padding.extend([0, pad])\n",
    "    \n",
    "    # Pad the tensor\n",
    "    padded_tensor = F.pad(tensor, padding, 'constant', 0)\n",
    "    \n",
    "    return padded_tensor"
   ]
  },
  {
   "cell_type": "code",
   "execution_count": 53,
   "metadata": {},
   "outputs": [],
   "source": [
    "def get_bounding_box(ground_truth_map,num):\n",
    "  # get bounding box from mask\n",
    "  y_indices, x_indices = np.where(ground_truth_map == num)\n",
    "  x_min, x_max = np.min(x_indices), np.max(x_indices)\n",
    "  y_min, y_max = np.min(y_indices), np.max(y_indices)\n",
    "  # add perturbation to bounding box coordinates\n",
    "  H, W = ground_truth_map.shape\n",
    "  x_min = max(0, x_min - np.random.randint(0, 5))\n",
    "  x_max = min(W, x_max + np.random.randint(0, 5))\n",
    "  y_min = max(0, y_min - np.random.randint(0, 5))\n",
    "  y_max = min(H, y_max + np.random.randint(0, 5))\n",
    "  bbox = [x_min, y_min, x_max, y_max]\n",
    "  return bbox"
   ]
  },
  {
   "cell_type": "code",
   "execution_count": 34,
   "metadata": {},
   "outputs": [],
   "source": [
    "class SAMDataset(Dataset):\n",
    "  def __init__(self, dataset, processor):\n",
    "    self.dataset = dataset\n",
    "    self.processor = processor\n",
    "\n",
    "  def __len__(self):\n",
    "    return len(self.dataset)\n",
    "\n",
    "  def __getitem__(self, idx):\n",
    "    item = self.dataset[idx]\n",
    "    image = item[\"image\"]\n",
    "    ground_truth_mask = np.array(item[\"label\"])\n",
    "\n",
    "    # get bounding box prompt\n",
    "    prompt = functions.get_bounding_box(ground_truth_mask,1)\n",
    "\n",
    "    # prepare image and prompt for the model\n",
    "    inputs = self.processor(image, input_boxes=[[prompt]], return_tensors=\"pt\")\n",
    "\n",
    "    # remove batch dimension which the processor adds by default\n",
    "    inputs = {k:v.squeeze(0) for k,v in inputs.items()}\n",
    "\n",
    "    # add ground truth segmentation\n",
    "    inputs[\"ground_truth_mask\"] = ground_truth_mask\n",
    "\n",
    "    return inputs"
   ]
  },
  {
   "cell_type": "code",
   "execution_count": 35,
   "metadata": {},
   "outputs": [],
   "source": [
    "# We're creating a processor using the pre-trained SAM model from Facebook.\n",
    "processor = SamProcessor.from_pretrained(\"facebook/sam-vit-base\")\n",
    "\n",
    "# Now, we're setting up a training dataset using the SAMDataset class.\n",
    "train_dataset = SAMDataset(dataset=dataset, processor=processor)\n",
    "\n",
    "# We're creating a DataLoader for the training dataset.\n",
    "train_dataloader = DataLoader(train_dataset, batch_size=2, shuffle=True)\n",
    "\n",
    "# make sure we only compute gradients for mask decoder\n",
    "# We're going through each named parameter in the model and checking its name.\n",
    "# If the name starts with \"vision_encoder\" or \"prompt_encoder\", we set requires_grad to False.\n",
    "# This prevents these parts of the model from being updated during training."
   ]
  },
  {
   "cell_type": "code",
   "execution_count": 36,
   "metadata": {},
   "outputs": [
    {
     "name": "stdout",
     "output_type": "stream",
     "text": [
      "pixel_values torch.Size([2, 3, 1024, 1024])\n",
      "original_sizes torch.Size([2, 2])\n",
      "reshaped_input_sizes torch.Size([2, 2])\n",
      "input_boxes torch.Size([2, 1, 4])\n",
      "ground_truth_mask torch.Size([2, 256, 256])\n"
     ]
    }
   ],
   "source": [
    "# We're creating a DataLoader for the training dataset.\n",
    "train_dataloader = DataLoader(train_dataset, batch_size=2, shuffle=True)\n",
    "\n",
    "batch = next(iter(train_dataloader))\n",
    "for k,v in batch.items():\n",
    "  print(k,v.shape)"
   ]
  },
  {
   "cell_type": "code",
   "execution_count": 64,
   "metadata": {},
   "outputs": [],
   "source": [
    "# We're creating a model using the pre-trained \"facebook/sam-vit-base\" model.\n",
    "model = SamModel.from_pretrained(\"facebook/sam-vit-base\")\n",
    "# make sure we only compute gradients for mask decoder\n",
    "# We're going through each named parameter in the model and checking its name.\n",
    "# If the name starts with \"vision_encoder\" or \"prompt_encoder\", we set requires_grad to False.\n",
    "# This prevents these parts of the model from being updated during training.\n",
    "for name, param in model.named_parameters():\n",
    "  if name.startswith(\"vision_encoder\") or name.startswith(\"prompt_encoder\"):\n",
    "    param.requires_grad_(False)"
   ]
  },
  {
   "attachments": {},
   "cell_type": "markdown",
   "metadata": {},
   "source": [
    "## Train Model"
   ]
  },
  {
   "cell_type": "code",
   "execution_count": 65,
   "metadata": {},
   "outputs": [],
   "source": [
    "# Note: Hyperparameter tuning could improve performance here\n",
    "# We're defining an optimizer for the parameters of the mask decoder in the model.\n",
    "# The Adam optimizer is being used with a learning rate of 1e-5 and weight decay of 0.\n",
    "optimizer = Adam(model.mask_decoder.parameters(), lr=1e-5, weight_decay=0)\n",
    "\n",
    "# We're defining a segmentation loss function.\n",
    "seg_loss = monai.losses.DiceCELoss(sigmoid=True, squared_pred=True, reduction='mean')"
   ]
  },
  {
   "cell_type": "code",
   "execution_count": 66,
   "metadata": {},
   "outputs": [
    {
     "name": "stdout",
     "output_type": "stream",
     "text": [
      "CUDA IS ENABLED : True\n"
     ]
    },
    {
     "data": {
      "text/plain": [
       "SamModel(\n",
       "  (shared_image_embedding): SamPositionalEmbedding()\n",
       "  (vision_encoder): SamVisionEncoder(\n",
       "    (patch_embed): SamPatchEmbeddings(\n",
       "      (projection): Conv2d(3, 768, kernel_size=(16, 16), stride=(16, 16))\n",
       "    )\n",
       "    (layers): ModuleList(\n",
       "      (0-11): 12 x SamVisionLayer(\n",
       "        (layer_norm1): LayerNorm((768,), eps=1e-06, elementwise_affine=True)\n",
       "        (attn): SamVisionAttention(\n",
       "          (qkv): Linear(in_features=768, out_features=2304, bias=True)\n",
       "          (proj): Linear(in_features=768, out_features=768, bias=True)\n",
       "        )\n",
       "        (layer_norm2): LayerNorm((768,), eps=1e-06, elementwise_affine=True)\n",
       "        (mlp): SamMLPBlock(\n",
       "          (lin1): Linear(in_features=768, out_features=3072, bias=True)\n",
       "          (lin2): Linear(in_features=3072, out_features=768, bias=True)\n",
       "          (act): GELUActivation()\n",
       "        )\n",
       "      )\n",
       "    )\n",
       "    (neck): SamVisionNeck(\n",
       "      (conv1): Conv2d(768, 256, kernel_size=(1, 1), stride=(1, 1), bias=False)\n",
       "      (layer_norm1): SamLayerNorm()\n",
       "      (conv2): Conv2d(256, 256, kernel_size=(3, 3), stride=(1, 1), padding=(1, 1), bias=False)\n",
       "      (layer_norm2): SamLayerNorm()\n",
       "    )\n",
       "  )\n",
       "  (prompt_encoder): SamPromptEncoder(\n",
       "    (shared_embedding): SamPositionalEmbedding()\n",
       "    (mask_embed): SamMaskEmbedding(\n",
       "      (activation): GELUActivation()\n",
       "      (conv1): Conv2d(1, 4, kernel_size=(2, 2), stride=(2, 2))\n",
       "      (conv2): Conv2d(4, 16, kernel_size=(2, 2), stride=(2, 2))\n",
       "      (conv3): Conv2d(16, 256, kernel_size=(1, 1), stride=(1, 1))\n",
       "      (layer_norm1): SamLayerNorm()\n",
       "      (layer_norm2): SamLayerNorm()\n",
       "    )\n",
       "    (no_mask_embed): Embedding(1, 256)\n",
       "    (point_embed): ModuleList(\n",
       "      (0-3): 4 x Embedding(1, 256)\n",
       "    )\n",
       "    (not_a_point_embed): Embedding(1, 256)\n",
       "  )\n",
       "  (mask_decoder): SamMaskDecoder(\n",
       "    (iou_token): Embedding(1, 256)\n",
       "    (mask_tokens): Embedding(4, 256)\n",
       "    (transformer): SamTwoWayTransformer(\n",
       "      (layers): ModuleList(\n",
       "        (0-1): 2 x SamTwoWayAttentionBlock(\n",
       "          (self_attn): SamAttention(\n",
       "            (q_proj): Linear(in_features=256, out_features=256, bias=True)\n",
       "            (k_proj): Linear(in_features=256, out_features=256, bias=True)\n",
       "            (v_proj): Linear(in_features=256, out_features=256, bias=True)\n",
       "            (out_proj): Linear(in_features=256, out_features=256, bias=True)\n",
       "          )\n",
       "          (layer_norm1): LayerNorm((256,), eps=1e-06, elementwise_affine=True)\n",
       "          (cross_attn_token_to_image): SamAttention(\n",
       "            (q_proj): Linear(in_features=256, out_features=128, bias=True)\n",
       "            (k_proj): Linear(in_features=256, out_features=128, bias=True)\n",
       "            (v_proj): Linear(in_features=256, out_features=128, bias=True)\n",
       "            (out_proj): Linear(in_features=128, out_features=256, bias=True)\n",
       "          )\n",
       "          (layer_norm2): LayerNorm((256,), eps=1e-06, elementwise_affine=True)\n",
       "          (mlp): SamMLPBlock(\n",
       "            (lin1): Linear(in_features=256, out_features=2048, bias=True)\n",
       "            (lin2): Linear(in_features=2048, out_features=256, bias=True)\n",
       "            (act): ReLU()\n",
       "          )\n",
       "          (layer_norm3): LayerNorm((256,), eps=1e-06, elementwise_affine=True)\n",
       "          (layer_norm4): LayerNorm((256,), eps=1e-06, elementwise_affine=True)\n",
       "          (cross_attn_image_to_token): SamAttention(\n",
       "            (q_proj): Linear(in_features=256, out_features=128, bias=True)\n",
       "            (k_proj): Linear(in_features=256, out_features=128, bias=True)\n",
       "            (v_proj): Linear(in_features=256, out_features=128, bias=True)\n",
       "            (out_proj): Linear(in_features=128, out_features=256, bias=True)\n",
       "          )\n",
       "        )\n",
       "      )\n",
       "      (final_attn_token_to_image): SamAttention(\n",
       "        (q_proj): Linear(in_features=256, out_features=128, bias=True)\n",
       "        (k_proj): Linear(in_features=256, out_features=128, bias=True)\n",
       "        (v_proj): Linear(in_features=256, out_features=128, bias=True)\n",
       "        (out_proj): Linear(in_features=128, out_features=256, bias=True)\n",
       "      )\n",
       "      (layer_norm_final_attn): LayerNorm((256,), eps=1e-05, elementwise_affine=True)\n",
       "    )\n",
       "    (upscale_conv1): ConvTranspose2d(256, 64, kernel_size=(2, 2), stride=(2, 2))\n",
       "    (upscale_conv2): ConvTranspose2d(64, 32, kernel_size=(2, 2), stride=(2, 2))\n",
       "    (upscale_layer_norm): SamLayerNorm()\n",
       "    (activation): GELU(approximate='none')\n",
       "    (output_hypernetworks_mlps): ModuleList(\n",
       "      (0-3): 4 x SamFeedForward(\n",
       "        (activation): ReLU()\n",
       "        (proj_in): Linear(in_features=256, out_features=256, bias=True)\n",
       "        (proj_out): Linear(in_features=256, out_features=32, bias=True)\n",
       "        (layers): ModuleList(\n",
       "          (0): Linear(in_features=256, out_features=256, bias=True)\n",
       "        )\n",
       "      )\n",
       "    )\n",
       "    (iou_prediction_head): SamFeedForward(\n",
       "      (activation): ReLU()\n",
       "      (proj_in): Linear(in_features=256, out_features=256, bias=True)\n",
       "      (proj_out): Linear(in_features=256, out_features=4, bias=True)\n",
       "      (layers): ModuleList(\n",
       "        (0): Linear(in_features=256, out_features=256, bias=True)\n",
       "      )\n",
       "    )\n",
       "  )\n",
       ")"
      ]
     },
     "execution_count": 66,
     "metadata": {},
     "output_type": "execute_result"
    }
   ],
   "source": [
    "device = \"cuda\" if torch.cuda.is_available() else \"cpu\"\n",
    "print('CUDA IS ENABLED :',torch.cuda.is_available())\n",
    "model.to(device)"
   ]
  },
  {
   "cell_type": "code",
   "execution_count": null,
   "metadata": {},
   "outputs": [],
   "source": [
    "num_epochs = 3\n",
    "model.train()\n",
    "\n",
    "for epoch in range(num_epochs):\n",
    "    epoch_losses = []\n",
    "    for batch in tqdm(train_dataloader):\n",
    "      # forward pass\n",
    "      outputs = model(pixel_values=batch[\"pixel_values\"].to(device),\n",
    "                      input_boxes=batch[\"input_boxes\"].to(device),\n",
    "                      multimask_output=False)\n",
    "      # compute loss\n",
    "      predicted_masks = outputs.pred_masks.squeeze(1)\n",
    "      ground_truth_masks = batch[\"ground_truth_mask\"].float().to(device)\n",
    "      loss = seg_loss(predicted_masks, ground_truth_masks.unsqueeze(1))\n",
    "      \n",
    "      # backward pass (compute gradients of parameters w.r.t. loss)\n",
    "      optimizer.zero_grad()\n",
    "      loss.backward()\n",
    "\n",
    "      # optimize\n",
    "      optimizer.step()\n",
    "      epoch_losses.append(loss.item())\n",
    "\n",
    "    print(f'EPOCH: {epoch}')\n",
    "    print(f'Mean loss: {mean(epoch_losses)}')\n",
    "    \n",
    "    # Save the model's state dictionary\n",
    "    torch.save(model.state_dict(), f\"C:\\\\Users\\\\bouhe\\\\Documents\\\\model_{epoch}.pth\")\n",
    "\n",
    "    # If you want to save additional information like optimizer state\n",
    "    # and training history, you can create a dictionary\n",
    "    checkpoint = {\n",
    "        'model_state_dict': model.state_dict(),\n",
    "        'optimizer_state_dict': optimizer.state_dict(),\n",
    "        'epoch': epoch,  # Example: current training epoch\n",
    "    }\n",
    "    torch.save(checkpoint, 'checkpoint_.pth')\n"
   ]
  },
  {
   "cell_type": "markdown",
   "metadata": {},
   "source": [
    "## Inference"
   ]
  },
  {
   "cell_type": "code",
   "execution_count": 67,
   "metadata": {},
   "outputs": [
    {
     "data": {
      "image/png": "[encoded data removed]",
      "text/plain": [
       "<PIL.PngImagePlugin.PngImageFile image mode=I size=256x256>"
      ]
     },
     "execution_count": 67,
     "metadata": {},
     "output_type": "execute_result"
    }
   ],
   "source": [
    "# let's take a random training example\n",
    "idx = 20\n",
    "\n",
    "# load image\n",
    "image = dataset_test[idx][\"image\"]\n",
    "image"
   ]
  },
  {
   "cell_type": "code",
   "execution_count": 68,
   "metadata": {},
   "outputs": [
    {
     "data": {
      "image/png": "[encoded data removed]",
      "text/plain": [
       "<PIL.PngImagePlugin.PngImageFile image mode=I size=256x256>"
      ]
     },
     "execution_count": 68,
     "metadata": {},
     "output_type": "execute_result"
    }
   ],
   "source": [
    "dataset_test[idx][\"label\"]"
   ]
  },
  {
   "cell_type": "code",
   "execution_count": null,
   "metadata": {},
   "outputs": [
    {
     "data": {
      "text/plain": [
       "('C:\\\\Users\\\\bouhe\\\\OneDrive\\\\Bureau\\\\pfe\\\\dataset\\\\png_format\\\\train\\\\BraTS-GLI-01174-000\\\\t1n\\\\Slice_dim2_70.png',\n",
       " 'C:\\\\Users\\\\bouhe\\\\OneDrive\\\\Bureau\\\\pfe\\\\dataset\\\\png_format\\\\train\\\\BraTS-GLI-01174-000\\\\seg\\\\Slice_dim2_70.png')"
      ]
     },
     "metadata": {},
     "output_type": "display_data"
    }
   ],
   "source": [
    "t1n_filtered[idx]"
   ]
  },
  {
   "cell_type": "code",
   "execution_count": 50,
   "metadata": {},
   "outputs": [],
   "source": [
    "image = dataset_test[idx][\"image\"]\n",
    "mask = dataset_test[idx][\"label\"]\n",
    "image_array = np.array(image)\n",
    "mask_array = np.array(mask)"
   ]
  },
  {
   "cell_type": "markdown",
   "metadata": {},
   "source": [
    "##### FUSION MODEL "
   ]
  },
  {
   "cell_type": "code",
   "execution_count": 76,
   "metadata": {},
   "outputs": [],
   "source": [
    "# load the model 0\n",
    "model = SamModel.from_pretrained(\"facebook/sam-vit-base\")\n",
    "model.load_state_dict(torch.load(r\"C:\\Users\\bouhe\\Documents\\TRAINED FUSION\\model_0.pth\"))\n",
    "model.to(\"cuda\")\n",
    "# We're creating a processor using the pre-trained SAM model from Facebook.\n",
    "processor = SamProcessor.from_pretrained(\"facebook/sam-vit-base\")"
   ]
  },
  {
   "cell_type": "code",
   "execution_count": 72,
   "metadata": {},
   "outputs": [],
   "source": [
    "# load the model 1\n",
    "model = SamModel.from_pretrained(\"facebook/sam-vit-base\")\n",
    "model.load_state_dict(torch.load('C:\\\\Users\\\\bouhe\\\\Documents\\\\TRAINED FUSION\\\\model_1.pth'))\n",
    "model.to(\"cuda\")\n",
    "# We're creating a processor using the pre-trained SAM model from Facebook.\n",
    "processor = SamProcessor.from_pretrained(\"facebook/sam-vit-base\")"
   ]
  },
  {
   "cell_type": "markdown",
   "metadata": {},
   "source": [
    "##### NON FUSION MODEL"
   ]
  },
  {
   "cell_type": "code",
   "execution_count": 69,
   "metadata": {},
   "outputs": [],
   "source": [
    "# load the model 0\n",
    "model = SamModel.from_pretrained(\"facebook/sam-vit-base\")\n",
    "model.load_state_dict(torch.load(r\"C:\\Users\\bouhe\\Documents\\TRAINED NORMAL\\model_non_fusion_0.pth\"))\n",
    "model.to(\"cuda\")\n",
    "# We're creating a processor using the pre-trained SAM model from Facebook.\n",
    "processor = SamProcessor.from_pretrained(\"facebook/sam-vit-base\")"
   ]
  },
  {
   "cell_type": "code",
   "execution_count": 38,
   "metadata": {},
   "outputs": [
    {
     "name": "stderr",
     "output_type": "stream",
     "text": [
      "Processing images: 100%|██████████| 24523/24523 [2:05:55<00:00,  3.25image/s]  \n"
     ]
    }
   ],
   "source": [
    "# All predictions :\n",
    "predicted_masks_non_f_1 = []\n",
    "\n",
    "for element in tqdm(dataset_test, desc=\"Processing images\", unit=\"image\"):\n",
    "    \n",
    "    mask_array = np.array(element['label'])\n",
    "    image = element['image']\n",
    "    \n",
    "    # get box prompt based on ground truth segmentation map\n",
    "    prompt = get_bounding_box(mask_array,1)\n",
    "\n",
    "    # prepare image + box prompt for the model\n",
    "    inputs = processor(image, input_boxes=[[prompt]], return_tensors=\"pt\").to('cuda')\n",
    "    model.eval()\n",
    "\n",
    "    # forward pass\n",
    "    with torch.no_grad():\n",
    "        outputs = model(**inputs, multimask_output=False)\n",
    "    \n",
    "    # apply sigmoid\n",
    "    medsam_seg_prob = torch.sigmoid(outputs.pred_masks.squeeze(1))\n",
    "\n",
    "    # convert soft mask to hard mask\n",
    "    medsam_seg_prob = medsam_seg_prob.cpu().numpy().squeeze()\n",
    "    medsam_seg = (medsam_seg_prob > 0.5).astype(np.uint8)\n",
    "    predicted_masks_non_f_1.append(medsam_seg)"
   ]
  },
  {
   "cell_type": "code",
   "execution_count": 71,
   "metadata": {},
   "outputs": [],
   "source": [
    "# load the model\n",
    "model = SamModel.from_pretrained(\"facebook/sam-vit-base\")\n",
    "model.load_state_dict(torch.load(r\"C:\\Users\\bouhe\\Documents\\TRAINED NORMAL\\model_non_fusion_1.pth\"))\n",
    "model.to(\"cuda\")\n",
    "# We're creating a processor using the pre-trained SAM model from Facebook.\n",
    "processor = SamProcessor.from_pretrained(\"facebook/sam-vit-base\")"
   ]
  },
  {
   "cell_type": "code",
   "execution_count": 40,
   "metadata": {},
   "outputs": [
    {
     "name": "stderr",
     "output_type": "stream",
     "text": [
      "Processing images: 100%|██████████| 24523/24523 [2:03:04<00:00,  3.32image/s]  \n"
     ]
    }
   ],
   "source": [
    "# All predictions :\n",
    "predicted_masks_non_f_2 = []\n",
    "\n",
    "for element in tqdm(dataset_test, desc=\"Processing images\", unit=\"image\"):\n",
    "    \n",
    "    mask_array = np.array(element['label'])\n",
    "    image = element['image']\n",
    "    \n",
    "    # get box prompt based on ground truth segmentation map\n",
    "    prompt = get_bounding_box(mask_array,1)\n",
    "\n",
    "    # prepare image + box prompt for the model\n",
    "    inputs = processor(image, input_boxes=[[prompt]], return_tensors=\"pt\").to('cuda')\n",
    "    model.eval()\n",
    "\n",
    "    # forward pass\n",
    "    with torch.no_grad():\n",
    "        outputs = model(**inputs, multimask_output=False)\n",
    "    \n",
    "    # apply sigmoid\n",
    "    medsam_seg_prob = torch.sigmoid(outputs.pred_masks.squeeze(1))\n",
    "\n",
    "    # convert soft mask to hard mask\n",
    "    medsam_seg_prob = medsam_seg_prob.cpu().numpy().squeeze()\n",
    "    medsam_seg = (medsam_seg_prob > 0.5).astype(np.uint8)\n",
    "    predicted_masks_non_f_2.append(medsam_seg)"
   ]
  },
  {
   "cell_type": "markdown",
   "metadata": {},
   "source": [
    "##### Inference"
   ]
  },
  {
   "cell_type": "code",
   "execution_count": 70,
   "metadata": {},
   "outputs": [],
   "source": [
    "# get box prompt based on ground truth segmentation map\n",
    "prompt = get_bounding_box(mask_array,1)\n",
    "\n",
    "# prepare image + box prompt for the model\n",
    "inputs = processor(image, input_boxes=[[prompt]], return_tensors=\"pt\").to('cuda')\n",
    "model.eval()\n",
    "\n",
    "# forward pass\n",
    "with torch.no_grad():\n",
    "  outputs = model(**inputs, multimask_output=False)\n",
    "  \n",
    "# apply sigmoid\n",
    "medsam_seg_prob = torch.sigmoid(outputs.pred_masks.squeeze(1))\n",
    "\n",
    "# convert soft mask to hard mask\n",
    "medsam_seg_prob = medsam_seg_prob.cpu().numpy().squeeze()\n",
    "medsam_seg = (medsam_seg_prob > 0.5).astype(np.uint8)"
   ]
  },
  {
   "cell_type": "markdown",
   "metadata": {},
   "source": [
    "#0 normal"
   ]
  },
  {
   "cell_type": "code",
   "execution_count": 66,
   "metadata": {},
   "outputs": [
    {
     "data": {
      "image/png": "[encoded data removed]",
      "text/plain": [
       "<Figure size 1080x360 with 3 Axes>"
      ]
     },
     "metadata": {
      "needs_background": "light"
     },
     "output_type": "display_data"
    },
    {
     "name": "stdout",
     "output_type": "stream",
     "text": [
      "Dice Score : 0.8640076886112446\n",
      "Jaccard Index : 0.760575296108291\n",
      "SSIM : 0.9997354457648868\n",
      "Specificity : 0.9975972344944116\n",
      "Sensitivty : 0.875365141187926\n",
      "raTS-GLI-01489-000\\t1n\\Slice_dim2_120.png\n"
     ]
    },
    {
     "name": "stderr",
     "output_type": "stream",
     "text": [
      "C:\\Users\\bouhe\\AppData\\Local\\Temp\\ipykernel_9400\\2740733576.py:29: UserWarning: Inputs have mismatched dtypes. Setting data_range based on im1.dtype.\n",
      "  sim1 = compare_ssim(medsam_seg,mask_array)\n"
     ]
    }
   ],
   "source": [
    "# Create a figure with subplots\n",
    "fig, axes = plt.subplots(1, 3, figsize=(15, 5))\n",
    "\n",
    "# Display the original image\n",
    "axes[0].imshow(np.array(image),cmap='gray')\n",
    "axes[0].set_title(\"Original Image\")\n",
    "axes[0].axis(\"off\")\n",
    "\n",
    "# Display the predicted mask\n",
    "axes[1].imshow(np.array(image))\n",
    "axes[1].imshow(medsam_seg, cmap=\"gray\")\n",
    "axes[1].set_title(\"Predicted Mask\")\n",
    "axes[1].axis(\"off\")\n",
    "\n",
    "# Display the ground truth mask\n",
    "axes[2].imshow(np.array(image))\n",
    "axes[2].imshow(mask_array, cmap=\"gray\")\n",
    "axes[2].set_title(\"Ground Truth Mask\")\n",
    "axes[2].axis(\"off\")\n",
    "\n",
    "# Adjust spacing between subplots\n",
    "plt.tight_layout()\n",
    "\n",
    "# Show the plots\n",
    "plt.show()\n",
    "\n",
    "score_dice1 = dice(medsam_seg,mask_array)\n",
    "jaccard1 = Jaccard(medsam_seg,mask_array)\n",
    "sim1 = compare_ssim(medsam_seg,mask_array)\n",
    "true_positives1, false_negatives1, true_negatives1, false_positives1 = confusion_matrix(medsam_seg,mask_array)\n",
    "sensi1 = sens(true_positives1, false_negatives1)\n",
    "speci1 = spec(true_negatives1, false_positives1)\n",
    "    \n",
    "print('Dice Score :' , score_dice1)\n",
    "print('Jaccard Index :' , jaccard1)\n",
    "print('SSIM :' , sim1)\n",
    "print('Specificity :' , speci1)\n",
    "print('Sensitivty :' , sensi1)\n",
    "\n",
    "#File path\n",
    "print(t1n_filtered[idx][0][-42:])"
   ]
  },
  {
   "cell_type": "markdown",
   "metadata": {},
   "source": [
    "# Inference"
   ]
  },
  {
   "cell_type": "code",
   "execution_count": 121,
   "metadata": {},
   "outputs": [
    {
     "data": {
      "text/plain": [
       "('C:\\\\Users\\\\bouhe\\\\OneDrive\\\\Bureau\\\\pfe\\\\dataset\\\\png_format\\\\train\\\\BraTS-GLI-01175-000\\\\t1n\\\\Slice_dim2_95.png',\n",
       " 'C:\\\\Users\\\\bouhe\\\\OneDrive\\\\Bureau\\\\pfe\\\\dataset\\\\png_format\\\\train\\\\BraTS-GLI-01175-000\\\\seg\\\\Slice_dim2_95.png')"
      ]
     },
     "execution_count": 121,
     "metadata": {},
     "output_type": "execute_result"
    }
   ],
   "source": [
    "idx = 100\n",
    "t1n_filtered[idx]"
   ]
  },
  {
   "cell_type": "code",
   "execution_count": 122,
   "metadata": {},
   "outputs": [],
   "source": [
    "image = dataset_test[idx][\"image\"]\n",
    "mask = dataset_test[idx][\"label\"]\n",
    "image_array = np.array(image)\n",
    "mask_array = np.array(mask)"
   ]
  },
  {
   "cell_type": "code",
   "execution_count": 123,
   "metadata": {},
   "outputs": [],
   "source": [
    "# load the model\n",
    "model = SamModel.from_pretrained(\"facebook/sam-vit-base\")\n",
    "\n",
    "model.load_state_dict(torch.load(r\"C:\\Users\\bouhe\\Documents\\TRAINED NORMAL\\model_non_fusion_1.pth\"))\n",
    "\n",
    "model.to(\"cuda\")\n",
    "# We're creating a processor using the pre-trained SAM model from Facebook.\n",
    "processor = SamProcessor.from_pretrained(\"facebook/sam-vit-base\")"
   ]
  },
  {
   "cell_type": "code",
   "execution_count": 124,
   "metadata": {},
   "outputs": [],
   "source": [
    "# get box prompt based on ground truth segmentation map\n",
    "prompt = get_bounding_box(mask_array,1)\n",
    "\n",
    "# prepare image + box prompt for the model\n",
    "inputs = processor(image, input_boxes=[[prompt]], return_tensors=\"pt\").to('cuda')\n",
    "model.eval()\n",
    "\n",
    "# forward pass\n",
    "with torch.no_grad():\n",
    "  outputs = model(**inputs, multimask_output=False)\n",
    "  \n",
    "# apply sigmoid\n",
    "medsam_seg_prob = torch.sigmoid(outputs.pred_masks.squeeze(1))\n",
    "\n",
    "# convert soft mask to hard mask\n",
    "medsam_seg_prob = medsam_seg_prob.cpu().numpy().squeeze()\n",
    "medsam_seg = (medsam_seg_prob > 0.5).astype(np.uint8)"
   ]
  },
  {
   "cell_type": "markdown",
   "metadata": {},
   "source": [
    "#epoch 1 normal"
   ]
  },
  {
   "cell_type": "code",
   "execution_count": 125,
   "metadata": {},
   "outputs": [
    {
     "data": {
      "image/png": "[encoded data removed]",
      "text/plain": [
       "<Figure size 1080x360 with 3 Axes>"
      ]
     },
     "metadata": {
      "needs_background": "light"
     },
     "output_type": "display_data"
    },
    {
     "name": "stdout",
     "output_type": "stream",
     "text": [
      "Dice Score : 0.8365098272781417\n",
      "Jaccard Index : 0.7189659585359611\n",
      "Specificity : 0.9930551079600387\n",
      "Sensitivty : 0.8081127733026467\n",
      "BraTS-GLI-01175-000\\t1n\\Slice_dim2_95.png\n"
     ]
    }
   ],
   "source": [
    "# Create a figure with subplots\n",
    "fig, axes = plt.subplots(1, 3, figsize=(15, 5))\n",
    "\n",
    "# Display the original image\n",
    "axes[0].imshow(np.array(image),cmap='gray')\n",
    "axes[0].set_title(\"Original Image\")\n",
    "axes[0].axis(\"off\")\n",
    "\n",
    "# Display the predicted mask\n",
    "axes[1].imshow(np.array(image))\n",
    "axes[1].imshow(medsam_seg, cmap=\"gray\")\n",
    "axes[1].set_title(\"Predicted Mask\")\n",
    "axes[1].axis(\"off\")\n",
    "\n",
    "# Display the ground truth mask\n",
    "axes[2].imshow(np.array(image))\n",
    "axes[2].imshow(mask_array, cmap=\"gray\")\n",
    "axes[2].set_title(\"Ground Truth Mask\")\n",
    "axes[2].axis(\"off\")\n",
    "\n",
    "# Adjust spacing between subplots\n",
    "plt.tight_layout()\n",
    "\n",
    "# Show the plots\n",
    "plt.show()\n",
    "\n",
    "score_dice1 = dice(medsam_seg,mask_array)\n",
    "jaccard1 = Jaccard(medsam_seg,mask_array)\n",
    "#sim1 = compare_ssim(medsam_seg,mask_array)\n",
    "true_positives1, false_negatives1, true_negatives1, false_positives1 = confusion_matrix(medsam_seg,mask_array)\n",
    "sensi1 = sens(true_positives1, false_negatives1)\n",
    "speci1 = spec(true_negatives1, false_positives1)\n",
    "    \n",
    "print('Dice Score :' , score_dice1)\n",
    "print('Jaccard Index :' , jaccard1)\n",
    "#print('SSIM :' , sim1)\n",
    "print('Specificity :' , speci1)\n",
    "print('Sensitivty :' , sensi1)\n",
    "\n",
    "#File path\n",
    "print(t1n_filtered[idx][0][-41:])"
   ]
  },
  {
   "cell_type": "markdown",
   "metadata": {},
   "source": [
    "#0"
   ]
  },
  {
   "cell_type": "code",
   "execution_count": 71,
   "metadata": {},
   "outputs": [
    {
     "data": {
      "image/png": "[encoded data removed]",
      "text/plain": [
       "<Figure size 1080x360 with 3 Axes>"
      ]
     },
     "metadata": {
      "needs_background": "light"
     },
     "output_type": "display_data"
    },
    {
     "name": "stdout",
     "output_type": "stream",
     "text": [
      "Dice Score : 0.5598885793871866\n",
      "Jaccard Index : 0.38878143133462284\n",
      "SSIM : 0.9990284637685053\n",
      "Specificity : 0.9998914880094251\n",
      "Sensitivty : 0.3914313534566699\n",
      "raTS-GLI-01489-000\\t1n\\Slice_dim2_120.png\n"
     ]
    },
    {
     "name": "stderr",
     "output_type": "stream",
     "text": [
      "C:\\Users\\bouhe\\AppData\\Local\\Temp\\ipykernel_22348\\2740733576.py:29: UserWarning: Inputs have mismatched dtypes. Setting data_range based on im1.dtype.\n",
      "  sim1 = compare_ssim(medsam_seg,mask_array)\n"
     ]
    }
   ],
   "source": [
    "# Create a figure with subplots\n",
    "fig, axes = plt.subplots(1, 3, figsize=(15, 5))\n",
    "\n",
    "# Display the original image\n",
    "axes[0].imshow(np.array(image),cmap='gray')\n",
    "axes[0].set_title(\"Original Image\")\n",
    "axes[0].axis(\"off\")\n",
    "\n",
    "# Display the predicted mask\n",
    "axes[1].imshow(np.array(image))\n",
    "axes[1].imshow(medsam_seg, cmap=\"gray\")\n",
    "axes[1].set_title(\"Predicted Mask\")\n",
    "axes[1].axis(\"off\")\n",
    "\n",
    "# Display the ground truth mask\n",
    "axes[2].imshow(np.array(image))\n",
    "axes[2].imshow(mask_array, cmap=\"gray\")\n",
    "axes[2].set_title(\"Ground Truth Mask\")\n",
    "axes[2].axis(\"off\")\n",
    "\n",
    "# Adjust spacing between subplots\n",
    "plt.tight_layout()\n",
    "\n",
    "# Show the plots\n",
    "plt.show()\n",
    "\n",
    "score_dice1 = dice(medsam_seg,mask_array)\n",
    "jaccard1 = Jaccard(medsam_seg,mask_array)\n",
    "sim1 = compare_ssim(medsam_seg,mask_array)\n",
    "true_positives1, false_negatives1, true_negatives1, false_positives1 = confusion_matrix(medsam_seg,mask_array)\n",
    "sensi1 = sens(true_positives1, false_negatives1)\n",
    "speci1 = spec(true_negatives1, false_positives1)\n",
    "    \n",
    "print('Dice Score :' , score_dice1)\n",
    "print('Jaccard Index :' , jaccard1)\n",
    "print('SSIM :' , sim1)\n",
    "print('Specificity :' , speci1)\n",
    "print('Sensitivty :' , sensi1)\n",
    "\n",
    "#File path\n",
    "print(t1n_filtered[idx][0][-41:])"
   ]
  },
  {
   "cell_type": "markdown",
   "metadata": {},
   "source": [
    "#1 "
   ]
  },
  {
   "cell_type": "code",
   "execution_count": 74,
   "metadata": {},
   "outputs": [
    {
     "data": {
      "image/png": "[encoded data removed]",
      "text/plain": [
       "<Figure size 1080x360 with 3 Axes>"
      ]
     },
     "metadata": {
      "needs_background": "light"
     },
     "output_type": "display_data"
    },
    {
     "name": "stdout",
     "output_type": "stream",
     "text": [
      "Dice Score : 0.8415458937198068\n",
      "Jaccard Index : 0.7264386989157632\n",
      "SSIM : 0.9996470460206464\n",
      "Specificity : 0.9973337053744439\n",
      "Sensitivty : 0.8481012658227848\n",
      "raTS-GLI-01489-000\\t1n\\Slice_dim2_120.png\n"
     ]
    },
    {
     "name": "stderr",
     "output_type": "stream",
     "text": [
      "C:\\Users\\bouhe\\AppData\\Local\\Temp\\ipykernel_22348\\2740733576.py:29: UserWarning: Inputs have mismatched dtypes. Setting data_range based on im1.dtype.\n",
      "  sim1 = compare_ssim(medsam_seg,mask_array)\n"
     ]
    }
   ],
   "source": [
    "# Create a figure with subplots\n",
    "fig, axes = plt.subplots(1, 3, figsize=(15, 5))\n",
    "\n",
    "# Display the original image\n",
    "axes[0].imshow(np.array(image),cmap='gray')\n",
    "axes[0].set_title(\"Original Image\")\n",
    "axes[0].axis(\"off\")\n",
    "\n",
    "# Display the predicted mask\n",
    "axes[1].imshow(np.array(image))\n",
    "axes[1].imshow(medsam_seg, cmap=\"gray\")\n",
    "axes[1].set_title(\"Predicted Mask\")\n",
    "axes[1].axis(\"off\")\n",
    "\n",
    "# Display the ground truth mask\n",
    "axes[2].imshow(np.array(image))\n",
    "axes[2].imshow(mask_array, cmap=\"gray\")\n",
    "axes[2].set_title(\"Ground Truth Mask\")\n",
    "axes[2].axis(\"off\")\n",
    "\n",
    "# Adjust spacing between subplots\n",
    "plt.tight_layout()\n",
    "\n",
    "# Show the plots\n",
    "plt.show()\n",
    "\n",
    "score_dice1 = dice(medsam_seg,mask_array)\n",
    "jaccard1 = Jaccard(medsam_seg,mask_array)\n",
    "sim1 = compare_ssim(medsam_seg,mask_array)\n",
    "true_positives1, false_negatives1, true_negatives1, false_positives1 = confusion_matrix(medsam_seg,mask_array)\n",
    "sensi1 = sens(true_positives1, false_negatives1)\n",
    "speci1 = spec(true_negatives1, false_positives1)\n",
    "    \n",
    "print('Dice Score :' , score_dice1)\n",
    "print('Jaccard Index :' , jaccard1)\n",
    "print('SSIM :' , sim1)\n",
    "print('Specificity :' , speci1)\n",
    "print('Sensitivty :' , sensi1)\n",
    "\n",
    "#File path\n",
    "print(t1n_filtered[idx][0][-41:])"
   ]
  },
  {
   "cell_type": "code",
   "execution_count": 75,
   "metadata": {},
   "outputs": [],
   "source": [
    "from tqdm import tqdm"
   ]
  },
  {
   "cell_type": "code",
   "execution_count": 77,
   "metadata": {},
   "outputs": [
    {
     "name": "stderr",
     "output_type": "stream",
     "text": [
      "Processing images: 100%|██████████| 24523/24523 [2:19:40<00:00,  2.93image/s]  \n"
     ]
    }
   ],
   "source": [
    "# All predictions :\n",
    "predicted_masks = []\n",
    "\n",
    "for element in tqdm(dataset_test, desc=\"Processing images\", unit=\"image\"):\n",
    "    \n",
    "    mask_array = np.array(element['label'])\n",
    "    image = element['image']\n",
    "    \n",
    "    # get box prompt based on ground truth segmentation map\n",
    "    prompt = get_bounding_box(mask_array,1)\n",
    "\n",
    "    # prepare image + box prompt for the model\n",
    "    inputs = processor(image, input_boxes=[[prompt]], return_tensors=\"pt\").to('cuda')\n",
    "    model.eval()\n",
    "\n",
    "    # forward pass\n",
    "    with torch.no_grad():\n",
    "        outputs = model(**inputs, multimask_output=False)\n",
    "    \n",
    "    # apply sigmoid\n",
    "    medsam_seg_prob = torch.sigmoid(outputs.pred_masks.squeeze(1))\n",
    "\n",
    "    # convert soft mask to hard mask\n",
    "    medsam_seg_prob = medsam_seg_prob.cpu().numpy().squeeze()\n",
    "    medsam_seg = (medsam_seg_prob > 0.5).astype(np.uint8)\n",
    "    predicted_masks.append(medsam_seg)"
   ]
  },
  {
   "cell_type": "code",
   "execution_count": null,
   "metadata": {},
   "outputs": [],
   "source": []
  },
  {
   "cell_type": "code",
   "execution_count": 188,
   "metadata": {},
   "outputs": [],
   "source": [
    "chime.success()\n"
   ]
  },
  {
   "cell_type": "code",
   "execution_count": 81,
   "metadata": {},
   "outputs": [],
   "source": [
    "t1n_pred_path = [t1n_filtered[i][0].replace('train','predicted_normal') for i in range(len(t1n_filtered))]"
   ]
  },
  {
   "cell_type": "code",
   "execution_count": null,
   "metadata": {},
   "outputs": [],
   "source": [
    "# Loop through the list and save each array as an image\n",
    "for image_array,path in tqdm(zip(predicted_masks, t1n_pred_path), desc=\"Saving images\"):\n",
    "    # Convert the array to a numpy array with uint8 data type\n",
    "    image_array = np.array(image_array, dtype=np.uint8)\n",
    "    \n",
    "    # Create an image from the array\n",
    "    image = PIL.Image.fromarray(image_array, mode=\"L\")  # \"L\" mode for grayscale\n",
    "    \n",
    "    # Save the image with the corresponding name\n",
    "    print(path,image_array)\n",
    "    image.save(path)"
   ]
  },
  {
   "cell_type": "markdown",
   "metadata": {},
   "source": [
    "### Performance Evaluation"
   ]
  },
  {
   "cell_type": "markdown",
   "metadata": {},
   "source": [
    "#### Dice score"
   ]
  },
  {
   "cell_type": "code",
   "execution_count": 58,
   "metadata": {},
   "outputs": [],
   "source": [
    "# Mean DICE Score\n",
    "def dice(medsam_seg,mask_array):\n",
    "    # Convert images to numpy arrays\n",
    "    predicted_mask_np = medsam_seg\n",
    "\n",
    "    # Compute the intersection and sums of pixels\n",
    "    intersection = np.sum(np.logical_and(predicted_mask_np, mask_array))\n",
    "    sum_predicted = np.sum(predicted_mask_np)\n",
    "    sum_ground_truth = np.sum(mask_array)\n",
    "\n",
    "    # Compute the Dice score\n",
    "    dice_score = 2 * intersection / (sum_predicted + sum_ground_truth)\n",
    "    \n",
    "    return(dice_score)\n"
   ]
  },
  {
   "cell_type": "markdown",
   "metadata": {},
   "source": [
    "#### Jaccard index"
   ]
  },
  {
   "cell_type": "code",
   "execution_count": 59,
   "metadata": {},
   "outputs": [],
   "source": [
    "def Jaccard(predicted_mask_np,mask_array):\n",
    "    # Compute the intersection and union of pixels\n",
    "    intersection = np.sum(np.logical_and(predicted_mask_np,mask_array))\n",
    "    union = np.sum(np.logical_or(predicted_mask_np,mask_array))\n",
    "\n",
    "    # Compute the Jaccard Index\n",
    "    jaccard_index = intersection / union\n",
    "    return(jaccard_index)\n",
    "#print(\"Jaccard Index:\", jaccard_index)"
   ]
  },
  {
   "cell_type": "markdown",
   "metadata": {},
   "source": [
    "#### SSIM"
   ]
  },
  {
   "cell_type": "code",
   "execution_count": 60,
   "metadata": {},
   "outputs": [],
   "source": [
    "from skimage.metrics import structural_similarity as compare_ssim\n",
    "def ssim(predicted_mask_np ,mask_array):\n",
    "    \n",
    "\n",
    "    # Compute the SSIM\n",
    "    ssim_score = compare_ssim(predicted_mask_np ,mask_array)\n",
    "    return(ssim)\n",
    "\n",
    "#print(\"SSIM Score:\", ssim_score)"
   ]
  },
  {
   "cell_type": "markdown",
   "metadata": {},
   "source": [
    "####  Confusion matrix"
   ]
  },
  {
   "cell_type": "code",
   "execution_count": 61,
   "metadata": {},
   "outputs": [],
   "source": [
    "def confusion_matrix(predicted_mask_np, mask_array):\n",
    "    # Calculate True Positives and False Negatives\n",
    "    true_positives = np.sum(np.logical_and(predicted_mask_np, mask_array))\n",
    "    false_negatives = np.sum(np.logical_and(np.logical_not(predicted_mask_np), mask_array))\n",
    "    # Calculate True Negatives and False Positives\n",
    "    true_negatives = np.sum(np.logical_and(np.logical_not(predicted_mask_np), np.logical_not(mask_array)))\n",
    "    false_positives = np.sum(np.logical_and(predicted_mask_np, np.logical_not(mask_array)))\n",
    "    return(true_positives, false_negatives, true_negatives, false_positives)\n"
   ]
  },
  {
   "cell_type": "markdown",
   "metadata": {},
   "source": [
    "#### Sensitivty"
   ]
  },
  {
   "cell_type": "code",
   "execution_count": 62,
   "metadata": {},
   "outputs": [],
   "source": [
    "def sens(true_positives, false_negatives):\n",
    "    # Calculate Sensitivity (True Positive Rate)\n",
    "    sensitivity = true_positives / (true_positives + false_negatives)\n",
    "    return(sensitivity)\n",
    "\n",
    "#print(\"Sensitivity (TPR):\", sensitivity)"
   ]
  },
  {
   "cell_type": "markdown",
   "metadata": {},
   "source": [
    "#### Specificity"
   ]
  },
  {
   "cell_type": "code",
   "execution_count": 63,
   "metadata": {},
   "outputs": [],
   "source": [
    "def spec(true_negatives, false_positives):\n",
    "    # Calculate Specificity (True Negative Rate)\n",
    "    specificity = true_negatives / (true_negatives + false_positives)\n",
    "    return(specificity)\n",
    "\n",
    "#print(\"Specificity (TNR):\", specificity)"
   ]
  },
  {
   "cell_type": "code",
   "execution_count": 64,
   "metadata": {},
   "outputs": [],
   "source": [
    "score_dice,jaccard,sim,speci,sensi = [],[],[],[],[]"
   ]
  },
  {
   "cell_type": "code",
   "execution_count": null,
   "metadata": {},
   "outputs": [],
   "source": [
    "for pred,gt in zip(predicted_masks_non_f_1,t1n_filtered):\n",
    "    \n",
    "    # Open an image\n",
    "    image = PIL.Image.open(gt[1]) \n",
    "\n",
    "    # Convert the image to a NumPy array\n",
    "    mask_array = np.array(image)\n",
    "    \n",
    "    score_dice.append(dice(pred,mask_array))\n",
    "    jaccard.append(Jaccard(pred,mask_array))\n",
    "    sim.append(compare_ssim(pred ,mask_array))\n",
    "    true_positives, false_negatives, true_negatives, false_positives = confusion_matrix(pred,mask_array)\n",
    "    speci.append(spec(true_negatives, false_positives))\n",
    "    sensi.append(sens(true_positives, false_negatives))\n",
    "    \n",
    "print('Dice Score :' ,np.mean(score_dice))\n",
    "print('Jaccard Index :' ,np.mean(jaccard))\n",
    "print('SSIM :' ,np.mean(sim))\n",
    "print('Specificity :' ,np.mean(speci))\n",
    "print('Sensitivty :' ,np.mean(sensi))"
   ]
  },
  {
   "cell_type": "code",
   "execution_count": 50,
   "metadata": {},
   "outputs": [
    {
     "name": "stderr",
     "output_type": "stream",
     "text": [
      "C:\\Users\\bouhe\\AppData\\Local\\Temp\\ipykernel_7872\\3652228023.py:11: UserWarning: Inputs have mismatched dtypes. Setting data_range based on im1.dtype.\n",
      "  sim.append(compare_ssim(pred ,mask_array))\n"
     ]
    },
    {
     "name": "stdout",
     "output_type": "stream",
     "text": [
      "Dice Score : 0.7410537189881816\n",
      "Jaccard Index : 0.6179527896067623\n",
      "SSIM : 0.9991963914486591\n",
      "Specificity : 0.9932784414947607\n",
      "Sensitivty : 0.841689810083357\n"
     ]
    }
   ],
   "source": [
    "for pred,gt in zip(predicted_masks_non_f_2,t1n_filtered):\n",
    "    \n",
    "    # Open an image\n",
    "    image = PIL.Image.open(gt[1]) \n",
    "\n",
    "    # Convert the image to a NumPy array\n",
    "    mask_array = np.array(image)\n",
    "    \n",
    "    score_dice.append(dice(pred,mask_array))\n",
    "    jaccard.append(Jaccard(pred,mask_array))\n",
    "    sim.append(compare_ssim(pred ,mask_array))\n",
    "    true_positives, false_negatives, true_negatives, false_positives = confusion_matrix(pred,mask_array)\n",
    "    speci.append(spec(true_negatives, false_positives))\n",
    "    sensi.append(sens(true_positives, false_negatives))\n",
    "    \n",
    "print('Dice Score :' ,np.mean(score_dice))\n",
    "print('Jaccard Index :' ,np.mean(jaccard))\n",
    "print('SSIM :' ,np.mean(sim))\n",
    "print('Specificity :' ,np.mean(speci))\n",
    "print('Sensitivty :' ,np.mean(sensi))"
   ]
  },
  {
   "cell_type": "code",
   "execution_count": 78,
   "metadata": {},
   "outputs": [
    {
     "name": "stderr",
     "output_type": "stream",
     "text": [
      "C:\\Users\\bouhe\\AppData\\Local\\Temp\\ipykernel_22348\\1586440660.py:11: UserWarning: Inputs have mismatched dtypes. Setting data_range based on im1.dtype.\n",
      "  sim.append(compare_ssim(pred ,mask_array))\n"
     ]
    },
    {
     "name": "stdout",
     "output_type": "stream",
     "text": [
      "Dice Score : 0.5599570807043689\n",
      "Jaccard Index : 0.42990439357838267\n",
      "SSIM : 0.9987996599015008\n",
      "Specificity : 0.9953492231057433\n",
      "Sensitivty : 0.5376540332077726\n"
     ]
    }
   ],
   "source": [
    "for pred,gt in zip(predicted_masks,t1n_filtered):\n",
    "    \n",
    "    # Open an image\n",
    "    image = PIL.Image.open(gt[1]) \n",
    "\n",
    "    # Convert the image to a NumPy array\n",
    "    mask_array = np.array(image)\n",
    "    \n",
    "    score_dice.append(dice(pred,mask_array))\n",
    "    jaccard.append(Jaccard(pred,mask_array))\n",
    "    sim.append(compare_ssim(pred ,mask_array))\n",
    "    true_positives, false_negatives, true_negatives, false_positives = confusion_matrix(pred,mask_array)\n",
    "    speci.append(spec(true_negatives, false_positives))\n",
    "    sensi.append(sens(true_positives, false_negatives))\n",
    "    \n",
    "print('Dice Score :' ,np.mean(score_dice))\n",
    "print('Jaccard Index :' ,np.mean(jaccard))\n",
    "print('SSIM :' ,np.mean(sim))\n",
    "print('Specificity :' ,np.mean(speci))\n",
    "print('Sensitivty :' ,np.mean(sensi))"
   ]
  },
  {
   "cell_type": "markdown",
   "metadata": {},
   "source": [
    "#0\n",
    "- Dice Score : 0.5599570807043689\n",
    "- Jaccard Index : 0.42990439357838267\n",
    "- SSIM : 0.9987996599015008\n",
    "- Specificity : 0.9953492231057433\n",
    "- Sensitivty : 0.5376540332077726"
   ]
  },
  {
   "cell_type": "markdown",
   "metadata": {},
   "source": [
    "#1\n",
    "- Dice Score : 0.710560475938147\n",
    "- Jaccard Index : 0.5813044060910975\n",
    "- SSIM : 0.9990325528534505\n",
    "- Sensitivty : 0.9922630519084908\n",
    "- Specificity : 0.7947214326090183"
   ]
  },
  {
   "cell_type": "code",
   "execution_count": null,
   "metadata": {},
   "outputs": [],
   "source": [
    "chime.succes()"
   ]
  },
  {
   "cell_type": "markdown",
   "metadata": {},
   "source": [
    "#### Summarized results"
   ]
  },
  {
   "cell_type": "code",
   "execution_count": 201,
   "metadata": {},
   "outputs": [
    {
     "name": "stdout",
     "output_type": "stream",
     "text": [
      "Dice Score : 0.710560475938147\n",
      "Jaccard Index : 0.5813044060910975\n",
      "SSIM : 0.9990325528534505\n",
      "Sensitivty : 0.9922630519084908\n",
      "Specificity : 0.7947214326090183\n"
     ]
    }
   ],
   "source": [
    "print('Dice Score :' ,np.mean(score_dice))\n",
    "print('Jaccard Index :' ,np.mean(jaccard))\n",
    "print('SSIM :' ,np.mean(sim))\n",
    "print('Sensitivty :' ,np.mean(sensi))\n",
    "print('Specificity :' ,np.mean(speci))"
   ]
  }
 ],
 "metadata": {
  "kernelspec": {
   "display_name": "Python 3",
   "language": "python",
   "name": "python3"
  },
  "language_info": {
   "codemirror_mode": {
    "name": "ipython",
    "version": 3
   },
   "file_extension": ".py",
   "mimetype": "text/x-python",
   "name": "python",
   "nbconvert_exporter": "python",
   "pygments_lexer": "ipython3",
   "version": "3.11.3"
  }
 },
 "nbformat": 4,
 "nbformat_minor": 2
}
