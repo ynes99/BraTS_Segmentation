{
 "cells": [
  {
   "attachments": {},
   "cell_type": "markdown",
   "id": "45f35cfb",
   "metadata": {},
   "source": [
    "# Imports"
   ]
  },
  {
   "cell_type": "code",
   "execution_count": null,
   "id": "790c7c75",
   "metadata": {},
   "outputs": [],
   "source": [
    "import pandas as pd\n",
    "import numpy as np\n",
    "import os\n",
    "import matplotlib.pyplot as plt\n",
    "import numpy as np\n",
    "import nibabel as nib\n",
    "import numpy as np\n",
    "import albumentations as A\n",
    "import plotly.graph_objects as go\n",
    "import imageio\n",
    "from PIL import Image\n",
    "import nibabel as nib\n",
    "import matplotlib.pyplot as plt\n",
    "import numpy as np\n",
    "import cv2\n",
    "import winsound\n",
    "import functions"
   ]
  },
  {
   "attachments": {},
   "cell_type": "markdown",
   "id": "08f010c3",
   "metadata": {},
   "source": [
    "# Functions"
   ]
  },
  {
   "attachments": {},
   "cell_type": "markdown",
   "id": "6458853e",
   "metadata": {
    "scrolled": false
   },
   "source": [
    "# BRATS 2023 DATA"
   ]
  },
  {
   "attachments": {},
   "cell_type": "markdown",
   "id": "4425accc",
   "metadata": {},
   "source": [
    "### USEFUL INFO ON DATA"
   ]
  },
  {
   "attachments": {},
   "cell_type": "markdown",
   "id": "e459babc",
   "metadata": {},
   "source": [
    "All BraTS mpMRI scans are available as NIfTI files (.nii.gz) and describe\n",
    "1. native (T1)\n",
    "2. post-contrast T1-weighted (T1Gd)\n",
    "3. T2-weighted (T2), and\n",
    "4. T2 Fluid Attenuated Inversion Recovery (T2-FLAIR) volumes"
   ]
  },
  {
   "attachments": {},
   "cell_type": "markdown",
   "id": "b9fb71b3",
   "metadata": {},
   "source": [
    "Task: Tumor Sub-region Segmentation\n",
    "The sub-regions considered for evaluation are the:\n",
    "1.\"enhancing tumor\" (ET)\n",
    "2.\"tumor core\" (TC)\n",
    "3.\"whole tumor\" (WT) \n",
    "The ET is described by areas that show hyper-intensity in T1Gd when compared to T1, but also when compared to “healthy” white matter in T1Gd.\\\\\n",
    "The TC describes the bulk of the tumor, which is what is typically resected. The TC entails the ET, as well as the necrotic (NCR) parts of the tumor. The appearance of NCR is typically hypo-intense in T1-Gd when compared to T1. The WT describes the complete extent of the disease, as it entails the TC and the peritumoral edematous/invaded tissue (ED), which is typically depicted by hyper-intense signal in FLAIR."
   ]
  },
  {
   "attachments": {},
   "cell_type": "markdown",
   "id": "2addebe0",
   "metadata": {},
   "source": [
    "The submitted methods will be assessed following the configuration of previous BraTS challenges, using the \"Dice Similarity Coefficient\", and the \"Hausdorff distance (95%)\" [4-5]. The aggregate rankings from these two metrics will determine the recipients of monetary awards.\n",
    "\n",
    "Consistent with the BraTS 2021 Challenge, methods will also be assessed using the metrics of \"Sensitivity\" and \"Specificity\" to determine potential over- or under-segmentations of the tumor sub-regions by participating methods. These metrics are provided for participant guidance, and will not impact aggregate rankings."
   ]
  },
  {
   "attachments": {},
   "cell_type": "markdown",
   "id": "e71c6549",
   "metadata": {},
   "source": [
    "The provided segmentation labels have values of:\n",
    "\n",
    "    1 for NCR\n",
    "    2 for ED\n",
    "    3 for ET\n",
    "    0 for everything else.\n"
   ]
  },
  {
   "attachments": {},
   "cell_type": "markdown",
   "id": "d502e3b0",
   "metadata": {},
   "source": [
    "## Download"
   ]
  },
  {
   "cell_type": "code",
   "execution_count": null,
   "id": "336ff96d",
   "metadata": {},
   "outputs": [
    {
     "name": "stdout",
     "output_type": "stream",
     "text": [
      "Welcome, Minty_ines!\n",
      "\n"
     ]
    }
   ],
   "source": [
    "syn = synapseclient.Synapse() \n",
    "syn.login('Minty_ines','s-}q.^!p\"bG4hcH') \n",
    "#files = synapseutils.syncFromSynapse(syn, ' syn51514105 ') "
   ]
  },
  {
   "cell_type": "code",
   "execution_count": null,
   "id": "b72e93f9",
   "metadata": {},
   "outputs": [
    {
     "name": "stdout",
     "output_type": "stream",
     "text": [
      "Welcome, Minty_ines!\n",
      "\n"
     ]
    }
   ],
   "source": [
    "syn = synapseclient.login('Minty_ines','s-}q.^!p\"bG4hcH')\n",
    "dl_list_file_entities = syn.get_download_list()"
   ]
  },
  {
   "cell_type": "code",
   "execution_count": null,
   "id": "78f2de23",
   "metadata": {},
   "outputs": [
    {
     "data": {
      "text/plain": [
       "'manifest_1684946314171461800.csv'"
      ]
     },
     "execution_count": 22,
     "metadata": {},
     "output_type": "execute_result"
    }
   ],
   "source": [
    "dl_list_file_entities"
   ]
  },
  {
   "attachments": {},
   "cell_type": "markdown",
   "id": "d66d1bfd",
   "metadata": {},
   "source": [
    "## Creating a metadata.csv for training and validation\n"
   ]
  },
  {
   "cell_type": "code",
   "execution_count": 22,
   "id": "2689c434",
   "metadata": {},
   "outputs": [],
   "source": [
    "path_dataset = r\"C:\\Users\\bouhe\\OneDrive\\Bureau\\pfe\\dataset\\Nifti format BratS\"\n",
    "path_train = r\"C:\\Users\\bouhe\\OneDrive\\Bureau\\pfe\\dataset\\Nifti format BratS\\ASNR-MICCAI-BraTS2023-GLI-Challenge-TrainingData\"\n",
    "path_valid = r\"C:\\Users\\bouhe\\OneDrive\\Bureau\\pfe\\dataset\\Nifti format BratS\\ASNR-MICCAI-BraTS2023-GLI-Challenge-ValidationData\"\n",
    "path_test = \"\""
   ]
  },
  {
   "cell_type": "code",
   "execution_count": 24,
   "id": "dcf2d95a",
   "metadata": {},
   "outputs": [],
   "source": [
    "train_list_path = os.listdir(path_train)\n",
    "#valid_list_path = os.listdir(path_valid)"
   ]
  },
  {
   "cell_type": "code",
   "execution_count": 31,
   "id": "1e3e58ce",
   "metadata": {},
   "outputs": [
    {
     "data": {
      "text/plain": [
       "['BraTS-GLI-00000-000-seg.nii.gz',\n",
       " 'BraTS-GLI-00000-000-t1c.nii.gz',\n",
       " 'BraTS-GLI-00000-000-t1n.nii.gz',\n",
       " 'BraTS-GLI-00000-000-t2f.nii.gz',\n",
       " 'BraTS-GLI-00000-000-t2w.nii.gz']"
      ]
     },
     "execution_count": 31,
     "metadata": {},
     "output_type": "execute_result"
    }
   ],
   "source": [
    "os.listdir(r'C:\\Users\\bouhe\\OneDrive\\Bureau\\pfe\\dataset\\Nifti format BratS\\ASNR-MICCAI-BraTS2023-GLI-Challenge-TrainingData\\BraTS-GLI-00000-000')"
   ]
  },
  {
   "cell_type": "code",
   "execution_count": 32,
   "id": "730fff69",
   "metadata": {},
   "outputs": [
    {
     "data": {
      "text/plain": [
       "'BraTS-GLI-00000-000'"
      ]
     },
     "execution_count": 32,
     "metadata": {},
     "output_type": "execute_result"
    }
   ],
   "source": [
    "os.path.basename(r'C:\\Users\\bouhe\\OneDrive\\Bureau\\pfe\\dataset\\Nifti format BratS\\ASNR-MICCAI-BraTS2023-GLI-Challenge-TrainingData\\BraTS-GLI-00000-000')"
   ]
  },
  {
   "cell_type": "code",
   "execution_count": 29,
   "id": "7c8d9719",
   "metadata": {},
   "outputs": [],
   "source": [
    "#Path of the folder containing the dataset\n",
    "path_train = r\"C:\\Users\\bouhe\\OneDrive\\Bureau\\pfe\\dataset\\Nifti format BratS\\ASNR-MICCAI-BraTS2023-GLI-Challenge-TrainingData\"\n",
    "\n",
    "#Returns the list of the folders containing each patient's MRI\n",
    "train_list_path = os.listdir(path_train)\n",
    "\n",
    "#Iterates recursively through the folders and creates a list of images of each MRI sequence and assign respectively\n",
    "seg,t1c,t1n,t2w =[],[],[],[]\n",
    "for dir in train_list_path:\n",
    "\n",
    "    curr_seg = os.path.join(dir,os.path.basename(dir)+'-'+r'seg.nii.gz')\n",
    "    seg.append(curr_seg)\n",
    "    \n",
    "    curr_t1c = os.path.join(dir,os.path.basename(dir)+'-'+r't1c.nii.gz')\n",
    "    t1c.append(curr_t1c)\n",
    "    \n",
    "    curr_t1n = os.path.join(dir,os.path.basename(dir)+'-'+r't1n.nii.gz')\n",
    "    t1n.append(curr_t1n)\n",
    "    \n",
    "    curr_t2w = os.path.join(dir,os.path.basename(dir)+'-'+r't2w.nii.gz')\n",
    "    t2w.append(curr_t2w)"
   ]
  },
  {
   "cell_type": "code",
   "execution_count": 30,
   "id": "0438599a",
   "metadata": {},
   "outputs": [],
   "source": [
    "#Creates a dataframe for the metadata.csv\n",
    "df = pd.DataFrame({'path_folder' : train_list_path,\n",
    "              'seg' : seg,\n",
    "              't1c' : t1c,\n",
    "              't1n' : t1n,\n",
    "              't2w' : t2w\n",
    "             })"
   ]
  },
  {
   "cell_type": "code",
   "execution_count": 31,
   "id": "8ac0fcc8",
   "metadata": {},
   "outputs": [],
   "source": [
    "df[['a','b','id_patient','index']] = df['path_folder'].str.split('-',expand=True)"
   ]
  },
  {
   "cell_type": "code",
   "execution_count": 32,
   "id": "6fdb52aa",
   "metadata": {},
   "outputs": [],
   "source": [
    "df.drop(['a', 'b'], axis = 1, inplace = True) "
   ]
  },
  {
   "cell_type": "code",
   "execution_count": 33,
   "id": "0387194f",
   "metadata": {
    "scrolled": true
   },
   "outputs": [
    {
     "data": {
      "text/html": [
       "<div>\n",
       "<style scoped>\n",
       "    .dataframe tbody tr th:only-of-type {\n",
       "        vertical-align: middle;\n",
       "    }\n",
       "\n",
       "    .dataframe tbody tr th {\n",
       "        vertical-align: top;\n",
       "    }\n",
       "\n",
       "    .dataframe thead th {\n",
       "        text-align: right;\n",
       "    }\n",
       "</style>\n",
       "<table border=\"1\" class=\"dataframe\">\n",
       "  <thead>\n",
       "    <tr style=\"text-align: right;\">\n",
       "      <th></th>\n",
       "      <th>path_folder</th>\n",
       "      <th>seg</th>\n",
       "      <th>t1c</th>\n",
       "      <th>t1n</th>\n",
       "      <th>t2w</th>\n",
       "      <th>id_patient</th>\n",
       "      <th>index</th>\n",
       "    </tr>\n",
       "  </thead>\n",
       "  <tbody>\n",
       "    <tr>\n",
       "      <th>0</th>\n",
       "      <td>BraTS-GLI-00000-000</td>\n",
       "      <td>BraTS-GLI-00000-000\\BraTS-GLI-00000-000-seg.ni...</td>\n",
       "      <td>BraTS-GLI-00000-000\\BraTS-GLI-00000-000-t1c.ni...</td>\n",
       "      <td>BraTS-GLI-00000-000\\BraTS-GLI-00000-000-t1n.ni...</td>\n",
       "      <td>BraTS-GLI-00000-000\\BraTS-GLI-00000-000-t2w.ni...</td>\n",
       "      <td>00000</td>\n",
       "      <td>000</td>\n",
       "    </tr>\n",
       "    <tr>\n",
       "      <th>1</th>\n",
       "      <td>BraTS-GLI-00002-000</td>\n",
       "      <td>BraTS-GLI-00002-000\\BraTS-GLI-00002-000-seg.ni...</td>\n",
       "      <td>BraTS-GLI-00002-000\\BraTS-GLI-00002-000-t1c.ni...</td>\n",
       "      <td>BraTS-GLI-00002-000\\BraTS-GLI-00002-000-t1n.ni...</td>\n",
       "      <td>BraTS-GLI-00002-000\\BraTS-GLI-00002-000-t2w.ni...</td>\n",
       "      <td>00002</td>\n",
       "      <td>000</td>\n",
       "    </tr>\n",
       "    <tr>\n",
       "      <th>2</th>\n",
       "      <td>BraTS-GLI-00003-000</td>\n",
       "      <td>BraTS-GLI-00003-000\\BraTS-GLI-00003-000-seg.ni...</td>\n",
       "      <td>BraTS-GLI-00003-000\\BraTS-GLI-00003-000-t1c.ni...</td>\n",
       "      <td>BraTS-GLI-00003-000\\BraTS-GLI-00003-000-t1n.ni...</td>\n",
       "      <td>BraTS-GLI-00003-000\\BraTS-GLI-00003-000-t2w.ni...</td>\n",
       "      <td>00003</td>\n",
       "      <td>000</td>\n",
       "    </tr>\n",
       "    <tr>\n",
       "      <th>3</th>\n",
       "      <td>BraTS-GLI-00005-000</td>\n",
       "      <td>BraTS-GLI-00005-000\\BraTS-GLI-00005-000-seg.ni...</td>\n",
       "      <td>BraTS-GLI-00005-000\\BraTS-GLI-00005-000-t1c.ni...</td>\n",
       "      <td>BraTS-GLI-00005-000\\BraTS-GLI-00005-000-t1n.ni...</td>\n",
       "      <td>BraTS-GLI-00005-000\\BraTS-GLI-00005-000-t2w.ni...</td>\n",
       "      <td>00005</td>\n",
       "      <td>000</td>\n",
       "    </tr>\n",
       "    <tr>\n",
       "      <th>4</th>\n",
       "      <td>BraTS-GLI-00006-000</td>\n",
       "      <td>BraTS-GLI-00006-000\\BraTS-GLI-00006-000-seg.ni...</td>\n",
       "      <td>BraTS-GLI-00006-000\\BraTS-GLI-00006-000-t1c.ni...</td>\n",
       "      <td>BraTS-GLI-00006-000\\BraTS-GLI-00006-000-t1n.ni...</td>\n",
       "      <td>BraTS-GLI-00006-000\\BraTS-GLI-00006-000-t2w.ni...</td>\n",
       "      <td>00006</td>\n",
       "      <td>000</td>\n",
       "    </tr>\n",
       "    <tr>\n",
       "      <th>...</th>\n",
       "      <td>...</td>\n",
       "      <td>...</td>\n",
       "      <td>...</td>\n",
       "      <td>...</td>\n",
       "      <td>...</td>\n",
       "      <td>...</td>\n",
       "      <td>...</td>\n",
       "    </tr>\n",
       "    <tr>\n",
       "      <th>1246</th>\n",
       "      <td>BraTS-GLI-01662-000</td>\n",
       "      <td>BraTS-GLI-01662-000\\BraTS-GLI-01662-000-seg.ni...</td>\n",
       "      <td>BraTS-GLI-01662-000\\BraTS-GLI-01662-000-t1c.ni...</td>\n",
       "      <td>BraTS-GLI-01662-000\\BraTS-GLI-01662-000-t1n.ni...</td>\n",
       "      <td>BraTS-GLI-01662-000\\BraTS-GLI-01662-000-t2w.ni...</td>\n",
       "      <td>01662</td>\n",
       "      <td>000</td>\n",
       "    </tr>\n",
       "    <tr>\n",
       "      <th>1247</th>\n",
       "      <td>BraTS-GLI-01663-000</td>\n",
       "      <td>BraTS-GLI-01663-000\\BraTS-GLI-01663-000-seg.ni...</td>\n",
       "      <td>BraTS-GLI-01663-000\\BraTS-GLI-01663-000-t1c.ni...</td>\n",
       "      <td>BraTS-GLI-01663-000\\BraTS-GLI-01663-000-t1n.ni...</td>\n",
       "      <td>BraTS-GLI-01663-000\\BraTS-GLI-01663-000-t2w.ni...</td>\n",
       "      <td>01663</td>\n",
       "      <td>000</td>\n",
       "    </tr>\n",
       "    <tr>\n",
       "      <th>1248</th>\n",
       "      <td>BraTS-GLI-01664-000</td>\n",
       "      <td>BraTS-GLI-01664-000\\BraTS-GLI-01664-000-seg.ni...</td>\n",
       "      <td>BraTS-GLI-01664-000\\BraTS-GLI-01664-000-t1c.ni...</td>\n",
       "      <td>BraTS-GLI-01664-000\\BraTS-GLI-01664-000-t1n.ni...</td>\n",
       "      <td>BraTS-GLI-01664-000\\BraTS-GLI-01664-000-t2w.ni...</td>\n",
       "      <td>01664</td>\n",
       "      <td>000</td>\n",
       "    </tr>\n",
       "    <tr>\n",
       "      <th>1249</th>\n",
       "      <td>BraTS-GLI-01665-000</td>\n",
       "      <td>BraTS-GLI-01665-000\\BraTS-GLI-01665-000-seg.ni...</td>\n",
       "      <td>BraTS-GLI-01665-000\\BraTS-GLI-01665-000-t1c.ni...</td>\n",
       "      <td>BraTS-GLI-01665-000\\BraTS-GLI-01665-000-t1n.ni...</td>\n",
       "      <td>BraTS-GLI-01665-000\\BraTS-GLI-01665-000-t2w.ni...</td>\n",
       "      <td>01665</td>\n",
       "      <td>000</td>\n",
       "    </tr>\n",
       "    <tr>\n",
       "      <th>1250</th>\n",
       "      <td>BraTS-GLI-01666-000</td>\n",
       "      <td>BraTS-GLI-01666-000\\BraTS-GLI-01666-000-seg.ni...</td>\n",
       "      <td>BraTS-GLI-01666-000\\BraTS-GLI-01666-000-t1c.ni...</td>\n",
       "      <td>BraTS-GLI-01666-000\\BraTS-GLI-01666-000-t1n.ni...</td>\n",
       "      <td>BraTS-GLI-01666-000\\BraTS-GLI-01666-000-t2w.ni...</td>\n",
       "      <td>01666</td>\n",
       "      <td>000</td>\n",
       "    </tr>\n",
       "  </tbody>\n",
       "</table>\n",
       "<p>1251 rows × 7 columns</p>\n",
       "</div>"
      ],
      "text/plain": [
       "              path_folder                                                seg   \n",
       "0     BraTS-GLI-00000-000  BraTS-GLI-00000-000\\BraTS-GLI-00000-000-seg.ni...  \\\n",
       "1     BraTS-GLI-00002-000  BraTS-GLI-00002-000\\BraTS-GLI-00002-000-seg.ni...   \n",
       "2     BraTS-GLI-00003-000  BraTS-GLI-00003-000\\BraTS-GLI-00003-000-seg.ni...   \n",
       "3     BraTS-GLI-00005-000  BraTS-GLI-00005-000\\BraTS-GLI-00005-000-seg.ni...   \n",
       "4     BraTS-GLI-00006-000  BraTS-GLI-00006-000\\BraTS-GLI-00006-000-seg.ni...   \n",
       "...                   ...                                                ...   \n",
       "1246  BraTS-GLI-01662-000  BraTS-GLI-01662-000\\BraTS-GLI-01662-000-seg.ni...   \n",
       "1247  BraTS-GLI-01663-000  BraTS-GLI-01663-000\\BraTS-GLI-01663-000-seg.ni...   \n",
       "1248  BraTS-GLI-01664-000  BraTS-GLI-01664-000\\BraTS-GLI-01664-000-seg.ni...   \n",
       "1249  BraTS-GLI-01665-000  BraTS-GLI-01665-000\\BraTS-GLI-01665-000-seg.ni...   \n",
       "1250  BraTS-GLI-01666-000  BraTS-GLI-01666-000\\BraTS-GLI-01666-000-seg.ni...   \n",
       "\n",
       "                                                    t1c   \n",
       "0     BraTS-GLI-00000-000\\BraTS-GLI-00000-000-t1c.ni...  \\\n",
       "1     BraTS-GLI-00002-000\\BraTS-GLI-00002-000-t1c.ni...   \n",
       "2     BraTS-GLI-00003-000\\BraTS-GLI-00003-000-t1c.ni...   \n",
       "3     BraTS-GLI-00005-000\\BraTS-GLI-00005-000-t1c.ni...   \n",
       "4     BraTS-GLI-00006-000\\BraTS-GLI-00006-000-t1c.ni...   \n",
       "...                                                 ...   \n",
       "1246  BraTS-GLI-01662-000\\BraTS-GLI-01662-000-t1c.ni...   \n",
       "1247  BraTS-GLI-01663-000\\BraTS-GLI-01663-000-t1c.ni...   \n",
       "1248  BraTS-GLI-01664-000\\BraTS-GLI-01664-000-t1c.ni...   \n",
       "1249  BraTS-GLI-01665-000\\BraTS-GLI-01665-000-t1c.ni...   \n",
       "1250  BraTS-GLI-01666-000\\BraTS-GLI-01666-000-t1c.ni...   \n",
       "\n",
       "                                                    t1n   \n",
       "0     BraTS-GLI-00000-000\\BraTS-GLI-00000-000-t1n.ni...  \\\n",
       "1     BraTS-GLI-00002-000\\BraTS-GLI-00002-000-t1n.ni...   \n",
       "2     BraTS-GLI-00003-000\\BraTS-GLI-00003-000-t1n.ni...   \n",
       "3     BraTS-GLI-00005-000\\BraTS-GLI-00005-000-t1n.ni...   \n",
       "4     BraTS-GLI-00006-000\\BraTS-GLI-00006-000-t1n.ni...   \n",
       "...                                                 ...   \n",
       "1246  BraTS-GLI-01662-000\\BraTS-GLI-01662-000-t1n.ni...   \n",
       "1247  BraTS-GLI-01663-000\\BraTS-GLI-01663-000-t1n.ni...   \n",
       "1248  BraTS-GLI-01664-000\\BraTS-GLI-01664-000-t1n.ni...   \n",
       "1249  BraTS-GLI-01665-000\\BraTS-GLI-01665-000-t1n.ni...   \n",
       "1250  BraTS-GLI-01666-000\\BraTS-GLI-01666-000-t1n.ni...   \n",
       "\n",
       "                                                    t2w id_patient index  \n",
       "0     BraTS-GLI-00000-000\\BraTS-GLI-00000-000-t2w.ni...      00000   000  \n",
       "1     BraTS-GLI-00002-000\\BraTS-GLI-00002-000-t2w.ni...      00002   000  \n",
       "2     BraTS-GLI-00003-000\\BraTS-GLI-00003-000-t2w.ni...      00003   000  \n",
       "3     BraTS-GLI-00005-000\\BraTS-GLI-00005-000-t2w.ni...      00005   000  \n",
       "4     BraTS-GLI-00006-000\\BraTS-GLI-00006-000-t2w.ni...      00006   000  \n",
       "...                                                 ...        ...   ...  \n",
       "1246  BraTS-GLI-01662-000\\BraTS-GLI-01662-000-t2w.ni...      01662   000  \n",
       "1247  BraTS-GLI-01663-000\\BraTS-GLI-01663-000-t2w.ni...      01663   000  \n",
       "1248  BraTS-GLI-01664-000\\BraTS-GLI-01664-000-t2w.ni...      01664   000  \n",
       "1249  BraTS-GLI-01665-000\\BraTS-GLI-01665-000-t2w.ni...      01665   000  \n",
       "1250  BraTS-GLI-01666-000\\BraTS-GLI-01666-000-t2w.ni...      01666   000  \n",
       "\n",
       "[1251 rows x 7 columns]"
      ]
     },
     "execution_count": 33,
     "metadata": {},
     "output_type": "execute_result"
    }
   ],
   "source": [
    "df"
   ]
  },
  {
   "cell_type": "code",
   "execution_count": 39,
   "id": "59949aa6",
   "metadata": {},
   "outputs": [],
   "source": [
    "metadata_train_path =r\"C:\\Users\\bouhe\\OneDrive\\Bureau\\pfe\\dataset\\Nifti format BratS\\metadata_training.csv\""
   ]
  },
  {
   "cell_type": "code",
   "execution_count": 40,
   "id": "fcbfb215",
   "metadata": {},
   "outputs": [],
   "source": [
    "df.to_csv(metadata_train_path,index=False)"
   ]
  },
  {
   "cell_type": "code",
   "execution_count": 41,
   "id": "fc5c70a5",
   "metadata": {},
   "outputs": [],
   "source": [
    "t1c,t1n,t2f,t2w =[],[],[],[]\n",
    "for dir in valid_list_path:\n",
    "    curr_t1c = os.path.join(dir,os.path.basename(dir)+'-'+r't1c.nii.gz')\n",
    "    t1c.append(curr_t1c)\n",
    "    curr_t1n = os.path.join(dir,os.path.basename(dir)+'-'+r't1n.nii.gz')\n",
    "    t1n.append(curr_t1n)\n",
    "    curr_t2f = os.path.join(dir,os.path.basename(dir)+'-'+r't2f.nii.gz')\n",
    "    t2f.append(curr_t2f)\n",
    "    curr_t2w = os.path.join(dir,os.path.basename(dir)+'-'+r't2w.nii.gz')\n",
    "    t2w.append(curr_t2w)"
   ]
  },
  {
   "cell_type": "code",
   "execution_count": 42,
   "id": "13672a0a",
   "metadata": {
    "scrolled": true
   },
   "outputs": [],
   "source": [
    "df = pd.DataFrame({'path_folder' : valid_list_path,\n",
    "              't1c' : t1c,\n",
    "              't1n' : t1n,\n",
    "              't2f' : t2f,\n",
    "              't2w' : t2w\n",
    "             })"
   ]
  },
  {
   "cell_type": "code",
   "execution_count": 43,
   "id": "2c9e1bca",
   "metadata": {},
   "outputs": [],
   "source": [
    "df[['a','b','id_patient','index']] = df['path_folder'].str.split('-',expand=True)\n",
    "df.drop(['a', 'b'], axis = 1, inplace = True) "
   ]
  },
  {
   "cell_type": "code",
   "execution_count": 44,
   "id": "92c11da0",
   "metadata": {},
   "outputs": [
    {
     "data": {
      "text/html": [
       "<div>\n",
       "<style scoped>\n",
       "    .dataframe tbody tr th:only-of-type {\n",
       "        vertical-align: middle;\n",
       "    }\n",
       "\n",
       "    .dataframe tbody tr th {\n",
       "        vertical-align: top;\n",
       "    }\n",
       "\n",
       "    .dataframe thead th {\n",
       "        text-align: right;\n",
       "    }\n",
       "</style>\n",
       "<table border=\"1\" class=\"dataframe\">\n",
       "  <thead>\n",
       "    <tr style=\"text-align: right;\">\n",
       "      <th></th>\n",
       "      <th>path_folder</th>\n",
       "      <th>t1c</th>\n",
       "      <th>t1n</th>\n",
       "      <th>t2f</th>\n",
       "      <th>t2w</th>\n",
       "      <th>id_patient</th>\n",
       "      <th>index</th>\n",
       "    </tr>\n",
       "  </thead>\n",
       "  <tbody>\n",
       "    <tr>\n",
       "      <th>0</th>\n",
       "      <td>BraTS-GLI-00001-000</td>\n",
       "      <td>BraTS-GLI-00001-000\\BraTS-GLI-00001-000-t1c.ni...</td>\n",
       "      <td>BraTS-GLI-00001-000\\BraTS-GLI-00001-000-t1n.ni...</td>\n",
       "      <td>BraTS-GLI-00001-000\\BraTS-GLI-00001-000-t2f.ni...</td>\n",
       "      <td>BraTS-GLI-00001-000\\BraTS-GLI-00001-000-t2w.ni...</td>\n",
       "      <td>00001</td>\n",
       "      <td>000</td>\n",
       "    </tr>\n",
       "    <tr>\n",
       "      <th>1</th>\n",
       "      <td>BraTS-GLI-00001-001</td>\n",
       "      <td>BraTS-GLI-00001-001\\BraTS-GLI-00001-001-t1c.ni...</td>\n",
       "      <td>BraTS-GLI-00001-001\\BraTS-GLI-00001-001-t1n.ni...</td>\n",
       "      <td>BraTS-GLI-00001-001\\BraTS-GLI-00001-001-t2f.ni...</td>\n",
       "      <td>BraTS-GLI-00001-001\\BraTS-GLI-00001-001-t2w.ni...</td>\n",
       "      <td>00001</td>\n",
       "      <td>001</td>\n",
       "    </tr>\n",
       "    <tr>\n",
       "      <th>2</th>\n",
       "      <td>BraTS-GLI-00013-000</td>\n",
       "      <td>BraTS-GLI-00013-000\\BraTS-GLI-00013-000-t1c.ni...</td>\n",
       "      <td>BraTS-GLI-00013-000\\BraTS-GLI-00013-000-t1n.ni...</td>\n",
       "      <td>BraTS-GLI-00013-000\\BraTS-GLI-00013-000-t2f.ni...</td>\n",
       "      <td>BraTS-GLI-00013-000\\BraTS-GLI-00013-000-t2w.ni...</td>\n",
       "      <td>00013</td>\n",
       "      <td>000</td>\n",
       "    </tr>\n",
       "    <tr>\n",
       "      <th>3</th>\n",
       "      <td>BraTS-GLI-00013-001</td>\n",
       "      <td>BraTS-GLI-00013-001\\BraTS-GLI-00013-001-t1c.ni...</td>\n",
       "      <td>BraTS-GLI-00013-001\\BraTS-GLI-00013-001-t1n.ni...</td>\n",
       "      <td>BraTS-GLI-00013-001\\BraTS-GLI-00013-001-t2f.ni...</td>\n",
       "      <td>BraTS-GLI-00013-001\\BraTS-GLI-00013-001-t2w.ni...</td>\n",
       "      <td>00013</td>\n",
       "      <td>001</td>\n",
       "    </tr>\n",
       "    <tr>\n",
       "      <th>4</th>\n",
       "      <td>BraTS-GLI-00015-000</td>\n",
       "      <td>BraTS-GLI-00015-000\\BraTS-GLI-00015-000-t1c.ni...</td>\n",
       "      <td>BraTS-GLI-00015-000\\BraTS-GLI-00015-000-t1n.ni...</td>\n",
       "      <td>BraTS-GLI-00015-000\\BraTS-GLI-00015-000-t2f.ni...</td>\n",
       "      <td>BraTS-GLI-00015-000\\BraTS-GLI-00015-000-t2w.ni...</td>\n",
       "      <td>00015</td>\n",
       "      <td>000</td>\n",
       "    </tr>\n",
       "    <tr>\n",
       "      <th>...</th>\n",
       "      <td>...</td>\n",
       "      <td>...</td>\n",
       "      <td>...</td>\n",
       "      <td>...</td>\n",
       "      <td>...</td>\n",
       "      <td>...</td>\n",
       "      <td>...</td>\n",
       "    </tr>\n",
       "    <tr>\n",
       "      <th>214</th>\n",
       "      <td>BraTS-GLI-01774-000</td>\n",
       "      <td>BraTS-GLI-01774-000\\BraTS-GLI-01774-000-t1c.ni...</td>\n",
       "      <td>BraTS-GLI-01774-000\\BraTS-GLI-01774-000-t1n.ni...</td>\n",
       "      <td>BraTS-GLI-01774-000\\BraTS-GLI-01774-000-t2f.ni...</td>\n",
       "      <td>BraTS-GLI-01774-000\\BraTS-GLI-01774-000-t2w.ni...</td>\n",
       "      <td>01774</td>\n",
       "      <td>000</td>\n",
       "    </tr>\n",
       "    <tr>\n",
       "      <th>215</th>\n",
       "      <td>BraTS-GLI-01775-000</td>\n",
       "      <td>BraTS-GLI-01775-000\\BraTS-GLI-01775-000-t1c.ni...</td>\n",
       "      <td>BraTS-GLI-01775-000\\BraTS-GLI-01775-000-t1n.ni...</td>\n",
       "      <td>BraTS-GLI-01775-000\\BraTS-GLI-01775-000-t2f.ni...</td>\n",
       "      <td>BraTS-GLI-01775-000\\BraTS-GLI-01775-000-t2w.ni...</td>\n",
       "      <td>01775</td>\n",
       "      <td>000</td>\n",
       "    </tr>\n",
       "    <tr>\n",
       "      <th>216</th>\n",
       "      <td>BraTS-GLI-01776-000</td>\n",
       "      <td>BraTS-GLI-01776-000\\BraTS-GLI-01776-000-t1c.ni...</td>\n",
       "      <td>BraTS-GLI-01776-000\\BraTS-GLI-01776-000-t1n.ni...</td>\n",
       "      <td>BraTS-GLI-01776-000\\BraTS-GLI-01776-000-t2f.ni...</td>\n",
       "      <td>BraTS-GLI-01776-000\\BraTS-GLI-01776-000-t2w.ni...</td>\n",
       "      <td>01776</td>\n",
       "      <td>000</td>\n",
       "    </tr>\n",
       "    <tr>\n",
       "      <th>217</th>\n",
       "      <td>BraTS-GLI-01789-000</td>\n",
       "      <td>BraTS-GLI-01789-000\\BraTS-GLI-01789-000-t1c.ni...</td>\n",
       "      <td>BraTS-GLI-01789-000\\BraTS-GLI-01789-000-t1n.ni...</td>\n",
       "      <td>BraTS-GLI-01789-000\\BraTS-GLI-01789-000-t2f.ni...</td>\n",
       "      <td>BraTS-GLI-01789-000\\BraTS-GLI-01789-000-t2w.ni...</td>\n",
       "      <td>01789</td>\n",
       "      <td>000</td>\n",
       "    </tr>\n",
       "    <tr>\n",
       "      <th>218</th>\n",
       "      <td>BraTS-GLI-01790-000</td>\n",
       "      <td>BraTS-GLI-01790-000\\BraTS-GLI-01790-000-t1c.ni...</td>\n",
       "      <td>BraTS-GLI-01790-000\\BraTS-GLI-01790-000-t1n.ni...</td>\n",
       "      <td>BraTS-GLI-01790-000\\BraTS-GLI-01790-000-t2f.ni...</td>\n",
       "      <td>BraTS-GLI-01790-000\\BraTS-GLI-01790-000-t2w.ni...</td>\n",
       "      <td>01790</td>\n",
       "      <td>000</td>\n",
       "    </tr>\n",
       "  </tbody>\n",
       "</table>\n",
       "<p>219 rows × 7 columns</p>\n",
       "</div>"
      ],
      "text/plain": [
       "             path_folder                                                t1c   \n",
       "0    BraTS-GLI-00001-000  BraTS-GLI-00001-000\\BraTS-GLI-00001-000-t1c.ni...  \\\n",
       "1    BraTS-GLI-00001-001  BraTS-GLI-00001-001\\BraTS-GLI-00001-001-t1c.ni...   \n",
       "2    BraTS-GLI-00013-000  BraTS-GLI-00013-000\\BraTS-GLI-00013-000-t1c.ni...   \n",
       "3    BraTS-GLI-00013-001  BraTS-GLI-00013-001\\BraTS-GLI-00013-001-t1c.ni...   \n",
       "4    BraTS-GLI-00015-000  BraTS-GLI-00015-000\\BraTS-GLI-00015-000-t1c.ni...   \n",
       "..                   ...                                                ...   \n",
       "214  BraTS-GLI-01774-000  BraTS-GLI-01774-000\\BraTS-GLI-01774-000-t1c.ni...   \n",
       "215  BraTS-GLI-01775-000  BraTS-GLI-01775-000\\BraTS-GLI-01775-000-t1c.ni...   \n",
       "216  BraTS-GLI-01776-000  BraTS-GLI-01776-000\\BraTS-GLI-01776-000-t1c.ni...   \n",
       "217  BraTS-GLI-01789-000  BraTS-GLI-01789-000\\BraTS-GLI-01789-000-t1c.ni...   \n",
       "218  BraTS-GLI-01790-000  BraTS-GLI-01790-000\\BraTS-GLI-01790-000-t1c.ni...   \n",
       "\n",
       "                                                   t1n   \n",
       "0    BraTS-GLI-00001-000\\BraTS-GLI-00001-000-t1n.ni...  \\\n",
       "1    BraTS-GLI-00001-001\\BraTS-GLI-00001-001-t1n.ni...   \n",
       "2    BraTS-GLI-00013-000\\BraTS-GLI-00013-000-t1n.ni...   \n",
       "3    BraTS-GLI-00013-001\\BraTS-GLI-00013-001-t1n.ni...   \n",
       "4    BraTS-GLI-00015-000\\BraTS-GLI-00015-000-t1n.ni...   \n",
       "..                                                 ...   \n",
       "214  BraTS-GLI-01774-000\\BraTS-GLI-01774-000-t1n.ni...   \n",
       "215  BraTS-GLI-01775-000\\BraTS-GLI-01775-000-t1n.ni...   \n",
       "216  BraTS-GLI-01776-000\\BraTS-GLI-01776-000-t1n.ni...   \n",
       "217  BraTS-GLI-01789-000\\BraTS-GLI-01789-000-t1n.ni...   \n",
       "218  BraTS-GLI-01790-000\\BraTS-GLI-01790-000-t1n.ni...   \n",
       "\n",
       "                                                   t2f   \n",
       "0    BraTS-GLI-00001-000\\BraTS-GLI-00001-000-t2f.ni...  \\\n",
       "1    BraTS-GLI-00001-001\\BraTS-GLI-00001-001-t2f.ni...   \n",
       "2    BraTS-GLI-00013-000\\BraTS-GLI-00013-000-t2f.ni...   \n",
       "3    BraTS-GLI-00013-001\\BraTS-GLI-00013-001-t2f.ni...   \n",
       "4    BraTS-GLI-00015-000\\BraTS-GLI-00015-000-t2f.ni...   \n",
       "..                                                 ...   \n",
       "214  BraTS-GLI-01774-000\\BraTS-GLI-01774-000-t2f.ni...   \n",
       "215  BraTS-GLI-01775-000\\BraTS-GLI-01775-000-t2f.ni...   \n",
       "216  BraTS-GLI-01776-000\\BraTS-GLI-01776-000-t2f.ni...   \n",
       "217  BraTS-GLI-01789-000\\BraTS-GLI-01789-000-t2f.ni...   \n",
       "218  BraTS-GLI-01790-000\\BraTS-GLI-01790-000-t2f.ni...   \n",
       "\n",
       "                                                   t2w id_patient index  \n",
       "0    BraTS-GLI-00001-000\\BraTS-GLI-00001-000-t2w.ni...      00001   000  \n",
       "1    BraTS-GLI-00001-001\\BraTS-GLI-00001-001-t2w.ni...      00001   001  \n",
       "2    BraTS-GLI-00013-000\\BraTS-GLI-00013-000-t2w.ni...      00013   000  \n",
       "3    BraTS-GLI-00013-001\\BraTS-GLI-00013-001-t2w.ni...      00013   001  \n",
       "4    BraTS-GLI-00015-000\\BraTS-GLI-00015-000-t2w.ni...      00015   000  \n",
       "..                                                 ...        ...   ...  \n",
       "214  BraTS-GLI-01774-000\\BraTS-GLI-01774-000-t2w.ni...      01774   000  \n",
       "215  BraTS-GLI-01775-000\\BraTS-GLI-01775-000-t2w.ni...      01775   000  \n",
       "216  BraTS-GLI-01776-000\\BraTS-GLI-01776-000-t2w.ni...      01776   000  \n",
       "217  BraTS-GLI-01789-000\\BraTS-GLI-01789-000-t2w.ni...      01789   000  \n",
       "218  BraTS-GLI-01790-000\\BraTS-GLI-01790-000-t2w.ni...      01790   000  \n",
       "\n",
       "[219 rows x 7 columns]"
      ]
     },
     "execution_count": 44,
     "metadata": {},
     "output_type": "execute_result"
    }
   ],
   "source": [
    "df"
   ]
  },
  {
   "cell_type": "code",
   "execution_count": 45,
   "id": "a415b3fd",
   "metadata": {},
   "outputs": [],
   "source": [
    "metadata_valid_path = r\"C:\\Users\\bouhe\\OneDrive\\Bureau\\pfe\\dataset\\Nifti format BratS\\metadata_validation.csv\""
   ]
  },
  {
   "cell_type": "code",
   "execution_count": 46,
   "id": "bfb99c2e",
   "metadata": {},
   "outputs": [],
   "source": [
    "df.to_csv(metadata_valid_path, index=False)"
   ]
  },
  {
   "attachments": {},
   "cell_type": "markdown",
   "id": "4e51932e",
   "metadata": {},
   "source": [
    "## Visualizing the Images (nifti format)"
   ]
  },
  {
   "cell_type": "code",
   "execution_count": 34,
   "id": "cec002ef",
   "metadata": {},
   "outputs": [],
   "source": [
    "metadata_train_path=r\"C:\\Users\\bouhe\\OneDrive\\Bureau\\pfe\\dataset\\Nifti format BratS\\metadata_training.csv\"\n",
    "metadata_valid_path=r\"C:\\Users\\bouhe\\OneDrive\\Bureau\\pfe\\dataset\\Nifti format BratS\\metadata_validation.csv\"\n",
    "parent_dir_train = r'C:\\Users\\bouhe\\OneDrive\\Bureau\\pfe\\dataset\\Nifti format BratS\\ASNR-MICCAI-BraTS2023-GLI-Challenge-TrainingData'\n",
    "parent_dir_valid = r'C:\\Users\\bouhe\\OneDrive\\Bureau\\pfe\\dataset\\Nifti format BratS\\ASNR-MICCAI-BraTS2023-GLI-Challenge-ValidationData'"
   ]
  },
  {
   "cell_type": "code",
   "execution_count": 62,
   "id": "a1b73aff",
   "metadata": {},
   "outputs": [],
   "source": [
    "#Reading the metadata\n",
    "dt = pd.read_csv(metadata_train_path) #training metadata\n",
    "#dv = pd.read_csv(metadata_valid_path) #validation metadata"
   ]
  },
  {
   "cell_type": "code",
   "execution_count": 36,
   "id": "1000eae7",
   "metadata": {},
   "outputs": [
    {
     "name": "stdout",
     "output_type": "stream",
     "text": [
      "              path_folder                                                seg   \n",
      "1009  BraTS-GLI-01307-000  BraTS-GLI-01307-000\\BraTS-GLI-01307-000-seg.ni...  \\\n",
      "\n",
      "                                                    t1c   \n",
      "1009  BraTS-GLI-01307-000\\BraTS-GLI-01307-000-t1c.ni...  \\\n",
      "\n",
      "                                                    t1n   \n",
      "1009  BraTS-GLI-01307-000\\BraTS-GLI-01307-000-t1n.ni...  \\\n",
      "\n",
      "                                                    t2f   \n",
      "1009  BraTS-GLI-01307-000\\BraTS-GLI-01307-000-t2f.ni...  \\\n",
      "\n",
      "                                                    t2w  id_patient  index  \n",
      "1009  BraTS-GLI-01307-000\\BraTS-GLI-01307-000-t2w.ni...        1307      0  \n"
     ]
    }
   ],
   "source": [
    "dt_row = dt.sample(n=1)\n",
    "print(dt_row)"
   ]
  },
  {
   "cell_type": "code",
   "execution_count": 37,
   "id": "41f29615",
   "metadata": {},
   "outputs": [
    {
     "name": "stdout",
     "output_type": "stream",
     "text": [
      "             path_folder                                                seg   \n",
      "264  BraTS-GLI-00329-000  BraTS-GLI-00329-000\\BraTS-GLI-00329-000-seg.ni...  \\\n",
      "\n",
      "                                                   t1c   \n",
      "264  BraTS-GLI-00329-000\\BraTS-GLI-00329-000-t1c.ni...  \\\n",
      "\n",
      "                                                   t1n   \n",
      "264  BraTS-GLI-00329-000\\BraTS-GLI-00329-000-t1n.ni...  \\\n",
      "\n",
      "                                                   t2f   \n",
      "264  BraTS-GLI-00329-000\\BraTS-GLI-00329-000-t2f.ni...  \\\n",
      "\n",
      "                                                   t2w  id_patient  index  \n",
      "264  BraTS-GLI-00329-000\\BraTS-GLI-00329-000-t2w.ni...         329      0  \n"
     ]
    }
   ],
   "source": [
    "dt_row = dt.sample(n=1)\n",
    "print(dt_row)"
   ]
  },
  {
   "cell_type": "code",
   "execution_count": 60,
   "id": "5493893f",
   "metadata": {},
   "outputs": [
    {
     "name": "stdout",
     "output_type": "stream",
     "text": [
      "['BraTS-GLI-00329-000\\\\BraTS-GLI-00329-000-seg.nii.gz', 'BraTS-GLI-00329-000\\\\BraTS-GLI-00329-000-t1c.nii.gz', 'BraTS-GLI-00329-000\\\\BraTS-GLI-00329-000-t1n.nii.gz', 'BraTS-GLI-00329-000\\\\BraTS-GLI-00329-000-t2f.nii.gz', 'BraTS-GLI-00329-000\\\\BraTS-GLI-00329-000-t2w.nii.gz']\n",
      "[329, 0]\n",
      "['seg', 't1c', 't1n', 't2w']\n"
     ]
    }
   ],
   "source": [
    "image_paths_abs = get_paths(parent_dir_train,dt_row)\n",
    "values_mris = df_row2list(dt_row,beg=-2)\n",
    "scan_type = [path.split('-')[-1].split('.')[0] for path in image_paths_abs]\n",
    "scan_type.pop(-2)\n",
    "image_paths_abs.pop(-2)\n",
    "\n",
    "print(values_mris)\n",
    "print(scan_type)"
   ]
  },
  {
   "cell_type": "code",
   "execution_count": 61,
   "id": "d60d004e",
   "metadata": {},
   "outputs": [
    {
     "data": {
      "image/png": "[encoded data removed]",
      "text/plain": [
       "<Figure size 2000x2000 with 4 Axes>"
      ]
     },
     "metadata": {},
     "output_type": "display_data"
    }
   ],
   "source": [
    "load_the_mris(image_paths_abs,scan_type,60,values_mris)"
   ]
  },
  {
   "cell_type": "code",
   "execution_count": 22,
   "id": "65e63f54",
   "metadata": {},
   "outputs": [],
   "source": [
    "img_path= r\"C:\\Users\\bouhe\\OneDrive\\Bureau\\pfe\\dataset\\Nifti format BratS\\ASNR-MICCAI-BraTS2023-GLI-Challenge-TrainingData\\BraTS-GLI-00000-000\\BraTS-GLI-00000-000-t1c.nii.gz\"\n",
    "img_path_seg= r\"C:\\Users\\bouhe\\OneDrive\\Bureau\\pfe\\dataset\\Nifti format BratS\\ASNR-MICCAI-BraTS2023-GLI-Challenge-TrainingData\\BraTS-GLI-00000-000\\BraTS-GLI-00000-000-seg.nii.gz\""
   ]
  },
  {
   "cell_type": "code",
   "execution_count": 29,
   "id": "75f08ddb",
   "metadata": {},
   "outputs": [
    {
     "data": {
      "image/png": "[encoded data removed]",
      "text/plain": [
       "<Figure size 640x480 with 1 Axes>"
      ]
     },
     "metadata": {},
     "output_type": "display_data"
    }
   ],
   "source": [
    "show_nifti(img_path_seg,80)"
   ]
  },
  {
   "cell_type": "code",
   "execution_count": 23,
   "id": "72bf7390",
   "metadata": {
    "scrolled": false
   },
   "outputs": [
    {
     "data": {
      "image/png": "[encoded data removed]",
      "text/plain": [
       "<Figure size 640x480 with 1 Axes>"
      ]
     },
     "metadata": {},
     "output_type": "display_data"
    }
   ],
   "source": [
    "show_nifti(img_path,100)"
   ]
  },
  {
   "cell_type": "code",
   "execution_count": 24,
   "id": "2fc463f2",
   "metadata": {},
   "outputs": [
    {
     "data": {
      "application/vnd.jupyter.widget-view+json": {
       "model_id": "13eee21b03b6458690f62016c853d312",
       "version_major": 2,
       "version_minor": 0
      },
      "text/plain": [
       "interactive(children=(IntSlider(value=77, description='layer', max=154), Output()), _dom_classes=('widget-inte…"
      ]
     },
     "metadata": {},
     "output_type": "display_data"
    }
   ],
   "source": [
    "animate_img(img_path)"
   ]
  },
  {
   "cell_type": "code",
   "execution_count": 25,
   "id": "36a920da",
   "metadata": {},
   "outputs": [
    {
     "data": {
      "application/vnd.jupyter.widget-view+json": {
       "model_id": "ad7787d82f244fa88895ef75e72ab8b7",
       "version_major": 2,
       "version_minor": 0
      },
      "text/plain": [
       "interactive(children=(IntSlider(value=77, description='layer', max=154), Output()), _dom_classes=('widget-inte…"
      ]
     },
     "metadata": {},
     "output_type": "display_data"
    }
   ],
   "source": [
    "animate_labels(img_path_seg)"
   ]
  },
  {
   "cell_type": "code",
   "execution_count": null,
   "id": "2de92bcf",
   "metadata": {},
   "outputs": [],
   "source": [
    "show_all_layers(img_path)"
   ]
  },
  {
   "cell_type": "code",
   "execution_count": 27,
   "id": "9c1a34c8",
   "metadata": {},
   "outputs": [],
   "source": [
    "filename_to_convert=r\"C:\\Users\\bouhe\\OneDrive\\Bureau\\pfe\\image.gif\""
   ]
  },
  {
   "cell_type": "code",
   "execution_count": 28,
   "id": "6053b0e9",
   "metadata": {},
   "outputs": [
    {
     "data": {
      "image/png": "[encoded data removed]",
      "text/plain": [
       "<Figure size 640x480 with 1 Axes>"
      ]
     },
     "metadata": {},
     "output_type": "display_data"
    }
   ],
   "source": [
    "create_gif(nib.load(img_path), title='.gif', filename=filename_to_convert)"
   ]
  },
  {
   "cell_type": "code",
   "execution_count": 16,
   "id": "052e749f",
   "metadata": {},
   "outputs": [],
   "source": [
    "image_0_seg = r\"C:\\Users\\bouhe\\OneDrive\\Bureau\\pfe\\dataset\\Nifti format BratS\\ASNR-MICCAI-BraTS2023-GLI-Challenge-TrainingData\\BraTS-GLI-00087-000\\BraTS-GLI-00087-000-seg.nii.gz\"\n",
    "image_1_seg = r\"C:\\Users\\bouhe\\OneDrive\\Bureau\\pfe\\dataset\\Nifti format BratS\\ASNR-MICCAI-BraTS2023-GLI-Challenge-TrainingData\\BraTS-GLI-00087-001\\BraTS-GLI-00087-001-seg.nii.gz\"\n",
    "image_0_t1c = r\"C:\\Users\\bouhe\\OneDrive\\Bureau\\pfe\\dataset\\Nifti format BratS\\ASNR-MICCAI-BraTS2023-GLI-Challenge-TrainingData\\BraTS-GLI-00087-000\\BraTS-GLI-00087-000-t1c.nii.gz\"\n",
    "image_1_t1c = r\"C:\\Users\\bouhe\\OneDrive\\Bureau\\pfe\\dataset\\Nifti format BratS\\ASNR-MICCAI-BraTS2023-GLI-Challenge-TrainingData\\BraTS-GLI-00087-001\\BraTS-GLI-00087-001-t1c.nii.gz\""
   ]
  },
  {
   "cell_type": "code",
   "execution_count": 57,
   "id": "41aee757",
   "metadata": {},
   "outputs": [
    {
     "data": {
      "image/png": "[encoded data removed]",
      "text/plain": [
       "<Figure size 640x480 with 1 Axes>"
      ]
     },
     "metadata": {},
     "output_type": "display_data"
    }
   ],
   "source": [
    "show_nifti(image_0_t1c, 70)"
   ]
  },
  {
   "cell_type": "code",
   "execution_count": 58,
   "id": "016003ee",
   "metadata": {},
   "outputs": [
    {
     "data": {
      "image/png": "[encoded data removed]",
      "text/plain": [
       "<Figure size 640x480 with 1 Axes>"
      ]
     },
     "metadata": {},
     "output_type": "display_data"
    }
   ],
   "source": [
    "show_nifti(image_1_t1c, 70)"
   ]
  },
  {
   "cell_type": "code",
   "execution_count": 17,
   "id": "95b32274",
   "metadata": {},
   "outputs": [],
   "source": [
    "loaded_0_seg =load_nifti(image_0_seg)\n",
    "loaded_1_seg =load_nifti(image_1_seg)\n",
    "slice_0 = get_slice(loaded_0_seg,60)\n",
    "slice_1 = get_slice(loaded_1_seg,60)"
   ]
  },
  {
   "cell_type": "code",
   "execution_count": 18,
   "id": "cd4a2dc3",
   "metadata": {},
   "outputs": [],
   "source": [
    "unique, counts = np.unique(slice_0, return_counts=True)"
   ]
  },
  {
   "cell_type": "code",
   "execution_count": 19,
   "id": "aa35bfa3",
   "metadata": {},
   "outputs": [
    {
     "data": {
      "text/plain": [
       "{0.0: 55556, 1.0: 115, 2.0: 1199, 3.0: 730}"
      ]
     },
     "execution_count": 19,
     "metadata": {},
     "output_type": "execute_result"
    }
   ],
   "source": [
    "dict(zip(unique, counts))"
   ]
  },
  {
   "cell_type": "code",
   "execution_count": 23,
   "id": "0765f9a2",
   "metadata": {},
   "outputs": [],
   "source": [
    "loaded_0_t1c =nib.load(image_0_t1c)"
   ]
  },
  {
   "cell_type": "code",
   "execution_count": 25,
   "id": "4d3e5e41",
   "metadata": {},
   "outputs": [
    {
     "name": "stdout",
     "output_type": "stream",
     "text": [
      "<class 'nibabel.nifti1.Nifti1Header'> object, endian='<'\n",
      "sizeof_hdr      : 348\n",
      "data_type       : b''\n",
      "db_name         : b''\n",
      "extents         : 0\n",
      "session_error   : 0\n",
      "regular         : b'r'\n",
      "dim_info        : 0\n",
      "dim             : [  3 240 240 155   1   1   1   1]\n",
      "intent_p1       : 0.0\n",
      "intent_p2       : 0.0\n",
      "intent_p3       : 0.0\n",
      "intent_code     : none\n",
      "datatype        : int16\n",
      "bitpix          : 16\n",
      "slice_start     : 0\n",
      "pixdim          : [1. 1. 1. 1. 0. 0. 0. 0.]\n",
      "vox_offset      : 0.0\n",
      "scl_slope       : nan\n",
      "scl_inter       : nan\n",
      "slice_end       : 0\n",
      "slice_code      : unknown\n",
      "xyzt_units      : 2\n",
      "cal_max         : 0.0\n",
      "cal_min         : 0.0\n",
      "slice_duration  : 0.0\n",
      "toffset         : 0.0\n",
      "glmax           : 0\n",
      "glmin           : 0\n",
      "descrip         : b''\n",
      "aux_file        : b''\n",
      "qform_code      : scanner\n",
      "sform_code      : scanner\n",
      "quatern_b       : 0.0\n",
      "quatern_c       : 0.0\n",
      "quatern_d       : 1.0\n",
      "qoffset_x       : 0.0\n",
      "qoffset_y       : 239.0\n",
      "qoffset_z       : 0.0\n",
      "srow_x          : [-1. -0. -0.  0.]\n",
      "srow_y          : [ -0.  -1.  -0. 239.]\n",
      "srow_z          : [0. 0. 1. 0.]\n",
      "intent_name     : b''\n",
      "magic           : b'n+1'\n"
     ]
    }
   ],
   "source": [
    "print(loaded_0_t1c.header)"
   ]
  },
  {
   "cell_type": "code",
   "execution_count": 40,
   "id": "20970150",
   "metadata": {},
   "outputs": [
    {
     "name": "stdout",
     "output_type": "stream",
     "text": [
      "The scan data array has the shape:  (240, 240, 155)\n",
      "The scan header is as follows: \n",
      " <class 'nibabel.nifti1.Nifti1Header'> object, endian='<'\n",
      "sizeof_hdr      : 348\n",
      "data_type       : b''\n",
      "db_name         : b''\n",
      "extents         : 0\n",
      "session_error   : 0\n",
      "regular         : b'r'\n",
      "dim_info        : 0\n",
      "dim             : [  3 240 240 155   1   1   1   1]\n",
      "intent_p1       : 0.0\n",
      "intent_p2       : 0.0\n",
      "intent_p3       : 0.0\n",
      "intent_code     : none\n",
      "datatype        : int16\n",
      "bitpix          : 16\n",
      "slice_start     : 0\n",
      "pixdim          : [1. 1. 1. 1. 0. 0. 0. 0.]\n",
      "vox_offset      : 0.0\n",
      "scl_slope       : nan\n",
      "scl_inter       : nan\n",
      "slice_end       : 0\n",
      "slice_code      : unknown\n",
      "xyzt_units      : 2\n",
      "cal_max         : 0.0\n",
      "cal_min         : 0.0\n",
      "slice_duration  : 0.0\n",
      "toffset         : 0.0\n",
      "glmax           : 0\n",
      "glmin           : 0\n",
      "descrip         : b''\n",
      "aux_file        : b''\n",
      "qform_code      : scanner\n",
      "sform_code      : scanner\n",
      "quatern_b       : 0.0\n",
      "quatern_c       : 0.0\n",
      "quatern_d       : 1.0\n",
      "qoffset_x       : 0.0\n",
      "qoffset_y       : 239.0\n",
      "qoffset_z       : 0.0\n",
      "srow_x          : [-1. -0. -0.  0.]\n",
      "srow_y          : [ -0.  -1.  -0. 239.]\n",
      "srow_z          : [0. 0. 1. 0.]\n",
      "intent_name     : b''\n",
      "magic           : b'n+1'\n"
     ]
    },
    {
     "data": {
      "image/png": "[encoded data removed]",
      "text/plain": [
       "<Figure size 640x480 with 3 Axes>"
      ]
     },
     "metadata": {},
     "output_type": "display_data"
    }
   ],
   "source": [
    "#Define the filepath to your NIfTI scan\n",
    "scanFilePath = r\"C:\\Users\\bouhe\\OneDrive\\Bureau\\pfe\\dataset\\Nifti format BratS\\ASNR-MICCAI-BraTS2023-GLI-Challenge-TrainingData\\BraTS-GLI-00000-000\\BraTS-GLI-00000-000-t1c.nii.gz\"\n",
    " \n",
    "#Load the scan and extract data using nibabel \n",
    "scan = nib.load(scanFilePath)\n",
    "scanArray = scan.get_fdata()\n",
    "\n",
    "#Get and print the scan's shape \n",
    "scanArrayShape = scanArray.shape\n",
    "print('The scan data array has the shape: ', scanArrayShape)\n",
    " \n",
    "#Get and print the scan's header\n",
    "scanHeader = scan.header\n",
    "print('The scan header is as follows: \\n', scanHeader)\n",
    " \n",
    "#Display scan array's middle slices\n",
    "fig, axs = plt.subplots(1,3)\n",
    "fig.suptitle('Scan Array (Middle Slices)')\n",
    "axs[0].imshow(scanArray[scanArrayShape[0]//2,:,:], cmap='gray')\n",
    "axs[1].imshow(scanArray[:,scanArrayShape[1]//2,:], cmap='gray')\n",
    "axs[2].imshow(scanArray[:,:,scanArrayShape[2]//2], cmap='gray')\n",
    "fig.tight_layout()\n",
    "plt.show()"
   ]
  },
  {
   "cell_type": "code",
   "execution_count": 35,
   "id": "28d4f72a",
   "metadata": {},
   "outputs": [
    {
     "name": "stdout",
     "output_type": "stream",
     "text": [
      "The required aspect ratios are:  [1.0, 1.0, 1.0]\n"
     ]
    }
   ],
   "source": [
    "#Calculate proper aspect ratios\n",
    "pixDim = scanHeader['pixdim'][1:4]\n",
    "aspectRatios = [pixDim[1]/pixDim[2],pixDim[0]/pixDim[2],pixDim[0]/pixDim[1]]\n",
    "print('The required aspect ratios are: ', aspectRatios)"
   ]
  },
  {
   "cell_type": "code",
   "execution_count": 40,
   "id": "46fbc121",
   "metadata": {},
   "outputs": [
    {
     "data": {
      "image/png": "[encoded data removed]",
      "text/plain": [
       "<Figure size 640x480 with 3 Axes>"
      ]
     },
     "metadata": {},
     "output_type": "display_data"
    }
   ],
   "source": [
    "#Display scan array's middle slices with proper aspect ratio\n",
    "fig, axs = plt.subplots(1,3)\n",
    "fig.suptitle('Scan Array w/ Proper Aspect Ratio (Middle Slices)')\n",
    "axs[0].imshow(scanArray[scanArrayShape[0]//2,:,:], cmap='gray')\n",
    "axs[1].imshow(scanArray[:,scanArrayShape[1]//2,:], cmap='gray')\n",
    "axs[2].imshow(scanArray[:,:,scanArrayShape[2]//2], cmap='gray')\n",
    "fig.tight_layout()\n",
    "plt.show()"
   ]
  },
  {
   "attachments": {},
   "cell_type": "markdown",
   "id": "d941d9f4",
   "metadata": {},
   "source": [
    "### Folder structures"
   ]
  },
  {
   "cell_type": "code",
   "execution_count": 64,
   "id": "7db19f9a",
   "metadata": {},
   "outputs": [],
   "source": [
    "#name_folders_test = dv[\"path_folder\"].tolist()\n",
    "name_folders_train = dt[\"path_folder\"].tolist()"
   ]
  },
  {
   "cell_type": "code",
   "execution_count": 20,
   "id": "cd837253",
   "metadata": {},
   "outputs": [
    {
     "name": "stdout",
     "output_type": "stream",
     "text": [
      "C:\\Users\\bouhe\\OneDrive\\Bureau\\pfe\\dataset\\png_format\\Train\n"
     ]
    }
   ],
   "source": [
    "%cd C:\\Users\\bouhe\\OneDrive\\Bureau\\pfe\\dataset\\png_format\\Test"
   ]
  },
  {
   "cell_type": "code",
   "execution_count": 42,
   "id": "1fdb5d9a",
   "metadata": {},
   "outputs": [
    {
     "name": "stdout",
     "output_type": "stream",
     "text": [
      " Le volume dans le lecteur C n'a pas de nom.\n",
      " Le num�ro de s�rie du volume est E4A6-EB66\n",
      "\n",
      " R�pertoire de c:\\Users\\bouhe\\OneDrive\\Bureau\\pfe\\dataset\\png_format\\Test\n",
      "\n",
      "31/05/2023  23:11    <DIR>          .\n",
      "31/05/2023  23:11    <DIR>          ..\n",
      "               0 fichier(s)                0 octets\n",
      "               2 R�p(s)  65�769�582�592 octets libres\n"
     ]
    }
   ],
   "source": [
    "%ls"
   ]
  },
  {
   "cell_type": "code",
   "execution_count": 43,
   "id": "ab223cda",
   "metadata": {},
   "outputs": [],
   "source": [
    "#for name in name_folders_test:\n",
    "    #!mkdir $name"
   ]
  },
  {
   "cell_type": "code",
   "execution_count": 92,
   "id": "685a02f9",
   "metadata": {},
   "outputs": [
    {
     "name": "stdout",
     "output_type": "stream",
     "text": [
      "c:\\Users\\bouhe\\OneDrive\\Bureau\\pfe\\dataset\\png_format\\Test\n"
     ]
    }
   ],
   "source": [
    "%cd Test"
   ]
  },
  {
   "cell_type": "code",
   "execution_count": null,
   "id": "323d7636",
   "metadata": {},
   "outputs": [],
   "source": [
    "for name in name_folders_test:\n",
    "    %cd $name\n",
    "    #!rm -r 'seg'\n",
    "    %cd .."
   ]
  },
  {
   "cell_type": "code",
   "execution_count": 25,
   "id": "17020feb",
   "metadata": {},
   "outputs": [],
   "source": [
    "output_parent_dir_path_train = r\"C:\\Users\\bouhe\\OneDrive\\Bureau\\pfe\\dataset\\png_format\\Train\"\n",
    "output_parent_dir_path_test = r\"C:\\Users\\bouhe\\OneDrive\\Bureau\\pfe\\dataset\\png_format\\Test\"\n"
   ]
  },
  {
   "cell_type": "code",
   "execution_count": 94,
   "id": "36b5d743",
   "metadata": {},
   "outputs": [],
   "source": [
    "_,t1c,t1n,t2f,t2w = images_based_on_scan_type(dv,'test')"
   ]
  },
  {
   "cell_type": "code",
   "execution_count": null,
   "id": "7da914cd",
   "metadata": {},
   "outputs": [],
   "source": [
    "t1n"
   ]
  },
  {
   "cell_type": "code",
   "execution_count": 69,
   "id": "77c82676",
   "metadata": {},
   "outputs": [
    {
     "data": {
      "text/plain": [
       "'C:\\\\Users\\\\bouhe\\\\OneDrive\\\\Bureau\\\\pfe\\\\dataset\\\\Nifti format BratS\\\\ASNR-MICCAI-BraTS2023-GLI-Challenge-ValidationData'"
      ]
     },
     "execution_count": 69,
     "metadata": {},
     "output_type": "execute_result"
    }
   ],
   "source": [
    "parent_dir_valid"
   ]
  },
  {
   "cell_type": "code",
   "execution_count": 80,
   "id": "1f603d50",
   "metadata": {},
   "outputs": [],
   "source": [
    "savin_dims(t1c,'t1c',output_parent_dir_path_test,parent_dir_valid,name_folders_test)"
   ]
  },
  {
   "cell_type": "code",
   "execution_count": 81,
   "id": "544128a3",
   "metadata": {},
   "outputs": [],
   "source": [
    "savin_dims(t1n,'t1n',output_parent_dir_path_test,parent_dir_valid,name_folders_test)"
   ]
  },
  {
   "cell_type": "code",
   "execution_count": 82,
   "id": "2d1a7f69",
   "metadata": {},
   "outputs": [],
   "source": [
    "savin_dims(t2f,'ta2f',output_parent_dir_path_test,parent_dir_valid,name_folders_test)"
   ]
  },
  {
   "cell_type": "code",
   "execution_count": 83,
   "id": "9308267e",
   "metadata": {},
   "outputs": [],
   "source": [
    "savin_dims(t2w,'t2w',output_parent_dir_path_test,parent_dir_valid,name_folders_test)"
   ]
  },
  {
   "cell_type": "code",
   "execution_count": 39,
   "id": "9cfce0c1",
   "metadata": {},
   "outputs": [],
   "source": [
    "name_folders_seg = os.listdir(r'C:\\Users\\bouhe\\OneDrive\\Bureau\\pfe\\dataset\\png_format\\train_all_labels')"
   ]
  },
  {
   "cell_type": "code",
   "execution_count": 46,
   "id": "48eb2d55",
   "metadata": {},
   "outputs": [],
   "source": [
    "savin_dims(seg,'seg',r'C:\\Users\\bouhe\\OneDrive\\Bureau\\pfe\\dataset\\png_format\\train_all_labels',parent_dir_train,name_folders_seg)"
   ]
  },
  {
   "attachments": {},
   "cell_type": "markdown",
   "id": "5d605b64",
   "metadata": {},
   "source": [
    "### Adjusting the generated slices"
   ]
  },
  {
   "cell_type": "code",
   "execution_count": 19,
   "id": "bb5844de",
   "metadata": {},
   "outputs": [
    {
     "data": {
      "text/plain": [
       "1251"
      ]
     },
     "execution_count": 19,
     "metadata": {},
     "output_type": "execute_result"
    }
   ],
   "source": [
    "len(name_folders_train)"
   ]
  },
  {
   "cell_type": "code",
   "execution_count": 21,
   "id": "119bff6b",
   "metadata": {},
   "outputs": [
    {
     "name": "stdout",
     "output_type": "stream",
     "text": [
      "C:\\Users\\bouhe\\OneDrive\\Bureau\\pfe\\dataset\\png_format\\Train\n"
     ]
    }
   ],
   "source": [
    "%cd C:\\Users\\bouhe\\OneDrive\\Bureau\\pfe\\dataset\\png_format\\Train"
   ]
  },
  {
   "cell_type": "code",
   "execution_count": 31,
   "id": "0e8788be",
   "metadata": {},
   "outputs": [
    {
     "name": "stdout",
     "output_type": "stream",
     "text": [
      "C:\\Users\\bouhe\\OneDrive\\Bureau\\pfe\\dataset\\png_format\\Train\\BraTS-GLI-00140-000\n"
     ]
    }
   ],
   "source": [
    "%cd BraTS-GLI-00140-000"
   ]
  },
  {
   "cell_type": "code",
   "execution_count": 26,
   "id": "c1b623f9",
   "metadata": {},
   "outputs": [
    {
     "data": {
      "text/plain": [
       "'BraTS-GLI-00140-000'"
      ]
     },
     "execution_count": 26,
     "metadata": {},
     "output_type": "execute_result"
    }
   ],
   "source": [
    "name_folders_train[130]"
   ]
  },
  {
   "cell_type": "code",
   "execution_count": 31,
   "id": "8ccc63b2",
   "metadata": {},
   "outputs": [
    {
     "name": "stdout",
     "output_type": "stream",
     "text": [
      "C:\\Users\\bouhe\\OneDrive\\Bureau\\pfe\\dataset\\png_format\\Train\n"
     ]
    }
   ],
   "source": [
    "%cd C:\\Users\\bouhe\\OneDrive\\Bureau\\pfe\\dataset\\png_format\\Train"
   ]
  },
  {
   "cell_type": "code",
   "execution_count": null,
   "id": "50e8e966",
   "metadata": {},
   "outputs": [],
   "source": [
    "for name in name_folders_train[129:132]:\n",
    "    %cd $name\n",
    "    refs = os.listdir('seg')\n",
    "    print(refs)\n",
    "    full_slices = os.listdir('t1c')\n",
    "    print(full_slices)\n",
    "    rm_useless_slices('t1c',refs, full_slices)\n",
    "    print('*********************************************************************************************')\n",
    "\n",
    "    full_slices = os.listdir('t1n')\n",
    "    rm_useless_slices('t1n',refs, full_slices)\n",
    "    print('*********************************************************************************************')\n",
    "\n",
    "    full_slices = os.listdir('t2f')\n",
    "    rm_useless_slices('t2f',refs, full_slices)\n",
    "    print('*********************************************************************************************')\n",
    "\n",
    "    full_slices = os.listdir('t2w')\n",
    "    rm_useless_slices('t2w',refs, full_slices)\n",
    "    print('*********************************************************************************************')\n",
    "    \n",
    "    %cd ..\n",
    "\n"
   ]
  },
  {
   "cell_type": "code",
   "execution_count": null,
   "id": "4ff9a0bf",
   "metadata": {},
   "outputs": [
    {
     "name": "stdout",
     "output_type": "stream",
     "text": [
      "Images copied to respective folders.\n"
     ]
    }
   ],
   "source": [
    "source_folder = r'C:\\Users\\bouhe\\OneDrive\\Bureau\\pfe\\dataset\\Nifti format BratS\\ASNR-MICCAI-BraTS2023-GLI-Challenge-TrainingData'\n",
    "labels_folder = r'C:\\Users\\bouhe\\OneDrive\\Bureau\\pfe\\dataset\\Nifti format BratS\\labels'\n",
    "images_folder = r'C:\\Users\\bouhe\\OneDrive\\Bureau\\pfe\\dataset\\Nifti format BratS\\images'\n",
    "\n",
    "copy_images(source_folder, labels_folder, images_folder)\n",
    "\n",
    "print(\"Images copied to respective folders.\")"
   ]
  },
  {
   "cell_type": "code",
   "execution_count": null,
   "id": "dce4aa7b",
   "metadata": {},
   "outputs": [],
   "source": [
    "input_directory = r\"C:\\Users\\bouhe\\OneDrive\\Bureau\\pfe\\dataset\\Nifti format BratS\\images\"\n",
    "output_directory = r\"C:\\Users\\bouhe\\OneDrive\\Bureau\\pfe\\dataset\\Nifti format BratS\"\n",
    "organize_images_by_modality(input_directory, output_directory)"
   ]
  },
  {
   "attachments": {},
   "cell_type": "markdown",
   "id": "e821774c",
   "metadata": {},
   "source": [
    "### Preprocessing"
   ]
  },
  {
   "cell_type": "code",
   "execution_count": 22,
   "id": "8bc4de4b",
   "metadata": {},
   "outputs": [],
   "source": [
    "dir_preprocess = r\"C:\\Users\\bouhe\\OneDrive\\Bureau\\pfe\\dataset\\png_format\\train\"\n",
    "dir_postprocess = r\"C:\\Users\\bouhe\\OneDrive\\Bureau\\pfe\\dataset\\preprocessed_images\""
   ]
  },
  {
   "cell_type": "code",
   "execution_count": 37,
   "id": "7dbc7af2",
   "metadata": {},
   "outputs": [
    {
     "name": "stdout",
     "output_type": "stream",
     "text": [
      "C:\\Users\\bouhe\\OneDrive\\Bureau\\pfe\\dataset\\preprocessed_images\n"
     ]
    }
   ],
   "source": [
    "%cd $dir_postprocess"
   ]
  },
  {
   "cell_type": "code",
   "execution_count": 26,
   "id": "b275668d",
   "metadata": {},
   "outputs": [
    {
     "name": "stdout",
     "output_type": "stream",
     "text": [
      "C:\\Users\\bouhe\\OneDrive\\Bureau\\pfe\\dataset\\png_format\\train_all_labels\n"
     ]
    }
   ],
   "source": [
    "%cd \"C:\\Users\\bouhe\\OneDrive\\Bureau\\pfe\\dataset\\png_format\\train_all_labels\""
   ]
  },
  {
   "cell_type": "code",
   "execution_count": 27,
   "id": "65a91aa1",
   "metadata": {},
   "outputs": [],
   "source": [
    "import os"
   ]
  },
  {
   "cell_type": "code",
   "execution_count": 28,
   "id": "12293fc3",
   "metadata": {},
   "outputs": [],
   "source": [
    "folders = os.listdir(r\"C:\\Users\\bouhe\\OneDrive\\Bureau\\pfe\\dataset\\Nifti format BratS\\ASNR-MICCAI-BraTS2023-GLI-Challenge-TrainingData\")"
   ]
  },
  {
   "cell_type": "code",
   "execution_count": null,
   "id": "13d0d283",
   "metadata": {},
   "outputs": [],
   "source": [
    "for name in folders: \n",
    "    print(name)\n",
    "    !mkdir $name"
   ]
  },
  {
   "cell_type": "code",
   "execution_count": null,
   "id": "c19dda2d",
   "metadata": {},
   "outputs": [],
   "source": [
    "for name in folders:\n",
    "    %cd $name\n",
    "    !mkdir seg\n",
    "    #!mkdir t1c\n",
    "    #!mkdir t1n\n",
    "    #!mkdir t2f\n",
    "    #!mkdir t2w\n",
    "    %cd .."
   ]
  },
  {
   "cell_type": "markdown",
   "id": "4579a7fa",
   "metadata": {},
   "source": [
    "#### Train_all_labels"
   ]
  },
  {
   "cell_type": "code",
   "execution_count": null,
   "id": "a9231a3a",
   "metadata": {},
   "outputs": [],
   "source": [
    "same_size_tests =[]\n",
    "dir_preprocess_2 = r'C:\\Users\\bouhe\\OneDrive\\Bureau\\pfe\\dataset\\png_format\\train_all_labels'\n",
    "dir_postprocess = r'C:\\Users\\bouhe\\OneDrive\\Bureau\\pfe\\dataset\\png_format\\train_all_labels'\n",
    "for name in folders:\n",
    "    seg_dir = join_paths(dir_preprocess_2,name)\n",
    "    print(seg_dir)\n",
    "    tmp_seg_dir = join_paths(seg_dir,r'seg')\n",
    "    seg_images = os.listdir(tmp_seg_dir)\n",
    "    for name_im in seg_images:\n",
    "        seg_image = join_paths(tmp_seg_dir,name_im)\n",
    "        im_array = np.array(Image.open(seg_image))\n",
    "        replace_pixels(im_array)\n",
    "        image = Image.fromarray(im_array)\n",
    "        new_im_path = join_paths(dir_postprocess,'\\\\'.join(seg_image.split('\\\\')[-3::]))\n",
    "        path_whole = seg_image.split('\\\\')\n",
    "        new_im_path = ('\\\\').join(path_whole[0:8]+['train_all_labels']+path_whole[9::])\n",
    "        image.save(new_im_path)\n",
    "\n"
   ]
  },
  {
   "cell_type": "code",
   "execution_count": 35,
   "id": "029f2acb",
   "metadata": {},
   "outputs": [],
   "source": [
    "from PIL import Image as I"
   ]
  },
  {
   "cell_type": "code",
   "execution_count": null,
   "id": "6e30632d",
   "metadata": {},
   "outputs": [],
   "source": [
    "same_size_tests =[]\n",
    "for name in folders:\n",
    "    seg_dir = join_paths(dir_preprocess,name)\n",
    "    tmp_seg_dir = join_paths(seg_dir,r'seg')\n",
    "    seg_images = os.listdir(tmp_seg_dir)\n",
    "    for name_im in seg_images:\n",
    "        seg_image = join_paths(tmp_seg_dir,name_im)\n",
    "        im_array = np.array(Image.open(seg_image))\n",
    "        #replace_non_zero_pixels(im_array)\n",
    "        image = Image.fromarray(im_array)\n",
    "        #new_im_path = join_paths(dir_postprocess,'\\\\'.join(seg_image.split('\\\\')[-3::]))\n",
    "        path_whole = seg_image.split('\\\\')\n",
    "        new_im_path = ('\\\\').join(path_whole[0:8]+['train_seg_one_mask']+path_whole[9::])\n",
    "        print(new_im_path)\n",
    "        image.save(new_im_path)\n",
    "        break\n",
    "    break\n"
   ]
  },
  {
   "cell_type": "code",
   "execution_count": 45,
   "id": "1e20983e",
   "metadata": {},
   "outputs": [],
   "source": [
    "ex = r'C:\\\\Users\\\\bouhe\\\\OneDrive\\\\Bureau\\\\pfe\\\\dataset\\\\png_format\\\\train_seg_one_mask\\\\BraTS-GLI-01489-000\\\\seg\\\\Slice_dim1_89.png'\n",
    "ex_pre = r'C:\\\\Users\\\\bouhe\\\\OneDrive\\\\Bureau\\\\pfe\\\\dataset\\\\png_format\\\\train\\\\BraTS-GLI-01489-000\\\\seg\\\\Slice_dim1_89.png'\n",
    "im_array = np.array(Image.open(ex_pre))\n",
    "replace_non_zero_pixels(im_array)        \n",
    "image.save(ex)"
   ]
  },
  {
   "cell_type": "code",
   "execution_count": 44,
   "id": "3f9efb2d",
   "metadata": {},
   "outputs": [
    {
     "data": {
      "text/plain": [
       "array([0, 1])"
      ]
     },
     "execution_count": 44,
     "metadata": {},
     "output_type": "execute_result"
    }
   ],
   "source": [
    "im = I.open(r'C:\\Users\\bouhe\\OneDrive\\Bureau\\pfe\\dataset\\png_format\\train_seg_one_mask\\BraTS-GLI-01666-000\\seg\\Slice_dim2_98.png')\n",
    "ar = np.array(im)\n",
    "np.unique(ar)"
   ]
  },
  {
   "cell_type": "code",
   "execution_count": 85,
   "id": "9250c0b2",
   "metadata": {},
   "outputs": [],
   "source": [
    "from tifffile import imsave"
   ]
  },
  {
   "cell_type": "code",
   "execution_count": null,
   "id": "71955b51",
   "metadata": {},
   "outputs": [],
   "source": [
    "size_t1cs =[]\n",
    "for name in folders:\n",
    "    t1c_dir = join_paths(dir_preprocess,name)\n",
    "    tmp_t1c_dir = join_paths(t1c_dir,r't1c')\n",
    "    t1c_images = os.listdir(tmp_t1c_dir)\n",
    "    for name_im in t1c_images:\n",
    "        t1c_image = join_paths(tmp_t1c_dir,name_im)\n",
    "        im_array = np.array(Image.open(t1c_image))\n",
    "        new_im = normalize_image(im_array)\n",
    "        image = Image.fromarray(new_im)\n",
    "        new_im_path = join_paths(dir_postprocess,'\\\\'.join(t1c_image.split('\\\\')[-3::]))\n",
    "        imsave(new_im_path[:-3:]+'tif',image)\n",
    "        size_t1cs.append(new_im.shape)\n",
    "    print(name)"
   ]
  },
  {
   "attachments": {},
   "cell_type": "markdown",
   "id": "84c896f7",
   "metadata": {},
   "source": [
    "### New metadata"
   ]
  },
  {
   "cell_type": "code",
   "execution_count": 35,
   "id": "20a66ac1",
   "metadata": {},
   "outputs": [
    {
     "name": "stdout",
     "output_type": "stream",
     "text": [
      "C:\\Users\\bouhe\\OneDrive\\Bureau\\pfe\\dataset\\png_format\\Train\n"
     ]
    }
   ],
   "source": [
    "%cd C:\\Users\\bouhe\\OneDrive\\Bureau\\pfe\\dataset\\png_format\\Train"
   ]
  },
  {
   "cell_type": "code",
   "execution_count": null,
   "id": "de036cb3",
   "metadata": {},
   "outputs": [],
   "source": [
    "seg_list = metadata_rows('seg',path_folders,'train')"
   ]
  },
  {
   "cell_type": "code",
   "execution_count": null,
   "id": "98ead801",
   "metadata": {},
   "outputs": [],
   "source": [
    "t1c_list = metadata_rows('t1c',path_folders,'train')"
   ]
  },
  {
   "cell_type": "code",
   "execution_count": null,
   "id": "af404032",
   "metadata": {},
   "outputs": [],
   "source": [
    "t1c_list = metadata_rows('t1c',path_folders,'train')"
   ]
  },
  {
   "cell_type": "code",
   "execution_count": null,
   "id": "e58bef32",
   "metadata": {},
   "outputs": [],
   "source": [
    "t1n_list = metadata_rows('t1n',path_folders,'train')"
   ]
  },
  {
   "cell_type": "code",
   "execution_count": null,
   "id": "18a1f5bc",
   "metadata": {},
   "outputs": [],
   "source": [
    "t2f_list = metadata_rows('t2f',path_folders,'train')"
   ]
  },
  {
   "cell_type": "code",
   "execution_count": null,
   "id": "92ba4a84",
   "metadata": {},
   "outputs": [],
   "source": [
    "t2w_list = metadata_rows('t2w',path_folders,'train')"
   ]
  },
  {
   "cell_type": "code",
   "execution_count": null,
   "id": "0a616b86",
   "metadata": {},
   "outputs": [],
   "source": [
    "seg_list\n"
   ]
  },
  {
   "cell_type": "code",
   "execution_count": 47,
   "id": "873bd116",
   "metadata": {},
   "outputs": [
    {
     "name": "stdout",
     "output_type": "stream",
     "text": [
      "C:\\Users\\bouhe\\OneDrive\\Bureau\\pfe\\dataset\\png_format\\Test\n"
     ]
    }
   ],
   "source": [
    "%cd C:\\Users\\bouhe\\OneDrive\\Bureau\\pfe\\dataset\\png_format\\Test"
   ]
  },
  {
   "cell_type": "code",
   "execution_count": 48,
   "id": "5c871e4f",
   "metadata": {},
   "outputs": [],
   "source": [
    "path_folders_test = os.listdir()"
   ]
  },
  {
   "cell_type": "code",
   "execution_count": null,
   "id": "db7a2981",
   "metadata": {},
   "outputs": [],
   "source": [
    "t1c_list_test = metadata_rows('t1c',path_folders_test,'test')"
   ]
  },
  {
   "cell_type": "code",
   "execution_count": null,
   "id": "5ca99347",
   "metadata": {},
   "outputs": [],
   "source": [
    "t1n_list_test = metadata_rows('t1n',path_folders_test,'test')"
   ]
  },
  {
   "cell_type": "code",
   "execution_count": null,
   "id": "4f8242e3",
   "metadata": {},
   "outputs": [],
   "source": [
    "t2f_list_test = metadata_rows('t2f',path_folders_test,'test')"
   ]
  },
  {
   "cell_type": "code",
   "execution_count": null,
   "id": "9a602a97",
   "metadata": {},
   "outputs": [],
   "source": [
    "t2w_list_test = metadata_rows('t2w',path_folders_test,'test')"
   ]
  },
  {
   "cell_type": "code",
   "execution_count": null,
   "id": "3cd7a405",
   "metadata": {},
   "outputs": [],
   "source": [
    "# import pandas as pd\n",
    "import pandas as pd \n",
    "    \n",
    "# List1 \n",
    "lst = seg_list+t1c_list+t1n_list+t2f_list+t2w_list+t1c_list_test+t1n_list_test+t2f_list_test+t2w_list_test\n",
    "    \n",
    "df = pd.DataFrame(lst, columns =['image_name', 'patient_id', 'time_stamp','scan_type','split'])\n",
    "df.sort_values(by=[\"patient_id\"], inplace = True)\n",
    "df"
   ]
  },
  {
   "cell_type": "code",
   "execution_count": 95,
   "id": "3ff189e8",
   "metadata": {},
   "outputs": [],
   "source": [
    "df.to_csv(r'C:\\Users\\bouhe\\OneDrive\\Bureau\\pfe\\dataset\\png_format\\metadata.csv',index=False)"
   ]
  },
  {
   "cell_type": "code",
   "execution_count": 96,
   "id": "3535c906",
   "metadata": {},
   "outputs": [],
   "source": [
    "data = pd.read_csv(r'C:\\Users\\bouhe\\OneDrive\\Bureau\\pfe\\dataset\\png_format\\metadata.csv')"
   ]
  },
  {
   "cell_type": "code",
   "execution_count": 99,
   "id": "e269810e",
   "metadata": {},
   "outputs": [
    {
     "data": {
      "text/html": [
       "<div>\n",
       "<style scoped>\n",
       "    .dataframe tbody tr th:only-of-type {\n",
       "        vertical-align: middle;\n",
       "    }\n",
       "\n",
       "    .dataframe tbody tr th {\n",
       "        vertical-align: top;\n",
       "    }\n",
       "\n",
       "    .dataframe thead th {\n",
       "        text-align: right;\n",
       "    }\n",
       "</style>\n",
       "<table border=\"1\" class=\"dataframe\">\n",
       "  <thead>\n",
       "    <tr style=\"text-align: right;\">\n",
       "      <th></th>\n",
       "      <th>image_name</th>\n",
       "      <th>patient_id</th>\n",
       "      <th>time_stamp</th>\n",
       "      <th>scan_type</th>\n",
       "      <th>split</th>\n",
       "    </tr>\n",
       "  </thead>\n",
       "  <tbody>\n",
       "    <tr>\n",
       "      <th>0</th>\n",
       "      <td>Slice_dim0_118.png</td>\n",
       "      <td>00000</td>\n",
       "      <td>000</td>\n",
       "      <td>seg</td>\n",
       "      <td>train</td>\n",
       "    </tr>\n",
       "    <tr>\n",
       "      <th>257504</th>\n",
       "      <td>Slice_dim1_113.png</td>\n",
       "      <td>00000</td>\n",
       "      <td>000</td>\n",
       "      <td>t1c</td>\n",
       "      <td>train</td>\n",
       "    </tr>\n",
       "    <tr>\n",
       "      <th>257503</th>\n",
       "      <td>Slice_dim1_112.png</td>\n",
       "      <td>00000</td>\n",
       "      <td>000</td>\n",
       "      <td>t1c</td>\n",
       "      <td>train</td>\n",
       "    </tr>\n",
       "    <tr>\n",
       "      <th>257502</th>\n",
       "      <td>Slice_dim1_111.png</td>\n",
       "      <td>00000</td>\n",
       "      <td>000</td>\n",
       "      <td>t1c</td>\n",
       "      <td>train</td>\n",
       "    </tr>\n",
       "    <tr>\n",
       "      <th>257501</th>\n",
       "      <td>Slice_dim1_110.png</td>\n",
       "      <td>00000</td>\n",
       "      <td>000</td>\n",
       "      <td>t1c</td>\n",
       "      <td>train</td>\n",
       "    </tr>\n",
       "    <tr>\n",
       "      <th>...</th>\n",
       "      <td>...</td>\n",
       "      <td>...</td>\n",
       "      <td>...</td>\n",
       "      <td>...</td>\n",
       "      <td>...</td>\n",
       "    </tr>\n",
       "    <tr>\n",
       "      <th>1385082</th>\n",
       "      <td>Slice_dim2_98.png</td>\n",
       "      <td>01790</td>\n",
       "      <td>000</td>\n",
       "      <td>t1c</td>\n",
       "      <td>test</td>\n",
       "    </tr>\n",
       "    <tr>\n",
       "      <th>1385081</th>\n",
       "      <td>Slice_dim2_97.png</td>\n",
       "      <td>01790</td>\n",
       "      <td>000</td>\n",
       "      <td>t1c</td>\n",
       "      <td>test</td>\n",
       "    </tr>\n",
       "    <tr>\n",
       "      <th>1385080</th>\n",
       "      <td>Slice_dim2_96.png</td>\n",
       "      <td>01790</td>\n",
       "      <td>000</td>\n",
       "      <td>t1c</td>\n",
       "      <td>test</td>\n",
       "    </tr>\n",
       "    <tr>\n",
       "      <th>1482329</th>\n",
       "      <td>Slice_dim0_103.png</td>\n",
       "      <td>01790</td>\n",
       "      <td>000</td>\n",
       "      <td>t1n</td>\n",
       "      <td>test</td>\n",
       "    </tr>\n",
       "    <tr>\n",
       "      <th>1678137</th>\n",
       "      <td>Slice_dim2_99.png</td>\n",
       "      <td>01790</td>\n",
       "      <td>000</td>\n",
       "      <td>t2w</td>\n",
       "      <td>test</td>\n",
       "    </tr>\n",
       "  </tbody>\n",
       "</table>\n",
       "<p>1678138 rows × 5 columns</p>\n",
       "</div>"
      ],
      "text/plain": [
       "                 image_name patient_id time_stamp scan_type  split\n",
       "0        Slice_dim0_118.png      00000        000       seg  train\n",
       "257504   Slice_dim1_113.png      00000        000       t1c  train\n",
       "257503   Slice_dim1_112.png      00000        000       t1c  train\n",
       "257502   Slice_dim1_111.png      00000        000       t1c  train\n",
       "257501   Slice_dim1_110.png      00000        000       t1c  train\n",
       "...                     ...        ...        ...       ...    ...\n",
       "1385082   Slice_dim2_98.png      01790        000       t1c   test\n",
       "1385081   Slice_dim2_97.png      01790        000       t1c   test\n",
       "1385080   Slice_dim2_96.png      01790        000       t1c   test\n",
       "1482329  Slice_dim0_103.png      01790        000       t1n   test\n",
       "1678137   Slice_dim2_99.png      01790        000       t2w   test\n",
       "\n",
       "[1678138 rows x 5 columns]"
      ]
     },
     "metadata": {},
     "output_type": "display_data"
    }
   ],
   "source": [
    "from IPython.display import display\n",
    "\n",
    "display(df)"
   ]
  },
  {
   "attachments": {},
   "cell_type": "markdown",
   "id": "9aeaf802",
   "metadata": {},
   "source": [
    "### Upload the dataset to huggin face"
   ]
  },
  {
   "cell_type": "code",
   "execution_count": 1,
   "id": "d3608e49",
   "metadata": {},
   "outputs": [
    {
     "name": "stdout",
     "output_type": "stream",
     "text": [
      "Requirement already satisfied: huggingface_hub in c:\\users\\bouhe\\anaconda3\\envs\\pytorch\\lib\\site-packages (0.14.1)\n",
      "Requirement already satisfied: filelock in c:\\users\\bouhe\\appdata\\roaming\\python\\python311\\site-packages (from huggingface_hub) (3.12.0)\n",
      "Requirement already satisfied: fsspec in c:\\users\\bouhe\\anaconda3\\envs\\pytorch\\lib\\site-packages (from huggingface_hub) (2023.4.0)\n",
      "Requirement already satisfied: requests in c:\\users\\bouhe\\appdata\\roaming\\python\\python311\\site-packages (from huggingface_hub) (2.31.0)\n",
      "Requirement already satisfied: tqdm>=4.42.1 in c:\\users\\bouhe\\anaconda3\\envs\\pytorch\\lib\\site-packages (from huggingface_hub) (4.65.0)\n",
      "Requirement already satisfied: pyyaml>=5.1 in c:\\users\\bouhe\\anaconda3\\envs\\pytorch\\lib\\site-packages (from huggingface_hub) (6.0)\n",
      "Requirement already satisfied: typing-extensions>=3.7.4.3 in c:\\users\\bouhe\\anaconda3\\envs\\pytorch\\lib\\site-packages (from huggingface_hub) (4.5.0)\n",
      "Requirement already satisfied: packaging>=20.9 in c:\\users\\bouhe\\anaconda3\\envs\\pytorch\\lib\\site-packages (from huggingface_hub) (23.0)\n",
      "Requirement already satisfied: colorama in c:\\users\\bouhe\\anaconda3\\envs\\pytorch\\lib\\site-packages (from tqdm>=4.42.1->huggingface_hub) (0.4.4)\n",
      "Requirement already satisfied: charset-normalizer<4,>=2 in c:\\users\\bouhe\\appdata\\roaming\\python\\python311\\site-packages (from requests->huggingface_hub) (3.1.0)\n",
      "Requirement already satisfied: idna<4,>=2.5 in c:\\users\\bouhe\\appdata\\roaming\\python\\python311\\site-packages (from requests->huggingface_hub) (3.4)\n",
      "Requirement already satisfied: urllib3<3,>=1.21.1 in c:\\users\\bouhe\\anaconda3\\envs\\pytorch\\lib\\site-packages (from requests->huggingface_hub) (1.26.15)\n",
      "Requirement already satisfied: certifi>=2017.4.17 in c:\\users\\bouhe\\appdata\\roaming\\python\\python311\\site-packages (from requests->huggingface_hub) (2023.5.7)\n",
      "Note: you may need to restart the kernel to use updated packages.\n"
     ]
    }
   ],
   "source": [
    "!pip install huggingface_hub"
   ]
  },
  {
   "cell_type": "code",
   "execution_count": 37,
   "id": "4293dac1",
   "metadata": {},
   "outputs": [],
   "source": [
    "from datasets import load_dataset"
   ]
  },
  {
   "cell_type": "code",
   "execution_count": null,
   "id": "b15e249b",
   "metadata": {},
   "outputs": [],
   "source": [
    "dataset = load_dataset(\"Train_folder\", data_dir=r\"C:\\Users\\bouhe\\OneDrive\\Bureau\\pfe\\dataset\\png_format\\Train\", split=\"train\")"
   ]
  },
  {
   "cell_type": "code",
   "execution_count": null,
   "id": "01412445",
   "metadata": {},
   "outputs": [],
   "source": [
    "dataset = load_dataset(\"Minty-Ines/BraTs-2023\")"
   ]
  },
  {
   "cell_type": "code",
   "execution_count": null,
   "id": "d3b2a7ee",
   "metadata": {},
   "outputs": [],
   "source": [
    "dataset.push_to_hub(r\"C:\\Users\\bouhe\\OneDrive\\Bureau\\pfe\\dataset\\png_format\\Test\")"
   ]
  },
  {
   "attachments": {},
   "cell_type": "markdown",
   "id": "a18de146",
   "metadata": {},
   "source": [
    "## Plotting 3D MRI scans: (IN PROGRESS)"
   ]
  },
  {
   "attachments": {},
   "cell_type": "markdown",
   "id": "5f805eb8",
   "metadata": {},
   "source": [
    "To plot them, we need to rasterizd images into a point cloud with reduced dimensionality.  \n",
    "Passing each scanned pixel into our visualization would net us more than a million points,\n",
    "so we need to:  \n",
    "1. resize every image to 128x128  \n",
    "2. downsample space without tumor for brevity.  "
   ]
  },
  {
   "cell_type": "code",
   "execution_count": 27,
   "id": "b4d0466e",
   "metadata": {},
   "outputs": [],
   "source": [
    "import albumentations as A\n",
    "class ImageReader:\n",
    "    def __init__(self, root:str, img_size:int=256, normalize:bool=False, single_class:bool=False):\n",
    "        pad_size = 256 if img_size > 256 else 224\n",
    "        self.resize = A.Compose(\n",
    "            [\n",
    "                A.PadIfNeeded(min_height=pad_size, min_width=pad_size, value=0),\n",
    "                A.Resize(img_size, img_size)\n",
    "            ]\n",
    "        )\n",
    "        self.normalize=normalize\n",
    "        self.single_class=single_class\n",
    "        self.root=root\n",
    "        \n",
    "    def read_file(self, path:str) -> dict:\n",
    "        scan_type = path.split('-')[-1]\n",
    "        print(\"********************************************************\")\n",
    "        print(scan_type)\n",
    "        print(\"********************************************************\")\n",
    "        print(path)\n",
    "        raw_image = nib.load(path).get_fdata()\n",
    "        raw_mask = nib.load(path.replace(scan_type, 'seg.nii.gz')).get_fdata()\n",
    "        processed_frames, processed_masks = [], []\n",
    "        for frame_idx in range(raw_image.shape[2]):\n",
    "            frame = raw_image[:, :, frame_idx]\n",
    "            mask = raw_mask[:, :, frame_idx]\n",
    "            if self.normalize:\n",
    "                if frame.max() > 0:\n",
    "                    frame = frame/frame.max()\n",
    "                frame = frame.astype(np.float32)\n",
    "            else:\n",
    "                frame = frame.astype(np.uint8)\n",
    "            resized = self.resize(image=frame, mask=mask)\n",
    "            processed_frames.append(resized['image'])\n",
    "            processed_masks.append(1*(resized['mask'] > 0) if self.single_class else resized['mask'])\n",
    "        return {\n",
    "            'scan': np.stack(processed_frames, 0),\n",
    "            'segmentation': np.stack(processed_masks, 0),\n",
    "            'orig_shape': raw_image.shape\n",
    "        }\n",
    "    \n",
    "    def load_patient_scan(self, idp:int, idx:int, scan_type:str='flair') -> dict:\n",
    "        patient_id = str(idp).zfill(5)\n",
    "        index = str(idx).zfill(3)\n",
    "        scan_filename = f\"{self.root}\\\\BraTS-GLI-{patient_id}-{index}\\\\BraTS-GLI-{patient_id}-{index}-{scan_type}.nii.gz\"\n",
    "        print(scan_filename)\n",
    "        return self.read_file(scan_filename)\n"
   ]
  },
  {
   "cell_type": "code",
   "execution_count": 28,
   "id": "cd974653",
   "metadata": {},
   "outputs": [],
   "source": [
    "def generate_3d_scatter(\n",
    "    x:np.array, y:np.array, z:np.array, colors:np.array,\n",
    "    size:int=3, opacity:float=0.2, scale:str='Teal',\n",
    "    hover:str='skip', name:str='MRI'\n",
    ") -> go.Scatter3d:\n",
    "    return go.Scatter3d(\n",
    "        x=x, y=y, z=z,\n",
    "        mode='markers', hoverinfo=hover,\n",
    "        marker = dict(\n",
    "            size=size, opacity=opacity,\n",
    "            color=colors, colorscale=scale\n",
    "        ),\n",
    "        name=name\n",
    "    )\n"
   ]
  },
  {
   "cell_type": "code",
   "execution_count": 29,
   "id": "a320769d",
   "metadata": {},
   "outputs": [],
   "source": [
    "\n",
    "class ImageViewer3d():\n",
    "    def __init__(\n",
    "        self, reader:ImageReader, mri_downsample:int=10, mri_colorscale:str='Ice'\n",
    "    ) -> None:\n",
    "        self.reader = reader\n",
    "        self.mri_downsample = mri_downsample\n",
    "        self.mri_colorscale = mri_colorscale\n",
    "\n",
    "    def load_clean_mri(self, image:np.array, orig_dim:int) -> dict:\n",
    "        shape_offset = image.shape[1]/orig_dim\n",
    "        z, x, y = (image > 0).nonzero()\n",
    "        # only (1/mri_downsample) is sampled for the resulting image\n",
    "        x, y, z = x[::self.mri_downsample], y[::self.mri_downsample], z[::self.mri_downsample]\n",
    "        colors = image[z, x, y]\n",
    "        return dict(x=x/shape_offset, y=y/shape_offset, z=z, colors=colors)\n",
    "    \n",
    "    def load_tumor_segmentation(self, image:np.array, orig_dim:int) -> dict:\n",
    "        tumors = {}\n",
    "        shape_offset = image.shape[1]/orig_dim\n",
    "        # 1/1, 1/3 and 1/5 pixels for tumor tissue classes 1(core), 2(invaded) and 3(enhancing)\n",
    "        sampling = {\n",
    "            1: 1, 2: 3, 3: 5\n",
    "        }\n",
    "        for class_idx in sampling:\n",
    "            z, x, y = (image == class_idx).nonzero()\n",
    "            x, y, z = x[::sampling[class_idx]], y[::sampling[class_idx]], z[::sampling[class_idx]]\n",
    "            tumors[class_idx] = dict(\n",
    "                x=x/shape_offset, y=y/shape_offset, z=z,\n",
    "                colors=class_idx/4\n",
    "            )\n",
    "        return tumors\n",
    "    \n",
    "    def collect_patient_data(self, scan:dict) -> tuple:\n",
    "        clean_mri = self.load_clean_mri(scan['scan'], scan['orig_shape'][0])\n",
    "        tumors = self.load_tumor_segmentation(scan['segmentation'], scan['orig_shape'][0])\n",
    "        markers_created = clean_mri['x'].shape[0] + sum(tumors[class_idx]['x'].shape[0] for class_idx in tumors)\n",
    "        return [\n",
    "            generate_3d_scatter(**clean_mri, scale=self.mri_colorscale, opacity=0.3, hover='skip', name='Brain MRI'),\n",
    "            generate_3d_scatter(**tumors[1], opacity=0.8, hover='all', name='Necrotic tumor core'),\n",
    "            generate_3d_scatter(**tumors[2], opacity=0.4, hover='all', name='Peritumoral invaded tissue'),\n",
    "            generate_3d_scatter(**tumors[3], opacity=0.4, hover='all', name='GD-enhancing tumor'),\n",
    "        ], markers_created\n",
    "    \n",
    "    def get_3d_scan(self, patient_idx:int,index:int, scan_type:str='flair') -> go.Figure:\n",
    "        scan = self.reader.load_patient_scan(patient_idx,index, scan_type)\n",
    "        data, num_markers = self.collect_patient_data(scan)\n",
    "        fig = go.Figure(data=data)\n",
    "        fig.update_layout(\n",
    "            title=f\"[Patient id:{patient_idx}] brain MRI scan ({num_markers} points)\",\n",
    "            legend_title=\"Pixel class (click to enable/disable)\",\n",
    "            font=dict(\n",
    "                family=\"Courier New, monospace\",\n",
    "                size=14,\n",
    "            ),\n",
    "            margin=dict(\n",
    "                l=0,r=0,b=0,t=30\n",
    "            ),\n",
    "            legend=dict(itemsizing='constant')\n",
    "        )\n",
    "        return fig\n",
    "\n"
   ]
  },
  {
   "cell_type": "code",
   "execution_count": 30,
   "id": "61fdec86",
   "metadata": {},
   "outputs": [],
   "source": [
    "folder = r\"C:\\Users\\bouhe\\OneDrive\\Bureau\\pfe\\dataset\\Nifti format BratS\\ASNR-MICCAI-BraTS2023-GLI-Challenge-TrainingData\""
   ]
  },
  {
   "cell_type": "code",
   "execution_count": 31,
   "id": "e2a8c3d4",
   "metadata": {},
   "outputs": [],
   "source": [
    "reader = ImageReader(folder, img_size=128, normalize=True, single_class=False)\n",
    "viewer = ImageViewer3d(reader, mri_downsample=20)"
   ]
  },
  {
   "cell_type": "code",
   "execution_count": 32,
   "id": "f6c1e5e3",
   "metadata": {},
   "outputs": [
    {
     "name": "stdout",
     "output_type": "stream",
     "text": [
      "C:\\Users\\bouhe\\OneDrive\\Bureau\\pfe\\dataset\\Nifti format BratS\\ASNR-MICCAI-BraTS2023-GLI-Challenge-TrainingData\\BraTS-GLI-00000-000\\BraTS-GLI-00000-000-t1c.nii.gz\n",
      "********************************************************\n",
      "t1c.nii.gz\n",
      "********************************************************\n",
      "C:\\Users\\bouhe\\OneDrive\\Bureau\\pfe\\dataset\\Nifti format BratS\\ASNR-MICCAI-BraTS2023-GLI-Challenge-TrainingData\\BraTS-GLI-00000-000\\BraTS-GLI-00000-000-t1c.nii.gz\n"
     ]
    }
   ],
   "source": [
    "fig = viewer.get_3d_scan(0,0, 't1c')"
   ]
  },
  {
   "cell_type": "code",
   "execution_count": null,
   "id": "8d9cf5dc",
   "metadata": {},
   "outputs": [],
   "source": [
    "pip install git+https://github.com/bsun0802/Zero-Learning-Fast-Medical-Image-Fusion.git"
   ]
  },
  {
   "cell_type": "code",
   "execution_count": 11,
   "id": "9731ce8d",
   "metadata": {},
   "outputs": [
    {
     "name": "stdout",
     "output_type": "stream",
     "text": [
      "c:\\Users\\bouhe\\OneDrive\\Documents\\Python Scripts\\work_internship mitacs_backup\\Zero-Learning-Fast-Medical-Image-Fusion-master\n"
     ]
    }
   ],
   "source": [
    "%cd Zero-Learning-Fast-Medical-Image-Fusion-master"
   ]
  },
  {
   "cell_type": "code",
   "execution_count": 4,
   "id": "68fca804",
   "metadata": {},
   "outputs": [
    {
     "name": "stdout",
     "output_type": "stream",
     "text": [
      "c:\\Users\\bouhe\\OneDrive\\Documents\\Python Scripts\\work_internship mitacs_backup\\Zero-Learning-Fast-Medical-Image-Fusion-master\\code\n"
     ]
    }
   ],
   "source": [
    "%cd code"
   ]
  },
  {
   "cell_type": "markdown",
   "id": "6cf09da3",
   "metadata": {},
   "source": [
    "## Fusion T1C AND T2W"
   ]
  },
  {
   "cell_type": "code",
   "execution_count": 6,
   "id": "aeb4aabf",
   "metadata": {},
   "outputs": [
    {
     "name": "stdout",
     "output_type": "stream",
     "text": [
      "C:\\Users\\bouhe\\OneDrive\\Bureau\\pfe\\dataset\\png_format\\train_fused\n"
     ]
    }
   ],
   "source": [
    "%cd C:\\Users\\bouhe\\OneDrive\\Bureau\\pfe\\dataset\\png_format\\train_fused"
   ]
  },
  {
   "cell_type": "code",
   "execution_count": 65,
   "id": "f2a0d6d0",
   "metadata": {},
   "outputs": [
    {
     "name": "stdout",
     "output_type": "stream",
     "text": [
      "C:\\Users\\bouhe\\OneDrive\\Bureau\\pfe\\dataset\\png_format\\predicted\n"
     ]
    }
   ],
   "source": [
    "%cd C:\\Users\\bouhe\\OneDrive\\Bureau\\pfe\\dataset\\png_format\\predicted"
   ]
  },
  {
   "cell_type": "code",
   "execution_count": 66,
   "id": "4e3edb01",
   "metadata": {},
   "outputs": [],
   "source": [
    "for name in name_folders_train:\n",
    "    #!mkdir $name\n",
    "    #!mkdir t1c\n",
    "    #!mkdir t1n\n",
    "    #!mkdir t2f\n",
    "    #!mkdir t2w\n"
   ]
  },
  {
   "cell_type": "code",
   "execution_count": 69,
   "id": "7e901a6b",
   "metadata": {},
   "outputs": [
    {
     "data": {
      "text/plain": [
       "1251"
      ]
     },
     "execution_count": 69,
     "metadata": {},
     "output_type": "execute_result"
    }
   ],
   "source": [
    "len(name_folders_train)"
   ]
  },
  {
   "cell_type": "markdown",
   "id": "2eed522d",
   "metadata": {},
   "source": [
    "Splitting the data into 70% 30% train test  \n",
    "876 + 375\n"
   ]
  },
  {
   "cell_type": "code",
   "execution_count": 70,
   "id": "64e9e26b",
   "metadata": {},
   "outputs": [
    {
     "data": {
      "text/plain": [
       "'BraTS-GLI-01173-000'"
      ]
     },
     "execution_count": 70,
     "metadata": {},
     "output_type": "execute_result"
    }
   ],
   "source": [
    "name_folders_train[875]"
   ]
  },
  {
   "cell_type": "code",
   "execution_count": 71,
   "id": "3e094bb3",
   "metadata": {},
   "outputs": [
    {
     "name": "stdout",
     "output_type": "stream",
     "text": [
      "C:\\Users\\bouhe\\OneDrive\\Documents\\Python Scripts\\work_internship mitacs_backup\\Imfusion-main\n"
     ]
    }
   ],
   "source": [
    "%cd C:\\Users\\bouhe\\OneDrive\\Documents\\Python Scripts\\work_internship mitacs_backup\\Imfusion-main"
   ]
  },
  {
   "cell_type": "code",
   "execution_count": 72,
   "id": "c4f674f7",
   "metadata": {},
   "outputs": [],
   "source": [
    "import fusion_main as f"
   ]
  },
  {
   "cell_type": "code",
   "execution_count": 73,
   "id": "56f2929d",
   "metadata": {},
   "outputs": [],
   "source": [
    "dir_fusion = r'C:\\Users\\bouhe\\OneDrive\\Bureau\\pfe\\dataset\\png_format\\train_fused'\n",
    "dir_normal = r'C:\\Users\\bouhe\\OneDrive\\Bureau\\pfe\\dataset\\png_format\\train' #T1C T2W"
   ]
  },
  {
   "cell_type": "code",
   "execution_count": 74,
   "id": "87118d7f",
   "metadata": {},
   "outputs": [],
   "source": [
    "test_dir = r'C:\\Users\\bouhe\\OneDrive\\Documents\\Python Scripts\\work_internship mitacs_backup\\Imfusion-main\\demo'"
   ]
  },
  {
   "cell_type": "code",
   "execution_count": 76,
   "id": "7418da98",
   "metadata": {},
   "outputs": [
    {
     "data": {
      "text/plain": [
       "'BraTS-GLI-01173-000'"
      ]
     },
     "execution_count": 76,
     "metadata": {},
     "output_type": "execute_result"
    }
   ],
   "source": [
    "name_folders_train[875]"
   ]
  },
  {
   "cell_type": "code",
   "execution_count": null,
   "id": "511cf108",
   "metadata": {},
   "outputs": [],
   "source": [
    "name = name_folders_train[875]\n",
    "T1 = os.path.join(*[dir_normal,name,'t1c'])\n",
    "T2 = os.path.join(*[dir_normal,name,'t2w'])\n",
    "list_t1 = os.listdir(T1)\n",
    "list_t2 = os.listdir(T2)\n",
    "flist_t1, flist_t2 = [ os.path.join(T1, path) for path in list_t1 ],  [ os.path.join(T2, path) for path in list_t2 ]\n",
    "for name1,name2 in zip(flist_t1, flist_t2):\n",
    "    correct_name = '\\\\' + name1.split('\\\\')[-1]\n",
    "    res = os.path.join(dir_fusion,name) + correct_name\n",
    "    print(res)\n",
    "    generatedImage = f.fusion(name1, name2, res)\n",
    "    print(generatedImage)\n",
    "    print('***************** IMAGE GENERATED ******************')\n",
    "    \n",
    "    "
   ]
  },
  {
   "cell_type": "code",
   "execution_count": 11,
   "id": "8456a62f",
   "metadata": {},
   "outputs": [
    {
     "name": "stdout",
     "output_type": "stream",
     "text": [
      "C:/Users/bouhe/OneDrive/Documents/Python Scripts/work_internship mitacs_backup/Zero-Learning-Fast-Medical-Image-Fusion-master/images/Slice_dim0_143.1.png\n",
      "C:/Users/bouhe/OneDrive/Documents/Python Scripts/work_internship mitacs_backup/Zero-Learning-Fast-Medical-Image-Fusion-master/images/Slice_dim0_143.2.png\n",
      "(256, 256, 3)\n",
      "(256, 256, 3)\n",
      "demo/out1985.jpg\n"
     ]
    }
   ],
   "source": [
    "!python3 manual_fusion.py"
   ]
  },
  {
   "cell_type": "code",
   "execution_count": null,
   "id": "8c805634",
   "metadata": {},
   "outputs": [],
   "source": []
  },
  {
   "cell_type": "code",
   "execution_count": null,
   "id": "ea41e3b9",
   "metadata": {},
   "outputs": [],
   "source": []
  },
  {
   "cell_type": "code",
   "execution_count": null,
   "id": "532b8dd2",
   "metadata": {},
   "outputs": [],
   "source": []
  },
  {
   "cell_type": "code",
   "execution_count": null,
   "id": "32360575",
   "metadata": {},
   "outputs": [],
   "source": []
  },
  {
   "cell_type": "code",
   "execution_count": null,
   "id": "8ef7aab8",
   "metadata": {},
   "outputs": [],
   "source": []
  },
  {
   "cell_type": "code",
   "execution_count": null,
   "id": "d118d774",
   "metadata": {},
   "outputs": [],
   "source": []
  }
 ],
 "metadata": {
  "kernelspec": {
   "display_name": "tf",
   "language": "python",
   "name": "tf"
  },
  "language_info": {
   "codemirror_mode": {
    "name": "ipython",
    "version": 3
   },
   "file_extension": ".py",
   "mimetype": "text/x-python",
   "name": "python",
   "nbconvert_exporter": "python",
   "pygments_lexer": "ipython3",
   "version": "3.9.16"
  }
 },
 "nbformat": 4,
 "nbformat_minor": 5
}
